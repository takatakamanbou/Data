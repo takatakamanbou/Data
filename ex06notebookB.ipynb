{
  "cells": [
    {
      "cell_type": "markdown",
      "metadata": {
        "colab_type": "text",
        "id": "view-in-github"
      },
      "source": [
        "<a href=\"https://colab.research.google.com/github/takatakamanbou/Data/blob/2021/ex06notebookB.ipynb\" target=\"_parent\"><img src=\"https://colab.research.google.com/assets/colab-badge.svg\" alt=\"Open In Colab\"/></a>"
      ]
    },
    {
      "cell_type": "markdown",
      "metadata": {
        "id": "2UzDNLmVS3po"
      },
      "source": [
        "# Data2021 ex06notebookB\n",
        "\n",
        "<img width=64 src=\"https://www-tlab.math.ryukoku.ac.jp/~takataka/course/Data/Data-logo06.png\"> https://www-tlab.math.ryukoku.ac.jp/wiki/?Data/2021\n",
        "\n"
      ]
    },
    {
      "cell_type": "markdown",
      "metadata": {
        "id": "_4-TmUdCd9FJ"
      },
      "source": [
        "## 準備\n",
        "\n",
        "Google Colab の Notebook では， Python というプログラミング言語のコードを動かして計算したりグラフを描いたりもできます．\n",
        "Python は，データ分析や機械学習・人工知能分野ではメジャーなプログラミング言語ですが，それを学ぶことはこの授業の守備範囲ではありません．ですので，以下の所々に現れるプログラムっぽい記述の内容は，理解できなくて構いません．\n",
        "\n",
        "以下，コードセルを上から順に実行していってね．"
      ]
    },
    {
      "cell_type": "code",
      "execution_count": null,
      "metadata": {
        "id": "QQ8M3640S1W7",
        "vscode": {
          "languageId": "python"
        }
      },
      "outputs": [],
      "source": [
        "# 準備あれこれ\n",
        "import numpy as np\n",
        "import matplotlib.pyplot as plt\n",
        "import pandas as pd\n",
        "import seaborn\n",
        "seaborn.set()"
      ]
    },
    {
      "cell_type": "code",
      "execution_count": null,
      "metadata": {
        "id": "If5pCB6bc3QF",
        "vscode": {
          "languageId": "python"
        }
      },
      "outputs": [],
      "source": [
        "# データを読み込む\n",
        "dfMPI = pd.read_csv('https://www-tlab.math.ryukoku.ac.jp/~takataka/course/Data/ex06mpi.csv', header=0)\n",
        "#print(dfMPI.columns)\n",
        "dfMPI"
      ]
    },
    {
      "cell_type": "markdown",
      "metadata": {
        "id": "7H45eNIcd2xB"
      },
      "source": [
        "----\n",
        "## データの正規化・標準化 その(2) \n",
        "----\n",
        "\n",
        "\n"
      ]
    },
    {
      "cell_type": "markdown",
      "metadata": {
        "id": "gjwFlEyQi4Wf"
      },
      "source": [
        "----\n",
        "### 復習\n",
        "\n"
      ]
    },
    {
      "cell_type": "markdown",
      "metadata": {
        "id": "ceFDKjcKi8fB"
      },
      "source": [
        "\n",
        "「データの正規化・標準化 その(1)」では，**データの平均が $0$ に，標準偏差が $1$ になるようにする**（標準偏差が $1$ $\\Leftrightarrow$ 分散が $1^2=1$ なので，「分散が $1$ になるようにする」と言っても同じ）ことで，特定の値が分布の中でどのような位置にいるのかを理解しやすくなることを学びました．\n",
        "このようにデータの値を変換することを，データを **正規化する** と言うのでした（**標準化する**または**基準化する**とも言います）．\n",
        "\n"
      ]
    },
    {
      "cell_type": "markdown",
      "metadata": {
        "id": "7KIDC7Nod37z"
      },
      "source": [
        "元のデータ $x_1, x_2, \\dots , x_N$ の平均値が $\\bar{x}$ で，標準偏差が $s$ だったとすると，\n",
        "$$\n",
        "z_n = \\frac{(x_n - \\bar{x})}{s} \\qquad (n = 1, 2, \\dots , N)\n",
        "$$\n",
        "とすれば，このデータを正規化（標準化）したデータを得ることができます．つまり，\n",
        "$z_1, z_2, \\dots , z_N$ の平均は $0$ になり，標準偏差は $1$ になります（そのことは，「その(1)」の方で証明しています）．"
      ]
    },
    {
      "cell_type": "markdown",
      "metadata": {
        "id": "VAHfhVZjhpxW"
      },
      "source": [
        "まずは，「その(1)」と同じ「数学」，「物理」，「情報」3科目の点数のデータと，それを正規化（標準化）したデータをもう一度見てみましょう．"
      ]
    },
    {
      "cell_type": "code",
      "execution_count": null,
      "metadata": {
        "id": "DA4iL7sIml-A",
        "vscode": {
          "languageId": "python"
        }
      },
      "outputs": [],
      "source": [
        "#@title  スライダを動かしてセルを実行し直してみよう．3科目ともその点数だったひとの点数を正規化（標準化）した値をグラフで確認することができます\n",
        "xx = 80 #@param {type:\"slider\", min:0, max:100}\n",
        "\n",
        "binsX = np.linspace(0, 100, num=21)\n",
        "binsZ = np.linspace(-4, 4, num=21)\n",
        "fig, ax = plt.subplots(3, 2, facecolor=\"white\", figsize=(10, 8))\n",
        "col = ['数学', '物理', '情報']\n",
        "colE = ['Math', 'Physics', 'Information']\n",
        "for i in range(3):\n",
        "    X = dfMPI[col[i]]\n",
        "    ax[i][0].hist(X, label=colE[i], bins=binsX)\n",
        "    ax[i][0].legend()\n",
        "    ax[i][0].set_xlim(0, 100)\n",
        "    ax[i][0].set_ylim(0, 32)\n",
        "    ax[i][0].axvline(x = xx, color='red')\n",
        "    m = np.mean(X)\n",
        "    s = np.std(X)\n",
        "    Z = (X - m) / s\n",
        "    zz = (xx - m) / s\n",
        "    ax[i][1].hist(Z, label=colE[i], bins=binsZ)\n",
        "    ax[i][1].legend()\n",
        "    ax[i][1].set_xlim(-4, 4)\n",
        "    ax[i][1].set_ylim(0, 32)\n",
        "    ax[i][1].axvline(x = zz, color='red')\n",
        "    print(f'##### {col[i]} #####')\n",
        "    print(f'平均: {m:.2f}  標準偏差: {s:.2f}', end='   ')\n",
        "    print(f'{xx}点のひとの正規化（標準化）後の値は {zz:.2f}')\n",
        "plt.show()"
      ]
    },
    {
      "cell_type": "markdown",
      "metadata": {
        "id": "VqWhf2hhPdsa"
      },
      "source": [
        "正規化（標準化）した値を比較することで，分布の異なるこれら3科目の間で得点の比較ができるようになってますね．\n",
        "\n"
      ]
    },
    {
      "cell_type": "markdown",
      "metadata": {
        "id": "8KQaWD3ajfIn"
      },
      "source": [
        "［問題］ 上記のデータは，ある学校のある学年の生徒全員が受験した3科目の試験の点数だったとします．ほげお君もこの試験を受験しました．ほげお君の3科目の点数が，「数学」60点，「物理」70点，「情報」80点だったとすると，彼はどの科目のできが最も良かった（受験者の中で順位が上の方だった）と予想できるでしょうか？\n",
        "\n",
        "次の手順で考えてみましょう．"
      ]
    },
    {
      "cell_type": "markdown",
      "metadata": {
        "id": "zNUMCxAKl-v5"
      },
      "source": [
        "Step1  上記のセルを， `xx` の値を `60`, `70`, `80` として実行し，以下の値を求めましょう\n",
        "\n",
        "- 「数学」60点の正規化した値 = \n",
        "- 「物理」70点の正規化した値 = \n",
        "- 「情報」80点の正規化した値 = \n",
        "\n",
        "Step2  これらの値から，彼はどの科目のできが最も良かったと予想できるか，考えましょう．\n"
      ]
    },
    {
      "cell_type": "markdown",
      "metadata": {
        "id": "d6FUIRjO3OFF"
      },
      "source": [
        "★★★ この［問題］の解答（求めた値を含む）を，ノート等にメモしておきましょう．Quiz に出てくる...かもしれません ★★★"
      ]
    },
    {
      "cell_type": "markdown",
      "metadata": {
        "id": "h4bWy7f7jOXg"
      },
      "source": [
        "----\n",
        "### 偏差値\n"
      ]
    },
    {
      "cell_type": "markdown",
      "metadata": {
        "id": "OOwmL_sMnNy6"
      },
      "source": [
        "ここで，みなさんご存知の(?) **偏差値** について説明しておきます．\n",
        "\n",
        "偏差値は，上記のような正規化（標準化）した値を，より直感的に解釈しやすくするため，10倍して50を加えた値です．\n",
        "\n",
        "元のデータ $x_1, x_2, \\dots , x_N$ の平均値が $\\bar{x}$ で，標準偏差が $s$ だったとすると，\n",
        "$$\n",
        "h_n = 50 + 10\\times\\frac{(x_n - \\bar{x})}{s}\\qquad (n = 1, 2, \\dots , N)\n",
        "$$\n",
        "という計算で得られる値 $h_n$ が， $x_n$ に対する偏差値ということになります．\n",
        "\n",
        "正規化した値 $z_n$ を使って表すと，\n",
        "$$\n",
        "h_n = 50 + 10z_n  \\qquad (n = 1, 2, \\dots , N)\n",
        "$$\n",
        "です． $z_n$ の平均は $0$，標準偏差は $1$ ですので，偏差値 $h_n$ の平均は $50$，標準偏差は$10$ になります（★）．\n",
        "こうすることで，100点満点のテストの点数に近い感覚で値をとらえることができて便利，というわけです．\n",
        "\n",
        "<font size=\"-1\">★） どうしてそうなるかわからないひとは，第4回その1のnotebookと動画で復習してね</font>\n"
      ]
    },
    {
      "cell_type": "markdown",
      "metadata": {
        "id": "ZXYhfuzbqri9"
      },
      "source": [
        "ただし，元の点数が 0 以上100以下だったとしても，偏差値は区間 $[0, 100]$ におさまるとは限りません．以下のセルを，`Xm` や `Xs` の値をいろいろ変えて実行して，出力を観察してみましょう．"
      ]
    },
    {
      "cell_type": "code",
      "execution_count": null,
      "metadata": {
        "id": "cDeS_89trClm",
        "vscode": {
          "languageId": "python"
        }
      },
      "outputs": [],
      "source": [
        "#@title  平均 `Xm` 標準偏差 `Xs` の点数分布を生成して，95点のひとの偏差値を算出します．\n",
        "Xm = 30 #@param {type:\"number\"}\n",
        "Xs = 10  #@param {type:\"number\"}\n",
        "\n",
        "xx = 95\n",
        "\n",
        "# 平均 Xm 標準偏差 Xs の値を100個，ランダムに生成\n",
        "X = Xs * np.random.randn(100) + Xm\n",
        "X[0] = xx  # 0番のひとを xx 点にする\n",
        "\n",
        "binsX = np.linspace(0, 100, num=21)\n",
        "fig, ax = plt.subplots(facecolor=\"white\", figsize=(8, 6))\n",
        "ax.hist(X, bins=binsX)\n",
        "ax.set_xlim(0, 100)\n",
        "ax.axvline(x = xx, color='red')\n",
        "m = np.mean(X)\n",
        "s = np.std(X)\n",
        "zz = (xx - m) / s\n",
        "h = 10*zz + 50\n",
        "print(f'平均: {m:.2f}  標準偏差: {s:.2f}', end='   ')\n",
        "print(f'{xx}点のひとの正規化（標準化）後の値は {zz:.2f}  偏差値は {h:.1f}')\n",
        "plt.show()"
      ]
    },
    {
      "cell_type": "markdown",
      "metadata": {
        "id": "hgqaSDtxvc9c"
      },
      "source": [
        "----\n",
        "### 正規化（標準化）した値や偏差値の解釈に関する注意\n",
        "\n",
        "\n"
      ]
    },
    {
      "cell_type": "markdown",
      "metadata": {
        "id": "OG3TqC6ywBa3"
      },
      "source": [
        "上記の［問題］で，「数学」60点，「物理」70点，「情報」80点だったひとのこれらの科目のできの良さを比較する，ということをやりました．\n",
        "正規化（標準化）した値の大小から考えたわけですが，このような比較ができるのは，\n",
        "「これら3科目の得点分布の形にあまり違いがない」という仮定が成り立つ場合のみです．\n",
        "分布の形が違うような場合（たとえば，2科目は上記のヒストグラムのように山が一つの形（単峰性）の分布をしているのに，残り1科目は2つの山分かれた形の分布をしているなど）は，正規化した値の大小だけでは予想がはずれることがあります．"
      ]
    },
    {
      "cell_type": "markdown",
      "metadata": {
        "id": "c9jU7n50yUDh"
      },
      "source": [
        "また，分布の形があまり違わなかったとしても，比較する二つのデータが異なる集団から得られたものだった場合，正規化（標準化）した値や偏差値での比較は意味のないことになります．\n",
        "\n",
        "例えば，ほげお君が，「○ゼミの模擬試験」と「○○塾の模擬試験」を両方受けたとして，前者の偏差値が80で，後者の偏差値が50だったとしましょう．\n",
        "この場合，これらの偏差値の比較から，「ほげおくんは○ゼミの模擬試験の方ができがよかった」と結論付けることはできません．\n",
        "\n",
        "これらの試験は別々の集団が受験していますので，単純に後者の模擬試験を受験した集団の方ができるひとが多かった，というだけで，上記のような偏差値が出てきてしまいます．\n",
        "場合によっては，後者の方ができがよかったとする方が適切な場合もありえます．"
      ]
    },
    {
      "cell_type": "markdown",
      "metadata": {
        "id": "_LDr_VDh1TxF"
      },
      "source": [
        "［参考］\n",
        "- 「[全受験生が理解するべき！偏差値とは何か](https://youtu.be/Xt7VN0xCbt8)」 [予備校のノリで学ぶ「大学の数学・物理」](https://www.youtube.com/channel/UCqmWJJolqAgjIdLqK3zD1QQ)\n",
        "- 「[地球上で自分1人だけが問題を解けたら、偏差値は◯◯万だ](https://quizknock.com/only-hensachi)」 [QuizKnock](https://quizknock.com/)\n",
        "- 「[勉強せずに偏差値を10上げる方法を考える](https://quizknock.com/hensachizm)」 [QuizKnock](https://quizknock.com/)\n",
        "- 「[【東大流】偏差値って何？マイナス×マイナスは何故プラス？勉強教え対決](https://youtu.be/ptT6n49vGqc)」 [QuizKnock](https://www.youtube.com/channel/UCQ_MqAw18jFTlBB-f8BP7dw)\n"
      ]
    }
  ],
  "metadata": {
    "colab": {
      "authorship_tag": "ABX9TyNxOcUM40zxTduU0GWDp1WX",
      "collapsed_sections": [],
      "include_colab_link": true,
      "name": "ex06notebookB.ipynb",
      "provenance": []
    },
    "kernelspec": {
      "display_name": "Python 3",
      "name": "python3"
    }
  },
  "nbformat": 4,
  "nbformat_minor": 0
}
