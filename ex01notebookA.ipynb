{
  "nbformat": 4,
  "nbformat_minor": 0,
  "metadata": {
    "colab": {
      "name": "ex01notebookA.ipynb",
      "provenance": [],
      "collapsed_sections": [],
      "authorship_tag": "ABX9TyPunALc905g0OXvmbA2nAMm",
      "include_colab_link": true
    },
    "kernelspec": {
      "name": "python3",
      "display_name": "Python 3"
    }
  },
  "cells": [
    {
      "cell_type": "markdown",
      "metadata": {
        "id": "view-in-github",
        "colab_type": "text"
      },
      "source": [
        "<a href=\"https://colab.research.google.com/github/takatakamanbou/Data/blob/main/ex01notebookA.ipynb\" target=\"_parent\"><img src=\"https://colab.research.google.com/assets/colab-badge.svg\" alt=\"Open In Colab\"/></a>"
      ]
    },
    {
      "cell_type": "markdown",
      "metadata": {
        "id": "2UzDNLmVS3po"
      },
      "source": [
        "# Data2021 ex01notebookA  オリエンテーション  - What編\n",
        "\n",
        "「データ分析」では何を学ぶのか？\n",
        "\n",
        "https://www-tlab.math.ryukoku.ac.jp/wiki/?Data/2021"
      ]
    },
    {
      "cell_type": "markdown",
      "metadata": {
        "id": "J8jbpBnhc4Sn"
      },
      "source": [
        "## これは何？"
      ]
    },
    {
      "cell_type": "markdown",
      "metadata": {
        "id": "--GIYpCHc7Bh"
      },
      "source": [
        "龍谷大学先端理工学部数理・情報科学課程の科目「データ分析」の資料です．\n",
        "\n",
        "講義の際にこれを見せながらしゃべるつもりで作成しています．\n",
        "受講者のみなさんは，しゃべりも収録した動画を視聴できるようにしてありますので，そちらもどうぞ．\n"
      ]
    },
    {
      "cell_type": "markdown",
      "metadata": {
        "id": "KYDfihSQePGY"
      },
      "source": [
        "この資料では，Google Colab という仕組みを用いています．これは，ブラウザ上で表示できるノートのようなものです．\n",
        "Python というプログラミング言語のコードを動かして計算したりグラフを描いたりもできます．\n",
        "Python は，データ分析や機械学習・人工知能分野ではメジャーなプログラミング言語ですが，それを学ぶことはこの授業の守備範囲ではありません．ですので，以下の所々に現れるプログラムっぽい記述の内容は，理解できなくて構いません．"
      ]
    },
    {
      "cell_type": "markdown",
      "metadata": {
        "id": "iUOG59AYeOEa"
      },
      "source": [
        "## 何を学ぶの？"
      ]
    },
    {
      "cell_type": "markdown",
      "metadata": {
        "id": "XF46NzxrSLyP"
      },
      "source": [
        "シラバスより抜粋...\n",
        "```\n",
        "講義概要／Course outline  \n",
        "データ分析の初歩として，記述統計や回帰分析の基礎を解説する．\n",
        "コンピュータを利用して実際のデータを扱うことを重視する．\n",
        "```\n",
        "```\n",
        "到達目標／Attainment objectives  \n",
        "1，2次元のデータが与えられたときに，コンピュータを使ってその特徴量を計算・可視化でき，そのデータの特徴を説明できる．\n",
        "```\n",
        "\n",
        "**記述統計**？ /(?_?\n",
        "\n",
        "**回帰分析**？ /(ToT)\\"
      ]
    },
    {
      "cell_type": "markdown",
      "metadata": {
        "id": "vFagJzwYYPPJ"
      },
      "source": [
        "## 記述統計？ 可視化？ /(?_?\n",
        "\n",
        "収集したデータを分析したい → データの性質や傾向を表す量を計算しよう．データの性質や傾向がわかるような図を描こう．\n",
        "\n",
        "例:  平均，分散，中央値，ヒストグラム，etc.\n"
      ]
    },
    {
      "cell_type": "markdown",
      "metadata": {
        "id": "_4-TmUdCd9FJ"
      },
      "source": [
        "### 準備"
      ]
    },
    {
      "cell_type": "code",
      "metadata": {
        "id": "QQ8M3640S1W7"
      },
      "source": [
        "# 以下で使う各種モジュールを import\n",
        "import numpy as np\n",
        "import pandas as pd\n",
        "import matplotlib.pyplot as plt\n",
        "import seaborn\n",
        "\n",
        "seaborn.set()"
      ],
      "execution_count": null,
      "outputs": []
    },
    {
      "cell_type": "code",
      "metadata": {
        "id": "njR5BGnHS5rE"
      },
      "source": [
        "# データを入手\n",
        "! wget -nc https://www-tlab.math.ryukoku.ac.jp/~takataka/course/Data/mpiS100.csv\n",
        "! head -n 5 mpiS100.csv"
      ],
      "execution_count": null,
      "outputs": []
    },
    {
      "cell_type": "markdown",
      "metadata": {
        "id": "7H45eNIcd2xB"
      },
      "source": [
        "### 数学，物理，情報の点数100人分のデータ"
      ]
    },
    {
      "cell_type": "code",
      "metadata": {
        "id": "_UtGyon5THih"
      },
      "source": [
        "# データを読み込んで表示\n",
        "df = pd.read_csv('mpiS100.csv')\n",
        "df"
      ],
      "execution_count": null,
      "outputs": []
    },
    {
      "cell_type": "code",
      "metadata": {
        "id": "l7bCr4ymTb9e"
      },
      "source": [
        "X1 = np.array(df['数学'])\n",
        "print(X1)"
      ],
      "execution_count": null,
      "outputs": []
    },
    {
      "cell_type": "markdown",
      "metadata": {
        "id": "-2UYC8bMekJQ"
      },
      "source": [
        "とりあえず「数学」の点数だけ抜き出してみた．でもよーわからん...．ヒストグラムでも描いてみるか（可視化）．"
      ]
    },
    {
      "cell_type": "code",
      "metadata": {
        "id": "UNHfN4LjZ7wH"
      },
      "source": [
        "# 「数学」の点数分布\n",
        "fig, ax = plt.subplots(facecolor=\"white\", figsize=(8, 6))\n",
        "ax.hist(X1, range=(0,100), bins=20)\n",
        "ax.set_ylim(0, 25)\n",
        "plt.show()"
      ],
      "execution_count": null,
      "outputs": []
    },
    {
      "cell_type": "markdown",
      "metadata": {
        "id": "f1GBI0QRe4uv"
      },
      "source": [
        "「物理」と「情報」でも同じことやってみよう．"
      ]
    },
    {
      "cell_type": "code",
      "metadata": {
        "id": "wJ9xQdIYYVz2"
      },
      "source": [
        "X2 = np.array(df['物理'])\n",
        "print(X2)"
      ],
      "execution_count": null,
      "outputs": []
    },
    {
      "cell_type": "code",
      "metadata": {
        "id": "qCaMaMF_YZ_W"
      },
      "source": [
        "X3 = np.array(df['情報'])\n",
        "print(X3)"
      ],
      "execution_count": null,
      "outputs": []
    },
    {
      "cell_type": "markdown",
      "metadata": {
        "id": "qmoeeNlVe_2o"
      },
      "source": [
        "\n",
        "3科目のヒストグラムを並べて点数の分布を比較してみるか．"
      ]
    },
    {
      "cell_type": "code",
      "metadata": {
        "id": "p9skLef4U95K"
      },
      "source": [
        "# 上から順に，「数学」，「物理」，「情報」のヒストグラム\n",
        "fig, ax = plt.subplots(3, 1, facecolor=\"white\", figsize=(6, 9))\n",
        "ax[0].hist(X1, range=(0,100), bins=20)\n",
        "ax[0].set_ylim(0, 25)\n",
        "ax[1].hist(X2, range=(0,100), bins=20)\n",
        "ax[1].set_ylim(0, 25)\n",
        "ax[2].hist(X3, range=(0,100), bins=20)\n",
        "ax[2].set_ylim(0, 25)\n",
        "plt.show()"
      ],
      "execution_count": null,
      "outputs": []
    },
    {
      "cell_type": "markdown",
      "metadata": {
        "id": "3bEQ4bTmfV5g"
      },
      "source": [
        "こうやってデータを可視化してみたら，3科目の点数の散らばり方の違いが見えるなあ．\n",
        "\n",
        "じゃあ，こういう「散らばり方の違い」を，データから計算した量で測ることはできるかな？"
      ]
    },
    {
      "cell_type": "markdown",
      "metadata": {
        "id": "-LBdDH3mhH-t"
      },
      "source": [
        "$N$ 個の値 $x_1, x_2, \\ldots , x_N$ の平均：\n",
        "$$ \\bar{x} = \\frac{1}{N} \\sum_{n=1}^{N} x_n $$"
      ]
    },
    {
      "cell_type": "code",
      "metadata": {
        "id": "LJf4eLKCVz8m"
      },
      "source": [
        "# 平均\n",
        "df.mean()"
      ],
      "execution_count": null,
      "outputs": []
    },
    {
      "cell_type": "markdown",
      "metadata": {
        "id": "glafHV2kh_A9"
      },
      "source": [
        "上記データの分散：\n",
        "$$ \\mbox{「$x_n$の分散」} = \\mbox{「$(x_n - \\bar{x})^2$の平均」} = \\frac{1}{N} \\sum_{n=1}^{N} (x_n - \\bar{x})^2 $$"
      ]
    },
    {
      "cell_type": "code",
      "metadata": {
        "id": "lLA_YnHxaXvU"
      },
      "source": [
        "# 分散\n",
        "df.var(ddof=0)"
      ],
      "execution_count": null,
      "outputs": []
    },
    {
      "cell_type": "markdown",
      "metadata": {
        "id": "BrV2ERobjIm5"
      },
      "source": [
        "上記データの標準偏差:\n",
        "$$ \\mbox{「$x_n$の標準偏差」} =  \\sqrt{\\mbox{「$x_n$の分散」}} $$"
      ]
    },
    {
      "cell_type": "code",
      "metadata": {
        "id": "z6D1Aj8vaQSe"
      },
      "source": [
        "# 標準偏差\n",
        "df.std(ddof=0)"
      ],
      "execution_count": null,
      "outputs": []
    },
    {
      "cell_type": "markdown",
      "metadata": {
        "id": "D0T2Rk6xfGIr"
      },
      "source": [
        "科目と科目の間の関係もとらえたいなあ．"
      ]
    },
    {
      "cell_type": "code",
      "metadata": {
        "id": "DdMks-IybN14"
      },
      "source": [
        "fig, ax = plt.subplots(1, 3, facecolor=\"white\", figsize=(16, 5))\n",
        "ax[0].scatter(X1, X2)   # 数学 vs 物理\n",
        "ax[0].set_xlim(0, 100)\n",
        "ax[0].set_ylim(0, 100)\n",
        "ax[1].scatter(X1, X3)   # 数学 vs 情報\n",
        "ax[1].set_xlim(0, 100)\n",
        "ax[1].set_ylim(0, 100)\n",
        "ax[2].scatter(X2, X3)   # 物理 vs 情報\n",
        "ax[2].set_xlim(0, 100)\n",
        "ax[2].set_ylim(0, 100)\n",
        "plt.show()"
      ],
      "execution_count": null,
      "outputs": []
    },
    {
      "cell_type": "markdown",
      "metadata": {
        "id": "QmSXYRMjfPnm"
      },
      "source": [
        "真ん中のグラフは横軸が「数学」，縦軸が「情報」．「数学」の点数がよい人は...\n"
      ]
    },
    {
      "cell_type": "markdown",
      "metadata": {
        "id": "LpNqKbSoRs8s"
      },
      "source": [
        "## 回帰分析？ /(?_?"
      ]
    },
    {
      "cell_type": "markdown",
      "metadata": {
        "id": "0U1wla8_R773"
      },
      "source": [
        "### ゴリゴリ君データの入手"
      ]
    },
    {
      "cell_type": "code",
      "metadata": {
        "id": "ZaucsNaUbsE_"
      },
      "source": [
        "# ゴリゴリ君データの入手\n",
        "! wget -nc https://www-tlab.math.ryukoku.ac.jp/~takataka/course/Data/gorigori-mac.csv"
      ],
      "execution_count": null,
      "outputs": []
    },
    {
      "cell_type": "code",
      "metadata": {
        "id": "nqAAa03cdJHn"
      },
      "source": [
        "# データを読み込む\n",
        "data = np.loadtxt('gorigori-mac.csv', delimiter = ',')\n",
        "print(data.shape)  # 配列 data の大きさを表示\n",
        "print(data[:10, :])   # 最初の10行を表示"
      ],
      "execution_count": null,
      "outputs": []
    },
    {
      "cell_type": "markdown",
      "metadata": {
        "id": "6gWDvGGjSDvg"
      },
      "source": [
        "### データの可視化"
      ]
    },
    {
      "cell_type": "code",
      "metadata": {
        "id": "jgTTy1cKdLU4"
      },
      "source": [
        "# 0列目をx軸，1列目をy軸としてグラフを描く\n",
        "fig, ax = plt.subplots(facecolor=\"white\", figsize=(8, 6))\n",
        "ax.scatter(data[:, 0], data[:, 1], color=\"red\")\n",
        "ax.set_xlim(0, 40)  # x 軸の範囲指定\n",
        "plt.show()"
      ],
      "execution_count": null,
      "outputs": []
    },
    {
      "cell_type": "markdown",
      "metadata": {
        "id": "qrIfm8fwSWIF"
      },
      "source": [
        "### 問題設定\n",
        "\n",
        "上記のグラフの元となっているデータは，ほげおくんがある店でアイス「ゴリゴリ君」を売るアルバイトを50日間やった際の，1日毎の「気温」（単位は度，記号 $x$ で表すことにする）と「ゴリゴリ君売上数」（単位は個，記号 $y$ で表すことにする）を表している．グラフの横軸が気温，縦軸が売上数である．\n",
        "\n",
        "\n",
        "50日間アルバイトをやったほげおくんは，将来を見込まれてこの店の店長をまかされることになった．大学でデータ分析を学んだほげおくんは，その知識を活かして売上を予測してみようと思い立った．気温 $x$ から売上数 $y$ を予測できれば，翌日の予想気温からその日の売上数を予測し，ゴリゴリ君を適切な数仕入れることができるだろう，というわけである．\n",
        "「ゴリゴリ売って大儲けほげ〜」\n",
        "\n",
        "\n",
        "ほげおくんに代わって予測式を求めてみよう．"
      ]
    },
    {
      "cell_type": "markdown",
      "metadata": {
        "id": "ss1geqCbTmIO"
      },
      "source": [
        "### 線形回帰／最小二乗法による直線のあてはめ\n",
        "\n",
        "$ y = ax+b $ という関係が成り立つと仮定して，パラメータ $(a, b)$ として最適な値を求める．"
      ]
    },
    {
      "cell_type": "code",
      "metadata": {
        "id": "FCBDka0CesQu"
      },
      "source": [
        "# 最小二乗法\n",
        "coeff = np.polyfit(data[:, 0], data[:, 1], 1)  # 第3引数はあてはめる多項式の次数．戻り値はあてはめた多項式の係数．\n",
        "# パラメータ（係数）を a, b という変数に入れておく\n",
        "a, b = coeff\n",
        "print(a, b)\n",
        "f_est = np.poly1d(coeff)\n",
        "print(f_est)  # 得られた係数を使ってあてはめた直線の式を表示"
      ],
      "execution_count": null,
      "outputs": []
    },
    {
      "cell_type": "code",
      "metadata": {
        "id": "VZSNNMoqeziH"
      },
      "source": [
        "# グラフを描く\n",
        "xr = np.linspace(0, 40, 100)\n",
        "fig, ax = plt.subplots(facecolor=\"white\", figsize=(8, 6))\n",
        "ax.scatter(data[:, 0], data[:, 1], color=\"red\")\n",
        "ax.plot(xr, f_est(xr), '-')\n",
        "ax.set_xlim(0, 40)  # x 軸の範囲指定\n",
        "plt.show()"
      ],
      "execution_count": null,
      "outputs": []
    },
    {
      "cell_type": "markdown",
      "metadata": {
        "id": "9FhW4JeTe6U-"
      },
      "source": [
        "### 予測してみる"
      ]
    },
    {
      "cell_type": "code",
      "metadata": {
        "id": "xksAuNSoe08v"
      },
      "source": [
        "x = 5\n",
        "y = a * x + b\n",
        "print(f'気温 {x:.1f} 度ならゴリゴリ君の売上予想は {y:.1f} 個ほげ')"
      ],
      "execution_count": null,
      "outputs": []
    },
    {
      "cell_type": "code",
      "metadata": {
        "id": "dkIjaWsme9CH"
      },
      "source": [
        "y = 10\n",
        "x = (y - b) / a\n",
        "print(f'ゴリゴリ君の売上予想が {y:.1f} 個になるには気温が {x:.1f} 度になればいいほげ')"
      ],
      "execution_count": null,
      "outputs": []
    },
    {
      "cell_type": "markdown",
      "metadata": {
        "id": "Q5wKQDVL0cPr"
      },
      "source": [
        "### 最小二乗法による多項式のあてはめ\n",
        "\n",
        "$x$ と $y$ の関係が $D$ 次多項式  $ y = f(x; w_0, w_1, \\dots , w_D) = w_0 + w_1x + w_2x^2 + \\dots +\n",
        "w_Dx^D$ で表せると仮定して，この多項式の$(D+1)$個のパラメータ $w_0, w_1, \\dots , w_D$ として最適な値を最小二乗法で推定する．"
      ]
    },
    {
      "cell_type": "code",
      "metadata": {
        "id": "yo6vnASYQ5o9"
      },
      "source": [
        "# データ数\n",
        "N = data.shape[0]\n",
        "\n",
        "# あてはめる多項式の次数\n",
        "D = 3"
      ],
      "execution_count": null,
      "outputs": []
    },
    {
      "cell_type": "markdown",
      "metadata": {
        "id": "h1i0zcF81kvu"
      },
      "source": [
        "**Step1**\n",
        "\n",
        "$N$ 個の学習データ $\\{ (x_n, y_n) \\}_{n=1}^{N}$ に対して，次式で表される $(D+1)\\times N$ 行列 $X$ および $N$ 次元ベクトル $Y$ を求める．\n",
        "\\begin{align}\n",
        "X = \\begin{pmatrix}\n",
        "1 & 1 & \\dots & 1 \\\\\n",
        "x_{1} & x_{2} & \\dots & x_{N} \\\\\n",
        "\\vdots & \\vdots & \\vdots & \\vdots \\\\\n",
        "x_{1}^D & x_{2}^D & \\dots & x_{N}^D \n",
        "\\end{pmatrix}\n",
        "\\qquad\n",
        "Y = (y_1\\ y_2\\ \\dots\\ y_N)\n",
        "\\end{align}"
      ]
    },
    {
      "cell_type": "code",
      "metadata": {
        "id": "ZeNA11cC3RiC"
      },
      "source": [
        "# X をつくる\n",
        "X = np.empty((D+1, N))\n",
        "X[0, :] = 1\n",
        "for d in range(1, D+1):\n",
        "    X[d, :] = data[:, 0]**d\n",
        "print(X.shape)\n",
        "\n",
        "# Y をつくる\n",
        "Y = data[:, 1]\n",
        "print(Y.shape)"
      ],
      "execution_count": null,
      "outputs": []
    },
    {
      "cell_type": "markdown",
      "metadata": {
        "id": "_kkxsPon4cIo"
      },
      "source": [
        "**Step2**\n",
        "\n",
        "最適なパラメータ $\\widetilde{\\mathbf{w}} = (w_0, w_1, \\dots , w_D)$ （$(D+1)$次元ベクトル）は次式で表される正規方程式の解である．\n",
        "\\begin{align}\n",
        "X X^{\\top} \\widetilde{\\mathbf{w}} = XY^{\\top}\n",
        "\\end{align}\n",
        "行列 $A = X X^{\\top}$ とベクトル $\\mathbf{b} = XY^{\\top}$ を計算する．"
      ]
    },
    {
      "cell_type": "code",
      "metadata": {
        "id": "v1GbXgcZ5ZwP"
      },
      "source": [
        "# A を計算\n",
        "A = X @ X.T\n",
        "print(A)\n",
        "\n",
        "# b を計算\n",
        "b = X @ Y\n",
        "print(b)"
      ],
      "execution_count": null,
      "outputs": []
    },
    {
      "cell_type": "markdown",
      "metadata": {
        "id": "4RZvFrND5ojp"
      },
      "source": [
        "**Step3**\n",
        "\n",
        "連立方程式 $ A\\widetilde{\\mathbf{w}} = \\mathbf{b}$ を解いて $\\widetilde{\\mathbf{w}}$ を求める．"
      ]
    },
    {
      "cell_type": "code",
      "metadata": {
        "id": "U0kxUZfp55G5"
      },
      "source": [
        "# 連立方程式を解く\n",
        "wt = np.linalg.solve(A, b)\n",
        "print(wt.shape)\n",
        "print(wt)"
      ],
      "execution_count": null,
      "outputs": []
    },
    {
      "cell_type": "markdown",
      "metadata": {
        "id": "sTUBKicM6kdc"
      },
      "source": [
        "**Step4**\n",
        "\n",
        "得られたパラメータを用いて多項式をあてはめ予測してみる．"
      ]
    },
    {
      "cell_type": "code",
      "metadata": {
        "id": "U1t_twDb6ySm"
      },
      "source": [
        "# 多項式\n",
        "f_est = np.poly1d(wt[::-1])\n",
        "\n",
        "# グラフを描く\n",
        "xr = np.linspace(0, 40, 100)\n",
        "fig, ax = plt.subplots(facecolor=\"white\", figsize=(8, 6))\n",
        "ax.scatter(data[:, 0], data[:, 1], color=\"red\")\n",
        "ax.plot(xr, f_est(xr), '-', label=f\"D = {D}\")\n",
        "ax.set_xlim(0, 40)    # x 軸の範囲指定\n",
        "ax.set_ylim(-5, 125)  # y 軸の範囲指定\n",
        "ax.legend()\n",
        "plt.show()\n",
        "\n",
        "# 多項式を表示\n",
        "print(f_est)"
      ],
      "execution_count": null,
      "outputs": []
    },
    {
      "cell_type": "code",
      "metadata": {
        "id": "M6mPN7i0HVUo"
      },
      "source": [
        "# 予測してみる\n",
        "xx = np.arange(5, 45, 5)\n",
        "yy = f_est(xx)\n",
        "for i in range(xx.shape[0]):\n",
        "    print('気温 {0} 度のときの売上の予測値は {1:.1f} 個ほげ'.format(xx[i], yy[i]))"
      ],
      "execution_count": null,
      "outputs": []
    },
    {
      "cell_type": "markdown",
      "metadata": {
        "id": "YJ7mhZRNfvYz"
      },
      "source": [
        "## どこへ向かうの？ /(?_?"
      ]
    },
    {
      "cell_type": "markdown",
      "metadata": {
        "id": "3XJuIIOsf-qQ"
      },
      "source": [
        "シラバスより...\n",
        "```\n",
        "系統的履修／System of study \n",
        "この授業で学ぶことは，次のような科目・事項の基礎となります：\n",
        "確率統計，機械学習/人工知能，多変量解析，データサイエンス，確率モデル\n",
        "\n",
        "この科目は，「データサイエンスプログラム」を構成する科目群へとつながる科目の一つです．\n",
        "```\n",
        "\n",
        "別の資料で少しデモをお見せします．\n",
        "\n",
        "「データサイエンスプログラム」についてはこちらもどうぞ: https://sentan.rikou.ryukoku.ac.jp/learn/program/18/"
      ]
    },
    {
      "cell_type": "code",
      "metadata": {
        "id": "RdnWPTQoePdC"
      },
      "source": [
        ""
      ],
      "execution_count": null,
      "outputs": []
    }
  ]
}