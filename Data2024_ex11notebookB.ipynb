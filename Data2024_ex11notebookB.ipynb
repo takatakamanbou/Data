{
  "nbformat": 4,
  "nbformat_minor": 0,
  "metadata": {
    "colab": {
      "provenance": [],
      "toc_visible": true,
      "authorship_tag": "ABX9TyMJOtIZ9zQiH3gvx9/o8b3L",
      "include_colab_link": true
    },
    "kernelspec": {
      "name": "python3",
      "display_name": "Python 3"
    }
  },
  "cells": [
    {
      "cell_type": "markdown",
      "metadata": {
        "id": "view-in-github",
        "colab_type": "text"
      },
      "source": [
        "<a href=\"https://colab.research.google.com/github/takatakamanbou/Data/blob/main/Data2024_ex11notebookB.ipynb\" target=\"_parent\"><img src=\"https://colab.research.google.com/assets/colab-badge.svg\" alt=\"Open In Colab\"/></a>"
      ]
    },
    {
      "cell_type": "markdown",
      "metadata": {
        "id": "2UzDNLmVS3po"
      },
      "source": [
        "# Data2024 ex11notebookB\n",
        "\n",
        "<img width=64 src=\"https://www-tlab.math.ryukoku.ac.jp/~takataka/course/Data/Data-logo11.png\"> https://www-tlab.math.ryukoku.ac.jp/wiki/?Data/2024\n",
        "\n"
      ]
    },
    {
      "cell_type": "markdown",
      "metadata": {
        "id": "7H45eNIcd2xB"
      },
      "source": [
        "----\n",
        "## 誤差と有効数字の話の演習問題 + $\\alpha$\n",
        "----\n",
        "\n",
        "\n",
        "\n",
        "<b><font color=\"#ff0000\">\n",
        "注意:\n",
        "今回の notebook の中には，コードセルを実行すると問題の解答が表示されるようになっている箇所があります．\n",
        "</font>\n",
        "まとめて実行したりせず，読んで理解しながらひとつずつ実行していってください．\n",
        "</b>"
      ]
    },
    {
      "cell_type": "code",
      "source": [
        "# 「解答」を示す際に文字列を復号するのに使う\n",
        "import base64\n",
        "# 復号した文字列を Markdown 形式で（数式は LaTeX でフォーマットして）表示\n",
        "from IPython.display import display, Markdown"
      ],
      "metadata": {
        "id": "Uxz4trBz1naS"
      },
      "execution_count": null,
      "outputs": []
    },
    {
      "cell_type": "markdown",
      "source": [
        "### 問1\n",
        "\n",
        "次の3つの数のそれぞれを，有効数字6桁，4桁，2桁で（指数表記/科学的記数法は用いないで）表しなさい．丸めには四捨五入を用いること．\n",
        "\n",
        "$2357.1113$\n",
        "\n",
        "$5963808000$\n",
        "\n",
        "$0.0046492929$"
      ],
      "metadata": {
        "id": "wNoXgG_X2J2M"
      }
    },
    {
      "cell_type": "code",
      "source": [
        "# このセルを実行すると，上の問題の解答が表示されます\n",
        "Q = b'CnwgfCB8IHwgfAp8Oi0tfDotLXw6LS18Oi0tfAp8KirmnInlirnmlbDlrZc25qGBKip8JDIzNTcuMTEkfCQ1OTYzODEwMDAwJHwkMC4wMDQ2NDkyOSQKfCoq5pyJ5Yq55pWw5a2XNuahgSoqfCQyMzU3JHwkNTk2NDAwMDAwMCR8JDAuMDA0NjQ5JAp8KirmnInlirnmlbDlrZcy5qGBKip8JDI0MDAkfCQ2MDAwMDAwMDAwJHwkMC4wMDQ2JAo='\n",
        "display(Markdown(base64.b64decode(Q).decode('utf-8')))"
      ],
      "metadata": {
        "id": "ONJeqi4V3JEq"
      },
      "execution_count": null,
      "outputs": []
    },
    {
      "cell_type": "markdown",
      "source": [
        "### 問2\n",
        "\n",
        "問1の3つの数を，科学的記数法を用いて有効数字4桁で表しなさい．丸めには四捨五入を用いること．"
      ],
      "metadata": {
        "id": "75m2WM6a2SsL"
      }
    },
    {
      "cell_type": "code",
      "source": [
        "# このセルを実行すると，上の問題の解答が表示されます\n",
        "Q = b'CiQyLjM1NyBcdGltZXMgMTBeMyxccXVhZCA1Ljk2NCBcdGltZXMgMTBeezl9LFxxdWFkIDQuNjQ5XHRpbWVzIDEwXnstM30kCg=='\n",
        "display(Markdown(base64.b64decode(Q).decode('utf-8')))"
      ],
      "metadata": {
        "id": "leG-x5V442nO"
      },
      "execution_count": null,
      "outputs": []
    },
    {
      "cell_type": "markdown",
      "source": [
        "### 問3\n",
        "\n",
        "あるコンピュータプログラムに3つの数値を出力させたところ，次のように表示された．これらの数を大きい順にならべなさい．\n",
        "\n",
        "```\n",
        "1.23e+00   -3.45e+02   5.67e-01\n",
        "```"
      ],
      "metadata": {
        "id": "isySYNkR2Vl_"
      }
    },
    {
      "cell_type": "code",
      "source": [
        "# このセルを実行すると，上の問題の解答が表示されます\n",
        "Q = b'CmAxLjIzZSswMCA+IDUuNjdlLTAxID4gLTMuNDVlKzAyYAo='\n",
        "display(Markdown(base64.b64decode(Q).decode('utf-8')))"
      ],
      "metadata": {
        "id": "PhsH0HGO5HBT"
      },
      "execution_count": null,
      "outputs": []
    },
    {
      "cell_type": "markdown",
      "source": [
        "### 計算誤差の話の補足\n",
        "\n",
        "notebookA の「計算誤差」の項に，次のようなプログラムがありました．\n",
        "```\n",
        "# 変数 x を 0 で初期化して，そこに 0.1 を加えることを10回繰り返す\n",
        "x = 0\n",
        "for i in range(10):\n",
        "    x += 0.1\n",
        "print(x)\n",
        "```\n",
        "このプログラムが正確な値を求められない理由を説明します．\n",
        "\n",
        "理由をきちんと理解するためには，コンピュータが小数を2進数でどのように表現するのかについての知識が必要ですが，ここでは簡単のため，まずは10進数で話をします．\n",
        "\n",
        "$\\frac{1}{3}$ という数を10進数の小数で表すと， $0.\\dot{3} = 0.3333\\cdots$ という無限小数になります．これを有限桁で，例えば小数点以下3桁までで表そうとすると，下位桁を切り捨てて $0.333$ とせざるを得ません．したがって，小数点以下3桁までしか表せない計算機で $\\frac{1}{3} + \\frac{1}{3} + \\frac{1}{3}$ を計算しようとすると，\n",
        "\n",
        "$$\n",
        "0.333 + 0.333 + 0.333 = 0.999 \\ne 1\n",
        "$$\n",
        "\n",
        "ということになってしまいます．\n",
        "\n",
        "$0.1$ の場合も同様のことが起こっています． $0.1$ は10進数では小数第1位までで表せる数ですが，2進数だと\n",
        "\n",
        "$$\n",
        "0.0\\dot{0}01\\dot{1}_{(2)} = 0.00011001100110011\\cdots _{(2)}\n",
        "$$\n",
        "\n",
        "という循環小数になります．そのため，数を2進数で表すコンピュータでは， $0.1$ を有限の桁数で表せず，誤差が生じてしまう，というわけです．\n",
        "\n",
        "ちなみに\n",
        "\n",
        "$$\n",
        "\\begin{gathered}\n",
        "0.5 = \\frac{1}{2} = 0.1_{(2)}\\\\\n",
        "0.25 = \\frac{1}{4} = 0.01_{(2)}\\\\\n",
        "0.125 = \\frac{1}{8} = 0.001_{(2)}\\\\\n",
        "0.0625 = \\frac{1}{16} = 0.0001_{(2)}\\\\\n",
        "\\end{gathered}\n",
        "$$\n",
        "\n",
        "ですね．\n",
        "\n",
        "$$\n",
        "\\begin{aligned}\n",
        "&0.0\\dot{0}01\\dot{1}_{(2)}\\\\\n",
        " &= 0 \\cdot\\frac{1}{2} + 0\\cdot\\frac{1}{4} + 0\\cdot\\frac{1}{8} + 1\\cdot\\frac{1}{16} + 1\\cdot\\frac{1}{32} + 0\\cdot\\frac{1}{64} + 0\\cdot\\frac{1}{128} + 1\\cdot\\frac{1}{256} + 1\\cdot\\frac{1}{512} + \\cdots\\\\\n",
        "&= \\frac{1}{16} + \\frac{1}{32} + \\frac{1}{256} + \\frac{1}{512} + \\frac{1}{4096} + \\frac{1}{8192} + \\cdots\\\\\n",
        "&= \\left( \\frac{1}{16} + \\frac{1}{32} \\right) + \\frac{1}{16}\\left( \\frac{1}{16} + \\frac{1}{32} \\right) + \\frac{1}{16^2}\\left( \\frac{1}{16} + \\frac{1}{32} \\right) + \\cdots \\\\\n",
        "&= \\frac{3}{32} + \\frac{3}{32}\\cdot\\frac{1}{16} + \\frac{3}{32}\\cdot\\frac{1}{16^2} + \\cdots\\\\\n",
        "&= \\frac{\\frac{3}{32}}{1-\\frac{1}{16}} = \\frac{1}{10}\n",
        "\\end{aligned}\n",
        "$$"
      ],
      "metadata": {
        "id": "cce0rbW-2bAT"
      }
    },
    {
      "cell_type": "code",
      "source": [],
      "metadata": {
        "id": "NOJqBHqF23Na"
      },
      "execution_count": null,
      "outputs": []
    }
  ]
}