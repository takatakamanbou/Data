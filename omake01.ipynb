{
  "nbformat": 4,
  "nbformat_minor": 0,
  "metadata": {
    "colab": {
      "provenance": [],
      "toc_visible": true,
      "authorship_tag": "ABX9TyMCkcKDwSTsksS+Ib9mSkIX",
      "include_colab_link": true
    },
    "kernelspec": {
      "name": "python3",
      "display_name": "Python 3"
    },
    "language_info": {
      "name": "python"
    }
  },
  "cells": [
    {
      "cell_type": "markdown",
      "metadata": {
        "id": "view-in-github",
        "colab_type": "text"
      },
      "source": [
        "<a href=\"https://colab.research.google.com/github/takatakamanbou/Data/blob/2023/omake01.ipynb\" target=\"_parent\"><img src=\"https://colab.research.google.com/assets/colab-badge.svg\" alt=\"Open In Colab\"/></a>"
      ]
    },
    {
      "cell_type": "markdown",
      "source": [
        "# Data2023 omake01\n",
        "\n",
        "<img width=64 src=\"https://www-tlab.math.ryukoku.ac.jp/~takataka/course/Data/Data-logo.png\"> https://www-tlab.math.ryukoku.ac.jp/wiki/?Data/2023"
      ],
      "metadata": {
        "id": "P4preLw7SzqH"
      }
    },
    {
      "cell_type": "markdown",
      "source": [
        "----\n",
        "## おまけ課題 01\n",
        "----\n",
        "\n",
        "\n"
      ],
      "metadata": {
        "id": "zDtnBWKha6vx"
      }
    },
    {
      "cell_type": "markdown",
      "source": [
        "---\n",
        "### Colab notebook の Markdown セルの話\n",
        "\n"
      ],
      "metadata": {
        "id": "2S20Kx6rIYt4"
      }
    },
    {
      "cell_type": "markdown",
      "source": [
        "Colab notebook のセルには「コードセル」と「テキストセル」の2種類があります．\n",
        "コードセルには，Python のコードを書くことができます．\n",
        "テキストセルの方には文章を書いたりできるのですが，単に文字を並べるだけでなく，Markdown という形式に則って，整形された文章を書くことができます．"
      ],
      "metadata": {
        "id": "_mCDUba-v6Fz"
      }
    },
    {
      "cell_type": "markdown",
      "source": [
        "次のセルをダブルクリックすると，編集できる状態になります．どう書くとどう表示されるか確認してみましょう．編集を終えるときは，他のセルをクリックするか，Shift + Enter を押します．"
      ],
      "metadata": {
        "id": "HFVQZ0vtxRoj"
      }
    },
    {
      "cell_type": "markdown",
      "source": [
        "# 大きい見出しです\n",
        "\n",
        "## 中くらいの見出しですです\n",
        "\n",
        "行の先頭を `#` や `##` で始めると，章や節のタイトルになります．\n",
        "「大きい見出しです」は `#` で，「中くらいの見出しですです」は，`##` で始まってるので，前者よりも後者の方が一つ下のレベルの見出しとなっています．\n",
        "\n",
        "ほげほげほげほげほげほげほげほげほげほげほげほげほげほげほげほげほげほげほげほげ\n",
        "ほげほげほげほげほげほげほげほげほげほげほげほげほげほげほげほげほげほげほげほげ．\n",
        "\n",
        "## 中くらいの見出しでんがなまんがな\n",
        "\n",
        "「中くらいの見出しでんがなまんがな」は，「〜ですです」と同じレベルのタイトルですです．\n",
        "\n",
        "### も一つ下の見出しでっせ\n",
        "\n",
        "`###` にすると↑のようになります．\n",
        "\n",
        "だんらくだんらくだんらくだんらくだんらく *だんらく* だんらくだん **らくだ** んらくだんらくだんらくだんらくだんらくだんらくだんらくだんらくだんらくだんらくだんらくだんらくだんらくだんらくだんらくだんらく．\n",
        "\n",
        "だんらくだんらくだんらくだんらく．"
      ],
      "metadata": {
        "id": "iG_sJ2J5xMJ0"
      }
    },
    {
      "cell_type": "markdown",
      "source": [
        "見本をもう一つ．"
      ],
      "metadata": {
        "id": "nnZ176Grxior"
      }
    },
    {
      "cell_type": "markdown",
      "source": [
        "### 箇条書き\n",
        "\n",
        "行の先頭を`- `（`-` のあとに半角の空白を入れる）とすると，箇条書きができます．\n",
        "\n",
        "- 箇条書き\n",
        "- かじょーがき\n",
        "    - 過剰牡蠣\n",
        "    - 渦状柿\n",
        "\n",
        "行の先頭を `1. `（`.` のあとに半角の空白を入れる）とすると，番号付きの箇条書きができます．\n",
        "\n",
        "1. 箇条書き\n",
        "1. かじょーがき\n",
        "    1. 過剰牡蠣\n",
        "    1. 渦状柿"
      ],
      "metadata": {
        "id": "_xJ391yPxm2P"
      }
    },
    {
      "cell_type": "markdown",
      "source": [
        "---\n",
        "### Markdown セルに LaTeX 表記で数式を書く"
      ],
      "metadata": {
        "id": "74sufKpEsYZh"
      }
    },
    {
      "cell_type": "markdown",
      "source": [
        "Colab Notebook の Markdown セルには，「LaTeX 記法」で書いた数式を書くことができます．\n",
        "以下のセルたちの中身を確認しましょう．"
      ],
      "metadata": {
        "id": "FoNPjjFXyfzZ"
      }
    },
    {
      "cell_type": "markdown",
      "source": [
        "\n",
        "\n",
        "\n",
        "#### 文の中に数式を入れる\n",
        "\n",
        "以下の文中の `$` と `$` で囲まれた部分が，LaTeX記法で書いた数式です．\n",
        "間違いが3箇所あります．修正しましょう．\n",
        "\n",
        "$x$ に関する2次方程式 $ax^2 + bx + c = 0$ の解は，$a \\ne 0$ のとき，$x = \\frac{-b \\pm \\sqrt{b^2 + 4ac}　}{a}$ である．\n",
        "\n",
        "$n$ を任意の自然数として，$\\sum_{k=1}^{n}k = \\frac{n}{2}(n-1)$ が成り立つ．\n",
        "\n",
        "$f(x) = e^{-x^2}$ のとき，$\\int_{-\\infty}^{\\infty}f(x)dx = \\sqrt{\\pi}$ である．\n",
        "\n",
        "#### 参考\n",
        "\n",
        "- 例えば，`\\sqrt{2}` と書くと，$\\sqrt{2}$ となります．`$\\frac{2}{3}$` と書くと，$\\frac{2}{3}$ となります．`\\sqrt` や `\\frac` がどういう機能を持つかは，Google等の検索エンジンで「latex sqrt」のようにキーワードを指定して調べてみるとよいでしょう．\n",
        "- `x_5` は $x_5$ となり，`x^5` は $x^5$ となります．でも，$x$ の 5963乗を書きたいのに `x^5963` とすると $x^5963$ となってしまいます．そういうときは，`{}` を使って `x^{5963}` と書けば $x^{5963}$ となります．"
      ],
      "metadata": {
        "id": "2kk6ppEMyaWt"
      }
    },
    {
      "cell_type": "markdown",
      "source": [
        "#### 独立した数式を書く\n",
        "\n",
        "長い数式を書きたい場合，`$$` と `$$` で囲みます．新たな行に独立した数式として表されます．\n",
        "\n",
        "$n$ を任意の自然数として，\n",
        "$$ \\sum_{k=1}^{n}k = \\frac{n}{2}(n+1) $$\n",
        "が成り立つ．\n",
        "\n",
        "$f(x) = e^{-x^2}$ のとき，\n",
        "$$\\int_{-\\infty}^{\\infty}f(x)dx = \\sqrt{\\pi}$$\n",
        "である．"
      ],
      "metadata": {
        "id": "_nhw3Xcoyuor"
      }
    },
    {
      "cell_type": "markdown",
      "source": [
        "#### 練習\n",
        "\n",
        "以下の式は，「データ $x_1, x_2, \\ldots, x_N$ に対して，$b$ を定数として $y_n = x_n + b$ ($n = 1, 2, \\ldots, N$) とおくとき，$\\{ x_n \\}$ の平均が $\\bar{x}$ ならば $\\{ y_n \\}$ 平均 $\\bar{y}$ は $\\bar{y} = \\bar{x} + b$ を満たす」ことを証明しようとしたものである．「...」の部分を埋めてこれを完成させなさい（行を増やして構わない）．\n",
        "\n",
        "$$\n",
        "\\begin{aligned}\n",
        "\\bar{y} &=\\frac{1}{N}\\sum_{n=1}^{N}y_n \\\\\n",
        "&= ...\\\\\n",
        "&= \\bar{x} + b\n",
        "\\end{aligned}\n",
        "$$"
      ],
      "metadata": {
        "id": "fepaMIWty615"
      }
    },
    {
      "cell_type": "markdown",
      "source": [
        "---\n",
        "### 補足 Markdown + LaTeX についてもっと知りたい？\n",
        "\n",
        "\n"
      ],
      "metadata": {
        "id": "2TsidSxqxzur"
      }
    },
    {
      "cell_type": "markdown",
      "source": [
        "- Google 等のウェブ検索で「latex」 や「markdown latex」をキーワードにして検索すると，書き方に関する情報が見つかります．いろいろ試してみるとよいでしょう．\n",
        "- LaTeX には，文書作成のための様々な機能がありますが，Markdown 中に書けるのは，ほとんどの場合，数式に関するものだけです\n",
        "Markdown + LaTeX にもいろいろ方言があるので，見つけた書き方が Colab Notebook 上では正しく描かれないこともあります\n",
        "- 最近のテキストエディタには，Markdown に対応しているものもあります．例えば，Visual Studio Code （VSCode）は，Markdown の文書を整形したプレビューを表示できます．LaTeX 数式も使えます．[「フレッシャーズセミナー」2023年度高橋担当分](https://www-tlab.math.ryukoku.ac.jp/wiki/?Freshers/2023) で説明していますので，よかったらどうぞ．"
      ],
      "metadata": {
        "id": "Hc5TOCwBzaOl"
      }
    },
    {
      "cell_type": "markdown",
      "source": [
        "---\n",
        "### 問題\n",
        "\n",
        "次の問題の解答を Markdown セルに書きなさい．LaTeX で数式を書きましょう．\n"
      ],
      "metadata": {
        "id": "sGAMOAuG4ouA"
      }
    },
    {
      "cell_type": "markdown",
      "source": [
        "#### 問題1\n",
        "\n",
        "データ $x_1, x_2, \\ldots, x_N$ （ $N$\n",
        " は $1$ 以上の整数） に対して，$a, b$ を定数として $y_n = ax_n + b$ ($n = 1, 2, \\ldots, N$) とおく．\n",
        "\n",
        " $\\{ x_n \\}$ の平均が $\\bar{x}$ で分散が $\\sigma_{x}^2$ ならば， $\\{ y_n \\}$ 平均 $\\bar{y}$ と分散 $\\sigma_{y}^2$ は次の式を満たすことを証明しなさい．\n",
        "\n",
        " $$\n",
        " \\begin{aligned}\n",
        " \\bar{y} &= a\\bar{x} + b\\\\\n",
        " \\sigma_{y}^2 &= a^2\\sigma_{x}^2\n",
        " \\end{aligned}\n",
        " $$\n"
      ],
      "metadata": {
        "id": "WzfeRvHFvq_O"
      }
    },
    {
      "cell_type": "markdown",
      "source": [],
      "metadata": {
        "id": "Eo53z7HzA9nh"
      }
    },
    {
      "cell_type": "markdown",
      "source": [
        "#### 問題2\n",
        "\n",
        "データ $x_1, x_2, \\ldots, x_N$ （ $N$\n",
        " は $1$ 以上の整数） に対して，$a, b$ を定数として $y_n = ax_n + b$ ($n = 1, 2, \\ldots, N$) とおく．\n",
        "\n",
        " $\\{ y_n \\}$ の平均が $0$ で分散が $1$ となるように $a, b$ を定めなさい．\n",
        "\n"
      ],
      "metadata": {
        "id": "pl0WoqW7A6q_"
      }
    },
    {
      "cell_type": "markdown",
      "source": [],
      "metadata": {
        "id": "_VcTl6v_Bi65"
      }
    },
    {
      "cell_type": "markdown",
      "source": [
        "#### 問題3\n",
        "\n",
        "データ $x_1, x_2, \\ldots, x_N$ （ $N$\n",
        " は $1$ 以上の整数） に対して，$a, b$ を定数として $y_n = ax_n + b$ ($n = 1, 2, \\ldots, N$) とおく．\n",
        " $\\{ x_n \\}$ の平均が $\\mu$ で分散が $\\sigma^2$ のとき， $\\{ y_n \\}$ の平均が $0$ で分散が $1$ となるように $a, b$ を定めなさい．\n"
      ],
      "metadata": {
        "id": "hLpmrKClBisR"
      }
    },
    {
      "cell_type": "markdown",
      "source": [],
      "metadata": {
        "id": "Nw93fRcZCmL2"
      }
    },
    {
      "cell_type": "markdown",
      "source": [
        "#### 問題4\n",
        "\n",
        "データ $x_1, x_2, \\ldots, x_N$ （ $N$\n",
        " は $1$ 以上の整数） に対して，$a, b$ を定数として $y_n = ax_n + b$ ($n = 1, 2, \\ldots, N$) とおく．\n",
        "\n",
        "  $\\{ x_n \\}$ の平均が $\\mu$ で分散が $\\sigma^2$ のとき， 次式が成り立つことを証明しなさい．\n",
        "\n",
        "$$\n",
        "\\begin{aligned}\n",
        "\\sigma^2 = \\frac{1}{N}\\sum_{n=1}^{N}x_n^2 - \\mu^2\n",
        "\\end{aligned}\n",
        "$$"
      ],
      "metadata": {
        "id": "jAKMjcm3CsC7"
      }
    },
    {
      "cell_type": "markdown",
      "source": [],
      "metadata": {
        "id": "HdhHf_TpDJQ6"
      }
    }
  ]
}