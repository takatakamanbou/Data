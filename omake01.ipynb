{
  "nbformat": 4,
  "nbformat_minor": 0,
  "metadata": {
    "colab": {
      "provenance": [],
      "toc_visible": true,
      "authorship_tag": "ABX9TyO+29HTr0w1RG2ncJdoVH7h",
      "include_colab_link": true
    },
    "kernelspec": {
      "name": "python3",
      "display_name": "Python 3"
    }
  },
  "cells": [
    {
      "cell_type": "markdown",
      "metadata": {
        "id": "view-in-github",
        "colab_type": "text"
      },
      "source": [
        "<a href=\"https://colab.research.google.com/github/takatakamanbou/Data/blob/2023/omake01.ipynb\" target=\"_parent\"><img src=\"https://colab.research.google.com/assets/colab-badge.svg\" alt=\"Open In Colab\"/></a>"
      ]
    },
    {
      "cell_type": "markdown",
      "metadata": {
        "id": "2UzDNLmVS3po"
      },
      "source": [
        "# Data2023 omake01\n",
        "\n",
        "<img width=64 src=\"https://www-tlab.math.ryukoku.ac.jp/~takataka/course/Data/Data-logo.png\"> https://www-tlab.math.ryukoku.ac.jp/wiki/?Data/2023/\n"
      ]
    },
    {
      "cell_type": "markdown",
      "metadata": {
        "id": "_4-TmUdCd9FJ"
      },
      "source": [
        "----\n",
        "## Python の初歩 その1\n",
        "---\n",
        "\n",
        "C言語プログラミングを少し学んでいる方を想定して， プログラミング言語 Python の初歩の初歩を解説してみます．Colab notebook なので，そのまま実行してみてね．"
      ]
    },
    {
      "cell_type": "markdown",
      "metadata": {
        "id": "Z4c3TGUV38Ri"
      },
      "source": [
        "----\n",
        "### とりあえず数値の計算"
      ]
    },
    {
      "cell_type": "markdown",
      "metadata": {
        "id": "mGDLYnwg71kh"
      },
      "source": [
        "C言語と同様に四則演算の演算子 `+`,`-`, `*`, `/` が使えます．適当に数値や式を変えて実行し直してみるとよいでしょう．"
      ]
    },
    {
      "cell_type": "code",
      "metadata": {
        "id": "mH1RWEw54RPv"
      },
      "source": [
        "5963 - 1314"
      ],
      "execution_count": null,
      "outputs": []
    },
    {
      "cell_type": "code",
      "metadata": {
        "id": "ROG8mPBJ4Uln"
      },
      "source": [
        "5+9*6-3"
      ],
      "execution_count": null,
      "outputs": []
    },
    {
      "cell_type": "markdown",
      "metadata": {
        "id": "3jFj7YAV74ZQ"
      },
      "source": [
        "整数だけでなく実数も扱えます（C言語の `float`型や`double`型と同様に浮動小数点数が扱える）．"
      ]
    },
    {
      "cell_type": "code",
      "metadata": {
        "id": "QQ8M3640S1W7"
      },
      "source": [
        "4*1 + 6*0.1 + 4*0.01 + 9*0.001"
      ],
      "execution_count": null,
      "outputs": []
    },
    {
      "cell_type": "markdown",
      "metadata": {
        "id": "TMg8Ia6q7raX"
      },
      "source": [
        "**要注意** C言語と違い，`/` 演算の結果は浮動小数点数になります．"
      ]
    },
    {
      "cell_type": "code",
      "metadata": {
        "id": "_m3xjXyX9HLL"
      },
      "source": [
        "4/3  # C言語だと整数 2 と整数 3 の除算は整数の範囲で行うので，結果は整数 1 になるはず"
      ],
      "execution_count": null,
      "outputs": []
    },
    {
      "cell_type": "code",
      "metadata": {
        "id": "3ra7p5YU9Nc5"
      },
      "source": [
        "2/3  # Cだと 0"
      ],
      "execution_count": null,
      "outputs": []
    },
    {
      "cell_type": "markdown",
      "metadata": {
        "id": "w-XyBY3X9Q33"
      },
      "source": [
        "C言語の `/` と同じことをさせたい場合は，`//` を使います"
      ]
    },
    {
      "cell_type": "code",
      "metadata": {
        "id": "CPlf1XnQ9XtK"
      },
      "source": [
        "4//3"
      ],
      "execution_count": null,
      "outputs": []
    },
    {
      "cell_type": "markdown",
      "metadata": {
        "id": "4XlzpDSD9cnE"
      },
      "source": [
        "べき乗の演算子 `**` というのもあります．また，C言語の普通の整数型（`int`や`long`など）よりも遥かに桁数の多い数も扱えます．"
      ]
    },
    {
      "cell_type": "code",
      "metadata": {
        "id": "E9K_sJ_w9roL"
      },
      "source": [
        "2**13 - 1  # メルセンヌ素数の一つ"
      ],
      "execution_count": null,
      "outputs": []
    },
    {
      "cell_type": "code",
      "metadata": {
        "id": "spGNVmIp9trV"
      },
      "source": [
        "2**127 - 1 # これもメルセンヌ素数"
      ],
      "execution_count": null,
      "outputs": []
    },
    {
      "cell_type": "code",
      "metadata": {
        "id": "XXo27BYC-Grt"
      },
      "source": [
        "2**607 - 1 # 同じく"
      ],
      "execution_count": null,
      "outputs": []
    },
    {
      "cell_type": "markdown",
      "metadata": {
        "id": "XuOD4gtu-7Zi"
      },
      "source": [
        "----\n",
        "### 変数を使う"
      ]
    },
    {
      "cell_type": "markdown",
      "metadata": {
        "id": "jMiLyVUZ_Dt6"
      },
      "source": [
        "もちろん変数も使えます．ただし，C言語と使い方に大きな違いがあります．C言語の変数は，\n",
        "```\n",
        "int x;      // x という名前の変数を int 型で使うよ，と宣言\n",
        "double y;  // y は double 型だよ，と宣言\n",
        "\n",
        "x = 1 + 2 + 3 + 4 + 5;\n",
        "y = 3.1415\n",
        "```\n",
        "のようにあらかじめ型を決めて宣言しておく必要があります．宣言した型と違うものを代入することはできません．\n",
        "\n",
        "しかし，Python の変数は，宣言不要でいきなり代入して使えます．"
      ]
    },
    {
      "cell_type": "code",
      "metadata": {
        "id": "kX1m9-g0AYnG"
      },
      "source": [
        "x = 1 + 2 + 3 + 4 + 5\n",
        "print(x)  # x の値を表示"
      ],
      "execution_count": null,
      "outputs": []
    },
    {
      "cell_type": "markdown",
      "metadata": {
        "id": "NhnWrdDEAnWW"
      },
      "source": [
        "上記の例では変数 `x` は整数を扱う型になっています．ですが，次のようにその変数 `x` に実数値を代入してしまうこともできます．"
      ]
    },
    {
      "cell_type": "code",
      "metadata": {
        "id": "s9ExSlHZA5wk"
      },
      "source": [
        "x = 3.1415\n",
        "print(x)"
      ],
      "execution_count": null,
      "outputs": []
    },
    {
      "cell_type": "markdown",
      "metadata": {
        "id": "R63uO69iBQXi"
      },
      "source": [
        "上記の例を見ると，「Python の変数には整数型と浮動小数点型の区別がない」と思うかもしれませんが，実際にはそうではありません．「Python の変数は，代入したときに右辺の値に応じた型になる」ということです．\n",
        "\n",
        "整数と浮動小数点数は，値を表示させてみると区別できます．"
      ]
    },
    {
      "cell_type": "code",
      "metadata": {
        "id": "pwKZVmFUByFa"
      },
      "source": [
        "x = 5-5+1+9 # 全て整数で演算結果も整数\n",
        "print(x)  # このときの変数 x は整数型"
      ],
      "execution_count": null,
      "outputs": []
    },
    {
      "cell_type": "code",
      "metadata": {
        "id": "hwEUOMGLB8aL"
      },
      "source": [
        "x = 5/5+1*9 # 5/5 の値が浮動小数点数 1.0 → その後の加算も浮動小数点数として行われるので結果も浮動小数点数\n",
        "print(x)  # このときの変数 x は浮動小数点数型"
      ],
      "execution_count": null,
      "outputs": []
    },
    {
      "cell_type": "markdown",
      "metadata": {
        "id": "y6jPpnncCklO"
      },
      "source": [
        "当然，変数同士の四則演算もできます．"
      ]
    },
    {
      "cell_type": "code",
      "metadata": {
        "id": "Q-R9M3u_CY4M"
      },
      "source": [
        "x = 4649\n",
        "y = 1314\n",
        "print(x+y)"
      ],
      "execution_count": null,
      "outputs": []
    },
    {
      "cell_type": "code",
      "metadata": {
        "id": "yU3SKcpqCsts"
      },
      "source": [
        "x = 4649\n",
        "y = 1314\n",
        "print(x+y, x-y, x*y, x/y)  # この場合，除算の結果のみ浮動小数点数"
      ],
      "execution_count": null,
      "outputs": []
    },
    {
      "cell_type": "markdown",
      "metadata": {
        "id": "_DV5GkiQDDBp"
      },
      "source": [
        "C言語と同様に `+=`, `-=`, `*=`, `/=` などの演算子もあります．"
      ]
    },
    {
      "cell_type": "code",
      "metadata": {
        "id": "fPpnKgWKC6vy"
      },
      "source": [
        "x = 4649\n",
        "x += 1314\n",
        "print(x)"
      ],
      "execution_count": null,
      "outputs": []
    },
    {
      "cell_type": "code",
      "metadata": {
        "id": "I6GhuJvFDMIV"
      },
      "source": [
        "x = 128\n",
        "x *= 2\n",
        "print(x)"
      ],
      "execution_count": null,
      "outputs": []
    },
    {
      "cell_type": "markdown",
      "metadata": {
        "id": "CtHL55JBDkdW"
      },
      "source": [
        "ただし，残念ながら C言語の `++` や `--` 相当の演算子はありません．`+=1`や`-=1`を使うことになります．"
      ]
    },
    {
      "cell_type": "code",
      "metadata": {
        "id": "lnpYenYFDYcq"
      },
      "source": [
        "# このセルはエラーになる\n",
        "x = 5962\n",
        "x++"
      ],
      "execution_count": null,
      "outputs": []
    },
    {
      "cell_type": "markdown",
      "metadata": {
        "id": "BEisewqHEoYZ"
      },
      "source": [
        "----\n",
        "### for文"
      ]
    },
    {
      "cell_type": "markdown",
      "metadata": {
        "id": "cAukkU22E5Oh"
      },
      "source": [
        "C言語と同様に `for` 文が使えます．ただし，使い方/書き方が結構違います．"
      ]
    },
    {
      "cell_type": "markdown",
      "metadata": {
        "id": "nDLIl2DhFebm"
      },
      "source": [
        "```\n",
        "int i;\n",
        "for (i = 0; i < 5; i++) {\n",
        "    printf(\"%d %d\\n\", i, i*i);\n",
        "}\n",
        "```\n",
        "と同じふるまいをするコードは例えばこんなんです．"
      ]
    },
    {
      "cell_type": "code",
      "metadata": {
        "id": "G6tsXNfHFKYH"
      },
      "source": [
        "for i in range(5):\n",
        "    print(i, i*i)"
      ],
      "execution_count": null,
      "outputs": []
    },
    {
      "cell_type": "markdown",
      "metadata": {
        "id": "M8gzxf8IGOji"
      },
      "source": [
        "ここでは，Python の `for` 文の詳しい書き方は説明せず，上記の例がどうなってるかの説明のみしておきます．\n",
        "\n",
        "C言語では，プログラムの一部を`{` と `}` で囲んで，「この部分を繰り返してね」と指定します．`{` と `}` で囲まれた部分を **ブロック** と言います．\n",
        "\n",
        "一方，Python ではブロックの指定に `{` や `}` は使わず，字下げを使います．上記では，`print(i, i*i)` の行が字下げされているので，この部分が `for` 文で繰り返し実行されるブロックとなります．\n",
        "\n",
        "また，`range(5)` というのは，「`0` からはじまり `5` の一つ手前までの整数」つまり `0`, `1`, `2`, `3`, `4`を順に作ってくれます．それらの整数値が順に変数 `i` に代入されながら， 字下げされた部分が実行されます．"
      ]
    },
    {
      "cell_type": "markdown",
      "metadata": {
        "id": "30yK3SDiItIa"
      },
      "source": [
        "試しに，上記のコードの `5` を別の数字に変えて実行し直してみましょう．\n",
        "\n",
        "また，以下のコードを実行して，結果の違いを確認しましょう．"
      ]
    },
    {
      "cell_type": "code",
      "metadata": {
        "id": "D_MsqJu5F6TX"
      },
      "source": [
        "for i in range(3):\n",
        "    print('ほげ')\n",
        "    print('ふが')"
      ],
      "execution_count": null,
      "outputs": []
    },
    {
      "cell_type": "code",
      "metadata": {
        "id": "bKd7NF7YIP0k"
      },
      "source": [
        "for i in range(3):\n",
        "    print('ほげ')\n",
        "print('ふが')"
      ],
      "execution_count": null,
      "outputs": []
    },
    {
      "cell_type": "markdown",
      "metadata": {
        "id": "I5T0-Be9Jtmm"
      },
      "source": [
        "`range()`に2つまたは3つの数を指定すると...説明は省略するので，どうなってるか考えてみてね．"
      ]
    },
    {
      "cell_type": "code",
      "metadata": {
        "id": "-JD1nSR-IRtd"
      },
      "source": [
        "for i in range(2, 5):\n",
        "    print(i, i*i)"
      ],
      "execution_count": null,
      "outputs": []
    },
    {
      "cell_type": "code",
      "metadata": {
        "id": "t6dV87iZJ7-v"
      },
      "source": [
        "for i in range(2, 10, 3):\n",
        "    print(i, i*i)"
      ],
      "execution_count": null,
      "outputs": []
    },
    {
      "cell_type": "markdown",
      "metadata": {
        "id": "8wuCcOlbKRqi"
      },
      "source": [
        "`for` 文はもっといろんなことができるのですが，ここでは省略します．"
      ]
    },
    {
      "cell_type": "code",
      "metadata": {
        "id": "Ycr0cD5nKKQi"
      },
      "source": [
        "for x in [0, 'いち', '二', 3.1415, ['ほげ', 'ふが'], 'Go']:\n",
        "    print(x)"
      ],
      "execution_count": null,
      "outputs": []
    },
    {
      "cell_type": "markdown",
      "metadata": {
        "id": "t6ihMcr5Ks3M"
      },
      "source": [
        "`while`文もありますが，説明は省略します．以下の例を見たら感じはわかるでしょう．"
      ]
    },
    {
      "cell_type": "code",
      "metadata": {
        "id": "kNC2CX_UKm2H"
      },
      "source": [
        "s = 0\n",
        "while s < 5:\n",
        "    print(s)\n",
        "    s += 1"
      ],
      "execution_count": null,
      "outputs": []
    },
    {
      "cell_type": "markdown",
      "metadata": {
        "id": "4MD0mgatLEb6"
      },
      "source": [
        "----\n",
        "### if文"
      ]
    },
    {
      "cell_type": "markdown",
      "metadata": {
        "id": "V725ODqgMN6n"
      },
      "source": [
        "Python でも `if` 文で条件分岐ができます．基本的な構造はこんなん．\n",
        "```\n",
        "if 条件式:\n",
        "    条件が真だったときだけ実行するブロック\n",
        "```\n",
        "条件式のところには，例えば `x` に整数値が代入されているとして，`x > 0` や `x == 5963` のような式が書けます．\n",
        "\n",
        "`else`を使って，if-else の構造にすることもできます．\n",
        "```\n",
        "if 条件式:\n",
        "    条件が真だったときだけ実行するブロック\n",
        "else:\n",
        "    条件が偽だったときだけ実行するブロック\n",
        "```"
      ]
    },
    {
      "cell_type": "code",
      "metadata": {
        "id": "2T05FZKgK5-U"
      },
      "source": [
        "oyatsu = 500\n",
        "oyatsuMax = 300\n",
        "if oyatsu <= oyatsuMax:\n",
        "    print('okです')\n",
        "else:\n",
        "    print('おやつは', oyatsuMax, '円までですよ！')"
      ],
      "execution_count": null,
      "outputs": []
    },
    {
      "cell_type": "markdown",
      "metadata": {
        "id": "si2D2yThjDmY"
      },
      "source": [
        "C言語で整数を「60未満」，「60以上80未満」，「80以上」の三通りに分類するなら，たとえばこんなんなるでしょう．\n",
        "```\n",
        "int score = 59;\n",
        "if (score < 60) {\n",
        "    printf(\"60未満ほげ\\n\");\n",
        "} else {\n",
        "    if (score < 80) {\n",
        "        printf(\"60以上80未満ほげ\\n\");\n",
        "    else {\n",
        "        printf(\"80以上ほげ\\n\");\n",
        "    }\n",
        "}\n",
        "```\n",
        "\n",
        "同様のものを Python で書くと，こんなん．"
      ]
    },
    {
      "cell_type": "code",
      "metadata": {
        "id": "gGdKz50KNnef"
      },
      "source": [
        "score = 59\n",
        "if score < 60:\n",
        "    print(\"60未満ほげ\")\n",
        "else:\n",
        "    if score < 80:\n",
        "        print(\"60以上80未満ほげ\")\n",
        "    else:\n",
        "        print(\"80以上ほげ\")"
      ],
      "execution_count": null,
      "outputs": []
    },
    {
      "cell_type": "markdown",
      "metadata": {
        "id": "hE6DJzFaNFrL"
      },
      "source": [
        "`else` と `if` の組み合わせは `elif` を使って次のように書くこともできます．"
      ]
    },
    {
      "cell_type": "code",
      "metadata": {
        "id": "p-c_S10MMYdG"
      },
      "source": [
        "score = 59\n",
        "if score < 60:\n",
        "    print(\"60未満ほげ\")\n",
        "elif score < 80:\n",
        "    print(\"60以上80未満ほげ\")\n",
        "else:\n",
        "    print(\"80以上ほげ\")"
      ],
      "execution_count": null,
      "outputs": []
    },
    {
      "cell_type": "markdown",
      "metadata": {
        "id": "oV9c8hEiPog9"
      },
      "source": [
        "----\n",
        "### 問題\n",
        "\n",
        "(1) `for` を使って `1` から `10` までの自然数の和を計算して `print` するコードを以下のセルに書いて実行し，動作確認しなさい．"
      ]
    },
    {
      "cell_type": "code",
      "metadata": {
        "id": "MM2na42lNU4u"
      },
      "source": [],
      "execution_count": null,
      "outputs": []
    },
    {
      "cell_type": "markdown",
      "metadata": {
        "id": "14NAgpjuP_Gf"
      },
      "source": [
        "(2) 以下のセルの内容を修正して，変数 `i` の値が3の倍数であれば `ほげ`，5の倍数であれば `ふが`，両方の倍数（すなわち15の倍数）であれば `ほげふが` と `print` するコードにしなさい．\n",
        "\n",
        "`i`の値が3の倍数かどうかは，C言語と同様に，`i % 3` の値が `0` と等しいかどうかで判定できます．"
      ]
    },
    {
      "cell_type": "code",
      "metadata": {
        "id": "T1eRnvRhQkGY"
      },
      "source": [
        "for i in range(1, 21):\n",
        "    print(i)"
      ],
      "execution_count": null,
      "outputs": []
    },
    {
      "cell_type": "markdown",
      "metadata": {
        "id": "Mg-ju2RCRUAt"
      },
      "source": [
        "(3) 以下のセルを実行すると変数 `sum` に\n",
        "$$ \\sum_{k=1}^{N} (3k^2 - 3k + 1) $$\n",
        "の値が代入されるように，セルに for 文を使ったコードを追加しなさい． `N = 8` のときの結果は `512`，`N = 10` のときは `1000`， `N = 100` のときは `1000000`..."
      ]
    },
    {
      "cell_type": "code",
      "metadata": {
        "id": "QDZ6fFdrQq0S"
      },
      "source": [
        "N = 8\n",
        "sum = 0\n",
        "# ここに for 文を使ったコードを書く\n",
        "print(sum)"
      ],
      "execution_count": null,
      "outputs": []
    },
    {
      "cell_type": "markdown",
      "metadata": {
        "id": "k--F3OL6SJdT"
      },
      "source": [
        "(4) ここまでの部分でわからないこと疑問に思うこと気になることを探して， takataka に質問しましょう．"
      ]
    },
    {
      "cell_type": "code",
      "metadata": {
        "id": "NBLt7i5yRiee"
      },
      "source": [],
      "execution_count": null,
      "outputs": []
    },
    {
      "cell_type": "markdown",
      "metadata": {
        "id": "jCB6Il_eExiX"
      },
      "source": [
        "----\n",
        "## Python の初歩 その2\n",
        "----\n",
        "\n"
      ]
    },
    {
      "cell_type": "markdown",
      "metadata": {
        "id": "XyxXj1D_Exie"
      },
      "source": [
        "----\n",
        "### 文字列"
      ]
    },
    {
      "cell_type": "markdown",
      "metadata": {
        "id": "RGgK_CyNExie"
      },
      "source": [
        "C言語では，`char`型の変数一つで1文字を表します．ASCIIという文字コードを用いるため，表せる文字の種類がアルファベットや数字，記号等に限られています．複数の文字の連なりである文字列を扱いたい場合は，`char`型の配列を用います．\n",
        "\n",
        "一方，Pythonでは，文字列を一つの変数に格納できます．\n",
        "最近の Python（Python3）では Unicode という文字コード体系を用いるため，日本語も普通に扱えます．\n",
        "\n",
        "文字列は，前後を `\"`または `'` で囲んで表記します．どちらの記号を使っても構いませんが，一つの文字列を囲む記号は同じでなければなりません．"
      ]
    },
    {
      "cell_type": "code",
      "metadata": {
        "id": "Szwtyp4OExif"
      },
      "source": [
        "s1 = \"hoge\"\n",
        "s2 = 'ほげ'\n",
        "print(s1, s2)"
      ],
      "execution_count": null,
      "outputs": []
    },
    {
      "cell_type": "markdown",
      "metadata": {
        "id": "ZnE7_3uaRFDn"
      },
      "source": [
        "文字列同士の `+` 演算は，文字列の連結．"
      ]
    },
    {
      "cell_type": "code",
      "metadata": {
        "id": "0rSJvtPkExif"
      },
      "source": [
        "s3 = s2 + s1\n",
        "s4 = s2 + \" \\(^o^)/ \" + s1\n",
        "s5 = '123' + \"456\"\n",
        "print(s3)\n",
        "print(s4)\n",
        "print(s5)"
      ],
      "execution_count": null,
      "outputs": []
    },
    {
      "cell_type": "markdown",
      "metadata": {
        "id": "Hd046TELUaLL"
      },
      "source": [
        "文字列に整数を掛けると..."
      ]
    },
    {
      "cell_type": "code",
      "metadata": {
        "id": "yTWToKviUgKu"
      },
      "source": [
        "print('ほげ'*10)"
      ],
      "execution_count": null,
      "outputs": []
    },
    {
      "cell_type": "markdown",
      "metadata": {
        "id": "4ZRJszs_XIIc"
      },
      "source": [
        "組み込み関数 `len` で文字数を得られます．"
      ]
    },
    {
      "cell_type": "code",
      "metadata": {
        "id": "EzjBJH9dXcB7"
      },
      "source": [
        "s = 'hoge'\n",
        "print(s, len(s))\n",
        "s = 'ほげほげ'\n",
        "print(s, len(s))"
      ],
      "execution_count": null,
      "outputs": []
    },
    {
      "cell_type": "markdown",
      "metadata": {
        "id": "pYya1C48Su3k"
      },
      "source": [
        "組み込み関数 `str` を使って整数や浮動小数点数等を文字列に変換できます．"
      ]
    },
    {
      "cell_type": "code",
      "metadata": {
        "id": "GTlDP268TMSV"
      },
      "source": [
        "M = 12\n",
        "D = 1\n",
        "M + '月' + D + '日'  # これは「整数＋文字列」の演算があるのでエラーになる"
      ],
      "execution_count": null,
      "outputs": []
    },
    {
      "cell_type": "code",
      "metadata": {
        "id": "Nb4I_vhlToNG"
      },
      "source": [
        "str(M) + '月' + str(D) + '日' # これならok"
      ],
      "execution_count": null,
      "outputs": []
    },
    {
      "cell_type": "markdown",
      "metadata": {
        "id": "_P6Kc-mYT_fU"
      },
      "source": [
        "逆に組み込み関数 `int` や `float` を使って文字列を数値に変換することもできます．"
      ]
    },
    {
      "cell_type": "code",
      "metadata": {
        "id": "QXpwNMckUHG6"
      },
      "source": [
        "s1 = '46' + '49'\n",
        "s2 = int('46') + int('49')\n",
        "s3 = int('1001', 10)  # int関数の第2引数を指定すると...\n",
        "s4 = int('1001', 2)\n",
        "print(s1, s2, s3, s4)"
      ],
      "execution_count": null,
      "outputs": []
    },
    {
      "cell_type": "markdown",
      "metadata": {
        "id": "vbiQg4hbS_vF"
      },
      "source": [
        "Python公式ドキュメントの組み込み関数 `int` の説明: https://docs.python.org/ja/3/library/functions.html?highlight=int#int"
      ]
    },
    {
      "cell_type": "markdown",
      "metadata": {
        "id": "LN9AkRUuExif"
      },
      "source": [
        "他にも文字列処理に利用できる機能（strクラスのメソッド（注））がたくさんあります．\n",
        "\n",
        "文字列メソッドいろいろ:\n",
        "https://docs.python.org/ja/3/library/stdtypes.html?highlight=str%20%E3%83%86%E3%82%AD%E3%82%B9%E3%83%88%E3%82%B7%E3%83%BC%E3%82%B1%E3%83%B3%E3%82%B9#string-methods\n",
        "\n",
        "\n",
        "注: 「メソッド」については，とりあえず「関数みたいなもの」と思っておけばよいです．クラスとかメソッドという概念は，「オブジェクト指向プログラミング」を学ぶとわかるようになります．"
      ]
    },
    {
      "cell_type": "code",
      "metadata": {
        "id": "yjOj95YrExig"
      },
      "source": [
        "# 文字列メソッドの利用例\n",
        "\n",
        "# 適当な文字列を用意\n",
        "s1 = \"それはそれは     たいへんでしたね おつかれさまです\"\n",
        "# それを空白で複数の文字列に分ける\n",
        "L = s1.split()  # L は複数の文字列がならんだリスト\n",
        "# それを `ww ` をはさんで連結する\n",
        "s2 = 'ww '.join(L)\n",
        "print(s2)"
      ],
      "execution_count": null,
      "outputs": []
    },
    {
      "cell_type": "markdown",
      "metadata": {
        "id": "knx7Nt2HExig"
      },
      "source": [
        "----\n",
        "### リスト"
      ]
    },
    {
      "cell_type": "markdown",
      "metadata": {
        "id": "mHKyxBz2Exig"
      },
      "source": [
        "複数の数値や文字列などを並べて格納することのできる，**リスト**というデータ構造があります．C言語の配列に似ています．\n",
        "要素を `,` で区切って並べたものを `[` と `]` で囲むとリストを作ることができます．"
      ]
    },
    {
      "cell_type": "code",
      "metadata": {
        "id": "3AKpWWMoExig"
      },
      "source": [
        "L = [0, 11, 22, 33, 44, 55] # 6つの整数値を並べたリスト\n",
        "print(L[0], L[3])  # 先頭から数えて 0 番目と 3 番目の要素"
      ],
      "execution_count": null,
      "outputs": []
    },
    {
      "cell_type": "code",
      "metadata": {
        "id": "uQrT79wdZRXv"
      },
      "source": [
        "# これはエラー\n",
        "print(L[6])"
      ],
      "execution_count": null,
      "outputs": []
    },
    {
      "cell_type": "code",
      "metadata": {
        "id": "IPQe2ZJKZWxf"
      },
      "source": [
        "# これはエラー？\n",
        "print(L[-1])"
      ],
      "execution_count": null,
      "outputs": []
    },
    {
      "cell_type": "code",
      "metadata": {
        "id": "X88JRspqZhst"
      },
      "source": [
        "# これは？\n",
        "print(L[-2])"
      ],
      "execution_count": null,
      "outputs": []
    },
    {
      "cell_type": "markdown",
      "metadata": {
        "id": "mVgzucyqZTkN"
      },
      "source": [
        "C言語の配列は「`int`型の配列」や「`char`型の配列」といった具合に要素の型を決めて作りますので，その型の値しか格納できません．\n",
        "\n",
        "しかし，Pythonのリストにはそのような制約はなく，いろんなものを混在させることができます．\n"
      ]
    },
    {
      "cell_type": "code",
      "metadata": {
        "id": "xmGf0NABaNbM"
      },
      "source": [
        "L2 = [0, 'いち', '二', 3.1415, ['ほげ', 'ふが'], 'Go']\n",
        "for item in L2:\n",
        "    print(item)"
      ],
      "execution_count": null,
      "outputs": []
    },
    {
      "cell_type": "markdown",
      "metadata": {
        "id": "bIPDpVAlah4g"
      },
      "source": [
        "組み込み関数 `len` で要素数を得ることができます．"
      ]
    },
    {
      "cell_type": "code",
      "metadata": {
        "id": "5YliIie0al4c"
      },
      "source": [
        "print(len(L2))"
      ],
      "execution_count": null,
      "outputs": []
    },
    {
      "cell_type": "markdown",
      "metadata": {
        "id": "mEI6bpGQavkY"
      },
      "source": [
        "したがって，上記の for ループは，次のように書くこともできます（`i`の値を表示してるところが上記と違いますが）．"
      ]
    },
    {
      "cell_type": "code",
      "metadata": {
        "id": "AY3dsOQfapuj"
      },
      "source": [
        "for i in range(len(L2)):\n",
        "    print(i, L2[i])"
      ],
      "execution_count": null,
      "outputs": []
    },
    {
      "cell_type": "markdown",
      "metadata": {
        "id": "P9MDGgvJExih"
      },
      "source": [
        "リストのメソッド `append` を使うことで，リストに要素を追加することができます．"
      ]
    },
    {
      "cell_type": "code",
      "metadata": {
        "id": "IdAUSaKdExih"
      },
      "source": [
        "L2.append('ほ〜げほげほげほげらった〜')\n",
        "print(L2)"
      ],
      "execution_count": null,
      "outputs": []
    },
    {
      "cell_type": "markdown",
      "metadata": {
        "id": "KTxRTE1EExih"
      },
      "source": [
        "他にもいろいろ便利なメソッドがありますが，ここでは説明を省略します．"
      ]
    },
    {
      "cell_type": "markdown",
      "metadata": {
        "id": "XCG4yjjtbwh8"
      },
      "source": [
        "リストなどの添字の範囲を指定する**スライス**というものを使うことで，リストの一部を取り出したリストを得ることができます．"
      ]
    },
    {
      "cell_type": "code",
      "metadata": {
        "id": "TjDoVGPUcGAC"
      },
      "source": [
        "L3 = L2[2:5]  # L3 は，L2[2] から L2[4] までの要素を含むリスト\n",
        "print(L3)"
      ],
      "execution_count": null,
      "outputs": []
    },
    {
      "cell_type": "markdown",
      "metadata": {
        "id": "Uq4PUK6Ucvho"
      },
      "source": [
        "スライスの始まりや終わりは省略することもできます．"
      ]
    },
    {
      "cell_type": "code",
      "metadata": {
        "id": "ZjtBN1tYclqn"
      },
      "source": [
        "print(L2[:3])\n",
        "print(L2[5:])"
      ],
      "execution_count": null,
      "outputs": []
    },
    {
      "cell_type": "markdown",
      "metadata": {
        "id": "-agpXaINdPrO"
      },
      "source": [
        "こんなこともできます．"
      ]
    },
    {
      "cell_type": "code",
      "metadata": {
        "id": "z5KqW7-Wclfi"
      },
      "source": [
        "print(L2[1:6:2]) # L2[1], L2[3], L2[5] を並べたリストが得られる"
      ],
      "execution_count": null,
      "outputs": []
    },
    {
      "cell_type": "code",
      "metadata": {
        "id": "7dli_037dlL4"
      },
      "source": [
        "print(L2[::-1]) # 始まりと終わりを省略，要素番号の増分は -1"
      ],
      "execution_count": null,
      "outputs": []
    },
    {
      "cell_type": "markdown",
      "metadata": {
        "id": "WPZ6Cf3hcSgb"
      },
      "source": [
        "----\n",
        "### ディクショナリ\n",
        "\n"
      ]
    },
    {
      "cell_type": "markdown",
      "metadata": {
        "id": "hOHIHajFd6R2"
      },
      "source": [
        "**ディクショナリ**（辞書）という便利なデータ構造も用意されています．\n",
        "\n",
        "以下は，県の名と府県庁所在地をペアにしたディクショナリを作っている例です．"
      ]
    },
    {
      "cell_type": "code",
      "metadata": {
        "id": "CU8ALgkMepnG"
      },
      "source": [
        "D = { '滋賀県':'大津市', '京都府':'京都市', '大阪府':'大阪市', '兵庫県':'神戸市' }"
      ],
      "execution_count": null,
      "outputs": []
    },
    {
      "cell_type": "markdown",
      "metadata": {
        "id": "d6Lf3lJ6e5DP"
      },
      "source": [
        "'滋賀県' や '京都府' のように `:` の前に書いたものを **キー** と言い，'大津市' や '京都市' のように `:` の後に書いたものを **値** と言います．ディクショナリは，キーと値のペアを複数格納するものです．"
      ]
    },
    {
      "cell_type": "markdown",
      "metadata": {
        "id": "sD68nf98eDHb"
      },
      "source": [
        "ディクショナリに対して次のようにキーを指定すると，対応する値を得ることができます．"
      ]
    },
    {
      "cell_type": "code",
      "metadata": {
        "id": "yVs6V67sfdf4"
      },
      "source": [
        "print(D['滋賀県'])\n",
        "print(D['兵庫県'])"
      ],
      "execution_count": null,
      "outputs": []
    },
    {
      "cell_type": "markdown",
      "metadata": {
        "id": "5AMUuusvf1JG"
      },
      "source": [
        "次のような条件判定によって，あるキーがディクショナリ中に存在しているかどうかを知ることができます．"
      ]
    },
    {
      "cell_type": "code",
      "metadata": {
        "id": "wVCy4YF3Exii"
      },
      "source": [
        "k = '大阪府'  # ここを変えていろいろ試そう．ディクショナリに存在しない都道府県名なども試してみてね\n",
        "if k in D:\n",
        "    print(f'{k}の県庁所在地は{D[k]}でっせ')\n",
        "else:\n",
        "    print(f'{k}なんて知らんわ')"
      ],
      "execution_count": null,
      "outputs": []
    },
    {
      "cell_type": "markdown",
      "metadata": {
        "id": "ON-f-NyXgnAm"
      },
      "source": [
        "文字列の章で説明しませんでしたが，上記の `print` の中に現れた，`f` で始まる文字列の書き方は「f文字列」と呼ばれるものです．興味のあるひとは調べてみてね．"
      ]
    },
    {
      "cell_type": "markdown",
      "metadata": {
        "id": "-PAUzoJmhIQ9"
      },
      "source": [
        "ディクショナリにもまだまだいろいろ機能がありますが，省略します．"
      ]
    },
    {
      "cell_type": "markdown",
      "metadata": {
        "id": "svercNLYExii"
      },
      "source": [
        "----\n",
        "### 問題\n"
      ]
    },
    {
      "cell_type": "markdown",
      "metadata": {
        "id": "HdeJr_0gh9qt"
      },
      "source": [
        "(0) `input`を使うと，キー入力を受け取ることができます．次のセルを実行して，何かキー入力して Enter 押してみましょう．"
      ]
    },
    {
      "cell_type": "code",
      "metadata": {
        "id": "JlY4GqycExii"
      },
      "source": [
        "x = input('なんか入力して Enter 押してね')\n",
        "print(x, 'ですかそうですか')"
      ],
      "execution_count": null,
      "outputs": []
    },
    {
      "cell_type": "markdown",
      "metadata": {
        "id": "qgOEMQloi8_w"
      },
      "source": [
        "以下のセルは無限ループします．止めたいときは，セルの左に表示される○の中に□が描かれたボタンを押してください．"
      ]
    },
    {
      "cell_type": "code",
      "metadata": {
        "id": "FzzUHiFEikmi"
      },
      "source": [
        "i = 0\n",
        "while True: # True は「真/偽」の「真」を表す．「偽」は False\n",
        "    x = input()\n",
        "    print(i, x)\n",
        "    i += 1"
      ],
      "execution_count": null,
      "outputs": []
    },
    {
      "cell_type": "markdown",
      "metadata": {
        "id": "zdESGEqZjoPK"
      },
      "source": [
        "(1) 以下のセルのコードは，キー入力された数の和を求めるつもりで書いたものですが，このままでは正しく動作しません．\n",
        "正しく動作するように修正してください．\n",
        "\n",
        "ヒント: `input` の戻り値は文字列です．\n",
        "\n"
      ]
    },
    {
      "cell_type": "code",
      "metadata": {
        "id": "5EWC_fNij_09"
      },
      "source": [
        "s = 0\n",
        "while True:\n",
        "    x = input('数を入力してね（負だと終了）')\n",
        "    if x >= 0:\n",
        "        # ここは自分で考えてね\n",
        "    else:\n",
        "        break  # break は C言語同様にループを抜ける\n",
        "print(f'和は{s}')"
      ],
      "execution_count": null,
      "outputs": []
    },
    {
      "cell_type": "markdown",
      "metadata": {
        "id": "7Onz4iiLExii"
      },
      "source": [
        "(2) 以下のセルに，リスト`L`の要素中の最大値を求めるコードを書きなさい．要素はすべて浮動小数点数と仮定してよく，それ以外のものが含まれていた場合の処理は考えなくともよい．"
      ]
    },
    {
      "cell_type": "code",
      "metadata": {
        "id": "mjroQWvLExii"
      },
      "source": [
        "import random  # ここでは説明しないが，乱数を扱うための「random モジュール」を読み込んでいる\n",
        "L = [random.random() for i in range(20)] # [0, 1) の乱数20個\n",
        "print(L)\n",
        "print(max(L)) # 組み込み関数 max で最大値が求まる．検算用\n",
        "\n",
        "# ここから下にコードを追加してね"
      ],
      "execution_count": null,
      "outputs": []
    },
    {
      "cell_type": "markdown",
      "metadata": {
        "id": "xngIbBXvndPi"
      },
      "source": [
        "(3) 以下のセルのコードを修正して，数当てゲームができるようにしよう．\n",
        "キー入力した数が `n` より大きければ「大きすぎ」，小さければ「小さすぎ」のように出力して，等しければ「あたり〜」と出力して何回で当たったか教えてくれるようにしよう．"
      ]
    },
    {
      "cell_type": "code",
      "metadata": {
        "id": "dqQk1_MPcU2D"
      },
      "source": [
        "nmax = 255\n",
        "n = random.randint(1, nmax) # 1 以上 nmax 以下の乱数\n",
        "print(f\"1以上{nmax}以下の数を選んだよ．当ててみ．\")\n",
        "\n",
        "cnt = 0  # 数を入力した回数をカウント\n",
        "\n",
        "while True:\n",
        "    x = input(\"数を入力してね:\") # input はキー入力を受け付ける．戻り値は文字列であることに注意\n",
        "    print(x)\n",
        "\n",
        "print(cnt, \"回で当たり〜\")"
      ],
      "execution_count": null,
      "outputs": []
    },
    {
      "cell_type": "markdown",
      "metadata": {
        "id": "0TfyO58hExii"
      },
      "source": [
        "(4) ここまでの部分でわからないこと疑問に思うこと気になることを探して， takataka に質問しましょう．"
      ]
    },
    {
      "cell_type": "markdown",
      "metadata": {
        "id": "FCJ8T1d9n-Kl"
      },
      "source": [
        "(おまけ1) 県庁所在地あてクイズ"
      ]
    },
    {
      "cell_type": "code",
      "metadata": {
        "id": "jnEOqfpJoCY_"
      },
      "source": [
        "# Google Colab では， '!' に続けて Linux コマンドを書いて実行させることができる\n",
        "# 以下は，takatakaのWebサーバから ex06kencho.txt というテキストファイルを入手している\n",
        "! wget http://www-tlab.math.ryukoku.ac.jp/~takataka/course/AProg/ex06kencho.txt\n",
        "! ls"
      ],
      "execution_count": null,
      "outputs": []
    },
    {
      "cell_type": "code",
      "metadata": {
        "id": "cxATmxqOoQxd"
      },
      "source": [
        "import random\n",
        "\n",
        "### ファイルを読んで県名をキー，県庁所在地を値とするディクショナリを作る\n",
        "dKencho = {}\n",
        "with open('ex06kencho.txt', 'r', encoding='utf-8') as f:\n",
        "    for line in f:\n",
        "        x, y = line.strip().split(',')\n",
        "        dKencho[x] = y\n",
        "\n",
        "### キーのリストをシャッフル\n",
        "keyList = list(dKencho.keys())\n",
        "random.shuffle(keyList)\n",
        "\n",
        "### 出題数を決める\n",
        "while True:\n",
        "    n = int(input('何問やる？ '))\n",
        "    if 0 < n <= len(keyList):\n",
        "        break\n",
        "\n",
        "### クイズ．正解数をカウント\n",
        "cnt = 0\n",
        "for i, k in enumerate(keyList[:n]):\n",
        "    ans = input(f'{i+1}問目: {k}の県庁所在地は？ ')\n",
        "    if dKencho[k] == ans:\n",
        "        print('正解！')\n",
        "        cnt += 1\n",
        "    else:\n",
        "        print('ちゃうで')\n",
        "print(f'{n}問中{cnt}問正解やったで')"
      ],
      "execution_count": null,
      "outputs": []
    },
    {
      "cell_type": "markdown",
      "metadata": {
        "id": "UYhG5i2Yp5Yc"
      },
      "source": [
        "(おまけ2) 郵便番号検索"
      ]
    },
    {
      "cell_type": "code",
      "metadata": {
        "id": "7lQ2Ylifp5D3"
      },
      "source": [
        "! wget http://www-tlab.math.ryukoku.ac.jp/~takataka/course/AProg/zipdata.txt\n",
        "! ls"
      ],
      "execution_count": null,
      "outputs": []
    },
    {
      "cell_type": "code",
      "metadata": {
        "id": "EOKNeJ3Jo9B7"
      },
      "source": [
        "### 関数 readZIP() の定義\n",
        "#      Python で関数を定義する／使う方法はまだ説明してないので，眺めてふーんって感じでok\n",
        "def readZIP(fn):\n",
        "\n",
        "    dZIP = {}       # 空のディクショナリを作る\n",
        "    with open(fn, \"r\", encoding=\"utf-8\") as f:  # ファイル名 fn のファイルを読み込みモードで開く\n",
        "        for line in f:  # ファイルから1行ずつ読み込んでループ\n",
        "            x, y = line.split()   # 空白区切りで分割．1つ目を x に，残り（2つ目）を y に\n",
        "            dZIP[x] = y           # キー x, 値 y のペアを登録．x, y とも文字列\n",
        "\n",
        "    return dZIP\n",
        "\n",
        "\n",
        "# 引数にファイル名を指定して readZIP() を呼ぶ\n",
        "#    何を引数に指定するかは自分で考えよう．戻り値は郵便番号データのディクショナリ\n",
        "zip = readZIP('zipdata.txt')\n",
        "\n",
        "# ディクショナリに対する len() は，キーの数を返す\n",
        "print(len(zip), \"件の郵便番号データを読み込みました\")\n",
        "\n",
        "while True:\n",
        "    z = input('郵便番号を入力してください（\\'q\\'か\\'Q\\'で終了）')\n",
        "    if z == 'q' or z == 'Q':\n",
        "        break\n",
        "    else:\n",
        "        if z in zip:\n",
        "            print(z, zip[z])\n",
        "        else:\n",
        "            print('見つかりません')"
      ],
      "execution_count": null,
      "outputs": []
    },
    {
      "cell_type": "markdown",
      "metadata": {
        "id": "iIxk5VEnqbLv"
      },
      "source": [
        "サンプル\n",
        "```\n",
        "118014 件の郵便番号データを読み込みました\n",
        "郵便番号を入力してください（'q'か'Q'で終了） 1057219\n",
        "1057219 東京都港区東新橋汐留メディアタワー(19階)\n",
        "郵便番号を入力してください（'q'か'Q'で終了） 1057220\n",
        "1057220 東京都港区東新橋汐留メディアタワー(20階)\n",
        "郵便番号を入力してください（'q'か'Q'で終了） 0010010\n",
        "0010010 北海道札幌市北区北十条西(1〜4丁目)\n",
        "郵便番号を入力してください（'q'か'Q'で終了） 9998525\n",
        "9998525 山形県飽海郡遊佐町直世\n",
        "郵便番号を入力してください（'q'か'Q'で終了） 5202123\n",
        "5202123 滋賀県大津市瀬田大江町\n",
        "郵便番号を入力してください（'q'か'Q'で終了） 1234567\n",
        "見つかりません\n",
        "郵便番号を入力してください（'q'か'Q'で終了） q\n",
        "```"
      ]
    },
    {
      "cell_type": "code",
      "metadata": {
        "id": "Rkz1WK7yqVhs"
      },
      "source": [],
      "execution_count": null,
      "outputs": []
    }
  ]
}