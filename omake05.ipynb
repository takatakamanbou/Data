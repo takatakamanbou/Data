{
  "cells": [
    {
      "cell_type": "markdown",
      "metadata": {
        "colab_type": "text",
        "id": "view-in-github"
      },
      "source": [
        "<a href=\"https://colab.research.google.com/github/takatakamanbou/Data/blob/2021/omake05.ipynb\" target=\"_parent\"><img src=\"https://colab.research.google.com/assets/colab-badge.svg\" alt=\"Open In Colab\"/></a>"
      ]
    },
    {
      "cell_type": "markdown",
      "metadata": {
        "id": "2UzDNLmVS3po"
      },
      "source": [
        "# データ分析 おまけ05\n",
        "\n",
        "<img width=64 src=\"https://www-tlab.math.ryukoku.ac.jp/~takataka/course/Data/Data-logo.png\"> https://www-tlab.math.ryukoku.ac.jp/wiki/?Data/\n"
      ]
    },
    {
      "cell_type": "markdown",
      "metadata": {
        "id": "_4-TmUdCd9FJ"
      },
      "source": [
        "----\n",
        "# Python + OpenCV 入門\n",
        "----\n",
        "\n",
        "画像処理してみましょー"
      ]
    },
    {
      "cell_type": "markdown",
      "metadata": {
        "id": "DTpjo72YRcqt"
      },
      "source": [
        "ここでは，OpenCV というライブラリを利用して画像処理してみます．OpenCV は，**コンピュータビジョン**のためのライブラリです．「コンピュータビジョン」(Computer Vision)は，人間のような視覚機能をコンピュータ・ロボットに持たせるための技術です．ここでは画像処理に限定して紹介しますが，それ以外にも様々なコンピュータビジョン関係の手法をC++とPythonで使うことができます．\n",
        "\n",
        "自分のPCの Python 環境で OpenCV を使いたい場合は，NumPy等の場合と同じで，Python とは別にインストール作業が必要です．興味のあるひとは takataka に聞いてください．Google Colab の環境には最初からインストールされています．"
      ]
    },
    {
      "cell_type": "markdown",
      "metadata": {
        "id": "trUgzh_bnVGj"
      },
      "source": [
        "----\n",
        "## とりあえず画像を読み込んで表示させてみる\n",
        "\n"
      ]
    },
    {
      "cell_type": "markdown",
      "metadata": {
        "id": "TV3MT7DcnqTW"
      },
      "source": [
        "OpenCV と NumPy のモジュールをインポートします． OpenCV は画像を NumPy の array として扱うので， ついでに NumPy のモジュールもインポートしときます．"
      ]
    },
    {
      "cell_type": "code",
      "execution_count": null,
      "metadata": {
        "id": "x_dIHCJWnXwR",
        "vscode": {
          "languageId": "python"
        }
      },
      "outputs": [],
      "source": [
        "import cv2  # cv2 モジュール（OpenCVのモジュール）をインポート\n",
        "import numpy as np  # numpy モジュールをインポートして np という名前で呼べるようにする"
      ]
    },
    {
      "cell_type": "markdown",
      "metadata": {
        "id": "jI0e37oRozw_"
      },
      "source": [
        "画像を入手．最初は，takataka のウェブサーバからゲットしたのを使うことにします．"
      ]
    },
    {
      "cell_type": "code",
      "execution_count": null,
      "metadata": {
        "id": "ahyFupg_ja4_",
        "vscode": {
          "languageId": "python"
        }
      },
      "outputs": [],
      "source": [
        "# takataka のウェブサーバから uni3-192.144.jpg という名前の画像を Colab 環境へ転送\n",
        "! wget -nc https://www-tlab.math.ryukoku.ac.jp/~takataka/course/AProg/uni3-192x144.jpg\n",
        "! ls"
      ]
    },
    {
      "cell_type": "markdown",
      "metadata": {
        "id": "JLL7sE6jn0ZV"
      },
      "source": [
        "自分のPCにPython + NumPy + OpenCV をインストールした環境では，OpenCV の関数 `cv2.imshow` を使って画像を表示できるのですが， Colab ではエラーになります．そこで，どちらでも動く関数 `imshow` というのを定義しておくことにします．普通の環境なら `cv2.imshow` 呼ぶだけ．"
      ]
    },
    {
      "cell_type": "code",
      "execution_count": null,
      "metadata": {
        "id": "dTJyEaY4l1sW",
        "vscode": {
          "languageId": "python"
        }
      },
      "outputs": [],
      "source": [
        "# OpenCVの形式の画像を表示する関数\n",
        "#\n",
        "def imshow(img):\n",
        "    try:\n",
        "        from google.colab.patches import cv2_imshow\n",
        "        cv2_imshow(img) # Colab上で実行している場合\n",
        "    except:\n",
        "        cv2.imshow(img)  # それ以外の場合"
      ]
    },
    {
      "cell_type": "markdown",
      "metadata": {
        "id": "U58a6opkpR_L"
      },
      "source": [
        "画像を読み込んで表示させてみましょう． OpenCV の `cv2.imread` 関数は，引数に指定されたファイル名の画像を読み込んで，画素値の入った NumPy array を返します．画像のファイル形式としては，JPEG, PNG等様々なものに対応しています．"
      ]
    },
    {
      "cell_type": "code",
      "execution_count": null,
      "metadata": {
        "id": "bS2YueI3jyIZ",
        "vscode": {
          "languageId": "python"
        }
      },
      "outputs": [],
      "source": [
        "# cv2.imread は指定された名前の画像ファイルを読み込む関数．画素値の入った Numpy array を返す\n",
        "imgUni3 = cv2.imread('uni3-192x144.jpg')\n",
        "imshow(imgUni3)"
      ]
    },
    {
      "cell_type": "markdown",
      "metadata": {
        "id": "VSFWYJo7qxdl"
      },
      "source": [
        "変数 `imgUni3` の中身と shape を眺めてみましょう．"
      ]
    },
    {
      "cell_type": "code",
      "execution_count": null,
      "metadata": {
        "id": "IuMPBFcclOyK",
        "vscode": {
          "languageId": "python"
        }
      },
      "outputs": [],
      "source": [
        "print(imgUni3)\n",
        "print(imgUni3.shape)"
      ]
    },
    {
      "cell_type": "markdown",
      "metadata": {
        "id": "HwryEDvUrEmP"
      },
      "source": [
        "この画像は幅192画素，高さ144画素のカラー画像です．一つの画素は 青(B)，緑(G)，赤(R) の3色の数値の大きさで表現されています．各色の値は $0$ から $255$ までの $256 (=2^8)$ 段階の整数値です（「余談」参照）．\n",
        "\n",
        "例えば，上記の最後の方に出力されている `[99 102 100]` というのは，この画像のとある位置の色が，「青成分が 99，緑成分が 102，赤成分が100」でできていることを表しています．色を表す数字は小さいほど黒に近く，大きいほどその色味が強くなります．`[0 0 0]` は黒， `[0 0 255]`は赤，`[255 255 255]` は白，`[0 255 255]` は黄色．\n",
        "\n",
        "余談: この形式の場合， $256^3 = 2^{24} = 16777216$ 通りの色を表せることになります．また，一つの画素のデータ量は 24 [bit] です． "
      ]
    },
    {
      "cell_type": "markdown",
      "metadata": {
        "id": "lOdkLT5ntmoi"
      },
      "source": [
        "上記の出力の最後に `imgUni3.shape` の値がありますが，見ての通り， `imgUni3` は $144\\times 192\\times 3$ の大きさの3次元配列です． 画素値は画像の左上から右に向かってならんでいます．したがって，"
      ]
    },
    {
      "cell_type": "code",
      "execution_count": null,
      "metadata": {
        "id": "64lQByHYuffa",
        "vscode": {
          "languageId": "python"
        }
      },
      "outputs": [],
      "source": [
        "print(imgUni3[50, 100, :])"
      ]
    },
    {
      "cell_type": "markdown",
      "metadata": {
        "id": "Oewg8AmTulfL"
      },
      "source": [
        "は，この画像の上から50画素，左から100画素の位置のB, G, Rの値です．"
      ]
    },
    {
      "cell_type": "markdown",
      "metadata": {
        "id": "NTjE-TrHvtn9"
      },
      "source": [
        "----\n",
        "## 画像を加工してみる\n"
      ]
    },
    {
      "cell_type": "markdown",
      "metadata": {
        "id": "cJmtXeNavtBf"
      },
      "source": [
        "次のセルを実行するとどんな画像が表示されるでしょうか？"
      ]
    },
    {
      "cell_type": "code",
      "execution_count": null,
      "metadata": {
        "id": "-GgTzCXowEni",
        "vscode": {
          "languageId": "python"
        }
      },
      "outputs": [],
      "source": [
        "img2 = 255 - imgUni3\n",
        "imshow(img2)"
      ]
    },
    {
      "cell_type": "markdown",
      "metadata": {
        "id": "i1BzbiQ6wWh2"
      },
      "source": [
        "化け猫になりました．\n",
        "\n",
        "画素値は 0 から 255 の整数値ですので，上記の計算を行うと，色が反転します．赤`[0 0 255]`がシアン（青緑）`[255 255 0]`になる，といった具合です．画像は色を表す数値の集まりですから，数値を変えれば見た目が変わるわけです．"
      ]
    },
    {
      "cell_type": "markdown",
      "metadata": {
        "id": "oBf873-rxFmi"
      },
      "source": [
        "ここで扱っている画像はただの NumPy array ですので，自分で地道にプログラムを書いていろんな画像処理を行うことができます．ですが，ここでは OpenCV の機能を利用してみることにします．"
      ]
    },
    {
      "cell_type": "code",
      "execution_count": null,
      "metadata": {
        "id": "Kdim33GCxpME",
        "vscode": {
          "languageId": "python"
        }
      },
      "outputs": [],
      "source": [
        "# 画像の上下左右反転\n",
        "img3 = cv2.flip(img2, 0) # 第2引数が 0 なら上下反転， 1 なら左右反転， -1 なら...\n",
        "imshow(img3)"
      ]
    },
    {
      "cell_type": "code",
      "execution_count": null,
      "metadata": {
        "id": "SFRt65QlyERB",
        "vscode": {
          "languageId": "python"
        }
      },
      "outputs": [],
      "source": [
        "# 画像の拡大縮小\n",
        "img3 = cv2.resize(img2, (300, 400)) # 第2引数は出力の (幅, 高さ)\n",
        "imshow(img3)"
      ]
    },
    {
      "cell_type": "code",
      "execution_count": null,
      "metadata": {
        "id": "8LxPrmv8zhig",
        "vscode": {
          "languageId": "python"
        }
      },
      "outputs": [],
      "source": [
        "# 画像中に円を描く．他の関数と違って引数で渡された画像そのものを書き換える\n",
        "cv2.circle(img2, (185, 60), 6, color=(0, 255, 255), thickness=2)\n",
        "cv2.circle(img2, (160, 135), 6, color=(0, 255, 255), thickness=2)\n",
        "imshow(img2)"
      ]
    },
    {
      "cell_type": "markdown",
      "metadata": {
        "id": "06xfqmKL07um"
      },
      "source": [
        "それぞれの関数の詳しい使い方等を知りたいときは，適当にググってみましょう．例えば `cv2.circle` の引数の意味を知りたいときは，\n",
        "https://note.nkmk.me/python-opencv-draw-function/\n",
        "などが参考になるでしょう．"
      ]
    },
    {
      "cell_type": "markdown",
      "metadata": {
        "id": "OQEd5zuVyis9"
      },
      "source": [
        "----\n",
        "## 画像の保存，Colabへのアップロード，Colabからのダウンロード"
      ]
    },
    {
      "cell_type": "markdown",
      "metadata": {
        "id": "cIt1kTJE3M_2"
      },
      "source": [
        "`cv2.imwrite`関数で画像をファイルに保存することができます．ファイルの形式は，引数に指定したファイル名の拡張子から自動的に判断されます．"
      ]
    },
    {
      "cell_type": "code",
      "execution_count": null,
      "metadata": {
        "id": "EHRE3Vlq31jf",
        "vscode": {
          "languageId": "python"
        }
      },
      "outputs": [],
      "source": [
        "# 変数 img2 が表す画像を hoge.png というファイル名で保存\n",
        "cv2.imwrite('hoge.png', img2)"
      ]
    },
    {
      "cell_type": "markdown",
      "metadata": {
        "id": "Hsoc125b4KyK"
      },
      "source": [
        "普通の環境では上記を実行するだけで自分のPC上に hoge.png が出来ます．しかしColabの場合は，これだと Colab 環境上に hoge.png ができるだけなので，それを手元にダウンロードする操作も行う必要があります．"
      ]
    },
    {
      "cell_type": "markdown",
      "metadata": {
        "id": "PAdwOXHxVPQl"
      },
      "source": [
        "以下のセルを実行すると，Colab上のファイル `hoge.png` を自分のPCにダウンロードすることができます．ブラウザ上に「ファイルのダウンロードを許可しますか？」みたいなポップアップウィンドウが出てくるかもしれませんので，許可しましょう．"
      ]
    },
    {
      "cell_type": "code",
      "execution_count": null,
      "metadata": {
        "id": "7kaLhF-5TrFE",
        "vscode": {
          "languageId": "python"
        }
      },
      "outputs": [],
      "source": [
        "# Colab からファイルをダウンロード\n",
        "try:\n",
        "    from google.colab import files\n",
        "    files.download('hoge.png')\n",
        "except:\n",
        "    print('このコードは Colab 以外の環境では実行できないよ．Colabで実行してるのにこのメッセージが出る場合は，ファイル hoge.png が存在していないようです．これ以前のセルを先に実行してね')"
      ]
    },
    {
      "cell_type": "markdown",
      "metadata": {
        "id": "Bjrwqg7cV-wx"
      },
      "source": [
        "ダウンロードした画像を自分のPCで表示させてみてください．"
      ]
    },
    {
      "cell_type": "markdown",
      "metadata": {
        "id": "hgoGrChkWm6r"
      },
      "source": [
        "以下のセルを実行すると，ファイルを Colab 上へアップロードすることができます．「ファイルを選択」というボタンを押して，自分のPC上の適当な画像ファイルをアップロードしてみましょう．\n",
        "ファイル名に日本語や空白が含まれているとあとあと面倒なので，あらかじめ名前をつけ直しておくとよいです．"
      ]
    },
    {
      "cell_type": "code",
      "execution_count": null,
      "metadata": {
        "id": "BIfLF_NSWUlK",
        "vscode": {
          "languageId": "python"
        }
      },
      "outputs": [],
      "source": [
        "# Colab へファイルをアップロード\n",
        "try:\n",
        "    from google.colab import files\n",
        "    rv = files.upload()\n",
        "except:\n",
        "    print('このコードは Colab 以外の環境では実行できないよ．')"
      ]
    },
    {
      "cell_type": "markdown",
      "metadata": {
        "id": "ohZFpbVvXU03"
      },
      "source": [
        "以下のセルを実行すると，Colab上のファイル一覧を表示させることができます．アップロードしたファイルが存在していることを確認しましょう．\n",
        "\n",
        "Colab は，Linux仮想マシン上に構築されているので，Linux のコマンドを呼び出すことができます．`!` につづけて書いている `ls` は，みなさんご存知の `ls` コマンドです．情報実習室のLinux環境や自分のPCの WSL 環境でおなじみですね．"
      ]
    },
    {
      "cell_type": "code",
      "execution_count": null,
      "metadata": {
        "id": "X7YZSaJzXdqs",
        "vscode": {
          "languageId": "python"
        }
      },
      "outputs": [],
      "source": [
        "! ls "
      ]
    },
    {
      "cell_type": "markdown",
      "metadata": {
        "id": "LkG884KbYFIs"
      },
      "source": [
        "アップロードできていることが確認できたら，以下に `imshow` するセルを追加して，表示させてみましょう．"
      ]
    },
    {
      "cell_type": "markdown",
      "metadata": {
        "id": "oV9c8hEiPog9"
      },
      "source": [
        "----\n",
        "## 練習問題\n"
      ]
    },
    {
      "cell_type": "markdown",
      "metadata": {
        "id": "WgmpmFN5hCQY"
      },
      "source": [
        "(1) takatakaが用意したもの以外の適当な画像をアップロードし，OpenCV の機能を利用して様々な画像処理を行ってみましょう．上記で説明している以外の関数も使ってみてください．"
      ]
    },
    {
      "cell_type": "markdown",
      "metadata": {
        "id": "t_b3XH5_Yt7y"
      },
      "source": [
        "(2) (1)でアップロードした画像の適当な範囲の画素値を反転させる処理を行いましょう．ただし...\n",
        "- OpenCV の機能を使うのではなく，NumPy array に対する処理として実現しましょう．\n",
        "- 繰り返しは使ってはいけません． array のスライスを使って1行で書けます．"
      ]
    },
    {
      "cell_type": "markdown",
      "metadata": {
        "id": "k--F3OL6SJdT"
      },
      "source": [
        "(3) この notebook でわからないこと疑問に思うこと気になることを探して， takataka に質問しましょう．"
      ]
    },
    {
      "cell_type": "code",
      "execution_count": null,
      "metadata": {
        "id": "i-Idhzloib85",
        "vscode": {
          "languageId": "python"
        }
      },
      "outputs": [],
      "source": []
    }
  ],
  "metadata": {
    "colab": {
      "authorship_tag": "ABX9TyNevif4PUnbhsinBc9WvPz0",
      "collapsed_sections": [],
      "include_colab_link": true,
      "name": "omake05.ipynb",
      "provenance": [],
      "toc_visible": true
    },
    "kernelspec": {
      "display_name": "Python 3",
      "name": "python3"
    }
  },
  "nbformat": 4,
  "nbformat_minor": 0
}
