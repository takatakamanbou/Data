{
  "nbformat": 4,
  "nbformat_minor": 0,
  "metadata": {
    "colab": {
      "provenance": [],
      "toc_visible": true,
      "authorship_tag": "ABX9TyNB3mMbC3KvCJKpWGVsj+7t",
      "include_colab_link": true
    },
    "kernelspec": {
      "name": "python3",
      "display_name": "Python 3"
    }
  },
  "cells": [
    {
      "cell_type": "markdown",
      "metadata": {
        "id": "view-in-github",
        "colab_type": "text"
      },
      "source": [
        "<a href=\"https://colab.research.google.com/github/takatakamanbou/Data/blob/main/Data2024_ex08notebookB.ipynb\" target=\"_parent\"><img src=\"https://colab.research.google.com/assets/colab-badge.svg\" alt=\"Open In Colab\"/></a>"
      ]
    },
    {
      "cell_type": "markdown",
      "metadata": {
        "id": "2UzDNLmVS3po"
      },
      "source": [
        "# Data2024 ex08notebookB\n",
        "\n",
        "<img width=64 src=\"https://www-tlab.math.ryukoku.ac.jp/~takataka/course/Data/Data-logo08.png\"> https://www-tlab.math.ryukoku.ac.jp/wiki/?Data/2024\n",
        "\n"
      ]
    },
    {
      "cell_type": "markdown",
      "metadata": {
        "id": "_4-TmUdCd9FJ"
      },
      "source": [
        "## 準備\n",
        "\n",
        "\n",
        "以下，コードセルを上から順に実行していってね．"
      ]
    },
    {
      "cell_type": "code",
      "metadata": {
        "id": "QQ8M3640S1W7"
      },
      "source": [
        "# 準備あれこれ\n",
        "import numpy as np\n",
        "import matplotlib.pyplot as plt\n",
        "import pandas as pd\n",
        "import seaborn\n",
        "seaborn.set()"
      ],
      "execution_count": null,
      "outputs": []
    },
    {
      "cell_type": "code",
      "metadata": {
        "id": "If5pCB6bc3QF"
      },
      "source": [
        "# データを読み込む  ゴリゴリくん\n",
        "dfGori = pd.read_csv('https://www-tlab.math.ryukoku.ac.jp/~takataka/course/Data/ex08gorigori.csv', header=0)\n",
        "dfGori"
      ],
      "execution_count": null,
      "outputs": []
    },
    {
      "cell_type": "code",
      "metadata": {
        "id": "7Ozwh3xYIZJQ"
      },
      "source": [
        "# データを読み込む  数学物理情報\n",
        "dfMPI = pd.read_csv('https://www-tlab.math.ryukoku.ac.jp/~takataka/course/Data/ex06mpi.csv', header=0)\n",
        "dfMPI"
      ],
      "execution_count": null,
      "outputs": []
    },
    {
      "cell_type": "code",
      "metadata": {
        "id": "gyAzAhxsaxPD"
      },
      "source": [
        "# データを読み込む  日本の総人口\n",
        "dfPopulation = pd.read_csv('https://www-tlab.math.ryukoku.ac.jp/~takataka/course/Data/ex09population.csv', header=0)\n",
        "dfPopulation"
      ],
      "execution_count": null,
      "outputs": []
    },
    {
      "cell_type": "markdown",
      "metadata": {
        "id": "7H45eNIcd2xB"
      },
      "source": [
        "----\n",
        "## 回帰分析入門(3)  その2\n",
        "----"
      ]
    },
    {
      "cell_type": "markdown",
      "metadata": {
        "id": "WM4RlkyhP5yo"
      },
      "source": [
        "----\n",
        "### 回帰分析の性質\n",
        "\n",
        "#### 復習\n",
        "\n"
      ]
    },
    {
      "cell_type": "markdown",
      "metadata": {
        "id": "hQd6yDT-di3D"
      },
      "source": [
        "2次元のデータを対象として最小二乗法を用いて直線を当てはめる回帰分析は，次のようなものでした．\n",
        "\n",
        "> 2つの変数 $x$ と $y$ の間に\n",
        "> $$ y = ax + b $$\n",
        "> という関係が成り立つと仮定する．\n",
        "> これらの変数の値 $N$ 組から成るデータ $(x_n, y_n)$ （$n = 1, 2, \\dots , N$） が与えられたときに，このデータからこの式の係数 $a, b$ の推定値 $\\widehat{a}, \\widehat{b}$ を求めたい．つまり，これらのデータによく当てはまる直線の式を求めたい．\n",
        "> その当てはまりの良さの規準として，データに対する残差平方和（二乗誤差）\n",
        "> $$\n",
        "E(\\widehat{a}, \\widehat{b}) = \\sum_{n=1}^{N}(y_n - \\widehat{y}_n)^2 = \\sum_{n=1}^{N}(y_n - (\\widehat{a}x_n + \\widehat{b}))^2\n",
        "$$\n",
        "> を選ぶ．この残差平方和を最小にする $\\widehat{a}, \\widehat{b}$ は，\n",
        ">\n",
        "> $$\n",
        "\\widehat{a} = \\frac{s_{xy}}{s_x^2}\\qquad \\widehat{b} = \\bar{y} - \\widehat{a}\\bar{x}\n",
        "$$\n",
        ">\n",
        "> で与えられる．\n",
        "> ただし， $\\bar{x}, \\bar{y}$ は $x, y$ の平均，$s_{x}^2$ は $x$ の分散，$s_{xy}$ は $x$ と $y$ の共分散，つまり，\n",
        ">\n",
        "> $$\n",
        "\\begin{aligned}\n",
        "\\bar{x} &= \\frac{1}{N}\\sum_{n=1}^N x_n\\\\\n",
        "\\bar{y} &= \\frac{1}{N}\\sum_{n=1}^N y_n\\\\\n",
        "s_{x}^2 &= \\frac{1}{N}\\sum_{n=1}^{N}(x_n - \\bar{x})^2\\\\\n",
        "s_{xy} &= \\frac{1}{N}\\sum_{n=1}^{N}(x_n - \\bar{x})(y_n - \\bar{y})\\\\\n",
        "\\end{aligned}\n",
        "$$\n",
        ">\n",
        ">である．"
      ]
    },
    {
      "cell_type": "markdown",
      "metadata": {
        "id": "NujqPbaZO6LO"
      },
      "source": [
        "#### 回帰直線は平均を通る\n",
        "\n",
        "実習課題において，「予測値を計算する式 $\\widehat{y} = \\widehat{a}x + \\widehat{b}$ に $x = \\bar{x}$ を代入すると，$\\widehat{y} = \\bar{y}$ となるようだ」ということを観察しました．\n",
        "これが厳密に成り立つことは，次のように簡単に示せます．\n",
        "\n",
        "> $ \\widehat{a}\\bar{x} + \\widehat{b}$ に $\\widehat{b} = \\bar{y} - \\widehat{a}\\bar{x}$ を代入すると， $\\widehat{a}\\bar{x} + \\bar{y} - \\widehat{a}\\bar{x} = \\bar{y}$ となる．\n",
        "\n",
        "したがって，回帰分析で求めた直線は，点 $(\\bar{x}, \\bar{y})$ を必ず通ります．"
      ]
    },
    {
      "cell_type": "markdown",
      "metadata": {
        "id": "H0r86M-fTW8T"
      },
      "source": [
        "#### 外れ値の影響\n",
        "\n",
        "データ中に存在する，他と比べて極端に大きかったり小さかったりする値のことを，**外れ値** といいます．\n",
        "外れ値は，値の入力ミス（0の数間違えたとか，ピリオド抜けたとか，単位を間違えたとか），計測機器の誤作動，そもそも値が得られなかった（ので適当な値を入れておいた），等々，様々な理由で生じます．\n",
        "\n",
        "外れ値の存在は，データ分析の様々な場面で結果に影響を与えます．\n",
        "特に，最小二乗法を用いる回帰分析の結果は外れ値の影響を受けやすいので，注意が必要です．"
      ]
    },
    {
      "cell_type": "markdown",
      "metadata": {
        "id": "zQD4QuJ-7Q9Q"
      },
      "source": [
        "実習課題で観察したことを再現して確認しましょう．\n",
        "\n",
        "`x1`, `x2` の値を適当に変えて次のセルを実行し直してみよう．\n",
        "それぞれの元の値は $(5.56, 8)$ です．\n",
        "また，`isAutoScale` にチェックをつけると，グラフの描画範囲が自動で設定されるようになります（外れ値も表示できるようになる）．"
      ]
    },
    {
      "cell_type": "code",
      "metadata": {
        "id": "gvq76CLyTdV3"
      },
      "source": [
        "x1 = 5.56 #@param {type:\"number\"}\n",
        "y1 =  8#@param  {type:\"number\"}\n",
        "isAutoScale = True #@param {type:\"boolean\"}\n",
        "\n",
        "# データ\n",
        "X = dfGori['気温'].to_numpy()\n",
        "Y = dfGori['アイス売上数'].to_numpy()\n",
        "xmin, xmax = -5, 40\n",
        "ymin, ymax = 0, 130\n",
        "\n",
        "# 最初のデータの値を変えてしまう\n",
        "X[0] = x1\n",
        "Y[0] = y1\n",
        "\n",
        "# 最小二乗法による直線のあてはめ\n",
        "a, b = np.polyfit(X, Y, 1)\n",
        "eq = f'y = {a:.2f}x + {b:.2f}'\n",
        "\n",
        "# グラフを描く\n",
        "Xr = np.array([xmin, xmax])\n",
        "Yest = a * Xr + b\n",
        "fig, ax = plt.subplots(1, facecolor='white', figsize=(9, 6))\n",
        "ax.scatter(X, Y)\n",
        "ax.plot(Xr, Yest, color='red', label=eq)\n",
        "if not isAutoScale:\n",
        "    ax.set_xlim(xmin, xmax)\n",
        "    ax.set_ylim(ymin, ymax)\n",
        "plt.legend()\n",
        "plt.show()"
      ],
      "execution_count": null,
      "outputs": []
    },
    {
      "cell_type": "markdown",
      "metadata": {
        "id": "dogmFuo-dtOJ"
      },
      "source": [
        "----\n",
        "### 回帰分析の注意点\n",
        "\n"
      ]
    },
    {
      "cell_type": "markdown",
      "metadata": {
        "id": "gMFwCD2CebJx"
      },
      "source": [
        "ここでは，1920年（大正9年）から2000年（平成12年）までの日本の総人口の推計データの一部を使って回帰分析してみます．\n",
        "\n",
        "このデータは，以下から入手可能です\n",
        "- e-Stat（政府統計の総合窓口） https://www.e-stat.go.jp/\n",
        "- 上記サイト中のデータのある場所への直リンク https://www.e-stat.go.jp/stat-search/files?page=1&layout=datalist&toukei=00200524&tstat=000000090001&cycle=0&tclass1=000000090004&tclass2=000000090005\n",
        "- 上記からは Excel のファイルしか手に入りません．そこから余計なものを除いた CSV ファイルがこちらにあります: https://www-tlab.math.ryukoku.ac.jp/~takataka/course/Data/ex09population.csv"
      ]
    },
    {
      "cell_type": "markdown",
      "metadata": {
        "id": "xiYubW4yhAaF"
      },
      "source": [
        "1920年から1969年までの50年分の散布図はこんなんです．\n",
        "横軸は年，縦軸は百万人単位の人口です． 縦軸の値が $100$ だと$1$億人．"
      ]
    },
    {
      "cell_type": "code",
      "metadata": {
        "id": "L1sQ-TXofPHU"
      },
      "source": [
        "# データ\n",
        "X = dfPopulation['年'].to_numpy()\n",
        "Y = dfPopulation['総人口'].to_numpy() / 1000 # 千人単位 => 百万人単位\n",
        "X = X[:50] # 1920年から50年分\n",
        "Y = Y[:50]\n",
        "\n",
        "xmin, xmax = 1920, 1970\n",
        "ymin, ymax = 0, 120\n",
        "\n",
        "# グラフを描く\n",
        "Xr = np.array([xmin, xmax])\n",
        "fig, ax = plt.subplots(1, facecolor='white', figsize=(9, 6))\n",
        "ax.scatter(X, Y)\n",
        "ax.set_xlim(xmin, xmax)\n",
        "ax.set_ylim(ymin, ymax)\n",
        "plt.show()\n"
      ],
      "execution_count": null,
      "outputs": []
    },
    {
      "cell_type": "markdown",
      "metadata": {
        "id": "4YMjScoTgU9W"
      },
      "source": [
        "いい感じに直線で表わせそうに見えますね（1945年頃に下がっているのは，太平洋戦争（第二次世界大戦）のせい）．\n",
        "年を説明変数，人口（百万人単位）を被説明変数として，回帰分析してみましょう．"
      ]
    },
    {
      "cell_type": "code",
      "metadata": {
        "id": "pxhkYaaIiAhb"
      },
      "source": [
        "# データ\n",
        "X = dfPopulation['年'].to_numpy()\n",
        "Y = dfPopulation['総人口'].to_numpy() / 1000  # 千人単位 => 百万人単位\n",
        "X = X[:50] # 1920年から50年分\n",
        "Y = Y[:50]\n",
        "y2020 = 125858 / 1000 # 2020年6月の総人口\n",
        "xmin, xmax = 1915, 2025\n",
        "ymin, ymax = 0, 155\n",
        "\n",
        "# 最小二乗法による直線のあてはめ\n",
        "a, b = np.polyfit(X, Y, 1)\n",
        "\n",
        "# グラフを描く\n",
        "Xr = np.array([xmin, xmax])\n",
        "Yest = a * Xr + b\n",
        "fig, ax = plt.subplots(1, facecolor='white', figsize=(9, 6))\n",
        "ax.scatter(X, Y)\n",
        "ax.plot(Xr, Yest, color='red')\n",
        "ax.plot(2020, y2020, marker='X', markersize=12, color='orange')\n",
        "ax.set_xlim(xmin, xmax)\n",
        "ax.set_ylim(ymin, ymax)\n",
        "plt.show()\n",
        "print(f'傾き: {a:.2f}  切片: {b:.2f}')\n",
        "\n",
        "# 2020年の予測値\n",
        "y2020est = a * 2020 + b\n",
        "print(f'この式から予測される2020年の総人口は {y2020est:.1f} 百万人 = {y2020est/100:.2f} 億人')"
      ],
      "execution_count": null,
      "outputs": []
    },
    {
      "cell_type": "markdown",
      "metadata": {
        "id": "wkNRUQNiiW62"
      },
      "source": [
        "回帰分析で得られた直線の式に $x = 2020$ を代入して2020年の人口の予測値を算出してみると，1億5千万人を超えた値が得られました．しかし，実際の人口は，2020年6月時点で約1億2600万人です（オレンジ色のX印）．\n",
        "\n",
        "この残差（ずれ）の原因としては，1969年までのデータしか用いず最近のデータを用いなかったことが大きいのかもしれません．\n",
        "データは2000年までありますので，全部で散布図を描いてみると..."
      ]
    },
    {
      "cell_type": "code",
      "metadata": {
        "id": "qFL5RxB0bJ9G"
      },
      "source": [
        "# データ\n",
        "X = dfPopulation['年'].to_numpy()\n",
        "Y = dfPopulation['総人口'].to_numpy() / 1000 # 千人単位 => 百万人単位\n",
        "xmin, xmax = 1915, 2025\n",
        "ymin, ymax = 0, 155\n",
        "\n",
        "# グラフを描く\n",
        "Xr = np.array([xmin, xmax])\n",
        "fig, ax = plt.subplots(1, facecolor='white', figsize=(9, 6))\n",
        "ax.scatter(X, Y)\n",
        "#ax.plot(2020, y2020, marker='X', markersize=12, color='orange')\n",
        "ax.set_xlim(xmin, xmax)\n",
        "ax.set_ylim(ymin, ymax)\n",
        "plt.show()"
      ],
      "execution_count": null,
      "outputs": []
    },
    {
      "cell_type": "markdown",
      "metadata": {
        "id": "XM0R95ePkZMp"
      },
      "source": [
        "明らかに1980年頃から傾き（人口の増加率）が小さくなっており，全体を直線で表すのには無理があることがわかりますね．\n",
        "2000年までのデータを用いて直線を当てはめても，それほど予測結果は改善されません（下図）．"
      ]
    },
    {
      "cell_type": "code",
      "metadata": {
        "id": "kV_-J2tFcaHu"
      },
      "source": [
        "# データ\n",
        "X = dfPopulation['年'].to_numpy()\n",
        "Y = dfPopulation['総人口'].to_numpy() / 1000  # 千人単位 => 百万人単位\n",
        "y2020 = 125858 / 1000 # 2020年6月の総人口\n",
        "xmin, xmax = 1915, 2025\n",
        "ymin, ymax = 0, 155\n",
        "\n",
        "# 最小二乗法による直線のあてはめ\n",
        "a, b = np.polyfit(X, Y, 1) # 1920年から2000年までで最小二乗法\n",
        "\n",
        "# グラフを描く\n",
        "Xr = np.array([xmin, xmax])\n",
        "Yest = a * Xr + b\n",
        "fig, ax = plt.subplots(1, facecolor='white', figsize=(9, 6))\n",
        "ax.scatter(X, Y)\n",
        "ax.plot(Xr, Yest, color='red')\n",
        "ax.plot(2020, y2020, marker='X', markersize=12, color='orange')\n",
        "ax.set_xlim(xmin, xmax)\n",
        "ax.set_ylim(ymin, ymax)\n",
        "plt.show()\n",
        "\n",
        "# 2020年の予測値\n",
        "print(f'傾き: {a:.2f}  切片: {b:.2f}')\n",
        "y2020est = a * 2020 + b\n",
        "print(f'この式から予測される2020年の総人口は {y2020est:.1f} 百万人 = {y2020est/100:.2f} 億人')\n"
      ],
      "execution_count": null,
      "outputs": []
    },
    {
      "cell_type": "markdown",
      "metadata": {
        "id": "u1mpO6gsqsLk"
      },
      "source": [
        "上記は，1920年から2000年までのデータを用いて回帰分析を行った結果です．"
      ]
    },
    {
      "cell_type": "code",
      "metadata": {
        "id": "EKNYxSrhqDfw"
      },
      "source": [
        "# データ\n",
        "X = dfPopulation['年'].to_numpy()\n",
        "Y = dfPopulation['総人口'].to_numpy() / 1000  # 千人単位 => 百万人単位\n",
        "y2020 = 125858 / 1000 # 2020年6月の総人口\n",
        "xmin, xmax = 1975, 2025\n",
        "ymin, ymax = 80, 155\n",
        "\n",
        "# 最小二乗法による直線のあてはめ\n",
        "a, b = np.polyfit(X[60:], Y[60:], 1) # 1970年から2000年までで最小二乗法\n",
        "\n",
        "# グラフを描く\n",
        "Xr = np.array([xmin, xmax])\n",
        "Yest = a * Xr + b\n",
        "fig, ax = plt.subplots(1, facecolor='white', figsize=(9, 6))\n",
        "ax.scatter(X[60:], Y[60:])\n",
        "ax.plot(Xr, Yest, color='green')\n",
        "ax.plot(2020, y2020, marker='X', markersize=12, color='orange')\n",
        "ax.set_xlim(xmin, xmax)\n",
        "ax.set_ylim(ymin, ymax)\n",
        "plt.show()\n",
        "\n",
        "# 2020年の予測値\n",
        "print(f'傾き: {a:.2f}  切片: {b:.2f}')\n",
        "y2020est = a * 2020 + b\n",
        "print(f'この式から予測される2020年の総人口は {y2020est:.1f} 百万 = {y2020est/100:.2f} 億人')\n"
      ],
      "execution_count": null,
      "outputs": []
    },
    {
      "cell_type": "markdown",
      "metadata": {
        "id": "eMJeMsZOnQkM"
      },
      "source": [
        "一方，こちらの緑の直線は，1980年から2000年までのデータのみを用いて回帰分析を行った場合です．2020年の予測値のずれは多少小さくなりますが，そもそも1980年から2000年の範囲に限っても，直線への当てはまりがあまりよくないようです（当てはまりの良さを客観的に測る方法については，また後で）．\n",
        "これは，近年の日本の人口の変化がもはや直線ではうまく表せないので，直線を当てはめる回帰分析は適切ではない，ということを意味しています．\n",
        "実際，日本の人口は2008年をピークに減少をはじめており，今後も減少傾向が続き，山なりに下がった曲線を描くことが予測されています．\n",
        "\n",
        "cf. [Wikipedia 日本の人口統計](https://ja.wikipedia.org/wiki/%E6%97%A5%E6%9C%AC%E3%81%AE%E4%BA%BA%E5%8F%A3%E7%B5%B1%E8%A8%88)"
      ]
    },
    {
      "cell_type": "markdown",
      "metadata": {
        "id": "pH3apyPCoBd5"
      },
      "source": [
        "以上の観察からも分かるように，回帰分析を行う際には，与えられたデータの範囲から外れたところの値を予測する（これを **外挿する** と言います）ことは，避けた方がよいとされています．データの範囲内ではうまく直線が当てはまっていたとしても，範囲の外ではうまく当てはまらないことがあるからです．\n",
        "\n",
        "また，2つの変数の間の関係がそもそも直線の式にうまく当てはまらないような場合にも注意が必要です．そのような場合には，直線ではなく，放物線や3次関数などの多項式，指数関数や対数関数を当てはめることもあります（後ほど少しだけ紹介する...かも）．"
      ]
    },
    {
      "cell_type": "markdown",
      "metadata": {
        "id": "MZDaohkf5lvU"
      },
      "source": [
        "次に説明する注意点は，「得られた回帰直線を用いて，説明変数 $x$ から被説明変数 $y$ の値を予測するのはよいが，逆に，$y$ から $x$ の値を予測してはいけない」というものです．\n",
        "\n",
        "$$\n",
        "y = ax+ b\n",
        "$$\n",
        "\n",
        "を $x$ について解けば，\n",
        "\n",
        "$$\n",
        "x = \\frac{1}{a}y - \\frac{b}{a}\n",
        "$$\n",
        "\n",
        "という式が得られます．これに適当な $y$ の値を代入して，$x$ の予測値を求めたくなりますが，それは避けるべき，ということです．"
      ]
    },
    {
      "cell_type": "markdown",
      "metadata": {
        "id": "mWNMD97A6z8k"
      },
      "source": [
        "そのことを実際の例で考えるために，実習課題でも扱った，数学物理情報のデータを取り上げます．\n",
        "\n",
        "1. 「数学」を説明変数，「情報」を被説明変数とする場合\n",
        "1. 「情報」を説明変数，「数学」を被説明変数とする場合\n",
        "\n",
        "両方の回帰分析の結果を式とグラフで表してみると，こんなんなります．"
      ]
    },
    {
      "cell_type": "code",
      "metadata": {
        "id": "qxrPJDSHmnGG"
      },
      "source": [
        "# データ\n",
        "Xmath = dfMPI['数学'].to_numpy()\n",
        "Xinfo = dfMPI['情報'].to_numpy()\n",
        "xmin, xmax = 0, 100\n",
        "ymin, ymax = 0, 100\n",
        "\n",
        "# 最小二乗法による直線のあてはめ\n",
        "a1, b1 = np.polyfit(Xmath, Xinfo, 1)\n",
        "a2, b2 = np.polyfit(Xinfo, Xmath, 1)\n",
        "\n",
        "# グラフを描く\n",
        "fig, ax = plt.subplots(1, 2, facecolor='white', figsize=(12, 6))\n",
        "Xr = np.array([xmin, xmax])\n",
        "Yest = a1 * Xr + b1\n",
        "ax[0].scatter(Xmath, Xinfo)\n",
        "ax[0].plot(Xr, Yest, color='red')\n",
        "ax[0].set_xlim(xmin, xmax)\n",
        "ax[0].set_ylim(ymin, ymax)\n",
        "ax[0].set_xlabel('Math')\n",
        "ax[0].set_ylabel('Information')\n",
        "Yest = a2 * Xr + b2\n",
        "ax[1].scatter(Xinfo, Xmath)\n",
        "ax[1].plot(Xr, Yest, color='green')\n",
        "ax[1].set_xlim(xmin, xmax)\n",
        "ax[1].set_ylim(ymin, ymax)\n",
        "ax[1].set_xlabel('Information')\n",
        "ax[1].set_ylabel('Math')\n",
        "plt.show()\n",
        "\n",
        "print(f'（情報） = {a1:.2f} * （数学）+{b1:.2f}')\n",
        "print(f'(数学) =  {a2:.2f} * （情報）+{b2:.2f}')"
      ],
      "execution_count": null,
      "outputs": []
    },
    {
      "cell_type": "markdown",
      "metadata": {
        "id": "8M6Jbh7N78Rx"
      },
      "source": [
        "式もグラフも異なる形ですが，単に横軸縦軸が入れ替わってるからそう見えるだけかも？\n",
        "そう考えて，右のグラフの軸を入れ替えて左のものに重ねて描いてみると，こうなります．"
      ]
    },
    {
      "cell_type": "code",
      "metadata": {
        "id": "WFgCtzZq2HgK"
      },
      "source": [
        "# グラフを描く\n",
        "fig, ax = plt.subplots(1, facecolor='white', figsize=(6, 6))\n",
        "Xr = np.array([xmin, xmax])\n",
        "Yest = a1 * Xr + b1\n",
        "ax.scatter(Xmath, Xinfo)\n",
        "ax.plot(Xr, Yest, color='red')\n",
        "Yest = a2 * Xr + b2\n",
        "ax.plot(Yest, Xr, color='green')\n",
        "ax.set_xlim(xmin, xmax)\n",
        "ax.set_ylim(ymin, ymax)\n",
        "ax.set_xlabel('Math')\n",
        "ax.set_ylabel('Information')\n",
        "plt.show()\n",
        "\n",
        "print(f'数学 vs 情報: 傾き: {a1:.2f}  切片: {b1:.2f}')\n",
        "print(f'情報 vs 数学: 傾き: {a2:.2f}  切片: {b2:.2f}')"
      ],
      "execution_count": null,
      "outputs": []
    },
    {
      "cell_type": "markdown",
      "metadata": {
        "id": "oiQEUABZ8YLW"
      },
      "source": [
        "どちらを説明変数／被説明変数にとるかによって，回帰分析で得られる直線が全く異なっていることが分かりますね．\n",
        "\n",
        "これは，回帰分析という手法が，「被説明変数を説明変数を使った式で表して，その残差を最小にする」というものであるためです．\n",
        "\n",
        "<img src=\"https://www-tlab.math.ryukoku.ac.jp/~takataka/course/Data/ex10-linestXY.png\">\n",
        "\n",
        "「数学」が説明変数で「情報」が被説明変数の場合は，左図の赤い矢印で表された残差（「数学」を使った式で「情報」を表したときの残差）を最小にするものとして赤い直線が得られています．\n",
        "逆の場合，「情報」が説明変数で「数学」が被説明変数の場合は，右図の緑の矢印で表された残差（「情報」を使った式で「数学」を表したときの残差）を最小にするものとして緑の直線が得られています．\n",
        "\n",
        "どちらの変数でどちらの変数を説明しようとしているかによってどんな残差を最小化するかも異なるので，得られる式も，$x$と$y$を入れ替えても同じにはなりません．\n",
        "「何を何で説明したいのか」をよく考えて説明変数と被説明変数を選択しないといけません．"
      ]
    },
    {
      "cell_type": "markdown",
      "metadata": {
        "id": "WsxDMJ1G-9Aw"
      },
      "source": [
        "### まとめ\n",
        "\n",
        "回帰分析を実行する際に注意すべきことをまとめておきます．\n",
        "\n",
        "- 2つの変数の間の関係が直線ではうまく表せないような場合もある．そのような場合には，直線ではなく，多項式，指数関数や対数関数などの非線形な関数を当てはめる方がよいことがある\n",
        "- 回帰分析の結果は外れ値の影響を受けやすいので，結果を解釈する際に気をつけないといけない\n",
        "- 与えられたデータの範囲内では直線がうまく当てはまっていたとしても，範囲から外れたところでは当てはまりが悪いこともあるので，外挿は避けるべき\n",
        "- 得られた回帰直線を逆に用いて，被説明変数から説明変数の値を予測することは避けるべき"
      ]
    },
    {
      "cell_type": "code",
      "metadata": {
        "id": "_7nnNHcr39rC"
      },
      "source": [],
      "execution_count": null,
      "outputs": []
    }
  ]
}