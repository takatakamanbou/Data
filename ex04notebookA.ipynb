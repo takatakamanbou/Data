{
  "nbformat": 4,
  "nbformat_minor": 0,
  "metadata": {
    "colab": {
      "name": "ex04notebookA.ipynb",
      "provenance": [],
      "collapsed_sections": [],
      "authorship_tag": "ABX9TyPRdcOWzXkyXp7yjlOw+Q2z",
      "include_colab_link": true
    },
    "kernelspec": {
      "name": "python3",
      "display_name": "Python 3"
    }
  },
  "cells": [
    {
      "cell_type": "markdown",
      "metadata": {
        "id": "view-in-github",
        "colab_type": "text"
      },
      "source": [
        "<a href=\"https://colab.research.google.com/github/takatakamanbou/Data/blob/main/ex04notebookA.ipynb\" target=\"_parent\"><img src=\"https://colab.research.google.com/assets/colab-badge.svg\" alt=\"Open In Colab\"/></a>"
      ]
    },
    {
      "cell_type": "markdown",
      "metadata": {
        "id": "2UzDNLmVS3po"
      },
      "source": [
        "# Data2021 ex04notebookA  データの代表値(2)\n",
        "\n",
        "<img width=64 src=\"https://www-tlab.math.ryukoku.ac.jp/~takataka/course/Data/Data-logo04.png\"> https://www-tlab.math.ryukoku.ac.jp/wiki/?Data/2021"
      ]
    },
    {
      "cell_type": "markdown",
      "metadata": {
        "id": "_4-TmUdCd9FJ"
      },
      "source": [
        "## 準備\n",
        "\n",
        "Google Colab の Notebook では， Python というプログラミング言語のコードを動かして計算したりグラフを描いたりもできます．\n",
        "Python は，データ分析や機械学習・人工知能分野ではメジャーなプログラミング言語ですが，それを学ぶことはこの授業の守備範囲ではありません．ですので，以下の所々に現れるプログラムっぽい記述の内容は，理解できなくて構いません．\n",
        "\n",
        "以下，コードセルを上から順に実行していってね．"
      ]
    },
    {
      "cell_type": "code",
      "metadata": {
        "id": "QQ8M3640S1W7"
      },
      "source": [
        "# 準備あれこれ\n",
        "import numpy as np\n",
        "import matplotlib.pyplot as plt\n",
        "import pandas as pd\n",
        "import seaborn\n",
        "seaborn.set()"
      ],
      "execution_count": null,
      "outputs": []
    },
    {
      "cell_type": "code",
      "metadata": {
        "id": "If5pCB6bc3QF"
      },
      "source": [
        "# データを読み込む\n",
        "df = pd.read_csv('https://www-tlab.math.ryukoku.ac.jp/~takataka/course/Data/ex03data.csv', header=2)\n",
        "#df"
      ],
      "execution_count": null,
      "outputs": []
    },
    {
      "cell_type": "markdown",
      "metadata": {
        "id": "7H45eNIcd2xB"
      },
      "source": [
        "----\n",
        "## データの代表値 その(2)\n",
        "----\n",
        "\n",
        "前回，データの **代表値** として **平均**，**分散**，**標準偏差** を取り上げましたが，前回の授業では，実際のデータでこれらの値を調べてその性質を直感的に考えることにとどまっていました．\n",
        "今回は，これらのちゃんとした定義を与え，その性質を数式からも考察してみます．\n",
        "\n",
        "\n"
      ]
    },
    {
      "cell_type": "markdown",
      "metadata": {
        "id": "gTuf-qRyRVSp"
      },
      "source": [
        "----\n",
        "### 和の記号に関する復習\n",
        "\n",
        "和の記号 $\\sum$ の扱いについて復習．"
      ]
    },
    {
      "cell_type": "markdown",
      "metadata": {
        "id": "SyIsZEKgNvPY"
      },
      "source": [
        "以下では，\n",
        "\n",
        "|$x_1$|$x_2$|$x_3$|$x_4$|$x_5$|$x_6$|$x_7$|$x_8$|\n",
        "|----|----|----|----|----|----|----|----|\n",
        "|10|20|30|40|50|60|70|80|\n",
        "\n",
        "とします．\n"
      ]
    },
    {
      "cell_type": "markdown",
      "metadata": {
        "id": "BHfbo_H_QBcy"
      },
      "source": [
        "\n",
        "**[Q0a]**  次の値を求めなさい．\n",
        "\n",
        "$$ \\sum_{n=1}^{4}x_n \\qquad \\sum_{n=5}^{8}x_n $$\n",
        "\n",
        "**[A0a]**\n",
        "$$\n",
        "\\begin{aligned}\n",
        "\\sum_{n=1}^{4}x_n &= x_1 + x_2 + x_3 + x_4 \\\\\n",
        "&= 10 + 20 + 30 + 40 = 100\\\\\n",
        "\\sum_{n=5}^{8}x_n &= x_5 + x_6 + x_7 + x_8\\\\\n",
        "&= 50 + 60 + 70 + 80 = 260\n",
        "\\end{aligned}\n",
        "$$\n"
      ]
    },
    {
      "cell_type": "markdown",
      "metadata": {
        "id": "FZ0GIlTPQKSj"
      },
      "source": [
        "**[Q0b]**  次の値を求めなさい．\n",
        "\n",
        "$$\n",
        "\\sum_{n=1}^{3} x_n^2\n",
        "$$\n",
        "\n",
        "**[A0b]**\n",
        "\n",
        "$$\n",
        "(\\mbox{与式}) = x_1^2 + x_2^2 + x_3^2 = 100+400+900 = 1400\n",
        "$$\n",
        "\n",
        "\n"
      ]
    },
    {
      "cell_type": "markdown",
      "metadata": {
        "id": "IsK9UCUmRDlw"
      },
      "source": [
        "**[Q0c]** 次の式の値を求めなさい．\n",
        "\n",
        "$$\n",
        "\\sum_{n=1}^{4} (x_n + \\pi)\n",
        "$$\n",
        "\n",
        "**[A0c]**\n",
        "$$\n",
        "\\begin{aligned}\n",
        "(\\mbox{与式}) &= \\sum_{n=1}^{4}x_n + \\sum_{n=1}^{4}\\pi = 100 + (\\pi + \\pi + \\pi + \\pi) = 100+4\\pi\n",
        "\\end{aligned}\n",
        "$$"
      ]
    },
    {
      "cell_type": "markdown",
      "metadata": {
        "id": "iD5ueLAWSSSj"
      },
      "source": [
        "**[Q0d]** 次の式の値を求めなさい．\n",
        "\n",
        "$$\n",
        "\\sum_{n=1}^{4} 2x_n\n",
        "$$\n",
        "\n",
        "**[A0d]**\n",
        "\n",
        "$$\n",
        "(\\mbox{与式}) = 2\\sum_{n=1}^{4} x_n = 2\\times 100 = 200\n",
        "$$\n"
      ]
    },
    {
      "cell_type": "markdown",
      "metadata": {
        "id": "FiE3jQXVRAbA"
      },
      "source": [
        "\n",
        "**[Q0e]**  $a, b$ を定数として，次の式の値を求めなさい．\n",
        "\n",
        "$$\n",
        "\\sum_{n=1}^{4} (ax_n + b)\n",
        "$$\n",
        "\n",
        "**[A0e]**\n",
        "$$\n",
        "\\begin{aligned}\n",
        "(\\mbox{与式}) = a\\sum_{n=1}^{4}x_n + \\sum_{n=1}^{4}b = 100a + 4b\n",
        "\\end{aligned}\n",
        "$$"
      ]
    },
    {
      "cell_type": "markdown",
      "metadata": {
        "id": "rEIROHv4vfYG"
      },
      "source": [
        "----\n",
        "### 平均の定義"
      ]
    },
    {
      "cell_type": "markdown",
      "metadata": {
        "id": "xnjb0HRJ3XfX"
      },
      "source": [
        "$N$個の標本 $x_{1}, x_{2}, \\dots , x_{N}$ が与えられたとします．その **平均** を $\\bar{x}$ と表すことにすると，$\\bar{x}$ は次式で定義されます．\n",
        "\n",
        "$$ \\bar{x} = \\frac{1}{N}\\sum_{n=1}^{N} x_n $$"
      ]
    },
    {
      "cell_type": "markdown",
      "metadata": {
        "id": "WyKEvCFmaTWH"
      },
      "source": [
        "**［Q1］** 次のデータの平均を求めなさい．単位は [cm] とする．\n",
        "\n",
        "|$x_1$|$x_2$|$x_3$|$x_4$|\n",
        "|----|----|----|----|\n",
        "|6|9|10|15|"
      ]
    },
    {
      "cell_type": "markdown",
      "metadata": {
        "id": "x1lQA_dnafcb"
      },
      "source": [
        "**［A1］** \n",
        "$$ \\frac{1}{4} \\sum_{n=1}^{4} x_n  = \\frac{1}{4}(6+9+10+15) = \\frac{40}{4} = 10.0$$\n",
        "より， $10.0$ [cm]．\n",
        "\n",
        "\n"
      ]
    },
    {
      "cell_type": "markdown",
      "metadata": {
        "id": "X3U9te38TTzH"
      },
      "source": [
        "**［Q2］** 次のデータの平均を求めなさい．\n",
        "\n",
        "|$x_1$|$x_2$|$x_3$|$x_4$|$x_5$|$x_6$|$x_7$|$x_8$|$x_9$|$x_{10}$|\n",
        "|----|----|----|----|----|----|----|----|----|----|\n",
        "|1|2|3|4|5|6|7|8|9|10|\n"
      ]
    },
    {
      "cell_type": "markdown",
      "metadata": {
        "id": "147aRKctUhd4"
      },
      "source": [
        "**［A2］**\n",
        " \n",
        "$$ \\frac{1}{10} \\sum_{n=1}^{10} x_n  = \\frac{1}{10}(1+2+\\dots + 10) = \\frac{55}{10} = 5.5$$\n",
        "\n",
        "\n"
      ]
    },
    {
      "cell_type": "code",
      "metadata": {
        "id": "JGogcj6Q5b5b"
      },
      "source": [
        "# いちおうコンピュータにも計算させてみる...\n",
        "X = np.array([6, 9, 10, 15])\n",
        "print(X)\n",
        "print(np.mean(X))\n",
        "print()\n",
        "X = np.array([1, 2, 3, 4, 5, 6, 7, 8, 9, 10])\n",
        "print(X)\n",
        "print(np.mean(X))"
      ],
      "execution_count": null,
      "outputs": []
    },
    {
      "cell_type": "markdown",
      "metadata": {
        "id": "2Qgn_-JXi24Q"
      },
      "source": [
        "平均は，データの代表値の中でも最もよく用いられるものである．\n",
        "データの値がどんな大きさであるかを一つの実数値で表す．データに大きい値が多ければ平均の値も大きくなり，小さい値が多ければ平均も小さくなる．"
      ]
    },
    {
      "cell_type": "markdown",
      "metadata": {
        "id": "BZ4hs5xUl7DM"
      },
      "source": [
        "----\n",
        "### 平均の性質\n"
      ]
    },
    {
      "cell_type": "markdown",
      "metadata": {
        "id": "ocFSYDNrowTZ"
      },
      "source": [
        "ex03課題Aで扱ったデータで，平均とデータの散らばり方の関係を見てみましょう．\n",
        "\n",
        "まずは平均を算出します．"
      ]
    },
    {
      "cell_type": "code",
      "metadata": {
        "id": "HbdPv8pYmTSG"
      },
      "source": [
        "# ex03課題A で扱ったデータを X1, X2, X3 とする\n",
        "X1 = df['小テスト1']\n",
        "X2 = df['小テスト1（+2.5）']\n",
        "X3 = df['小テスト2']\n",
        "\n",
        "# それぞれの平均を求めてみる\n",
        "print(f'X1の平均: {np.mean(X1):.3f}')\n",
        "print(f'X2の平均: {np.mean(X2):.3f}')\n",
        "print(f'X3の平均: {np.mean(X3):.3f}')"
      ],
      "execution_count": null,
      "outputs": []
    },
    {
      "cell_type": "markdown",
      "metadata": {
        "id": "jA67hVnBo_n2"
      },
      "source": [
        "`X1` と `X3` は平均が等しく，`X2` はそれらより大きな平均値を持っています．\n",
        "これらのヒストグラムは..."
      ]
    },
    {
      "cell_type": "code",
      "metadata": {
        "id": "C4zxWIbloN1E"
      },
      "source": [
        "# X1, X2, X3 のヒストグラム\n",
        "fig, ax = plt.subplots(3, 1, facecolor=\"white\", figsize=(8, 9))\n",
        "ax[0].hist(X1, bins=np.arange(0, 10, 0.5), label='X1')\n",
        "ax[0].legend()\n",
        "ax[1].hist(X2, bins=np.arange(0, 10, 0.5), label='X2')\n",
        "ax[1].legend()\n",
        "ax[2].hist(X3, bins=np.arange(0, 10, 0.5), label='X3')\n",
        "ax[2].legend()\n",
        "plt.show()"
      ],
      "execution_count": null,
      "outputs": []
    },
    {
      "cell_type": "markdown",
      "metadata": {
        "id": "CXT1RAbBpNXi"
      },
      "source": [
        "こんなんです． `X2` は平均が他より大きかったことに対応して，データの中により大きな値を含んでいます．\n",
        "一方，`X1` と `X3` は，平均は等しいですが，データの散らばり方は全く異なっています．\n",
        "\n",
        "特に，`X3` については，平均は 3.555 ですが，平均に近い値の度数は大きくない（むしろ小さい）ことに注意してください．\n",
        "\n",
        "平均というのは有用な代表値ですが，それだけではデータの傾向を把握しきれないことがわかりますね．"
      ]
    },
    {
      "cell_type": "markdown",
      "metadata": {
        "id": "5GKv2bT5WUiW"
      },
      "source": [
        "----\n",
        "### 分散の定義"
      ]
    },
    {
      "cell_type": "markdown",
      "metadata": {
        "id": "T0Yc6hb1Woct"
      },
      "source": [
        "$N$個の標本 $x_{1}, x_{2}, \\dots , x_{N}$ が与えられたとします．このとき，これらの標本の **分散** は，「それぞれの標本値から平均を引いて2乗したものの平均」と定義します．\n",
        "\n",
        "これらの標本の平均を $\\bar{x}$ とおくと，「標本値 $x_n$ から平均を引いたもの」は\n",
        "$ x_n - \\bar{x} $ と表わせます．したがって，その2乗は $( x_n - \\bar{x})^2$ である．この値は $n = 1$ から $n = N$ まで全部で $N$ 個あるので，その平均は\n",
        "\n",
        "$$ \\frac{1}{N}\\sum_{n=1}^{N} ( x_n - \\bar{x})^2 $$\n",
        "\n",
        "という式で表されます．\n",
        "\n",
        "平均は $\\bar{x}$ という記号で表しましたが，ここでは分散を $s^2$ と表すことにします．「$s^2 = (\\mbox{分散})$」　ですので，\n",
        "$$\n",
        "s^2 = \\frac{1}{N}\\sum_{n=1}^{N} ( x_n - \\bar{x})^2 $$\n",
        "ということです．"
      ]
    },
    {
      "cell_type": "markdown",
      "metadata": {
        "id": "SFloGorQbapb"
      },
      "source": [
        "**［Q3］**  Q1 のデータの分散を求めなさい．"
      ]
    },
    {
      "cell_type": "markdown",
      "metadata": {
        "id": "4NsqHH2EbiT0"
      },
      "source": [
        "**[A3]** \n",
        "$$\\begin{aligned}\n",
        " \\frac{1}{4} \\sum_{n=1}^{4} (x_n - \\bar{x})^2 &= \\frac{1}{4}\\left((6 - 10)^2 + (9-10)^2+(10-10)^2+(15-10)^2\\right) \\\\\n",
        " &= \\frac{1}{4}(16+1+0+25) = 10.5\n",
        " \\end{aligned}\n",
        " $$\n",
        "\n",
        " A1 で求めた平均は，[cm]単位の値を単純に足し合わせる計算で求まるため，単位は元の標本と同じになります．\n",
        " ですが，分散は値を二乗して足し合わせているため，元の標本とは単位が合いません．[cm]をつけると間違いになります．この例で単位を書くなら [cm${}^2$] ということになります．"
      ]
    },
    {
      "cell_type": "code",
      "metadata": {
        "id": "0PgB-Fb9hbFH"
      },
      "source": [
        "# いちおうコンピュータにも計算させてみる...\n",
        "X = np.array([6, 9, 10, 15])\n",
        "print(X)\n",
        "print(np.var(X))"
      ],
      "execution_count": null,
      "outputs": []
    },
    {
      "cell_type": "markdown",
      "metadata": {
        "id": "5JtdEH45fwmv"
      },
      "source": [
        "----\n",
        "### 分散の性質\n",
        "\n",
        "分散の定義に出てくる $(x_n - \\bar{x})^2$ という値は，「標本値 $x_n$ が平均 $\\bar{x}$ からどれだけずれているか」を表す量 $(x_n - \\bar{x})$ の2乗です．\n",
        "この値は，$x_n$ が $\\bar{x}$ から大きくずれているとき，つまり， $x_n$ が $\\bar{x}$ よりずっと大きい（$x_n - \\bar{x}$ が正で大きい）ときも，$x_n$ が $\\bar{x}$ よりずっと小さい（$x_n - \\bar{x}$ が負で小さい=絶対値が大きい）ときも，大きな値になります（2乗してるから）．\n",
        "\n",
        "分散は，そのような値の平均ですので，標本値の平均からのずれの大きさを表す量となります．\n",
        "\n",
        "データの散らばりが大きいと分散は大きくなり，散らばりが小さいと分散は小さくなります．定義から明らかですが，負の値にはなりません．"
      ]
    },
    {
      "cell_type": "markdown",
      "metadata": {
        "id": "vhBIXiWnhpoI"
      },
      "source": [
        "**［Q4］** 次のデータの平均と分散を求めなさい．\n",
        "\n",
        "|$x_1$|$x_2$|$x_3$|$x_4$|\n",
        "|----|----|----|----|\n",
        "|9.9|9.8|10.3|10|"
      ]
    },
    {
      "cell_type": "markdown",
      "metadata": {
        "id": "6-rfi-cyiGGj"
      },
      "source": [
        "**[A4]** 計算式書くのさぼってコンピュータに計算させて済ませます．\n"
      ]
    },
    {
      "cell_type": "code",
      "metadata": {
        "id": "AO7jUn60iNnA"
      },
      "source": [
        "X = np.array([9.9, 9.8, 10.3, 10.0])\n",
        "print('平均:', np.mean(X))\n",
        "print('分散:', np.var(X))"
      ],
      "execution_count": null,
      "outputs": []
    },
    {
      "cell_type": "markdown",
      "metadata": {
        "id": "Nj33UsH8ik5-"
      },
      "source": [
        "このデータは Q1, Q3 のデータと平均は同じですが，標本値の散らばりが小さいため，分散の値がずっと小さくなっているのがわかりますね．"
      ]
    },
    {
      "cell_type": "markdown",
      "metadata": {
        "id": "YgVK0Fxqj-LL"
      },
      "source": [
        "**[Q5]**  分散が $0$ となるのはどんなときか．"
      ]
    },
    {
      "cell_type": "markdown",
      "metadata": {
        "id": "lbm-_VNkkC16"
      },
      "source": [
        "**[A5]** 分散が $0$ になるということは，すべての標本値について $(x_n - \\bar{x})^2 = 0$ とならないといけません．\n",
        "このとき，$x_n = \\bar{x}$ です．\n",
        "つまり，すべての標本値が等しいと分散は $0$ になり，分散が $0$ ならすべての標本値が等しくなります．"
      ]
    },
    {
      "cell_type": "code",
      "metadata": {
        "id": "V8xo5Zyylnwb"
      },
      "source": [
        "X = np.array([10, 10, 10, 10])\n",
        "print('平均:', np.mean(X))\n",
        "print('分散:', np.var(X))"
      ],
      "execution_count": null,
      "outputs": []
    },
    {
      "cell_type": "markdown",
      "metadata": {
        "id": "ydgrSXiLqIzQ"
      },
      "source": [
        "もう一度，ex03課題Aで扱ったデータで，平均とデータの散らばり方の関係を見てみましょう．\n",
        "\n",
        "平均に加えて分散も算出します．"
      ]
    },
    {
      "cell_type": "code",
      "metadata": {
        "id": "w8J10mthqDgl"
      },
      "source": [
        "# ex03課題A で扱ったデータを X1, X2, X3 とする\n",
        "X1 = df['小テスト1']\n",
        "X2 = df['小テスト1（+2.5）']\n",
        "X3 = df['小テスト2']\n",
        "\n",
        "# それぞれの平均を求めてみる\n",
        "print(f'X1の平均: {np.mean(X1):.3f}   X1の分散: {np.var(X1):.3f}')\n",
        "print(f'X2の平均: {np.mean(X2):.3f}   X2の分散: {np.var(X2):.3f}')\n",
        "print(f'X3の平均: {np.mean(X3):.3f}   X3の分散: {np.var(X3):.3f}')"
      ],
      "execution_count": null,
      "outputs": []
    },
    {
      "cell_type": "markdown",
      "metadata": {
        "id": "b8OUlJT_qbtc"
      },
      "source": [
        "分散の方は，`X1` と `X2` で等しく，`X3` の分散はそれらより大きくなっています．\n",
        "もっかいヒストグラムを..."
      ]
    },
    {
      "cell_type": "code",
      "metadata": {
        "id": "oD0pGl5gqcay"
      },
      "source": [
        "# X1, X2, X3 のヒストグラム\n",
        "fig, ax = plt.subplots(3, 1, facecolor=\"white\", figsize=(8, 9))\n",
        "ax[0].hist(X1, bins=np.arange(0, 10, 0.5), label='X1')\n",
        "ax[0].legend()\n",
        "ax[1].hist(X2, bins=np.arange(0, 10, 0.5), label='X2')\n",
        "ax[1].legend()\n",
        "ax[2].hist(X3, bins=np.arange(0, 10, 0.5), label='X3')\n",
        "ax[2].legend()\n",
        "plt.show()"
      ],
      "execution_count": null,
      "outputs": []
    },
    {
      "cell_type": "markdown",
      "metadata": {
        "id": "Zn-vYCnsq4po"
      },
      "source": [
        "見ての通り，分散の大きさが表す通り，`X1` と `X2` の値の散らばり方はよく似ており，`X3`の散らばり方はそれらより大きくなっています．"
      ]
    },
    {
      "cell_type": "markdown",
      "metadata": {
        "id": "FCc2ntFzsI_Q"
      },
      "source": [
        "----\n",
        "### 標準偏差の定義\n",
        "\n",
        "$N$個の標本 $x_{1}, x_{2}, \\dots , x_{N}$ が与えられたとします．このとき，これらの標本の **標準偏差** は，「分散の平方根」と定義されます．\n",
        "\n",
        "平均が $\\bar{x}$，分散が $s^2$ と表される場合，\n",
        "$$\n",
        "s^2 = \\frac{1}{N}\\sum_{n=1}^{N} ( x_n - \\bar{x})^2\n",
        "$$\n",
        "でしたから，このときの標準偏差は\n",
        "$$\n",
        "\\sqrt{s^2} = \\sqrt{\\frac{1}{N}\\sum_{n=1}^{N} ( x_n - \\bar{x})^2}\n",
        "$$\n",
        "と表せます．ただ平方根付けただけ...．"
      ]
    },
    {
      "cell_type": "markdown",
      "metadata": {
        "id": "3iD-yfQDtRrJ"
      },
      "source": [
        "**［Q6］**  Q1 のデータ（単位は[cm]）の標準偏差を求めなさい．\n",
        "\n",
        "|$x_1$|$x_2$|$x_3$|$x_4$|\n",
        "|----|----|----|----|\n",
        "|6|9|10|15|\n"
      ]
    },
    {
      "cell_type": "markdown",
      "metadata": {
        "id": "fdYnzmIMtZVH"
      },
      "source": [
        "**[A6]** A3 より分散が $10.5$ なので，標準偏差は\n",
        "$$\n",
        "\\sqrt{10.5} \\approx 3.24 \\quad\\rm{[cm]}\n",
        "$$\n",
        "となります（「$x\\approx y$」は，$x$ と $y$ が「近似的に等しい」ことを表します）．\n",
        "\n",
        "分散の平方根の値であることから，標準偏差は元の標本値と同じ単位を持ちます．そのため，データの散らばり方を表す際には，分散よりも標準偏差を用いた方が，直感的にわかりやすいでしょう．"
      ]
    },
    {
      "cell_type": "markdown",
      "metadata": {
        "id": "IiwSOWxivznw"
      },
      "source": [
        "----\n",
        "$N$ で割るか $N-1$ で割るか"
      ]
    },
    {
      "cell_type": "markdown",
      "metadata": {
        "id": "8GVDzyVfv4St"
      },
      "source": [
        "データ分析や確率・統計の教科書等を見ていると，分散の式が\n",
        "$$\n",
        "\\frac{1}{N-1}\\sum_{n=1}^{N} ( x_n - \\bar{x})^2\n",
        "$$\n",
        "のように，割る数が $N$ ではなく $N-1$ となっていることがあります．\n",
        "これには深いわけがあるのですが，この授業では説明しません．分散は，先に述べた通り，$N$ で割るものとすればokです．この深いわけについては，この授業に続く，「確率統計」などの科目で学ぶことができるかもしれません．\n",
        "\n",
        "気になるひとは，「不偏分散」というキーワードで調べてみるとよいでしょう．"
      ]
    },
    {
      "cell_type": "markdown",
      "metadata": {
        "id": "9dTpw6B4yHtH"
      },
      "source": [
        "----\n",
        "### 定数 $b$ を加えたデータの平均と分散は？\n"
      ]
    },
    {
      "cell_type": "markdown",
      "metadata": {
        "id": "sbvnRhlbyWyG"
      },
      "source": [
        "ex03 の課題では，実際のデータに一定の数を加えたり定数倍したりして，平均や分散がどのように変化するのか観察しました．\n",
        "観察結果からすると，定数を加えたり定数倍したときの平均や分散の値の変化には一定の法則がありそうです．\n",
        "いくつかのデータでその法則性を予想しただけでは，どんなデータでも成り立つかどうかわかりませんので，ここでその法則を数式によって導いてみましょう．\n"
      ]
    },
    {
      "cell_type": "markdown",
      "metadata": {
        "id": "3x6zlxSYzV4Z"
      },
      "source": [
        "$N$個の標本 $x_{1}, x_{2}, \\dots , x_{N}$ が与えられたとします．\n",
        "このとき，各標本値に定数 $b$ を加えた値 $y_n = x_n + b$ を考えます（$n = 1, 2, \\dots , N$）．\n",
        "\n",
        "$N$個の標本 $y_1, y_2, \\dots , y_N$ の平均を $\\bar{y}$ とおくと，次のように変形できます．\n",
        "$$\n",
        "\\begin{aligned}\n",
        "\\bar{y} &= \\frac{1}{N}\\sum_{n=1}^{N}y_n = \\frac{1}{N}\\sum_{n=1}^{N}(x_n + b)\\\\\n",
        "&= \\frac{1}{N}\\sum_{n=1}^{N}x_n + \\frac{1}{N}\\sum_{n=1}^{N}b \\\\\n",
        "&= \\bar{x} + \\frac{1}{N} \\times b \\times N = \\bar{x} + b\n",
        "\\end{aligned}\n",
        "$$\n",
        "この式から，「**データに定数 $b$ を加えると，加えたあとのデータの平均も，元の平均に $b$ を加えたものになる**」ことがわかります．"
      ]
    },
    {
      "cell_type": "markdown",
      "metadata": {
        "id": "LKcb1ZP909Do"
      },
      "source": [
        "では，分散はどうなるでしょう？\n",
        "\n",
        "こちらは，式変形していくと，こんなんなります．\n",
        "$$\n",
        "\\begin{aligned}\n",
        "(y_n\\mbox{の分散}) &= \\frac{1}{N}\\sum_{n=1}^{N} (y_n - \\bar{y})^2 = \\frac{1}{N}\\sum_{n=1}^{N} (x_n + b - (\\bar{x}+b))^2\\\\\n",
        "&= \\frac{1}{N}\\sum_{n=1}^{N} (x_n - \\bar{x})^2\n",
        "\\end{aligned}\n",
        "$$\n",
        "ここで出てきた最後の式は，$x_1, x_2, \\dots , x_N$ の分散そのものです．\n",
        "つまり，「**データに定数を加えても分散は変わらない**」ことがわかりますわかります．もちろん標準偏差も同様．"
      ]
    },
    {
      "cell_type": "markdown",
      "metadata": {
        "id": "KGDtgAcL2Xd1"
      },
      "source": [
        "----\n",
        "### 定数倍（$a$倍）したデータの平均と分散は？"
      ]
    },
    {
      "cell_type": "markdown",
      "metadata": {
        "id": "fdy9zvlU29mp"
      },
      "source": [
        "定数を加えたときと同様に，データを定数倍したときに平均や分散がどうなるかを考えてみましょう．\n",
        "\n",
        "$N$個の標本 $x_{1}, x_{2}, \\dots , x_{N}$ が与えられたとします．\n",
        "このとき，各標本値を定数 $a$ 倍した値 $y_n = a x_n$ を考えます（$n = 1, 2, \\dots , N$）．\n"
      ]
    },
    {
      "cell_type": "markdown",
      "metadata": {
        "id": "ejpCz87W3ZaC"
      },
      "source": [
        "$N$個の標本 $y_1, y_2, \\dots , y_N$ の平均を $\\bar{y}$ とおくと，次のように変形できます．\n",
        "$$\n",
        "\\begin{aligned}\n",
        "\\bar{y} &= \\frac{1}{N}\\sum_{n=1}^{N}y_n = \\frac{1}{N}\\sum_{n=1}^{N}a x_n\\\\\n",
        "&= a \\times \\frac{1}{N}\\sum_{n=1}^{N}x_n = a\\bar{x}\n",
        "\\end{aligned}\n",
        "$$\n",
        "この式から，「**データを定数 $a$ 倍すると，平均も，元の平均の $a$ 倍になる**」ことがわかります．"
      ]
    },
    {
      "cell_type": "markdown",
      "metadata": {
        "id": "xebs69Tj4LvK"
      },
      "source": [
        "では分散は...\n",
        "$$\n",
        "\\begin{aligned}\n",
        "(y_n\\mbox{の分散}) &= \\frac{1}{N}\\sum_{n=1}^{N} (y_n - \\bar{y})^2 = \\frac{1}{N}\\sum_{n=1}^{N} (ax_n - a\\bar{x})^2\\\\\n",
        "&= a^2 \\times \\frac{1}{N}\\sum_{n=1}^{N} (x_n - \\bar{x})^2 = a^2 \\times (x_n\\mbox{の分散}) \n",
        "\\end{aligned}\n",
        "$$\n",
        "こうなりました．「**データを定数 $a$ 倍すると，分散は元の $a^2$ 倍になる**」ですね．\n",
        "$a$ 倍ではありません．\n",
        "\n",
        "ちなみに，標準偏差は分散の平方根ですので，「**データを定数 $a$ 倍すると，標準偏差は元の $|a|$ 倍になる**」ということになります．絶対値がつくことに注意．"
      ]
    },
    {
      "cell_type": "markdown",
      "metadata": {
        "id": "x_dOZSsD6JdK"
      },
      "source": [
        "----\n",
        "### $a$ 倍して $b$ を加えると？\n"
      ]
    },
    {
      "cell_type": "markdown",
      "metadata": {
        "id": "puMnSfAP6Pv5"
      },
      "source": [
        "ここまで分かれば，あとはひたすらがりがり計算するだけです．\n",
        "結果だけ書いておきますので，ぜひ自分で導出してみてください．\n",
        "\n"
      ]
    },
    {
      "cell_type": "markdown",
      "metadata": {
        "id": "zae2bGdM7Ax7"
      },
      "source": [
        "$N$個の標本 $x_{1}, x_{2}, \\dots , x_{N}$ が与えられたとします．\n",
        "このとき，$N$個の標本 $y_n $ を $y_n = a x_n + b$ と定めます（$n=1,2,\\dots , N$）．\n",
        "標本 $x_n$ の平均と分散を $\\bar{x}$ および $s^2$ とおくと， $y_n$ の平均は $a\\bar{x} + b$ となり，分散は $a^2s^2$ となります．"
      ]
    },
    {
      "cell_type": "markdown",
      "metadata": {
        "id": "6c7QoJJG81YI"
      },
      "source": [
        "というわけで，ここまでの話をふまえて，ex03Bでやったことをもう一度やってみましょう．"
      ]
    },
    {
      "cell_type": "code",
      "metadata": {
        "id": "05Cp_mzXsIsS"
      },
      "source": [
        "# データを作成\n",
        "X = 2*np.random.randn(1000) + 3\n",
        "\n",
        "# 変数 X に格納された標本の数は...\n",
        "print('サンプルサイズ:', len(X))\n",
        "print()\n",
        "# 変数 X に格納されたデータのうち最初の5つを表示してみる\n",
        "print(X[:10])\n",
        "\n",
        "# X のヒストグラム\n",
        "fig, ax = plt.subplots(facecolor=\"white\", figsize=(8, 6))\n",
        "bins = np.arange(-6, 12, 0.5)\n",
        "ax.hist(X, bins=bins)\n",
        "plt.show()"
      ],
      "execution_count": null,
      "outputs": []
    },
    {
      "cell_type": "code",
      "metadata": {
        "id": "6alSYkVV8rZJ"
      },
      "source": [
        "#@title `a` と `b` に適当な数値を入れて，「Shift+Enter」押してみてね（Shiftキー押しながらEnterキーを押す） { display-mode: \"form\" }\n",
        "a = 1#@param {type:\"number\"}\n",
        "b = 0#@param {type:\"number\"}\n",
        "\n",
        "# Y は， X を a 倍して b を加えたもの\n",
        "Y = a*X + b\n",
        "\n",
        "# X と Y のヒストグラム\n",
        "fig, ax = plt.subplots(2, 1, facecolor=\"white\", figsize=(8, 6))\n",
        "bins = np.arange(-15, 20, 0.5)\n",
        "ax[0].hist(X, bins=bins, label=\"X\")\n",
        "ax[0].legend()\n",
        "ax[1].hist(Y, bins=bins, label=\"Y\")\n",
        "ax[1].legend()\n",
        "plt.show()\n",
        "\n",
        "print()\n",
        "print('X の最初の5個の標本値')\n",
        "print(X[:5])\n",
        "print(f'平均: {np.mean(X):.3f} 標準偏差: {np.std(X):.3f} 分散: {np.var(X):.3f}')\n",
        "print()\n",
        "print('Y の最初の5個の標本値')\n",
        "print(Y[:5])\n",
        "print(f'平均: {np.mean(Y):.3f} 標準偏差: {np.std(Y):.3f} 分散: {np.var(Y):.3f}')"
      ],
      "execution_count": null,
      "outputs": []
    },
    {
      "cell_type": "code",
      "metadata": {
        "id": "eMv3N1H59dBq"
      },
      "source": [
        ""
      ],
      "execution_count": null,
      "outputs": []
    }
  ]
}