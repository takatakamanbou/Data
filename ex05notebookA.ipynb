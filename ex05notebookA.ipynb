{
  "nbformat": 4,
  "nbformat_minor": 0,
  "metadata": {
    "colab": {
      "provenance": [],
      "collapsed_sections": [],
      "authorship_tag": "ABX9TyM0Quh6vvoZO+chz4Enxwza",
      "include_colab_link": true
    },
    "kernelspec": {
      "name": "python3",
      "display_name": "Python 3"
    }
  },
  "cells": [
    {
      "cell_type": "markdown",
      "metadata": {
        "id": "view-in-github",
        "colab_type": "text"
      },
      "source": [
        "<a href=\"https://colab.research.google.com/github/takatakamanbou/Data/blob/2022/ex05notebookA.ipynb\" target=\"_parent\"><img src=\"https://colab.research.google.com/assets/colab-badge.svg\" alt=\"Open In Colab\"/></a>"
      ]
    },
    {
      "cell_type": "markdown",
      "metadata": {
        "id": "2UzDNLmVS3po"
      },
      "source": [
        "# Data2022 ex05notebookA\n",
        "\n",
        "<img width=64 src=\"https://www-tlab.math.ryukoku.ac.jp/~takataka/course/Data/Data-logo05.png\"> https://www-tlab.math.ryukoku.ac.jp/wiki/?Data/2022"
      ]
    },
    {
      "cell_type": "markdown",
      "metadata": {
        "id": "_4-TmUdCd9FJ"
      },
      "source": [
        "## 準備\n",
        "\n",
        "以下，コードセルを上から順に実行していってね．"
      ]
    },
    {
      "cell_type": "code",
      "metadata": {
        "id": "QQ8M3640S1W7"
      },
      "source": [
        "# 準備あれこれ\n",
        "import numpy as np\n",
        "import matplotlib.pyplot as plt\n",
        "import pandas as pd\n",
        "import seaborn\n",
        "seaborn.set()"
      ],
      "execution_count": null,
      "outputs": []
    },
    {
      "cell_type": "code",
      "metadata": {
        "id": "If5pCB6bc3QF"
      },
      "source": [
        "# データを読み込む\n",
        "dfMPI = pd.read_csv('https://www-tlab.math.ryukoku.ac.jp/~takataka/course/Data/mpiS100.csv', header=0)\n",
        "#dfMPI\n",
        "dfMPI.drop(columns=['学籍番号'], inplace=True)\n",
        "dfMPI.index = np.arange(1, len(dfMPI)+1, dtype=int)\n",
        "\n",
        "# あとで使う関数の定義\n",
        "\n",
        "def R(theta):\n",
        "    c, s = np.cos(theta), np.sin(theta)   \n",
        "    return np.array([[c, -s], [s, c]])  # 回転行列\n",
        "\n",
        "def Gaussian(mu, sigma2, theta, N=200):\n",
        "    Rmat = R(theta)\n",
        "    cov = Rmat @ np.diag(sigma2) @ Rmat.T\n",
        "    np.random.seed(0)\n",
        "    return np.random.multivariate_normal(mu, cov, size=N)"
      ],
      "execution_count": null,
      "outputs": []
    },
    {
      "cell_type": "markdown",
      "metadata": {
        "id": "7H45eNIcd2xB"
      },
      "source": [
        "----\n",
        "## 散布図と相関 その(1)\n",
        "----\n",
        "\n",
        "これまでは，個々の標本の値が一つの量であるような場合について，データを視覚化したり要約したりする方法を考えてきましたが，ここでは，2つ以上の量をひと組としてデータを扱う場合を考えます．\n",
        "\n",
        "そのようなデータを視覚化するものとして **散布図** を，データの性質を要約する量として **相関係数** を取り上げ，説明します．\n",
        "\n"
      ]
    },
    {
      "cell_type": "markdown",
      "metadata": {
        "id": "gTuf-qRyRVSp"
      },
      "source": [
        "----\n",
        "### 複数の量から成るデータ\n",
        "\n",
        "課題でも使った，「数学」，「物理」，「情報」の点数データ（サンプルサイズ $100$）は，次のようなものでした．\n"
      ]
    },
    {
      "cell_type": "code",
      "metadata": {
        "id": "M7SQCeuFjpDA"
      },
      "source": [
        "dfMPI"
      ],
      "execution_count": null,
      "outputs": []
    },
    {
      "cell_type": "markdown",
      "metadata": {
        "id": "CUYlq3lrkIFe"
      },
      "source": [
        "このデータは，各行がそれぞれある一人の生徒の「数学」，「物理」，「情報」の点数を表しています．\n",
        "$n$ 番目の生徒の「数学」，「物理」，「情報」の点数をそれぞれ $a_n, b_n, c_n$ と表すことにすると，$n$番目のデータは3つの値の組 $(a_n, b_n, c_n)$ で与えられます（$n=1,2,\\dots , 100$）．\n",
        "\n",
        "たとえば， $n=1$ のデータは $(a_1, b_1, c_1) = (66, 27, 52)$，$n=100$ のデータは $(a_{100}, b_{100}, c_{100}) = (58, 32, 69)$ ですね．\n",
        "\n",
        "このデータのように，1つのデータが2つ以上の量の組で表されるようなものを，**多変量**のデータと言うことがあります．\n",
        "\n",
        "以降の説明では，1つのデータが2つの量で表される場合を考えます．\n",
        "3つ以上の量で表されるデータの場合は，そこから適当に2つの量を選んで考えている，と解釈すればokです．\n"
      ]
    },
    {
      "cell_type": "markdown",
      "metadata": {
        "id": "rkuFLCDG7q06"
      },
      "source": [
        "----\n",
        "### 散布図\n",
        "\n",
        "$N$ 組の値 $(x_1, y_1), (x_2, y_2), \\dots , (x_N, y_N)$ から成るデータを考えます．\n",
        "このとき，$(x_n, y_n)$ を座標とする点（$n = 1, 2, \\dots, N$の$N$個ある）を平面上に描いたグラフを **散布図** と言います．"
      ]
    },
    {
      "cell_type": "markdown",
      "metadata": {
        "id": "zNIKkzae8-wQ"
      },
      "source": [
        "関連の課題では，上記の「数学」，「物理」，「情報」のデータについて，\n",
        "\n",
        "1. 「数学」と「物理」\n",
        "1. 「数学」と「情報」\n",
        "1. 「物理」と「情報」\n",
        "\n",
        "の3種類の散布図を描いてもらいました．こんなんでしたね．\n"
      ]
    },
    {
      "cell_type": "code",
      "metadata": {
        "id": "OuZD4JOG98vt"
      },
      "source": [
        "# 「数学」vs「物理」，「数学」vs「情報」，「物理」vs「情報」の散布図\n",
        "#\n",
        "fig, ax = plt.subplots(1, 3, facecolor=\"white\", figsize=(16, 5))\n",
        "ax[0].scatter(dfMPI['数学'], dfMPI['物理'])   # 数学 vs 物理\n",
        "ax[0].set_title('Math vs Physics')\n",
        "ax[0].set_xlim(0, 100)\n",
        "ax[0].set_ylim(0, 100)\n",
        "ax[1].scatter(dfMPI['数学'], dfMPI['情報'])   # 数学 vs 情報\n",
        "ax[1].set_title('Math vs Information')\n",
        "ax[1].set_xlim(0, 100)\n",
        "ax[1].set_ylim(0, 100)\n",
        "ax[2].scatter(dfMPI['物理'], dfMPI['情報'])   # 物理 vs 情報\n",
        "ax[2].set_title('Physics vs Information')\n",
        "ax[2].set_xlim(0, 100)\n",
        "ax[2].set_ylim(0, 100)\n",
        "plt.show()"
      ],
      "execution_count": null,
      "outputs": []
    },
    {
      "cell_type": "markdown",
      "metadata": {
        "id": "YcUaIxz-ARzw"
      },
      "source": [
        "それぞれの散布図の一つ一つの点は，ひとつひとつのデータの値を表しています．\n",
        "この例では，$N = 100$ 個あるデータをすべて描いていますので，点の数は100個あるはずです．"
      ]
    },
    {
      "cell_type": "markdown",
      "metadata": {
        "id": "WXPvGOtBBJnW"
      },
      "source": [
        "詳しくはここでは触れませんが，散布図を描く際は，縦軸横軸の範囲の指定に注意が必要ですね．\n",
        "範囲が異なればグラフが全く違って見えますので，誤った印象を持ってしまう場合があります．\n",
        "例は示しませんが，描画領域の縦横の大きさの比率も重要ですね．"
      ]
    },
    {
      "cell_type": "code",
      "metadata": {
        "id": "c88weeQpBnt_"
      },
      "source": [
        "# 「数学」vs「物理」，「数学」vs「情報」，「物理」vs「情報」の散布図(2)\n",
        "#\n",
        "fig, ax = plt.subplots(1, 3, facecolor=\"white\", figsize=(16, 5))\n",
        "ax[0].scatter(dfMPI['数学'], dfMPI['物理'])   # 数学 vs 物理\n",
        "ax[0].set_title('Math vs Physics')\n",
        "ax[0].set_xlim(0, 100)\n",
        "ax[0].set_ylim(0, 500)\n",
        "ax[1].scatter(dfMPI['数学'], dfMPI['情報'])   # 数学 vs 情報\n",
        "ax[1].set_title('Math vs Information')\n",
        "ax[1].set_xlim(30, 80)\n",
        "ax[1].set_ylim(45, 100)\n",
        "ax[2].scatter(dfMPI['物理'], dfMPI['情報'])   # 物理 vs 情報\n",
        "ax[2].set_title('Physics vs Information')\n",
        "ax[2].set_xlim(0, 70)\n",
        "ax[2].set_ylim(0, 100)\n",
        "plt.show()"
      ],
      "execution_count": null,
      "outputs": []
    },
    {
      "cell_type": "markdown",
      "metadata": {
        "id": "niCGQBcYCqCF"
      },
      "source": [
        "最初の散布図を見ると，「数学」と「情報」の散布図は，他の二つとは点の散らばり方がずいぶん違っているように見えます．\n",
        "このことを確認しやすくするため，散布図に補助線を追加してみましょう．\n",
        "横軸/縦軸に対応するデータの平均値を表す垂直/水平の線を描いてみます．"
      ]
    },
    {
      "cell_type": "code",
      "metadata": {
        "id": "6DAfyQLuC_T1"
      },
      "source": [
        "# 数学，物理，情報それぞれの平均\n",
        "xm = dfMPI.mean(axis=0)\n",
        "print(xm)"
      ],
      "execution_count": null,
      "outputs": []
    },
    {
      "cell_type": "code",
      "metadata": {
        "id": "W0SY9b-bC5Wq"
      },
      "source": [
        "# 「数学」vs「物理」，「数学」vs「情報」，「物理」vs「情報」の散布図(3)\n",
        "#\n",
        "fig, ax = plt.subplots(1, 3, facecolor=\"white\", figsize=(16, 5))\n",
        "ax[0].scatter(dfMPI['数学'], dfMPI['物理'])   # 数学 vs 物理\n",
        "ax[0].set_title('Math vs Physics')\n",
        "ax[0].set_xlim(0, 100)\n",
        "ax[0].set_ylim(0, 100)\n",
        "ax[0].vlines(xm['数学'], 0, 100, ls=\"--\", color=\"grey\")\n",
        "ax[0].hlines(xm['物理'], 0, 100, ls=\"--\", color=\"grey\")\n",
        "ax[1].scatter(dfMPI['数学'], dfMPI['情報'])   # 数学 vs 情報\n",
        "ax[1].set_title('Math vs Information')\n",
        "ax[1].set_xlim(0, 100)\n",
        "ax[1].set_ylim(0, 100)\n",
        "ax[1].vlines(xm['数学'], 0, 100, ls=\"--\", color=\"grey\")\n",
        "ax[1].hlines(xm['情報'], 0, 100, ls=\"--\", color=\"grey\")\n",
        "ax[2].scatter(dfMPI['物理'], dfMPI['情報'])   # 物理 vs 情報\n",
        "ax[2].set_title('Physics vs Information')\n",
        "ax[2].set_xlim(0, 100)\n",
        "ax[2].set_ylim(0, 100)\n",
        "ax[2].vlines(xm['物理'], 0, 100, ls=\"--\", color=\"grey\")\n",
        "ax[2].hlines(xm['情報'], 0, 100, ls=\"--\", color=\"grey\")\n",
        "plt.show()"
      ],
      "execution_count": null,
      "outputs": []
    },
    {
      "cell_type": "markdown",
      "metadata": {
        "id": "wJ9inCsVHwvY"
      },
      "source": [
        "「数学」と「物理」や「物理」と「情報」の散布図では，平均点の破線で分割された4つの領域にデータが同じように散らばっているように見えます．\n",
        "ところが，「数学」と「情報」の散布図では，\n",
        "\n",
        "- 「数学」が平均点より低くて，「情報」が平均点より高い\n",
        "- 「数学」が平均点より高くて，「情報」が平均点より低い\n",
        "\n",
        "という二つの領域に他の2つの領域より点がたくさん存在しており，分布が右下がりになっているようです．\n",
        "\n",
        "このことから，「数学の点数が高いひとは情報の点数が低い傾向にある」ということが読み取れます．\n",
        "このように，散布図は，2つの量の間にどのような関係があるかを視覚的に捉えるために使うことができます（ただし，その解釈には注意が必要です．「**疑似相関**」の項参照（後日説明します））．\n"
      ]
    },
    {
      "cell_type": "markdown",
      "metadata": {
        "id": "qct9G9PpKV1H"
      },
      "source": [
        "----\n",
        "### 相関係数\n",
        "\n",
        "上記の例で散布図から読み取ったようなデータの傾向を，もっと客観的に測る指標として，**相関係数** というものがあります．\n",
        "\n",
        "\n"
      ]
    },
    {
      "cell_type": "markdown",
      "metadata": {
        "id": "TUl4OBXBNBEi"
      },
      "source": [
        "$(x_1, y_1), (x_2, y_2), \\dots , (x_N, y_N)$ という $N$ 組のデータを考えます．\n",
        "説明をしやすくするために，$x_1, x_2, \\dots, x_N$ という値を表す名前として $X$ を， $y_1, y_2, \\dots, y_N$ という値を表す名前として $Y$ を， それぞれ使うことにします．\n",
        "このとき，このデータの **相関係数** を $r$ という記号で表すことにすると，$r$は次式で与えられます．\n",
        "\n",
        "$$\n",
        "\\begin{aligned}\n",
        "r &= \\frac{s_{XY}}{s_X s_Y}\n",
        "\\end{aligned}\n",
        "$$\n",
        "\n",
        "ただし， $s_X$ と $s_Y$ はそれぞれ $X$ と $Y$ の標準偏差，つまり\n",
        "\n",
        "$$\n",
        "s_X = \\sqrt{\\frac{1}{N}\\sum_{n=1}^{N}(x_n - \\bar{x})^2}\\qquad\n",
        "s_Y= \\sqrt{\\frac{1}{N}\\sum_{n=1}^{N}(y_n - \\bar{y})^2}\n",
        "$$\n",
        "\n",
        "です（$\\bar{x}, \\bar{y}$は $X, Y$ それぞれの平均）．\n",
        "また，$s_{XY}$ は $X$ と $Y$ の **共分散** と呼ばれる量で，次式で定義されます．\n",
        "\n",
        "$$\n",
        "s_{XY} = \\frac{1}{N}\\sum_{n=1}^{N}(x_n - \\bar{x})(ｙ_n - \\bar{y})\n",
        "$$"
      ]
    },
    {
      "cell_type": "markdown",
      "metadata": {
        "id": "_po9gvV-Sn_P"
      },
      "source": [
        "以前の課題ですでに，上記の「数学」，「物理」，「情報」のデータについて，\n",
        "\n",
        "1. 「数学」と「物理」\n",
        "1. 「数学」と「情報」\n",
        "1. 「物理」と「情報」\n",
        "\n",
        "の間の相関係数を実際に計算してみてもらいました．こんな値だったはずです．\n"
      ]
    },
    {
      "cell_type": "code",
      "metadata": {
        "id": "zaAIu1VcTlo5"
      },
      "source": [
        "# 数学，物理，情報の2科目間の相関係数\n",
        "#\n",
        "labels = ['数学', '物理', '情報']\n",
        "for lab_i in labels[:-1]:\n",
        "    for lab_j in labels[1:]:\n",
        "        if lab_i != lab_j:\n",
        "            r = np.corrcoef(dfMPI[lab_i], dfMPI[lab_j])[1, 0]\n",
        "            print(f'{lab_i} vs {lab_j} の相関係数は {r:.3f}')"
      ],
      "execution_count": null,
      "outputs": []
    },
    {
      "cell_type": "markdown",
      "metadata": {
        "id": "uI-kx3M1W1Ly"
      },
      "source": [
        "これらの値がどのような意味を持つのか，相関係数の式の成り立ちから考えてみましょう．\n",
        "ポイントは，共分散\n",
        "\n",
        "$$\n",
        "s_{XY} = \\frac{1}{N}\\sum_{n=1}^{N}(x_n - \\bar{x})(ｙ_n - \\bar{y})\n",
        "$$\n",
        "の符号です．\n",
        "前のように散布図をXとYそれぞれの平均で4つの領域（あ）,（い）,（う）,（え）に分けて考えてみると，共分散の $\\Sigma$ の中の各項 $(x_n - \\bar{x})(y_n - \\bar{y})$ の符号を場合分けできます（下図参照）．"
      ]
    },
    {
      "cell_type": "markdown",
      "metadata": {
        "id": "jKljM3w0RUh3"
      },
      "source": [
        "<img width=\"400\" src=\"https://www-tlab.math.ryukoku.ac.jp/~takataka/course/Data/ex05-correl2.png\">\n",
        "\n",
        "- （あ）: $x_n > \\bar{x}$ かつ $y_n > \\bar{y}$ なので， $(x_n-\\bar{x})(y_n-\\bar{y}) > 0$\n",
        "- （い）: $x_n < \\bar{x}$ かつ $y_n > \\bar{y}$ なので， $(x_n-\\bar{x})(y_n-\\bar{y}) < 0$\n",
        "- （う）: $x_n < \\bar{x}$ かつ $y_n < \\bar{y}$ なので， $(x_n-\\bar{x})(y_n-\\bar{y}) > 0$\n",
        "- （え）: $x_n > \\bar{x}$ かつ $y_n < \\bar{y}$ なので， $(x_n-\\bar{x})(y_n-\\bar{y}) < 0$\n"
      ]
    },
    {
      "cell_type": "markdown",
      "metadata": {
        "id": "xFaWqiAtYVgd"
      },
      "source": [
        "ここから，（あ）や（う）に入るデータが多いと，共分散の値は符号が正で大きな値をとりがちなことがわかります．\n",
        "逆に，（い）や（え）に入るデータが多いと，共分散の値は負で小さな（負で絶対値の大きな）値をとりがちになります．\n",
        "つまり，「Xが平均より大きいとYも平均より大きいことが多く，かつ，Xが平均より小さいとYも平均より小さいことが多い」と，共分散は正の値をとり，「Xが平均より大きいとYは平均より小さいことが多く，かつ，Xが平均より小さいとYは平均より大きいことが多い」と，共分散は負の値をとります．\n",
        "\n",
        "相関係数は，このような性質を持つ共分散を，$X$，$Y$それぞれの標準偏差で割った値です．\n",
        "標準偏差は常に正ですので，相関係数の正負は，共分散の正負のみで決まります．\n",
        "標準偏差で割ることにより，相関係数の値は $[-1, 1]$ の範囲の値をとることになります（その理由の説明はここでは省略します）．\n",
        "\n",
        "\n"
      ]
    },
    {
      "cell_type": "markdown",
      "metadata": {
        "id": "qJFj8Aylb9r6"
      },
      "source": [
        "二つの量の間の相関係数が正の値をとる場合，それらには **正の相関がある** といい，相関係数が負の値をとるときは， **負の相関がある** といいます．また，相関係数の値が $0$ に近い場合，  **相関がない** または **無相関である** といいます．\n",
        "\n",
        "「数学」，「物理」，「情報」のデータの例では，「数学」と「情報」の点数の間の相関係数はおよそ $-0.573$ ですので，これら2科目の点数の間には負の相関があると言えそうです．\n",
        "相関係数が負であることを反映して，散布図も右下がりになっています．\n",
        "\n",
        "一方，「数学」と「物理」や「物理」と「情報」の間の相関係数は，それに比べると $0$ に近い値となっています．散布図を見ても，散らばり方にはあまり特徴が見られません．\n",
        "\n"
      ]
    },
    {
      "cell_type": "markdown",
      "metadata": {
        "id": "DgMRNdAWerKd"
      },
      "source": [
        "ここからは，人工的に作ったデータで，相関係数の値と散布図の関係をいろいろ眺めてみましょう．\n",
        "\n",
        "★★★ 以下の例1から例3までの散布図の概形と相関係数の値をノート等にメモしておいてください．"
      ]
    },
    {
      "cell_type": "markdown",
      "metadata": {
        "id": "8R8F6XG1mmcq"
      },
      "source": [
        "例1: ほぼ無相関．"
      ]
    },
    {
      "cell_type": "code",
      "metadata": {
        "id": "sIp0YKB8mNFY"
      },
      "source": [
        "# 人工データの散布図と相関係数(1)\n",
        "#\n",
        "theta = np.pi/6\n",
        "mu = [7, 5]\n",
        "sig2 = [4, 4]\n",
        "X = Gaussian(mu, sig2, theta)\n",
        "Xm = np.mean(X, axis=0)\n",
        "fig, ax = plt.subplots(facecolor=\"white\", figsize=(6, 6))\n",
        "xlim = np.array([-8, 8]) + mu[0]\n",
        "ylim = np.array([-8, 8]) + mu[1]\n",
        "ax.set_xlim(xlim[0], xlim[1])\n",
        "ax.set_ylim(ylim[0], ylim[1])\n",
        "ax.scatter(X[:, 0], X[:, 1])\n",
        "ax.vlines(Xm[0], ylim[0], ylim[1], ls=\"--\", color=\"grey\")\n",
        "ax.hlines(Xm[1], xlim[0], xlim[1], ls=\"--\", color=\"grey\")\n",
        "ax.vlines(0, ylim[0], ylim[1], ls=\"-\", color=\"black\")\n",
        "ax.hlines(0, xlim[0], xlim[1], ls=\"-\", color=\"black\")\n",
        "plt.show()\n",
        "\n",
        "r = np.corrcoef(X.T)[1, 0]\n",
        "print(f'相関係数は {r:.3f}')"
      ],
      "execution_count": null,
      "outputs": []
    },
    {
      "cell_type": "markdown",
      "metadata": {
        "id": "y_eubxQKm2rb"
      },
      "source": [
        "例2: 相関係数の値が正の例1つ目"
      ]
    },
    {
      "cell_type": "code",
      "metadata": {
        "id": "JGRqTNSghuEu"
      },
      "source": [
        "# 人工データの散布図と相関係数(2)\n",
        "#\n",
        "theta = np.pi/6\n",
        "mu = [7, 5]\n",
        "sig2 = [4, 1]\n",
        "X = Gaussian(mu, sig2, theta)\n",
        "Xm = np.mean(X, axis=0)\n",
        "fig, ax = plt.subplots(facecolor=\"white\", figsize=(6, 6))\n",
        "xlim = np.array([-8, 8]) + mu[0]\n",
        "ylim = np.array([-8, 8]) + mu[1]\n",
        "ax.set_xlim(xlim[0], xlim[1])\n",
        "ax.set_ylim(ylim[0], ylim[1])\n",
        "ax.scatter(X[:, 0], X[:, 1])\n",
        "ax.vlines(Xm[0], ylim[0], ylim[1], ls=\"--\", color=\"grey\")\n",
        "ax.hlines(Xm[1], xlim[0], xlim[1], ls=\"--\", color=\"grey\")\n",
        "ax.vlines(0, ylim[0], ylim[1], ls=\"-\", color=\"black\")\n",
        "ax.hlines(0, xlim[0], xlim[1], ls=\"-\", color=\"black\")\n",
        "plt.show()\n",
        "\n",
        "r = np.corrcoef(X.T)[1, 0]\n",
        "print(f'相関係数は {r:.3f}')"
      ],
      "execution_count": null,
      "outputs": []
    },
    {
      "cell_type": "markdown",
      "metadata": {
        "id": "SdGIqwzzm_oG"
      },
      "source": [
        "例3: 相関係数の値が正の例2つ目"
      ]
    },
    {
      "cell_type": "code",
      "metadata": {
        "id": "9mBEL1Zwgr0f"
      },
      "source": [
        "# 人工データの散布図と相関係数(2)\n",
        "#\n",
        "theta = np.pi/6\n",
        "mu = [7, 5]\n",
        "sig2 = [4, 0.1]\n",
        "X = Gaussian(mu, sig2, theta)\n",
        "Xm = np.mean(X, axis=0)\n",
        "fig, ax = plt.subplots(facecolor=\"white\", figsize=(6, 6))\n",
        "xlim = np.array([-8, 8]) + mu[0]\n",
        "ylim = np.array([-8, 8]) + mu[1]\n",
        "ax.set_xlim(xlim[0], xlim[1])\n",
        "ax.set_ylim(ylim[0], ylim[1])\n",
        "ax.scatter(X[:, 0], X[:, 1])\n",
        "ax.vlines(Xm[0], ylim[0], ylim[1], ls=\"--\", color=\"grey\")\n",
        "ax.hlines(Xm[1], xlim[0], xlim[1], ls=\"--\", color=\"grey\")\n",
        "ax.vlines(0, ylim[0], ylim[1], ls=\"-\", color=\"black\")\n",
        "ax.hlines(0, xlim[0], xlim[1], ls=\"-\", color=\"black\")\n",
        "plt.show()\n",
        "\n",
        "r = np.corrcoef(X.T)[1, 0]\n",
        "print(f'相関係数は {r:.3f}')"
      ],
      "execution_count": null,
      "outputs": []
    },
    {
      "cell_type": "markdown",
      "metadata": {
        "id": "f2mDEv7_nIhy"
      },
      "source": [
        "上記のデータを平均を中心に回転させたデータを作って，相関係数がどのように変化するか眺めてみましょう．"
      ]
    },
    {
      "cell_type": "code",
      "metadata": {
        "id": "hpDC5jH8mTKd"
      },
      "source": [
        "#@title 以下の deg の値を 0 から 180 まで範囲でいろいろ変えて，散布図と相関係数の変化を観察しよう．\n",
        "deg = 0#@param {type:\"number\"}\n",
        "theta = deg/180*np.pi\n",
        "\n",
        "mu = [7, 5]\n",
        "sig2 = [4, 0.5]\n",
        "X = Gaussian(mu, sig2, theta)\n",
        "Xm = np.mean(X, axis=0)\n",
        "fig, ax = plt.subplots(facecolor=\"white\", figsize=(6, 6))\n",
        "xlim = np.array([-8, 8]) + mu[0]\n",
        "ylim = np.array([-8, 8]) + mu[1]\n",
        "ax.set_xlim(xlim[0], xlim[1])\n",
        "ax.set_ylim(ylim[0], ylim[1])\n",
        "ax.scatter(X[:, 0], X[:, 1])\n",
        "ax.vlines(Xm[0], ylim[0], ylim[1], ls=\"--\", color=\"grey\")\n",
        "ax.hlines(Xm[1], xlim[0], xlim[1], ls=\"--\", color=\"grey\")\n",
        "ax.vlines(0, ylim[0], ylim[1], ls=\"-\", color=\"black\")\n",
        "ax.hlines(0, xlim[0], xlim[1], ls=\"-\", color=\"black\")\n",
        "plt.show()\n",
        "\n",
        "r = np.corrcoef(X.T)[1, 0]\n",
        "print(f'相関係数は {r:.3f}')"
      ],
      "execution_count": null,
      "outputs": []
    },
    {
      "cell_type": "markdown",
      "metadata": {
        "id": "Sh70jSrXsgpA"
      },
      "source": [
        "（よだんだよん） 上記では，2次元のデータを作って，それに回転行列を作用させることで，様々な相関係数を持つ人工データを生成しています．\n",
        "`deg` は回転角度を指定してます．"
      ]
    },
    {
      "cell_type": "code",
      "metadata": {
        "id": "B87-E39spsc6"
      },
      "source": [],
      "execution_count": null,
      "outputs": []
    }
  ]
}