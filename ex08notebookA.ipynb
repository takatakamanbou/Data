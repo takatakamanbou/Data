{
  "nbformat": 4,
  "nbformat_minor": 0,
  "metadata": {
    "colab": {
      "name": "ex08notebookA.ipynb",
      "provenance": [],
      "collapsed_sections": [],
      "authorship_tag": "ABX9TyN8vhE4P7j6grUE+3qYiAXz",
      "include_colab_link": true
    },
    "kernelspec": {
      "name": "python3",
      "display_name": "Python 3"
    }
  },
  "cells": [
    {
      "cell_type": "markdown",
      "metadata": {
        "id": "view-in-github",
        "colab_type": "text"
      },
      "source": [
        "<a href=\"https://colab.research.google.com/github/takatakamanbou/Data/blob/main/ex08notebookA.ipynb\" target=\"_parent\"><img src=\"https://colab.research.google.com/assets/colab-badge.svg\" alt=\"Open In Colab\"/></a>"
      ]
    },
    {
      "cell_type": "markdown",
      "metadata": {
        "id": "2UzDNLmVS3po"
      },
      "source": [
        "# Data2021 ex08notebookA\n",
        "\n",
        "<img width=64 src=\"https://www-tlab.math.ryukoku.ac.jp/~takataka/course/Data/Data-logo08.png\"> https://www-tlab.math.ryukoku.ac.jp/wiki/?Data/2021\n",
        "\n"
      ]
    },
    {
      "cell_type": "markdown",
      "metadata": {
        "id": "_4-TmUdCd9FJ"
      },
      "source": [
        "## 準備\n",
        "\n",
        "Google Colab の Notebook では， Python というプログラミング言語のコードを動かして計算したりグラフを描いたりもできます．\n",
        "Python は，データ分析や機械学習・人工知能分野ではメジャーなプログラミング言語ですが，それを学ぶことはこの授業の守備範囲ではありません．ですので，以下の所々に現れるプログラムっぽい記述の内容は，理解できなくて構いません．\n",
        "\n",
        "以下，コードセルを上から順に実行していってね．"
      ]
    },
    {
      "cell_type": "code",
      "metadata": {
        "id": "QQ8M3640S1W7"
      },
      "source": [
        "# 準備あれこれ\n",
        "import numpy as np\n",
        "import matplotlib.pyplot as plt\n",
        "import pandas as pd\n",
        "import seaborn\n",
        "seaborn.set()"
      ],
      "execution_count": null,
      "outputs": []
    },
    {
      "cell_type": "code",
      "metadata": {
        "id": "If5pCB6bc3QF"
      },
      "source": [
        "# データを読み込む\n",
        "dfGori = pd.read_csv('https://www-tlab.math.ryukoku.ac.jp/~takataka/course/Data/ex08gorigori.csv', header=0)\n",
        "dfGori"
      ],
      "execution_count": null,
      "outputs": []
    },
    {
      "cell_type": "markdown",
      "metadata": {
        "id": "7H45eNIcd2xB"
      },
      "source": [
        "----\n",
        "## 回帰分析入門(2) 回帰分析とは\n",
        "----\n",
        "\n",
        "[ex07課題A](https://www-tlab.math.ryukoku.ac.jp/wiki/?Data/2021/ex07#kadaiA) で表計算ソフトを使ってやってみた **回帰分析** について，きちんと説明します．\n"
      ]
    },
    {
      "cell_type": "markdown",
      "metadata": {
        "id": "gjwFlEyQi4Wf"
      },
      "source": [
        "----\n",
        "### ゴリゴリ君ふたたび\n",
        "\n"
      ]
    },
    {
      "cell_type": "markdown",
      "metadata": {
        "id": "-C-AVphxqC28"
      },
      "source": [
        "実習課題で使った「気温」と「アイス売上数」のデータの散布図は，こんなんで した．"
      ]
    },
    {
      "cell_type": "code",
      "metadata": {
        "id": "zy2UM0XmfTPQ"
      },
      "source": [
        "X = dfGori['気温']\n",
        "Y = dfGori['アイス売上数']\n",
        "xmin, xmax = -5, 40\n",
        "ymin, ymax = 0, 130"
      ],
      "execution_count": null,
      "outputs": []
    },
    {
      "cell_type": "code",
      "metadata": {
        "id": "H_LXVmJhg0Sf"
      },
      "source": [
        "fig, ax = plt.subplots(1, facecolor='white', figsize=(6, 4))\n",
        "ax.scatter(X, Y)\n",
        "ax.set_xlim(xmin, xmax)\n",
        "ax.set_ylim(ymin, ymax)\n",
        "plt.show()"
      ],
      "execution_count": null,
      "outputs": []
    },
    {
      "cell_type": "markdown",
      "metadata": {
        "id": "xeXv6xRght85"
      },
      "source": [
        "実習課題では，このデータの気温 $x$ [度] とアイス売上数 $y$ [個]との間に\n",
        "$$\n",
        "y = ax+b\n",
        "$$\n",
        "という関係が成り立つと考えて，この直線の式を具体的に定めたい，つまり，係数 $a$ と $b$ （傾きと切片） の値を求めようとしたのでした．"
      ]
    },
    {
      "cell_type": "markdown",
      "metadata": {
        "id": "EdU8TAIkk4AD"
      },
      "source": [
        "試しに，係数の値を適当に $a = 1.5, b = 35$ と選んで，散布図に直線のグラフを重ねてみると，こんなんなります．"
      ]
    },
    {
      "cell_type": "code",
      "metadata": {
        "id": "eKUop07PgKdk"
      },
      "source": [
        "a = 1.5\n",
        "b = 35\n",
        "\n",
        "Xr = np.array([xmin, xmax])\n",
        "Yest = a * Xr + b\n",
        "\n",
        "fig, ax = plt.subplots(1, facecolor='white', figsize=(6, 4))\n",
        "ax.scatter(X, Y)\n",
        "ax.plot(Xr, Yest, color='red')\n",
        "ax.set_xlim(xmin, xmax)\n",
        "ax.set_ylim(ymin, ymax)\n",
        "plt.show()"
      ],
      "execution_count": null,
      "outputs": []
    },
    {
      "cell_type": "markdown",
      "metadata": {
        "id": "8pmLNWf6ivDT"
      },
      "source": [
        "このとき，直線の式に $x = 30$ を代入すると， \n",
        "$$\n",
        "1.5\\times 30 + 35 = 80\n",
        "$$\n",
        "となり，気温 $30$ [度]におけるアイス売上数が $80$ [個] と予測されます．"
      ]
    },
    {
      "cell_type": "markdown",
      "metadata": {
        "id": "XIcNMM1snsSX"
      },
      "source": [
        "上記の $a, b$ の値は適当に決めただけで，グラフを見てもあまりうまくあてはまってそうに見えません．\n",
        "手動で $a, b$ を変化させて，グラフや予測値がどのように変化するか観察してみましょう．"
      ]
    },
    {
      "cell_type": "code",
      "metadata": {
        "id": "DdQ15BAbohGp"
      },
      "source": [
        "#@title a, b の値を適当に変えてこのセルを実行し直してみよう\n",
        "a =  1.5#@param　{type:\"number\"}\n",
        "b = 35 #@param　{type:\"number\"}\n",
        "\n",
        "Xr = np.array([xmin, xmax])\n",
        "Yest = a * Xr + b\n",
        "\n",
        "fig, ax = plt.subplots(1, facecolor='white', figsize=(6, 4))\n",
        "ax.scatter(X, Y)\n",
        "ax.plot(Xr, Yest, color='red')\n",
        "ax.set_xlim(xmin, xmax)\n",
        "ax.set_ylim(0, 130)\n",
        "plt.show()\n",
        "\n",
        "x = 30\n",
        "y = a*x+b\n",
        "print(f'気温{x}度のときのアイス売上数の予測値は{y:.1f}個')"
      ],
      "execution_count": null,
      "outputs": []
    },
    {
      "cell_type": "markdown",
      "metadata": {
        "id": "5LNYWRz9q_gy"
      },
      "source": [
        "何度か $a, b$ の値を変えて上記のセルを実行し直してみてね．"
      ]
    },
    {
      "cell_type": "markdown",
      "metadata": {
        "id": "2AfYvYUbrIqG"
      },
      "source": [
        "----\n",
        "### 回帰分析とは\n",
        "\n",
        "**回帰分析** とは，上記の「気温」対「アイス売上数」のように，2つの変数 $x$ と $y$ の間に何らかの因果関係を想定し，変数 $x$ から変数 $y$ の値を予測する，というデータ分析の方法です．\n",
        "\n",
        "ここで，変数 $x$ は，説明のもとにする側なので，**説明変数** といいます．\n",
        "一方，変数 $y$ は説明される側なので，**被説明変数** あるいは **目的変数** といいます（$x$ を **独立変数**，$y$ を **従属変数** ということもあります）．上記の例では，「気温」が説明変数で，「アイス売上数」が被説明変数ですね．\n",
        "\n",
        "説明変数と被説明変数との間の関係は，様々なものが考えられますが，ここでは，最も単純な場合として，直線の式\n",
        "\n",
        "$$\n",
        "y = ax+b\n",
        "$$\n",
        "\n",
        "を想定する場合を考えます．この直線を **回帰直線**といい，$a$ と $b$ のことを **回帰係数** といいます．"
      ]
    },
    {
      "cell_type": "markdown",
      "metadata": {
        "id": "kpJc6njkx3bF"
      },
      "source": [
        "記号や用語の説明をもう少し続けます．\n",
        "\n",
        "説明変数の値 $x_n$ に対応する被説明変数の値を $y_n$  として，$N$組のデータ $(x_n, y_n)$ （$n = 1, 2, \\dots , N$） が与えられたとします．\n",
        "$x$ と $y$ の間に直線の関係があると仮定する回帰分析では，何らかの方法で，これらのデータにあてはまる回帰直線の係数 $a, b$ の \n",
        "**推定値** $\\hat{a}, \\hat{b}$（\"a hat, b hat\"と発音する） を求めます．\n",
        "これらの推定値が求まれば，式\n",
        "$$\n",
        "\\hat{y} = \\hat{a}x + \\hat{b}\n",
        "$$\n",
        "に適当な $x$ の値を代入することで， $y$ の **予測値** $\\hat{y}$ を求めることができます．\n",
        "\n",
        "\n",
        "\n",
        "<font size=\"-1\">補足: 統計学では，元の記号に `^` をつけて推定値や予測値を表すという記法を使うことがあります．</font>\n"
      ]
    },
    {
      "cell_type": "markdown",
      "metadata": {
        "id": "22z1tE5KmPtH"
      },
      "source": [
        "----\n",
        "### 最小二乗法\n",
        "\n",
        "直線の式をあてはめる回帰分析では，何らかの方法でデータによくあてはまる回帰直線を推定したいわけですが，上記のようにグラフに目測で直線を描いて係数をいろいろ変えてみる，というようなやり方では，客観的な推定ができません．\n",
        "\n",
        "以下では，客観的に回帰係数を推定する方法の一つである **最小二乗法** について説明します．"
      ]
    },
    {
      "cell_type": "markdown",
      "metadata": {
        "id": "jfiOcnqE6L-w"
      },
      "source": [
        "記号だけでは分かりづらいので，具体的なデータを例にあげます（$N = 10$）．\n",
        "\n",
        "|$n$|$x_n$（おもりの重さ[g]）|$y_n$（バネの長さ[mm]）|\n",
        "|:----:|----:|----:|\n",
        "|1|6|119|\n",
        "|2|8|145|\n",
        "|3|12|175|\n",
        "|4|14|191|\n",
        "|5|18|204|\n",
        "|6|20|209|\n",
        "|7|24|244|\n",
        "|8|26|233|\n",
        "|9|30|272|\n",
        "|10|32|268|\n",
        "\n",
        "「改訂版 日本統計学会公式認定 統計検定3級対応 データ分析」 日本統計学会，東京図書，p.102 より．\n"
      ]
    },
    {
      "cell_type": "code",
      "metadata": {
        "id": "bRraIXtG4KA1"
      },
      "source": [
        "Xspring = np.array([ [6, 119], [8, 145], [12, 175], [14, 191], [18, 204],\n",
        "              [20, 209], [24, 244], [26, 233], [30, 272], [32, 268] ])\n",
        "X = Xspring[:, 0]\n",
        "Y = Xspring[:, 1]\n",
        "xmin, xmax = 0, 35\n",
        "ymin, ymax = 0, 300"
      ],
      "execution_count": null,
      "outputs": []
    },
    {
      "cell_type": "code",
      "metadata": {
        "id": "PCi0ruLL4J-N"
      },
      "source": [
        "fig, ax = plt.subplots(1, facecolor='white', figsize=(6, 4))\n",
        "ax.scatter(X, Y)\n",
        "ax.set_xlim(xmin, xmax)\n",
        "ax.set_ylim(ymin, ymax)\n",
        "plt.show()"
      ],
      "execution_count": null,
      "outputs": []
    },
    {
      "cell_type": "markdown",
      "metadata": {
        "id": "g2dwfLVN7t6n"
      },
      "source": [
        "最小二乗法では，データへの直線のあてはまりの「良さ」を数式で表して，それが最小になるような係数の値を求めます．\n",
        "\n",
        "回帰係数が $\\hat{a}, \\hat{b}$ であるとき， $x = x_n$ に対する $y$ の予測値を $\\hat{y}_n$ とおくと，\n",
        "$$\n",
        "\\hat{y}_n = \\hat{a}x_n + \\hat{b}\n",
        "$$\n",
        "と表せます．しかし，実際にデータとして与えられた値は $y_n$ ですので， $y_n - \\hat{y}_n$ のずれがあります（下図参照）．\n",
        "この量は，データを予測して残った差という意味で， **残差** といいます（**誤差**ということもあります）．\n",
        "\n",
        "\n"
      ]
    },
    {
      "cell_type": "markdown",
      "metadata": {
        "id": "yR0P6f8QQKvR"
      },
      "source": [
        "<img src=\"https://www-tlab.math.ryukoku.ac.jp/~takataka/course/Data/ex09-spring.png\">\n"
      ]
    },
    {
      "cell_type": "markdown",
      "metadata": {
        "id": "FBlisyUSQGbH"
      },
      "source": [
        "最小二乗法では，この残差の平方（二乗）の和（**残差平方和**または**二乗誤差**）\n",
        "$$\n",
        "\\sum_{n=1}^{N}(y_n - \\hat{y}_n)^2\n",
        "$$\n",
        "をあてはまりの「良さ」の規準とします．\n",
        "この値は非負で，小さければ小さいほどずれが小さくあてはまりが「良い」と言えますので，係数の推定値は，この値が最小になるように決定します．\n",
        "\n",
        "そのことをもう少しわかりやすくするために，上記の式に $\\hat{y}_n = \\hat{a}x_n + \\hat{b}$ を代入して書き直したものを $E(\\hat{a}, \\hat{b})$ と表してみます．\n",
        "\n",
        "$$\n",
        "\\begin{aligned}\n",
        "E(\\hat{a}, \\hat{b}) &= \\sum_{n=1}^{N}(y_n - \\hat{y}_n)^2 = \\sum_{n=1}^{N}(y_n - (\\hat{a}x_n + \\hat{b}))^2\n",
        "\\end{aligned}\n",
        "$$\n",
        "\n",
        "です．この式に登場する値のうち，$x_n, y_n (n = 1, 2, \\dots , N)$ は，データとして与えられていますので，定数です．一方，$\\hat{a}, \\hat{b}$ の値は自由に変えることができ，変化させると，それに応じて $E(\\hat{a}, \\hat{b})$ の値も変化します．\n",
        "そこで，すべての可能な $(\\hat{a}, \\hat{b})$ の値の中で，\n",
        "$E(\\hat{a}, \\hat{b})$ を最小にするものを回帰係数の推定値にしましょう，というのが，最小二乗法による回帰係数推定の方法です．"
      ]
    },
    {
      "cell_type": "markdown",
      "metadata": {
        "id": "WM4RlkyhP5yo"
      },
      "source": [
        "----\n",
        "### 最小二乗法による回帰係数の推定値\n",
        "\n",
        "最小二乗法による回帰係数の推定値 $(\\hat{a}, \\hat{b})$ は，**正規方程式** と呼ばれる連立方程式の解になります．\n",
        "ここでは，正規方程式とその導出過程については省略して，結果のみを記すことにします．\n",
        "\n",
        "正規方程式を解くと，回帰係数の推定値は次のように得られます．\n",
        "\n",
        "$$\n",
        "\\hat{a} = \\frac{s_{xy}}{s_x^2}\\qquad \\hat{b} = \\bar{y} - \\hat{a}\\bar{x}\n",
        "$$\n",
        "\n",
        "ただし， $\\bar{x}, \\bar{y}$ は $x, y$ の平均，$s_{x}^2$ は $x$ の分散，$s_{xy}$ は $x$ と $y$ の共分散，つまり，\n",
        "\n",
        "$$\n",
        "\\begin{aligned}\n",
        "\\bar{x} &= \\frac{1}{N}\\sum_{n=1}^N x_n\\\\\n",
        "\\bar{y} &= \\frac{1}{N}\\sum_{n=1}^N y_n\\\\\n",
        "s_{x}^2 &= \\frac{1}{N}\\sum_{n=1}^{N}(x_n - \\bar{x})^2\\\\\n",
        "s_{xy} &= \\frac{1}{N}\\sum_{n=1}^{N}(x_n - \\bar{x})(y_n - \\bar{y})\\\\\n",
        "\\end{aligned}\n",
        "$$\n",
        "\n",
        "です．"
      ]
    },
    {
      "cell_type": "markdown",
      "metadata": {
        "id": "H0r86M-fTW8T"
      },
      "source": [
        "上記のバネのデータで実際に回帰係数の推定値を求めてみましょう．"
      ]
    },
    {
      "cell_type": "code",
      "metadata": {
        "id": "Jnh2cBY4Q7QZ"
      },
      "source": [
        "# データ\n",
        "X = Xspring[:, 0]\n",
        "Y = Xspring[:, 1]\n",
        "# 平均値\n",
        "Xm = np.mean(X)\n",
        "Ym = np.mean(Y)\n",
        "# 分散と共分散\n",
        "S = np.cov(X, Y, bias=True)\n",
        "Sxx = S[0, 0]\n",
        "Sxy = S[0, 1]\n",
        "\n",
        "print(f'xの平均: {Xm}, yの平均: {Ym}')\n",
        "print(f'xの分散: {Sxx}, xとyの共分散: {Sxy}')\n",
        "\n",
        "# 回帰係数の推定値\n",
        "a_ = Sxy / Sxx\n",
        "b_ = Ym - a_ * Xm\n",
        "\n",
        "print(f'aの推定値: {a_:.2f},  bの推定値: {b_:.1f}')"
      ],
      "execution_count": null,
      "outputs": []
    },
    {
      "cell_type": "markdown",
      "metadata": {
        "id": "FBPsIXCtXCEv"
      },
      "source": [
        "推定された回帰直線をデータの散布図に重ねて描いてみると..."
      ]
    },
    {
      "cell_type": "code",
      "metadata": {
        "id": "boUdX81vWjFD"
      },
      "source": [
        "Xr = np.array([xmin, xmax])\n",
        "Yest = a_ * Xr + b_\n",
        "fig, ax = plt.subplots(1, facecolor='white', figsize=(6, 4))\n",
        "ax.scatter(X, Y)\n",
        "ax.plot(Xr, Yest, color='red')\n",
        "ax.set_xlim(xmin, xmax)\n",
        "ax.set_ylim(ymin, ymax)\n",
        "plt.show()"
      ],
      "execution_count": null,
      "outputs": []
    },
    {
      "cell_type": "markdown",
      "metadata": {
        "id": "rqsNW80GXLoL"
      },
      "source": [
        "よくあてはまっているように見えます．"
      ]
    },
    {
      "cell_type": "markdown",
      "metadata": {
        "id": "bH44bqwsXhiW"
      },
      "source": [
        "上記の推定値が本当に残差平方和 $E(\\hat{a},\\hat{b})$ を最小にしているかどうか，実験して数値的に確認してみましょう．"
      ]
    },
    {
      "cell_type": "code",
      "metadata": {
        "id": "K1NFIVNpYEE6"
      },
      "source": [
        "#@title a, b の値を適当に変えてこのセルを実行し直してみよう\n",
        "a = 5.49 #@param　{type:\"slider\", min:5.0, max: 6.0, step:0.01}\n",
        "b = 101.6 #@param　{type:\"slider\", min:90, max:110, step:0.1}\n",
        "\n",
        "Xr = np.array([xmin, xmax])\n",
        "Yest = a * Xr + b\n",
        "\n",
        "fig, ax = plt.subplots(1, facecolor='white', figsize=(6, 4))\n",
        "ax.scatter(X, Y)\n",
        "ax.plot(Xr, Yest, color='red')\n",
        "ax.set_xlim(xmin, xmax)\n",
        "ax.set_ylim(ymin, ymax)\n",
        "plt.show()\n",
        "\n",
        "sqe = np.sum((Y - (a*X+b))**2)\n",
        "print(f'({a}, {b}) のとき，残差平方和 = {sqe:.2f}')\n"
      ],
      "execution_count": null,
      "outputs": []
    },
    {
      "cell_type": "markdown",
      "metadata": {
        "id": "mM4t89CVaCcp"
      },
      "source": [
        "`a, b`をどのように変えても残差平方和が大きくなることがわかるでしょう．"
      ]
    },
    {
      "cell_type": "markdown",
      "metadata": {
        "id": "YZ0DQsWfblo7"
      },
      "source": [
        "ゴリゴリ君のデータでもやってみましょう．"
      ]
    },
    {
      "cell_type": "code",
      "metadata": {
        "id": "2Dv2e0Pvbtp_"
      },
      "source": [
        "# データ\n",
        "X = dfGori['気温']\n",
        "Y = dfGori['アイス売上数']\n",
        "\n",
        "xmin, xmax = -5, 40\n",
        "ymin, ymax = 0, 130\n",
        "\n",
        "# 平均値\n",
        "Xm = np.mean(X)\n",
        "Ym = np.mean(Y)\n",
        "# 分散と共分散\n",
        "S = np.cov(X, Y, bias=True)\n",
        "Sxx = S[0, 0]\n",
        "Sxy = S[0, 1]\n",
        "\n",
        "print(f'xの平均: {Xm:.2f}, yの平均: {Ym:.2f}')\n",
        "print(f'xの分散: {Sxx:.2f}, xとyの共分散: {Sxy:.2f}')\n",
        "\n",
        "# 回帰係数の推定値\n",
        "a_ = Sxy / Sxx\n",
        "b_ = Ym - a_ * Xm\n",
        "\n",
        "print(f'aの推定値: {a_:.2f},  bの推定値: {b_:.2f}')"
      ],
      "execution_count": null,
      "outputs": []
    },
    {
      "cell_type": "code",
      "metadata": {
        "id": "Osy1qQg7cHug"
      },
      "source": [
        "Xr = np.array([xmin, xmax])\n",
        "Yest = a_ * Xr + b_\n",
        "fig, ax = plt.subplots(1, facecolor='white', figsize=(6, 4))\n",
        "ax.scatter(X, Y)\n",
        "ax.plot(Xr, Yest, color='red')\n",
        "ax.set_xlim(xmin, xmax)\n",
        "ax.set_ylim(ymin, ymax)\n",
        "plt.show()"
      ],
      "execution_count": null,
      "outputs": []
    },
    {
      "cell_type": "markdown",
      "metadata": {
        "id": "rX6fX9qocP1F"
      },
      "source": [
        "実習課題で表計算ソフトに計算させた値と見比べると，同じ結果（同じ係数値）が得られていることがわかりますね．"
      ]
    },
    {
      "cell_type": "code",
      "metadata": {
        "id": "Z9PljEdQetsu"
      },
      "source": [
        ""
      ],
      "execution_count": null,
      "outputs": []
    }
  ]
}