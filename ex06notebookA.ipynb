{
  "cells": [
    {
      "cell_type": "markdown",
      "metadata": {
        "colab_type": "text",
        "id": "view-in-github"
      },
      "source": [
        "<a href=\"https://colab.research.google.com/github/takatakamanbou/Data/blob/2021/ex06notebookA.ipynb\" target=\"_parent\"><img src=\"https://colab.research.google.com/assets/colab-badge.svg\" alt=\"Open In Colab\"/></a>"
      ]
    },
    {
      "cell_type": "markdown",
      "metadata": {
        "id": "2UzDNLmVS3po"
      },
      "source": [
        "# Data2021 ex06notebookA\n",
        "\n",
        "<img width=64 src=\"https://www-tlab.math.ryukoku.ac.jp/~takataka/course/Data/Data-logo06.png\"> https://www-tlab.math.ryukoku.ac.jp/wiki/?Data/2021"
      ]
    },
    {
      "cell_type": "markdown",
      "metadata": {
        "id": "_4-TmUdCd9FJ"
      },
      "source": [
        "## 準備\n",
        "\n",
        "Google Colab の Notebook では， Python というプログラミング言語のコードを動かして計算したりグラフを描いたりもできます．\n",
        "Python は，データ分析や機械学習・人工知能分野ではメジャーなプログラミング言語ですが，それを学ぶことはこの授業の守備範囲ではありません．ですので，以下の所々に現れるプログラムっぽい記述の内容は，理解できなくて構いません．\n",
        "\n",
        "以下，コードセルを上から順に実行していってね．"
      ]
    },
    {
      "cell_type": "code",
      "execution_count": null,
      "metadata": {
        "id": "QQ8M3640S1W7",
        "vscode": {
          "languageId": "python"
        }
      },
      "outputs": [],
      "source": [
        "# 準備あれこれ\n",
        "import numpy as np\n",
        "import matplotlib.pyplot as plt\n",
        "import pandas as pd\n",
        "import seaborn\n",
        "seaborn.set()"
      ]
    },
    {
      "cell_type": "code",
      "execution_count": null,
      "metadata": {
        "id": "If5pCB6bc3QF",
        "vscode": {
          "languageId": "python"
        }
      },
      "outputs": [],
      "source": [
        "# データを読み込む\n",
        "dfHW = pd.read_csv('https://www-tlab.math.ryukoku.ac.jp/~takataka/course/Data/ex06hw.csv', header=0)\n",
        "dfHW.drop(columns=['num'], inplace=True)\n",
        "dfHW"
      ]
    },
    {
      "cell_type": "markdown",
      "metadata": {
        "id": "BUnL1cviDhIP"
      },
      "source": [
        "----\n",
        "## データの正規化\n",
        "----\n",
        "\n",
        "\n"
      ]
    },
    {
      "cell_type": "markdown",
      "metadata": {
        "id": "gTuf-qRyRVSp"
      },
      "source": [
        "----\n",
        "### データを正規化したくなる気持ち\n",
        "\n"
      ]
    },
    {
      "cell_type": "code",
      "execution_count": null,
      "metadata": {
        "id": "M7SQCeuFjpDA",
        "vscode": {
          "languageId": "python"
        }
      },
      "outputs": [],
      "source": [
        "dfHW"
      ]
    },
    {
      "cell_type": "markdown",
      "metadata": {
        "id": "JdcZaE0Q4Cf1"
      },
      "source": [
        "上記は，1000人分の $(\\mbox{身長}, \\mbox{体重})$ のデータです（注）．\n",
        "なんか身長の値が大きくて，体重の値が小さいなあ，と思ってよく見ると，身長の単位はミリメートル，体重の単位はトンで表されています.\n",
        "\n",
        "\n",
        "注) このデータは，人工的に作ったものです．平均や標準偏差は17歳男子の統計データに近くなるようにしてありますが，分布は実際のデータとは違ってます．"
      ]
    },
    {
      "cell_type": "markdown",
      "metadata": {
        "id": "cbkwVZQl4tLy"
      },
      "source": [
        "何も考えず身長，体重それぞれのヒストグラムを描いてみると，こんなんなります．"
      ]
    },
    {
      "cell_type": "code",
      "execution_count": null,
      "metadata": {
        "id": "Tvi7kc_g4_-C",
        "vscode": {
          "languageId": "python"
        }
      },
      "outputs": [],
      "source": [
        "fig, ax = plt.subplots(2, 1, facecolor=\"white\", figsize=(8, 6))\n",
        "ax[0].hist(dfHW['身長[mm]'], label='height')\n",
        "ax[0].legend()\n",
        "ax[0].set_xlim(1300, 2100)\n",
        "ax[0].set_ylim(0, 300)\n",
        "ax[1].hist(dfHW['体重[ton]'], label='weight')\n",
        "ax[1].legend()\n",
        "ax[1].set_xlim(0.02, 0.10)\n",
        "ax[1].set_ylim(0, 300)\n",
        "plt.show()"
      ]
    },
    {
      "cell_type": "markdown",
      "metadata": {
        "id": "mJyM_gDL7j8v"
      },
      "source": [
        "当たり前ですが，値の大きさとか，範囲とか，桁違いですね．\n",
        "当然，平均値や標準偏差の値も..."
      ]
    },
    {
      "cell_type": "code",
      "execution_count": null,
      "metadata": {
        "id": "DCbl64B-73Lg",
        "vscode": {
          "languageId": "python"
        }
      },
      "outputs": [],
      "source": [
        "mH, mW = np.mean(dfHW['身長[mm]']), np.mean(dfHW['体重[ton]'])\n",
        "sH, sW = np.std(dfHW['身長[mm]']), np.std(dfHW['体重[ton]'])\n",
        "print(f'身長の平均 = {mH:.1f}, 身長の標準偏差 = {sH:.3f}')\n",
        "print(f'体重の平均 = {mW:.6f}, 体重の標準偏差 = {sW:.6f}')"
      ]
    },
    {
      "cell_type": "markdown",
      "metadata": {
        "id": "IcN9O_7m9VAa"
      },
      "source": [
        "値が大きすぎたり小さすぎたりすると扱いにくいし解釈もしづらいので，値が適当な範囲になるように一定数を足したり，定数倍したりすることを考えましょう．\n",
        "\n",
        "とりあえずすぐに思いつくのは，身長の単位を[cm]にして，体重の単位を[kg]にすることです．\n",
        "身長を $\\frac{1}{10}$ に，体重を $1000$ 倍にしてみましょう．"
      ]
    },
    {
      "cell_type": "code",
      "execution_count": null,
      "metadata": {
        "id": "cdNdk3ZL-ZcL",
        "vscode": {
          "languageId": "python"
        }
      },
      "outputs": [],
      "source": [
        "X = dfHW['身長[mm]']/10   # [cm]単位にした身長\n",
        "Y = dfHW['体重[ton]']*1000 # [kg]単位にした体重"
      ]
    },
    {
      "cell_type": "code",
      "execution_count": null,
      "metadata": {
        "id": "mcZCCv9i-YVM",
        "vscode": {
          "languageId": "python"
        }
      },
      "outputs": [],
      "source": [
        "fig, ax = plt.subplots(2, 1, facecolor=\"white\", figsize=(8, 6))\n",
        "ax[0].hist(X, label='height')\n",
        "ax[0].legend()\n",
        "ax[0].set_xlim(130, 210)\n",
        "ax[0].set_ylim(0, 300)\n",
        "ax[1].hist(Y, label='weight')\n",
        "ax[1].legend()\n",
        "ax[1].set_xlim(20, 100)\n",
        "ax[1].set_ylim(0, 300)\n",
        "plt.show()"
      ]
    },
    {
      "cell_type": "code",
      "execution_count": null,
      "metadata": {
        "id": "6PKBp8hl-5xd",
        "vscode": {
          "languageId": "python"
        }
      },
      "outputs": [],
      "source": [
        "mH, mW = np.mean(X), np.mean(Y)\n",
        "sH, sW = np.std(X), np.std(Y)\n",
        "print(f'身長の平均 = {mH:.2f}, 身長の標準偏差 = {sH:.2f}')\n",
        "print(f'体重の平均 = {mW:.2f}, 体重の標準偏差 = {sW:.2f}')"
      ]
    },
    {
      "cell_type": "markdown",
      "metadata": {
        "id": "bVIz1Y5N-5Sy"
      },
      "source": [
        "見慣れた値になりました．\n",
        "[第4回](https://www-tlab.math.ryukoku.ac.jp/wiki/?Data/2021#ex04) の ex04notebookA.ipynb で証明した性質：\n",
        "\n",
        "> データを定数 $a$ 倍すると，平均は元の $a$ 倍になり，標準偏差は元の $|a|$ 倍になる\n",
        "\n",
        "がちゃんと成り立ってますね．\n"
      ]
    },
    {
      "cell_type": "markdown",
      "metadata": {
        "id": "oHyK6HGTOban"
      },
      "source": [
        "----\n",
        "### 正規化"
      ]
    },
    {
      "cell_type": "markdown",
      "metadata": {
        "id": "ND7ODVOTA-o-"
      },
      "source": [
        "身長と体重のようなデータは，たまたま[cm]と[kg]を単位とすれば，それなりの範囲におさまりました．では，様々なデータが与えられたときに，値の範囲をある程度そろえたいと思ったら，どうするのがよいでしょう？\n",
        "\n",
        "問題や目的に応じて，様々なやり方がありますが，最も一般的な方法は，**データの平均が $0$ に，標準偏差が $1$ になるようにする**，というものです（標準偏差が $1$ $\\Leftrightarrow$ 分散が $1^2=1$ なので，「分散が $1$ になるようにする」と言うこともあります）．\n",
        "\n",
        "このようにデータの値をいじることを，データを **正規化する** といいます．"
      ]
    },
    {
      "cell_type": "markdown",
      "metadata": {
        "id": "7oFH9spGG8BY"
      },
      "source": [
        "データ $x_1, x_2, \\dots , x_N$ の平均値が $\\bar{x}$ で，標準偏差が $s$ だったとすると，\n",
        "$$\n",
        "z_n = \\frac{(x_n - \\bar{x})}{s}\\qquad (n = 1, 2, \\dots , N)\n",
        "$$\n",
        "とすれば，$z_1, z_2, \\dots , z_N$ の平均は $0$ で，標準偏差は $1$ になります．"
      ]
    },
    {
      "cell_type": "markdown",
      "metadata": {
        "id": "bAKJpal8IMfS"
      },
      "source": [
        "［証明］\n",
        "\n",
        "$z_n$の平均は，\n",
        "\n",
        "$$\n",
        "\\begin{aligned}\n",
        "\\frac{1}{N}\\sum_{n=1}^{N}z_n &= \\frac{1}{N}\\sum_{n=1}^{N}\\frac{(x_n - \\bar{x})}{s} = \\frac{1}{sN}\\sum_{n=1}^{N}(x_n - \\bar{x}) \\\\\n",
        "&= \\frac{1}{s}\\left( \\frac{1}{N}\\sum_{n=1}^{N}x_n - \\frac{1}{N}\\sum_{n=1}^{N}\\bar{x} \\right)\n",
        "= \\frac{1}{s}\\left(\\bar{x} - \\frac{N\\bar{x}}{N}\\right)\\\\\n",
        "&= \\frac{1}{s}\\times 0 = 0\n",
        "\\end{aligned}\n",
        "$$\n",
        "\n",
        "である．分散は，\n",
        "\n",
        "$$\n",
        "\\begin{aligned}\n",
        "\\frac{1}{N}\\sum_{n=1}^{N}(z_n - 0)^2 &= \\frac{1}{N}\\sum_{n=1}^{N}\\frac{(x_n - \\bar{x})^2}{s^2} = \\frac{1}{s^2}\\frac{1}{N}\\sum_{n=1}^{N}(x_n-\\bar{x})^2 \\\\\n",
        "&= \\frac{1}{s^2} \\times s^2 = 1\n",
        "\\end{aligned}\n",
        "$$\n",
        "\n",
        "である．よって，標準偏差も $1$ である．\n",
        "\n",
        "\n"
      ]
    },
    {
      "cell_type": "markdown",
      "metadata": {
        "id": "cu5YNplPNkox"
      },
      "source": [
        "実際に，上記の身長，体重をそれぞれ正規化してみましょう．"
      ]
    },
    {
      "cell_type": "code",
      "execution_count": null,
      "metadata": {
        "id": "VRA0THGcMSbU",
        "vscode": {
          "languageId": "python"
        }
      },
      "outputs": [],
      "source": [
        "# 身長[cm]の平均と標準偏差\n",
        "mH = np.mean(X)\n",
        "sH = np.std(X)\n",
        "print(f'身長の平均 = {mH:.2f}, 身長の標準偏差 = {sH:.2f}')\n",
        "\n",
        "# 身長の正規化\n",
        "X_normalized = (X - mH) / sH\n",
        "print(f'正規化した身長の平均 = {np.mean(X_normalized):.2f}, 正規化した身長の標準偏差 = {np.std(X_normalized):.2f}')"
      ]
    },
    {
      "cell_type": "code",
      "execution_count": null,
      "metadata": {
        "id": "ShaBCUbIMmF_",
        "vscode": {
          "languageId": "python"
        }
      },
      "outputs": [],
      "source": [
        "# 体重[kg]の平均と標準偏差\n",
        "mW = np.mean(Y)\n",
        "sW = np.std(Y)\n",
        "print(f'体重の平均 = {mW:.2f}, 体重の標準偏差 = {sW:.2f}')\n",
        "\n",
        "# 体重の正規化\n",
        "Y_normalized = (Y - mW) / sW\n",
        "print(f'正規化した体重の平均 = {np.mean(Y_normalized):.2f}, 正規化した体重の標準偏差 = {np.std(Y_normalized):.2f}')"
      ]
    },
    {
      "cell_type": "markdown",
      "metadata": {
        "id": "fXIk5VS2O4uj"
      },
      "source": [
        "正規化した身長体重のヒストグラムはこうなります．横軸の範囲に注目．"
      ]
    },
    {
      "cell_type": "code",
      "execution_count": null,
      "metadata": {
        "id": "l9q9f7R4Ny_k",
        "vscode": {
          "languageId": "python"
        }
      },
      "outputs": [],
      "source": [
        "fig, ax = plt.subplots(2, 1, facecolor=\"white\", figsize=(8, 6))\n",
        "ax[0].hist(X_normalized, label='height')\n",
        "ax[0].legend()\n",
        "ax[0].set_xlim(-4, 4)\n",
        "ax[0].set_ylim(0, 300)\n",
        "ax[1].hist(Y_normalized, label='weight')\n",
        "ax[1].legend()\n",
        "ax[1].set_xlim(-4, 4)\n",
        "ax[1].set_ylim(0, 300)\n",
        "plt.show()"
      ]
    },
    {
      "cell_type": "markdown",
      "metadata": {
        "id": "BldCzKHbPGlU"
      },
      "source": [
        "この例では，正規化すると，身長も体重もよく似た分布の形をしていることがわかります．\n",
        "データを正規化すると，単位の違いなどにとらわれずに分布の本質的な性質を調べやすくなります．"
      ]
    },
    {
      "cell_type": "markdown",
      "metadata": {
        "id": "GhxDJEahP28u"
      },
      "source": [
        "----\n",
        "### 正規化と相関係数\n",
        "\n",
        "正規化したら相関係数はどうなるか，計算してみましょう．"
      ]
    },
    {
      "cell_type": "markdown",
      "metadata": {
        "id": "ffEGZIolQAGc"
      },
      "source": [
        "まずは，[mm]/[ton]単位の身長/体重の散布図と相関係数．\n",
        "横軸縦軸の範囲に注意．"
      ]
    },
    {
      "cell_type": "code",
      "execution_count": null,
      "metadata": {
        "id": "MN2Ti0EiHLFS",
        "vscode": {
          "languageId": "python"
        }
      },
      "outputs": [],
      "source": [
        "fig, ax = plt.subplots(facecolor=\"white\", figsize=(6, 6))\n",
        "ax.scatter(dfHW['身長[mm]'], dfHW['体重[ton]'])\n",
        "#ax.set_xlim(140, 200)\n",
        "#ax.set_ylim(20, 100)\n",
        "ax.set_xlim(1300, 2100)\n",
        "ax.set_ylim(0.02, 0.1)\n",
        "plt.show()\n",
        "\n",
        "r = np.corrcoef(dfHW['身長[mm]'], dfHW['体重[ton]'])[1, 0]\n",
        "print(f'相関係数は {r:.3f}')"
      ]
    },
    {
      "cell_type": "markdown",
      "metadata": {
        "id": "PKRZmVKeQnad"
      },
      "source": [
        "次は，正規化後の散布図と相関係数．"
      ]
    },
    {
      "cell_type": "code",
      "execution_count": null,
      "metadata": {
        "id": "24DiEc0aQyiP",
        "vscode": {
          "languageId": "python"
        }
      },
      "outputs": [],
      "source": [
        "fig, ax = plt.subplots(facecolor=\"white\", figsize=(6, 6))\n",
        "ax.scatter(X_normalized, Y_normalized)\n",
        "ax.set_xlim(-4, 4)\n",
        "ax.set_ylim(-4, 4)\n",
        "plt.show()\n",
        "\n",
        "r = np.corrcoef(X_normalized, Y_normalized)[1, 0]\n",
        "print(f'相関係数は {r:.3f}')"
      ]
    },
    {
      "cell_type": "markdown",
      "metadata": {
        "id": "2xwCm3AKWcKa"
      },
      "source": [
        "★★★ 上記の相関係数の値を，ノート等にメモしておきましょう． Quiz で使う...かもしれません ★★★"
      ]
    },
    {
      "cell_type": "markdown",
      "metadata": {
        "id": "WQUnnFEvRYdI"
      },
      "source": [
        "分布の傾きが変わっていますが，これは単に縦軸横軸の範囲指定による見え方の問題です．\n",
        "相関係数を見ると，正規化の前後で全く値が変わっていないのがわかります．\n",
        "\n",
        "このように，相関係数の値は，データの値を定数倍したり一定値を加えたりしても，変化しません．"
      ]
    },
    {
      "cell_type": "markdown",
      "metadata": {
        "id": "fBz1LvIJR4Cx"
      },
      "source": [
        "そのいい加減な説明：\n",
        "\n",
        "相関係数の式は，\n",
        "$$\n",
        "r = \\frac{s_{XY}}{s_X s_Y}\n",
        "$$\n",
        "ただし\n",
        "$$\n",
        "\\begin{aligned}\n",
        "s_X &= \\sqrt{\\frac{1}{N}\\sum_{n=1}^{N}(x_n - \\bar{x})^2}\\\\\n",
        "s_Y &= \\sqrt{\\frac{1}{N}\\sum_{n=1}^{N}(y_n - \\bar{y})^2}\\\\\n",
        "s_{XY} &= \\frac{1}{N}\\sum_{n=1}^{N}(x_n - \\bar{x})(ｙ_n - \\bar{y})\n",
        "\\end{aligned}\n",
        "$$\n",
        "というものでした．\n",
        "分母の共分散も分子の標準偏差も平均を引いた値であるため，平均を変化させてもこれらの値は変化しません．\n",
        "また，定数倍すると分母分子が等しく定数倍される結果，やはり値は変化しません．"
      ]
    },
    {
      "cell_type": "code",
      "execution_count": null,
      "metadata": {
        "id": "hC0ip8vJShtN",
        "vscode": {
          "languageId": "python"
        }
      },
      "outputs": [],
      "source": []
    }
  ],
  "metadata": {
    "colab": {
      "authorship_tag": "ABX9TyPVNG2njFI4VRs7j4JqiOF4",
      "collapsed_sections": [],
      "include_colab_link": true,
      "name": "ex06notebookA.ipynb",
      "provenance": []
    },
    "kernelspec": {
      "display_name": "Python 3",
      "name": "python3"
    }
  },
  "nbformat": 4,
  "nbformat_minor": 0
}
