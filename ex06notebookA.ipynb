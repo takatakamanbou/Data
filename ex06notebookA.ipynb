{
  "nbformat": 4,
  "nbformat_minor": 0,
  "metadata": {
    "colab": {
      "name": "ex06notebookA.ipynb",
      "provenance": [],
      "collapsed_sections": [],
      "authorship_tag": "ABX9TyP1HJOkiIVt76kyj+A9G6qN",
      "include_colab_link": true
    },
    "kernelspec": {
      "name": "python3",
      "display_name": "Python 3"
    }
  },
  "cells": [
    {
      "cell_type": "markdown",
      "metadata": {
        "id": "view-in-github",
        "colab_type": "text"
      },
      "source": [
        "<a href=\"https://colab.research.google.com/github/takatakamanbou/Data/blob/main/ex06notebookA.ipynb\" target=\"_parent\"><img src=\"https://colab.research.google.com/assets/colab-badge.svg\" alt=\"Open In Colab\"/></a>"
      ]
    },
    {
      "cell_type": "markdown",
      "metadata": {
        "id": "2UzDNLmVS3po"
      },
      "source": [
        "# Data2021 ex06notebookA\n",
        "\n",
        "<img width=64 src=\"https://www-tlab.math.ryukoku.ac.jp/~takataka/course/Data/Data-logo06.png\"> https://www-tlab.math.ryukoku.ac.jp/wiki/?Data/2021"
      ]
    },
    {
      "cell_type": "markdown",
      "metadata": {
        "id": "_4-TmUdCd9FJ"
      },
      "source": [
        "## 準備\n",
        "\n",
        "Google Colab の Notebook では， Python というプログラミング言語のコードを動かして計算したりグラフを描いたりもできます．\n",
        "Python は，データ分析や機械学習・人工知能分野ではメジャーなプログラミング言語ですが，それを学ぶことはこの授業の守備範囲ではありません．ですので，以下の所々に現れるプログラムっぽい記述の内容は，理解できなくて構いません．\n",
        "\n",
        "以下，コードセルを上から順に実行していってね．"
      ]
    },
    {
      "cell_type": "code",
      "metadata": {
        "id": "QQ8M3640S1W7"
      },
      "source": [
        "# 準備あれこれ\n",
        "import numpy as np\n",
        "import matplotlib.pyplot as plt\n",
        "import pandas as pd\n",
        "import seaborn\n",
        "seaborn.set()"
      ],
      "execution_count": null,
      "outputs": []
    },
    {
      "cell_type": "code",
      "metadata": {
        "id": "If5pCB6bc3QF"
      },
      "source": [
        "# データを読み込む\n",
        "dfMPI = pd.read_csv('https://www-tlab.math.ryukoku.ac.jp/~takataka/course/Data/ex06mpi.csv', header=0)\n",
        "#print(dfMPI.columns)\n",
        "dfMPI"
      ],
      "execution_count": null,
      "outputs": []
    },
    {
      "cell_type": "markdown",
      "metadata": {
        "id": "7H45eNIcd2xB"
      },
      "source": [
        "----\n",
        "## データの代表値 その(4) 箱ひげ図ふたたび + $\\alpha$\n",
        "----\n",
        "\n",
        "上記の「数学」，「物理」，「情報」の点数のデータについて，ヒストグラムと箱ひげ図を描いてみましょう．ヒストグラムと比較しやすいよう，横に伸びる形にしてみました．\n",
        "\n",
        "箱ひげ図については， [第4回](https://www-tlab.math.ryukoku.ac.jp/wiki/?Data/2021#ex04) にも登場しています．\n"
      ]
    },
    {
      "cell_type": "code",
      "metadata": {
        "id": "DA4iL7sIml-A"
      },
      "source": [
        "bins = np.linspace(0, 100, num=21)\n",
        "fig, ax = plt.subplots(3, 2, facecolor=\"white\", figsize=(10, 8))\n",
        "col = ['数学', '物理', '情報']\n",
        "colE = ['Math', 'Physics', 'Information']\n",
        "for i in range(3):\n",
        "    ax[i][0].hist(dfMPI[col[i]], label=colE[i], bins=bins)\n",
        "    ax[i][0].legend()\n",
        "    ax[i][0].set_xlim(0, 100)\n",
        "    ax[i][0].set_ylim(0, 32)\n",
        "    ax[i][1].boxplot(dfMPI[col[i]], vert=False, whis=[0, 100])\n",
        "    ax[i][1].set_yticklabels('')\n",
        "    ax[i][1].set_xlim(0, 100)\n",
        "plt.show()"
      ],
      "execution_count": null,
      "outputs": []
    },
    {
      "cell_type": "markdown",
      "metadata": {
        "id": "VqWhf2hhPdsa"
      },
      "source": [
        "こうして見ると，ヒストグラムほどの情報は含まれていませんが，箱ひげ図からも3科目の点数分布の違いをある程度把握できることがわかりますね．\n",
        "\n",
        "\n",
        "以下に示す3科目の平均および標準偏差とも見比べてみましょう．\n",
        "\n"
      ]
    },
    {
      "cell_type": "code",
      "metadata": {
        "id": "l3UeoWJMhHZu"
      },
      "source": [
        "col = ['数学', '物理', '情報']\n",
        "for c in col:\n",
        "    xm = np.mean(dfMPI[c])\n",
        "    s = np.std(dfMPI[c])\n",
        "    print(f'{c}:  平均 = {xm:.2f} 標準偏差 = {s:.2f}')"
      ],
      "execution_count": null,
      "outputs": []
    },
    {
      "cell_type": "markdown",
      "metadata": {
        "id": "hpni5_CBW0Mu"
      },
      "source": [
        "箱ひげ図と同じところで説明した，中央値や四分位数も算出しておきます．\n",
        "箱ひげ図と見比べて，どういうことになっているか考えてみてください．\n"
      ]
    },
    {
      "cell_type": "code",
      "metadata": {
        "id": "m4ziYjVQXBJ2"
      },
      "source": [
        "col = ['数学', '物理', '情報']\n",
        "for c in col:\n",
        "    print(c, end='   ')\n",
        "    Q = np.quantile(dfMPI[c], [0.0, 0.25, 0.5, 0.75, 1.0])\n",
        "    print(f'最小値: {Q[0]}  第1四分位数: {Q[1]}  中央値: {Q[2]}  第3四分位数: {Q[3]}  最大値: {Q[4]}')"
      ],
      "execution_count": null,
      "outputs": []
    },
    {
      "cell_type": "markdown",
      "metadata": {
        "id": "GxTJ8Ym4X9fR"
      },
      "source": [
        "最後に，データの代表値の一つである **最頻値** を紹介します．「**最**も**頻**繁に現れる**値**」の名の通り，データの中で一番出現回数が多い値です．\n",
        "\n",
        "以下のセルを実行すると，最頻値とその出現回数を表示します．★★★ それぞれの最頻値をノート等にメモしておきましょう ★★★"
      ]
    },
    {
      "cell_type": "code",
      "metadata": {
        "id": "lK7BOpl5XlMb"
      },
      "source": [
        "col = ['数学', '物理', '情報']\n",
        "for c in col:\n",
        "    mode = dfMPI[c].mode()[0]\n",
        "    cnt = np.sum(dfMPI[c] == mode)\n",
        "    print(f'{c}:  最頻値 = {mode} （{cnt}回)')"
      ],
      "execution_count": null,
      "outputs": []
    },
    {
      "cell_type": "markdown",
      "metadata": {
        "id": "6O4QwpCTZiyM"
      },
      "source": [
        "出現回数の多い値ということは，ヒストグラムのビンの高さ（棒の高さ）が最も高いところにある，と思うかもしれませんが，そうとは限りません（ヒストグラムとこれらの最頻値を見比べてみてね）．\n",
        "\n",
        "このデータの場合，1点刻みの点数ですので，ヒストグラムの一つの区間には，値の異なる標本が含まれます．\n",
        "例えば，以下のような10点刻みでヒストグラムを描いていたとしたら，55という値の出現回数が多くても，60点以上70点未満の方が値の数は多いですよね．\n",
        "\n",
        "| 区間 | 値 |\n",
        "| ----- | ----- |\n",
        "| ... | ... |\n",
        "|50点以上60点未満| 55, 55, 55 |\n",
        "|60点以上70点未満| 61, 63, 65, 66, 68 |\n",
        "| ... | ... |\n",
        "\n"
      ]
    },
    {
      "cell_type": "code",
      "metadata": {
        "id": "1tJh5yTCX7h4"
      },
      "source": [
        ""
      ],
      "execution_count": null,
      "outputs": []
    }
  ]
}