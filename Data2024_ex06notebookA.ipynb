{
  "nbformat": 4,
  "nbformat_minor": 0,
  "metadata": {
    "colab": {
      "provenance": [],
      "toc_visible": true,
      "authorship_tag": "ABX9TyPHaV0hbvp4aKiLZeb6OU3O",
      "include_colab_link": true
    },
    "kernelspec": {
      "name": "python3",
      "display_name": "Python 3"
    }
  },
  "cells": [
    {
      "cell_type": "markdown",
      "metadata": {
        "id": "view-in-github",
        "colab_type": "text"
      },
      "source": [
        "<a href=\"https://colab.research.google.com/github/takatakamanbou/Data/blob/main/Data2024_ex06notebookA.ipynb\" target=\"_parent\"><img src=\"https://colab.research.google.com/assets/colab-badge.svg\" alt=\"Open In Colab\"/></a>"
      ]
    },
    {
      "cell_type": "markdown",
      "metadata": {
        "id": "2UzDNLmVS3po"
      },
      "source": [
        "# Data2024 ex06notebookA\n",
        "\n",
        "<img width=64 src=\"https://www-tlab.math.ryukoku.ac.jp/~takataka/course/Data/Data-logo05.png\"> https://www-tlab.math.ryukoku.ac.jp/wiki/?Data/2024"
      ]
    },
    {
      "cell_type": "markdown",
      "metadata": {
        "id": "_4-TmUdCd9FJ"
      },
      "source": [
        "## 準備\n",
        "\n",
        "\n",
        "以下，コードセルを上から順に実行していってね．"
      ]
    },
    {
      "cell_type": "code",
      "metadata": {
        "id": "QQ8M3640S1W7"
      },
      "source": [
        "# 準備あれこれ\n",
        "import numpy as np\n",
        "import matplotlib.pyplot as plt\n",
        "import pandas as pd\n",
        "import seaborn\n",
        "seaborn.set()"
      ],
      "execution_count": null,
      "outputs": []
    },
    {
      "cell_type": "code",
      "metadata": {
        "id": "If5pCB6bc3QF"
      },
      "source": [
        "# データを読み込む\n",
        "dfHW = pd.read_csv('https://www-tlab.math.ryukoku.ac.jp/~takataka/course/Data/ex06hw.csv', header=0)\n",
        "dfHW.drop(columns=['num'], inplace=True)\n",
        "dfHW"
      ],
      "execution_count": null,
      "outputs": []
    },
    {
      "cell_type": "code",
      "source": [
        "# データを読み込む\n",
        "dfMPI = pd.read_csv('https://www-tlab.math.ryukoku.ac.jp/~takataka/course/Data/ex06mpi.csv', header=0)\n",
        "#print(dfMPI.columns)\n",
        "dfMPI"
      ],
      "metadata": {
        "id": "_8AuEI44JnHz"
      },
      "execution_count": null,
      "outputs": []
    },
    {
      "cell_type": "markdown",
      "metadata": {
        "id": "BUnL1cviDhIP"
      },
      "source": [
        "----\n",
        "## データの正規化\n",
        "----\n",
        "\n",
        "\n"
      ]
    },
    {
      "cell_type": "markdown",
      "metadata": {
        "id": "gTuf-qRyRVSp"
      },
      "source": [
        "----\n",
        "### データを正規化したくなる気持ち\n",
        "\n"
      ]
    },
    {
      "cell_type": "code",
      "metadata": {
        "id": "M7SQCeuFjpDA"
      },
      "source": [
        "dfHW"
      ],
      "execution_count": null,
      "outputs": []
    },
    {
      "cell_type": "markdown",
      "metadata": {
        "id": "JdcZaE0Q4Cf1"
      },
      "source": [
        "上記は，1000人分の $(\\mbox{身長}, \\mbox{体重})$ のデータです（注）．\n",
        "なんか身長の値が大きくて，体重の値が小さいなあ，と思ってよく見ると，身長の単位はミリメートル，体重の単位はトンで表されています.\n",
        "\n",
        "\n",
        "注) このデータは，人工的に作ったものです．平均や標準偏差は17歳男子の統計データに近くなるようにしてありますが，分布は実際のデータとは違ってます．"
      ]
    },
    {
      "cell_type": "markdown",
      "metadata": {
        "id": "cbkwVZQl4tLy"
      },
      "source": [
        "何も考えず身長，体重それぞれのヒストグラムを描いてみると，こんなんなります．"
      ]
    },
    {
      "cell_type": "code",
      "metadata": {
        "id": "Tvi7kc_g4_-C"
      },
      "source": [
        "fig, ax = plt.subplots(2, 1, facecolor=\"white\", figsize=(8, 6))\n",
        "ax[0].hist(dfHW['身長[mm]'], label='height')\n",
        "ax[0].legend()\n",
        "ax[0].set_xlim(1300, 2100)\n",
        "ax[0].set_ylim(0, 300)\n",
        "ax[1].hist(dfHW['体重[ton]'], label='weight')\n",
        "ax[1].legend()\n",
        "ax[1].set_xlim(0.02, 0.10)\n",
        "ax[1].set_ylim(0, 300)\n",
        "plt.show()"
      ],
      "execution_count": null,
      "outputs": []
    },
    {
      "cell_type": "markdown",
      "metadata": {
        "id": "mJyM_gDL7j8v"
      },
      "source": [
        "当たり前ですが，値の大きさとか，範囲とか，桁違いですね．\n",
        "当然，平均値や標準偏差の値も..."
      ]
    },
    {
      "cell_type": "code",
      "metadata": {
        "id": "DCbl64B-73Lg"
      },
      "source": [
        "mH, mW = np.mean(dfHW['身長[mm]']), np.mean(dfHW['体重[ton]'])\n",
        "sH, sW = np.std(dfHW['身長[mm]']), np.std(dfHW['体重[ton]'])\n",
        "print(f'身長の平均 = {mH:.1f}, 身長の標準偏差 = {sH:.3f}')\n",
        "print(f'体重の平均 = {mW:.6f}, 体重の標準偏差 = {sW:.6f}')"
      ],
      "execution_count": null,
      "outputs": []
    },
    {
      "cell_type": "markdown",
      "metadata": {
        "id": "IcN9O_7m9VAa"
      },
      "source": [
        "値が大きすぎたり小さすぎたりすると扱いにくいし解釈もしづらいので，値が適当な範囲になるように一定数を足したり，定数倍したりすることを考えましょう．\n",
        "\n",
        "とりあえずすぐに思いつくのは，身長の単位を[cm]にして，体重の単位を[kg]にすることです．\n",
        "身長を $\\frac{1}{10}$ に，体重を $1000$ 倍にしてみましょう．"
      ]
    },
    {
      "cell_type": "code",
      "metadata": {
        "id": "cdNdk3ZL-ZcL"
      },
      "source": [
        "X = dfHW['身長[mm]']/10   # [cm]単位にした身長\n",
        "Y = dfHW['体重[ton]']*1000 # [kg]単位にした体重"
      ],
      "execution_count": null,
      "outputs": []
    },
    {
      "cell_type": "code",
      "metadata": {
        "id": "mcZCCv9i-YVM"
      },
      "source": [
        "fig, ax = plt.subplots(2, 1, facecolor=\"white\", figsize=(8, 6))\n",
        "ax[0].hist(X, label='height')\n",
        "ax[0].legend()\n",
        "ax[0].set_xlim(130, 210)\n",
        "ax[0].set_ylim(0, 300)\n",
        "ax[1].hist(Y, label='weight')\n",
        "ax[1].legend()\n",
        "ax[1].set_xlim(20, 100)\n",
        "ax[1].set_ylim(0, 300)\n",
        "plt.show()"
      ],
      "execution_count": null,
      "outputs": []
    },
    {
      "cell_type": "code",
      "metadata": {
        "id": "6PKBp8hl-5xd"
      },
      "source": [
        "mH, mW = np.mean(X), np.mean(Y)\n",
        "sH, sW = np.std(X), np.std(Y)\n",
        "print(f'身長の平均 = {mH:.2f}, 身長の標準偏差 = {sH:.2f}')\n",
        "print(f'体重の平均 = {mW:.2f}, 体重の標準偏差 = {sW:.2f}')"
      ],
      "execution_count": null,
      "outputs": []
    },
    {
      "cell_type": "markdown",
      "metadata": {
        "id": "bVIz1Y5N-5Sy"
      },
      "source": [
        "見慣れた値になりました．\n",
        "以前証明した性質：\n",
        "\n",
        "> データを定数 $a$ 倍すると，平均は元の $a$ 倍になり，標準偏差は元の $|a|$ 倍になる\n",
        "\n",
        "がちゃんと成り立ってますね．\n"
      ]
    },
    {
      "cell_type": "markdown",
      "metadata": {
        "id": "oHyK6HGTOban"
      },
      "source": [
        "----\n",
        "### 正規化（標準化）"
      ]
    },
    {
      "cell_type": "markdown",
      "metadata": {
        "id": "ND7ODVOTA-o-"
      },
      "source": [
        "身長と体重のようなデータは，たまたま[cm]と[kg]を単位とすれば，それなりの範囲におさまりました．しかし，単位を変えればいつでも都合よく範囲がそろうとは限りません．値の範囲をある程度そろえたいと思ったら，どうするのがよいでしょう？\n",
        "\n",
        "問題や目的に応じて，様々なやり方がありますが，最も一般的な方法は，**データの平均が $0$ に，標準偏差が $1$ になるようにする**，というものです（標準偏差が $1$ $\\Leftrightarrow$ 分散が $1^2=1$ なので，「分散が $1$ になるようにする」と言うこともあります）．\n",
        "\n",
        "このようにデータの値をいじることを，データを **正規化する**，または，**標準化する** といいます．"
      ]
    },
    {
      "cell_type": "markdown",
      "metadata": {
        "id": "7oFH9spGG8BY"
      },
      "source": [
        "データ $x_1, x_2, \\dots , x_N$ の平均値が $\\bar{x}$ で，標準偏差が $s$ だったとすると，\n",
        "$$\n",
        "z_n = \\frac{x_n - \\bar{x}}{s}\\qquad (n = 1, 2, \\dots , N)\n",
        "$$\n",
        "とすれば，$z_1, z_2, \\dots , z_N$ の平均は $0$ で，標準偏差は $1$ になります（注）．\n",
        "\n",
        "※ 注意: $z_n = -\\frac{x_n - \\bar{x}}{s}$ でも平均 $0$ 標準偏差 $1$ にできますが，通常は↑の式を用います．"
      ]
    },
    {
      "cell_type": "markdown",
      "metadata": {
        "id": "bAKJpal8IMfS"
      },
      "source": [
        "［証明］\n",
        "\n",
        "$z_n$の平均は，\n",
        "\n",
        "$$\n",
        "\\begin{aligned}\n",
        "\\frac{1}{N}\\sum_{n=1}^{N}z_n &= \\frac{1}{N}\\sum_{n=1}^{N}\\frac{x_n - \\bar{x}}{s} = \\frac{1}{sN}\\sum_{n=1}^{N}(x_n - \\bar{x}) \\\\\n",
        "&= \\frac{1}{s}\\left( \\frac{1}{N}\\sum_{n=1}^{N}x_n - \\frac{1}{N}\\sum_{n=1}^{N}\\bar{x} \\right)\n",
        "= \\frac{1}{s}\\left(\\bar{x} - \\frac{N\\bar{x}}{N}\\right)\\\\\n",
        "&= \\frac{1}{s}\\times 0 = 0\n",
        "\\end{aligned}\n",
        "$$\n",
        "\n",
        "である．分散は，\n",
        "\n",
        "$$\n",
        "\\begin{aligned}\n",
        "\\frac{1}{N}\\sum_{n=1}^{N}(z_n - 0)^2 &= \\frac{1}{N}\\sum_{n=1}^{N}\\frac{(x_n - \\bar{x})^2}{s^2} = \\frac{1}{s^2}\\frac{1}{N}\\sum_{n=1}^{N}(x_n-\\bar{x})^2 \\\\\n",
        "&= \\frac{1}{s^2} \\times s^2 = 1\n",
        "\\end{aligned}\n",
        "$$\n",
        "\n",
        "である．よって，標準偏差も $1$ である．\n",
        "\n",
        "\n"
      ]
    },
    {
      "cell_type": "markdown",
      "metadata": {
        "id": "cu5YNplPNkox"
      },
      "source": [
        "実際に，上記の身長，体重をそれぞれ正規化してみましょう．"
      ]
    },
    {
      "cell_type": "code",
      "metadata": {
        "id": "VRA0THGcMSbU"
      },
      "source": [
        "# 身長[cm]の平均と標準偏差\n",
        "mH = np.mean(X)\n",
        "sH = np.std(X)\n",
        "print(f'身長の平均 = {mH:.2f}, 身長の標準偏差 = {sH:.2f}')\n",
        "\n",
        "# 身長の正規化\n",
        "X_normalized = (X - mH) / sH\n",
        "print(f'正規化した身長の平均 = {np.mean(X_normalized):.2f}, 正規化した身長の標準偏差 = {np.std(X_normalized):.2f}')"
      ],
      "execution_count": null,
      "outputs": []
    },
    {
      "cell_type": "code",
      "metadata": {
        "id": "ShaBCUbIMmF_"
      },
      "source": [
        "# 体重[kg]の平均と標準偏差\n",
        "mW = np.mean(Y)\n",
        "sW = np.std(Y)\n",
        "print(f'体重の平均 = {mW:.2f}, 体重の標準偏差 = {sW:.2f}')\n",
        "\n",
        "# 体重の正規化\n",
        "Y_normalized = (Y - mW) / sW\n",
        "print(f'正規化した体重の平均 = {np.mean(Y_normalized):.2f}, 正規化した体重の標準偏差 = {np.std(Y_normalized):.2f}')"
      ],
      "execution_count": null,
      "outputs": []
    },
    {
      "cell_type": "markdown",
      "metadata": {
        "id": "fXIk5VS2O4uj"
      },
      "source": [
        "正規化した身長体重のヒストグラムはこうなります．横軸の範囲に注目．"
      ]
    },
    {
      "cell_type": "code",
      "metadata": {
        "id": "l9q9f7R4Ny_k"
      },
      "source": [
        "fig, ax = plt.subplots(2, 1, facecolor=\"white\", figsize=(8, 6))\n",
        "ax[0].hist(X_normalized, label='height')\n",
        "ax[0].legend()\n",
        "ax[0].set_xlim(-4, 4)\n",
        "ax[0].set_ylim(0, 300)\n",
        "ax[1].hist(Y_normalized, label='weight')\n",
        "ax[1].legend()\n",
        "ax[1].set_xlim(-4, 4)\n",
        "ax[1].set_ylim(0, 300)\n",
        "plt.show()"
      ],
      "execution_count": null,
      "outputs": []
    },
    {
      "cell_type": "markdown",
      "metadata": {
        "id": "BldCzKHbPGlU"
      },
      "source": [
        "この例では，正規化すると，身長も体重もよく似た分布の形をしていることがわかります．\n",
        "データを正規化すると，単位の違いなどにとらわれずに分布の本質的な性質を調べやすくなります．"
      ]
    },
    {
      "cell_type": "markdown",
      "metadata": {
        "id": "GhxDJEahP28u"
      },
      "source": [
        "----\n",
        "### 正規化と相関係数\n",
        "\n",
        "正規化したら相関係数はどうなるか，計算してみましょう．"
      ]
    },
    {
      "cell_type": "markdown",
      "metadata": {
        "id": "ffEGZIolQAGc"
      },
      "source": [
        "まずは，[mm]/[ton]単位の身長/体重の散布図と相関係数．\n",
        "横軸縦軸の範囲に注意．"
      ]
    },
    {
      "cell_type": "code",
      "metadata": {
        "id": "MN2Ti0EiHLFS"
      },
      "source": [
        "fig, ax = plt.subplots(facecolor=\"white\", figsize=(6, 6))\n",
        "ax.scatter(dfHW['身長[mm]'], dfHW['体重[ton]'])\n",
        "#ax.set_xlim(140, 200)\n",
        "#ax.set_ylim(20, 100)\n",
        "ax.set_xlim(1300, 2100)\n",
        "ax.set_ylim(0.02, 0.1)\n",
        "plt.show()\n",
        "\n",
        "r = np.corrcoef(dfHW['身長[mm]'], dfHW['体重[ton]'])[1, 0]\n",
        "print(f'相関係数は {r:.3f}')"
      ],
      "execution_count": null,
      "outputs": []
    },
    {
      "cell_type": "markdown",
      "metadata": {
        "id": "PKRZmVKeQnad"
      },
      "source": [
        "次は，正規化後の散布図と相関係数．"
      ]
    },
    {
      "cell_type": "code",
      "metadata": {
        "id": "24DiEc0aQyiP"
      },
      "source": [
        "fig, ax = plt.subplots(facecolor=\"white\", figsize=(6, 6))\n",
        "ax.scatter(X_normalized, Y_normalized)\n",
        "ax.set_xlim(-4, 4)\n",
        "ax.set_ylim(-4, 4)\n",
        "plt.show()\n",
        "\n",
        "r = np.corrcoef(X_normalized, Y_normalized)[1, 0]\n",
        "print(f'相関係数は {r:.3f}')"
      ],
      "execution_count": null,
      "outputs": []
    },
    {
      "cell_type": "markdown",
      "metadata": {
        "id": "2xwCm3AKWcKa"
      },
      "source": [
        "★★★ 上記の相関係数の値を，ノート等にメモしておきましょう． Quiz で使う...かもしれません ★★★"
      ]
    },
    {
      "cell_type": "markdown",
      "metadata": {
        "id": "WQUnnFEvRYdI"
      },
      "source": [
        "分布の傾きが変わっていますが，これは単に縦軸横軸の範囲指定による見え方の問題です．\n",
        "相関係数を見ると，正規化の前後で全く値が変わっていないのがわかります．\n",
        "\n",
        "このように，相関係数の値は，データの値を定数倍したり一定値を加えたりしても，変化しません．"
      ]
    },
    {
      "cell_type": "markdown",
      "metadata": {
        "id": "fBz1LvIJR4Cx"
      },
      "source": [
        "そのいい加減な説明：\n",
        "\n",
        "相関係数の式は，\n",
        "$$\n",
        "r = \\frac{s_{XY}}{s_X s_Y}\n",
        "$$\n",
        "ただし\n",
        "$$\n",
        "\\begin{aligned}\n",
        "s_X &= \\sqrt{\\frac{1}{N}\\sum_{n=1}^{N}(x_n - \\bar{x})^2}\\\\\n",
        "s_Y &= \\sqrt{\\frac{1}{N}\\sum_{n=1}^{N}(y_n - \\bar{y})^2}\\\\\n",
        "s_{XY} &= \\frac{1}{N}\\sum_{n=1}^{N}(x_n - \\bar{x})(ｙ_n - \\bar{y})\n",
        "\\end{aligned}\n",
        "$$\n",
        "というものでした．\n",
        "分母の共分散も分子の標準偏差も平均を引いた値であるため，平均を変化させてもこれらの値は変化しません．\n",
        "また，定数倍すると分母分子が等しく定数倍される結果，やはり値は変化しません．"
      ]
    },
    {
      "cell_type": "markdown",
      "metadata": {
        "id": "gjwFlEyQi4Wf"
      },
      "source": [
        "----\n",
        "### 実験\n",
        "\n"
      ]
    },
    {
      "cell_type": "markdown",
      "metadata": {
        "id": "7KIDC7Nod37z"
      },
      "source": [
        "元のデータ $x_1, x_2, \\dots , x_N$ の平均値が $\\bar{x}$ で，標準偏差が $s$ だったとすると，\n",
        "$$\n",
        "z_n = \\frac{x_n - \\bar{x}}{s} \\qquad (n = 1, 2, \\dots , N)\n",
        "$$\n",
        "とすれば，このデータを正規化（標準化）したデータを得ることができます．つまり，\n",
        "$z_1, z_2, \\dots , z_N$ の平均は $0$ になり，標準偏差は $1$ になるのでした．"
      ]
    },
    {
      "cell_type": "markdown",
      "metadata": {
        "id": "VAHfhVZjhpxW"
      },
      "source": [
        "「数学」，「物理」，「情報」3科目の点数のデータを正規化（標準化）する実験をやってみましょう．"
      ]
    },
    {
      "cell_type": "code",
      "metadata": {
        "id": "DA4iL7sIml-A"
      },
      "source": [
        "#@title  スライダを動かしてセルを実行し直してみよう．3科目ともその点数だったひとの点数を正規化（標準化）した値をグラフで確認することができます\n",
        "xx = 70 #@param {type:\"slider\", min:0, max:100}\n",
        "\n",
        "binsX = np.linspace(0, 100, num=21)\n",
        "binsZ = np.linspace(-4, 4, num=21)\n",
        "fig, ax = plt.subplots(3, 2, facecolor=\"white\", figsize=(10, 8))\n",
        "col = ['数学', '物理', '情報']\n",
        "colE = ['Math', 'Physics', 'Information']\n",
        "for i in range(3):\n",
        "    X = dfMPI[col[i]]\n",
        "    ax[i][0].hist(X, label=colE[i], bins=binsX)\n",
        "    ax[i][0].legend()\n",
        "    ax[i][0].set_xlim(0, 100)\n",
        "    ax[i][0].set_ylim(0, 32)\n",
        "    ax[i][0].axvline(x = xx, color='red')\n",
        "    m = np.mean(X)\n",
        "    s = np.std(X)\n",
        "    Z = (X - m) / s\n",
        "    zz = (xx - m) / s\n",
        "    ax[i][1].hist(Z, label=colE[i], bins=binsZ)\n",
        "    ax[i][1].legend()\n",
        "    ax[i][1].set_xlim(-4, 4)\n",
        "    ax[i][1].set_ylim(0, 32)\n",
        "    ax[i][1].axvline(x = zz, color='red')\n",
        "    print(f'##### {col[i]} #####')\n",
        "    print(f'平均: {m:.2f}  標準偏差: {s:.2f}', end='   ')\n",
        "    print(f'{xx}点のひとの正規化（標準化）後の値は {zz:.2f}')\n",
        "plt.show()"
      ],
      "execution_count": null,
      "outputs": []
    },
    {
      "cell_type": "markdown",
      "metadata": {
        "id": "VqWhf2hhPdsa"
      },
      "source": [
        "正規化（標準化）した値を比較することで，分布の異なるこれら3科目の間で得点の比較ができるようになってますね．\n",
        "\n"
      ]
    },
    {
      "cell_type": "markdown",
      "metadata": {
        "id": "8KQaWD3ajfIn"
      },
      "source": [
        "［問題］ 上記のデータは，ある学校のある学年の生徒全員が受験した3科目の試験の点数だったとします．ほげお君もこの試験を受験しました．ほげお君の3科目の点数が，「数学」60点，「物理」70点，「情報」80点だったとすると，彼はどの科目のできが最も良かった（受験者の中で順位が上の方だった）と予想できるでしょうか？\n",
        "\n",
        "次の手順で考えてみましょう．"
      ]
    },
    {
      "cell_type": "markdown",
      "metadata": {
        "id": "zNUMCxAKl-v5"
      },
      "source": [
        "Step1  上記のセルを， `xx` の値を `60`, `70`, `80` として実行し，以下の値を求めましょう\n",
        "\n",
        "- 「数学」60点の正規化した値 =\n",
        "- 「物理」70点の正規化した値 =\n",
        "- 「情報」80点の正規化した値 =\n",
        "\n",
        "Step2  これらの値から，彼はどの科目のできが最も良かったと予想できるか，考えましょう．\n"
      ]
    },
    {
      "cell_type": "markdown",
      "metadata": {
        "id": "d6FUIRjO3OFF"
      },
      "source": [
        "★★★ この［問題］の解答（求めた値を含む）を，ノート等にメモしておきましょう．Quiz に出てくる...かもしれません ★★★"
      ]
    },
    {
      "cell_type": "markdown",
      "metadata": {
        "id": "h4bWy7f7jOXg"
      },
      "source": [
        "----\n",
        "### 偏差値\n"
      ]
    },
    {
      "cell_type": "markdown",
      "metadata": {
        "id": "OOwmL_sMnNy6"
      },
      "source": [
        "ここで，みなさんご存知の(?) **偏差値** について説明しておきます．\n",
        "\n",
        "偏差値は，上記のような正規化（標準化）した値を，より直感的に解釈しやすくするため，10倍して50を加えた値です．\n",
        "\n",
        "元のデータ $x_1, x_2, \\dots , x_N$ の平均値が $\\bar{x}$ で，標準偏差が $s$ だったとすると，\n",
        "$$\n",
        "h_n = 50 + 10\\times\\frac{x_n - \\bar{x}}{s}\\qquad (n = 1, 2, \\dots , N)\n",
        "$$\n",
        "という計算で得られる値 $h_n$ が， $x_n$ に対する偏差値ということになります．\n",
        "\n",
        "正規化した値 $z_n$ を使って表すと，\n",
        "$$\n",
        "h_n = 50 + 10z_n  \\qquad (n = 1, 2, \\dots , N)\n",
        "$$\n",
        "です． $z_n$ の平均は $0$，標準偏差は $1$ ですので，偏差値 $h_n$ の平均は $50$，標準偏差は$10$ になります（★）．\n",
        "こうすることで，100点満点のテストの点数に近い感覚で値をとらえることができて便利，というわけです．\n",
        "\n",
        "<font size=\"-1\">★） どうしてそうなるかわからないひとは，平均や標準偏差の性質に関するnotebookと動画で復習してね</font>\n"
      ]
    },
    {
      "cell_type": "markdown",
      "metadata": {
        "id": "ZXYhfuzbqri9"
      },
      "source": [
        "ただし，元の点数が 0 以上100以下だったとしても，偏差値は区間 $[0, 100]$ におさまるとは限りません．以下のセルを，`Xm` や `Xs` の値をいろいろ変えて実行して，出力を観察してみましょう．"
      ]
    },
    {
      "cell_type": "code",
      "metadata": {
        "id": "cDeS_89trClm"
      },
      "source": [
        "#@title  平均 `Xm` 標準偏差 `Xs` の点数分布を生成して，95点のひとの偏差値を算出します．\n",
        "Xm = 60 #@param {type:\"number\"}\n",
        "Xs = 15  #@param {type:\"number\"}\n",
        "\n",
        "xx = 95\n",
        "\n",
        "# 平均 Xm 標準偏差 Xs の値を100個，ランダムに生成\n",
        "X = Xs * np.random.randn(100) + Xm\n",
        "X[0] = xx  # 0番のひとを xx 点にする\n",
        "\n",
        "binsX = np.linspace(0, 100, num=21)\n",
        "fig, ax = plt.subplots(facecolor=\"white\", figsize=(6, 4))\n",
        "ax.hist(X, bins=binsX)\n",
        "ax.set_xlim(0, 100)\n",
        "ax.axvline(x = xx, color='red')\n",
        "m = np.mean(X)\n",
        "s = np.std(X)\n",
        "zz = (xx - m) / s\n",
        "h = 10*zz + 50\n",
        "print(f'平均: {m:.2f}  標準偏差: {s:.2f}', end='   ')\n",
        "print(f'{xx}点のひとの正規化（標準化）後の値は {zz:.2f}  偏差値は {h:.1f}')\n",
        "plt.show()"
      ],
      "execution_count": null,
      "outputs": []
    },
    {
      "cell_type": "markdown",
      "metadata": {
        "id": "hgqaSDtxvc9c"
      },
      "source": [
        "----\n",
        "### 正規化（標準化）した値や偏差値の解釈に関する注意\n",
        "\n",
        "\n"
      ]
    },
    {
      "cell_type": "markdown",
      "metadata": {
        "id": "OG3TqC6ywBa3"
      },
      "source": [
        "上記の［問題］で，「数学」60点，「物理」70点，「情報」80点だったひとのこれらの科目のできの良さを比較する，ということをやりました．\n",
        "正規化（標準化）した値の大小から考えたわけですが，このような比較ができるのは，\n",
        "「これら3科目の得点分布の形にあまり違いがない」という仮定が成り立つ場合のみです．\n",
        "分布の形が違うような場合（たとえば，2科目は上記のヒストグラムのように山が一つの形（単峰性）の分布をしているのに，残り1科目は2つの山分かれた形の分布をしているなど）は，正規化した値の大小だけでは予想がはずれることがあります．"
      ]
    },
    {
      "cell_type": "markdown",
      "metadata": {
        "id": "c9jU7n50yUDh"
      },
      "source": [
        "また，分布の形があまり違わなかったとしても，比較する二つのデータが異なる集団から得られたものだった場合，正規化（標準化）した値や偏差値での比較は意味のないことになります．\n",
        "\n",
        "例えば，ほげお君が，「○ゼミの模擬試験」と「○○塾の模擬試験」を両方受けたとして，前者の偏差値が80で，後者の偏差値が50だったとしましょう．\n",
        "この場合，これらの偏差値の比較から，「ほげおくんは○ゼミの模擬試験の方ができがよかった」と結論付けることはできません．\n",
        "\n",
        "これらの試験は別々の集団が受験していますので，単純に後者の模擬試験を受験した集団の方ができるひとが多かった，というだけで，上記のような偏差値が出てきてしまいます．\n",
        "場合によっては，後者の方ができがよかったとする方が適切な場合もありえます．"
      ]
    },
    {
      "cell_type": "markdown",
      "metadata": {
        "id": "_LDr_VDh1TxF"
      },
      "source": [
        "［参考］\n",
        "- 「[全受験生が理解するべき！偏差値とは何か](https://youtu.be/Xt7VN0xCbt8)」 [予備校のノリで学ぶ「大学の数学・物理」](https://www.youtube.com/channel/UCqmWJJolqAgjIdLqK3zD1QQ)\n",
        "- 「[地球上で自分1人だけが問題を解けたら、偏差値は◯◯万だ](https://quizknock.com/only-hensachi)」 [QuizKnock](https://quizknock.com/)\n",
        "- 「[勉強せずに偏差値を10上げる方法を考える](https://quizknock.com/hensachizm)」 [QuizKnock](https://quizknock.com/)\n",
        "- 「[【東大流】偏差値って何？マイナス×マイナスは何故プラス？勉強教え対決](https://youtu.be/ptT6n49vGqc)」 [QuizKnock](https://www.youtube.com/channel/UCQ_MqAw18jFTlBB-f8BP7dw)\n"
      ]
    }
  ]
}