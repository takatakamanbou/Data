{
  "nbformat": 4,
  "nbformat_minor": 0,
  "metadata": {
    "colab": {
      "name": "ex05notebookB.ipynb",
      "provenance": [],
      "collapsed_sections": [],
      "authorship_tag": "ABX9TyPWrDtz23GJ1e2s9T/H6JlA",
      "include_colab_link": true
    },
    "kernelspec": {
      "name": "python3",
      "display_name": "Python 3"
    }
  },
  "cells": [
    {
      "cell_type": "markdown",
      "metadata": {
        "id": "view-in-github",
        "colab_type": "text"
      },
      "source": [
        "<a href=\"https://colab.research.google.com/github/takatakamanbou/Data/blob/main/ex05notebookB.ipynb\" target=\"_parent\"><img src=\"https://colab.research.google.com/assets/colab-badge.svg\" alt=\"Open In Colab\"/></a>"
      ]
    },
    {
      "cell_type": "markdown",
      "metadata": {
        "id": "2UzDNLmVS3po"
      },
      "source": [
        "# Data2021 ex05notebookB\n",
        "\n",
        "<img width=64 src=\"https://www-tlab.math.ryukoku.ac.jp/~takataka/course/Data/Data-logo05.png\"> https://www-tlab.math.ryukoku.ac.jp/wiki/?Data/2021"
      ]
    },
    {
      "cell_type": "markdown",
      "metadata": {
        "id": "_4-TmUdCd9FJ"
      },
      "source": [
        "## 準備\n",
        "\n",
        "Google Colab の Notebook では， Python というプログラミング言語のコードを動かして計算したりグラフを描いたりもできます．\n",
        "Python は，データ分析や機械学習・人工知能分野ではメジャーなプログラミング言語ですが，それを学ぶことはこの授業の守備範囲ではありません．ですので，以下の所々に現れるプログラムっぽい記述の内容は，理解できなくて構いません．\n",
        "\n",
        "以下，コードセルを上から順に実行していってね．"
      ]
    },
    {
      "cell_type": "code",
      "metadata": {
        "id": "QQ8M3640S1W7"
      },
      "source": [
        "# 準備あれこれ\n",
        "import numpy as np\n",
        "import matplotlib.pyplot as plt\n",
        "import pandas as pd\n",
        "import seaborn\n",
        "seaborn.set()"
      ],
      "execution_count": null,
      "outputs": []
    },
    {
      "cell_type": "code",
      "metadata": {
        "id": "If5pCB6bc3QF"
      },
      "source": [
        "# データを読み込む\n",
        "dfCrime = pd.read_csv('https://www-tlab.math.ryukoku.ac.jp/~takataka/course/Data/ex05crime.csv', header=0)\n",
        "dfCrime.index = dfCrime['平成25年都道府県別統計資料']\n",
        "print(dfCrime.columns)\n",
        "dfCrime = dfCrime.loc[:, ['人口（人）', '警察官定員（人）', '刑法犯 認知件数（件）']]\n",
        "dfCrime.drop(index='総数', inplace=True)\n",
        "dfCrime"
      ],
      "execution_count": null,
      "outputs": []
    },
    {
      "cell_type": "markdown",
      "metadata": {
        "id": "PeazXyWaLsKA"
      },
      "source": [
        "----\n",
        "## 散布図と相関 その(2)\n",
        "----\n",
        "\n",
        "散布図や相関係数の値を分析する際に注意すべき点について，実際のデータの例も示しながら説明しま\n",
        "す．\n",
        "\n",
        "結論から言うと，\n",
        "\n",
        "- 「**ある二つの量の間に強い相関があった（相関係数の絶対値が大きかった）としても，それは見かけのもの（疑似相関）かもしれない**」\n",
        "-  「**ある二つの量の間に強い相関があったとしても，それらの間に因果関係があるとは限らない**」\n",
        "\n",
        "ということです．**因果関係** というのは，原因と結果の関係のことです．\n",
        "\n"
      ]
    },
    {
      "cell_type": "markdown",
      "metadata": {
        "id": "HtO7Lp8ANdpH"
      },
      "source": [
        "以下のデータは，\n",
        "\n",
        "平成26年度警察白書 https://www.npa.go.jp/hakusyo/h26/index.html\n",
        "\n",
        "の資料から抽出した，平成25年度(2013年度)の都道府県別の人口，警察官定員および刑法犯認知件数です．\n",
        "「刑法犯認知件数」というのは，刑法犯（殺人，強盗，窃盗等の，「刑法」に規定された犯罪）について，警察が認知した（発生を把握した）件数のことです．\n",
        "交通事故は含まれません．"
      ]
    },
    {
      "cell_type": "markdown",
      "metadata": {
        "id": "OENk2shKe8MK"
      },
      "source": [
        "### 疑似相関"
      ]
    },
    {
      "cell_type": "markdown",
      "metadata": {
        "id": "VKZRblTJOi9j"
      },
      "source": [
        "都道府県ごとの「警察官定員」を横軸に，「刑法犯認知件数」を縦軸に散布図を描くと，こんなんなります．\n",
        "相関係数も算出しています．"
      ]
    },
    {
      "cell_type": "code",
      "metadata": {
        "id": "4tGIBYndEH-S"
      },
      "source": [
        "# 警察官定員 vs 刑法犯認知件数\n",
        "#\n",
        "X = dfCrime['警察官定員（人）']\n",
        "Y = dfCrime['刑法犯 認知件数（件）']\n",
        "fig, ax = plt.subplots(facecolor=\"white\", figsize=(8, 8))\n",
        "ax.scatter(X, Y)\n",
        "plt.show()\n",
        "r = np.corrcoef(X, Y)[1, 0]\n",
        "print(f'相関係数は {r:.3f}')"
      ],
      "execution_count": null,
      "outputs": []
    },
    {
      "cell_type": "markdown",
      "metadata": {
        "id": "CjPLJWofOyCv"
      },
      "source": [
        "両者の間には，ものすごく強い正の相関がありますね．\n",
        "「警察官定員」の多い都道府県は，「刑法犯認知件数」が多く，逆に，「刑法犯認知件数」の多い都道府県は，「警察官定員」が多い，ということです．\n",
        "\n",
        "しかし，「警察官定員」と「刑法犯認知件数」との強い相関は，別の要因を介して出現した見かけ上の相関，**疑似相関** と考えられます．\n",
        "\n",
        "ここで，各都道府県の「人口」も加えて考えてみましょう．\n",
        "\n",
        "\n"
      ]
    },
    {
      "cell_type": "markdown",
      "metadata": {
        "id": "BE5jKwydOx8v"
      },
      "source": [
        "横軸が「人口」で縦軸が「警察官定員」の散布図および両者の相関係数はこうなります．\n",
        "明らかに，「人口」と「警察官定員」の間には強い正の相関があります．\n",
        "人口が多いと警察官定員が多い，ということです．\n",
        "この二つの間の相関関係の方が，「警察官定員」と「刑法犯認知件数」の間の関係よりも自然なものに思われます．"
      ]
    },
    {
      "cell_type": "code",
      "metadata": {
        "id": "ixmYDfqOFdQV"
      },
      "source": [
        "# 人口 vs 警察官定員\n",
        "#\n",
        "X = dfCrime['人口（人）']\n",
        "Y = dfCrime['警察官定員（人）']\n",
        "fig, ax = plt.subplots(facecolor=\"white\", figsize=(8, 8))\n",
        "ax.scatter(X, Y)\n",
        "plt.show()\n",
        "r = np.corrcoef(X, Y)[1, 0]\n",
        "print(f'相関係数は {r:.3f}')"
      ],
      "execution_count": null,
      "outputs": []
    },
    {
      "cell_type": "markdown",
      "metadata": {
        "id": "aI_1OTohSM-Q"
      },
      "source": [
        "そして，横軸が「人口」で縦軸が「刑法犯認知件数」の散布図と両者の相関係数はこうなります．\n",
        "「人口」と「刑法犯認知件数」の間にも強い正の相関があります．\n",
        "人口が多いと刑法犯認知件数が多い，ということです．\n",
        "こちらもやはり自然なものに思われます．\n",
        "\n"
      ]
    },
    {
      "cell_type": "code",
      "metadata": {
        "id": "a0YYFAb9DPUu"
      },
      "source": [
        "# 人口 vs 刑法犯認知件数\n",
        "#\n",
        "X = dfCrime['人口（人）']\n",
        "Y = dfCrime['刑法犯 認知件数（件）']\n",
        "fig, ax = plt.subplots(facecolor=\"white\", figsize=(8, 8))\n",
        "ax.scatter(X, Y)\n",
        "plt.show()\n",
        "r = np.corrcoef(X, Y)[1, 0]\n",
        "print(f'相関係数は {r:.3f}')"
      ],
      "execution_count": null,
      "outputs": []
    },
    {
      "cell_type": "markdown",
      "metadata": {
        "id": "fDSPnQXXWC9W"
      },
      "source": [
        "このように，「人口」という第3の量を考えてみると，「警察官定員」と「刑法犯認知件数」という二つの量の間の強い相関は，それぞれが「人口」という別の量と強い正の相関を持っていたために現れた，見かけの関係だ，と言えそうです．\n",
        "分析対象の背後に隠れた別の要因によって生じる，このような見かけの相関関係のことを，**疑似相関** と言います．\n",
        "「警察官定員」と「刑法犯認知件数」の間の強い正の相関は，「人口」という要因を介して生じた疑似相関と解釈するのが適当そうです．\n",
        "\n",
        "実際，人口という要因の影響を減らすために，「警察官定員」と「刑法犯認知件数」をそれぞれ人口千人あたりの数にして散布図と相関係数を求め直してみると，こんなんなります．\n"
      ]
    },
    {
      "cell_type": "code",
      "metadata": {
        "id": "qh96i4onGLW4"
      },
      "source": [
        "# 警察官定員（人口1000人あたり） vs 刑法犯認知件数（人口1000人あたり）\n",
        "#\n",
        "X = dfCrime['警察官定員（人）'] * 1000 / dfCrime['人口（人）']\n",
        "Y = dfCrime['刑法犯 認知件数（件）'] * 1000 / dfCrime['人口（人）']\n",
        "fig, ax = plt.subplots(facecolor=\"white\", figsize=(8, 8))\n",
        "ax.scatter(X, Y)\n",
        "ax.set_xlim(0, 3.5)\n",
        "ax.set_ylim(0, 18)\n",
        "plt.show()\n",
        "r = np.corrcoef(X, Y)[1, 0]\n",
        "print(f'相関係数は {r:.3f}')"
      ],
      "execution_count": null,
      "outputs": []
    },
    {
      "cell_type": "markdown",
      "metadata": {
        "id": "Mu1gvMByZPjW"
      },
      "source": [
        "「人口1000人あたりの警察官定員」と「人口1000人あたりの刑法犯認知件数」の間の相関は，ずっと小さいですね．"
      ]
    },
    {
      "cell_type": "markdown",
      "metadata": {
        "id": "znCu343YcGVw"
      },
      "source": [
        "この例では，人口のデータが手に入っていたおかげで，それが疑似相関の原因ではないかと疑ったり，その影響を減らした分析ができました．\n",
        "しかし，いつでもそのようなことが可能とは限りません．\n",
        "散布図や相関係数をもとにデータ間の相関の強さ等を分析したいときには，疑似相関を見てしまっていないか注意深く検討すること，および，関係しそうなデータをきちんと取得しておくことが大事です．\n",
        "\n"
      ]
    },
    {
      "cell_type": "markdown",
      "metadata": {
        "id": "D0dlOnz8fDSh"
      },
      "source": [
        "### 相関関係があるからといって因果関係があるとは限らない"
      ]
    },
    {
      "cell_type": "markdown",
      "metadata": {
        "id": "UyvCmJKVUK0h"
      },
      "source": [
        "仮に，「警察官定員」と「刑法犯認知件数」の間に **因果関係** があると考えると，両者に正の相関があるという結果から，\n",
        "\n",
        "- 「刑法犯認知件数」が多い（原因）から，「警察官定員」が多い（結果）\n",
        "- 「警察官定員」が多い（原因）から，「刑法犯認知件数」が多い（結果）\n",
        "\n",
        "という二つの解釈を導き出すことができます．\n",
        "しかし，**相関関係があるということは，因果関係があることを意味しません**． **相関関係があるからといって因果関係もあるとは限りません**．\n",
        "データを分析する際には，勝手にそのような因果関係を想定してしまわないよう，注意が必要です．\n",
        "\n",
        "例えば，後者の因果関係を信じるならば，「警察官を減らして犯罪を減らそう」なんていう政策が導き出されるわけですが...\n",
        "\n",
        "\n",
        "\n"
      ]
    },
    {
      "cell_type": "markdown",
      "metadata": {
        "id": "HvRrYFhyfW2Z"
      },
      "source": [
        "### 練習\n",
        "\n",
        "ある国の毎月の「アイスクリーム売上高」と「水難事故による死亡者数」のデータを分析すると，強い正の相関があることがわかった．\n",
        "\n",
        "- 両者の間には本当に相関関係と考える方が適切だろうか？それとも，疑似相関と考えた方がよいだろうか？\n",
        "- ほげお君は，この分析結果を見て，「アイスクリームを販売禁止にすれば，水難事故の被害が減るはずだ」と考えた．この考察は妥当だろうか？"
      ]
    },
    {
      "cell_type": "code",
      "metadata": {
        "id": "YV5Xe20QfkKV"
      },
      "source": [
        ""
      ],
      "execution_count": null,
      "outputs": []
    }
  ]
}