{
  "nbformat": 4,
  "nbformat_minor": 0,
  "metadata": {
    "colab": {
      "provenance": [],
      "toc_visible": true,
      "authorship_tag": "ABX9TyMpfbWZnfXGhMZ5atluQJ0K",
      "include_colab_link": true
    },
    "kernelspec": {
      "name": "python3",
      "display_name": "Python 3"
    }
  },
  "cells": [
    {
      "cell_type": "markdown",
      "metadata": {
        "id": "view-in-github",
        "colab_type": "text"
      },
      "source": [
        "<a href=\"https://colab.research.google.com/github/takatakamanbou/Data/blob/2023/ex15notebookA.ipynb\" target=\"_parent\"><img src=\"https://colab.research.google.com/assets/colab-badge.svg\" alt=\"Open In Colab\"/></a>"
      ]
    },
    {
      "cell_type": "markdown",
      "metadata": {
        "id": "2UzDNLmVS3po"
      },
      "source": [
        "# Data2023 ex15notebookA\n",
        "\n",
        "<img width=64 src=\"https://www-tlab.math.ryukoku.ac.jp/~takataka/course/Data/Data-logo15.png\"> https://www-tlab.math.ryukoku.ac.jp/wiki/?Data/2023\n",
        "\n"
      ]
    },
    {
      "cell_type": "markdown",
      "metadata": {
        "id": "_4-TmUdCd9FJ"
      },
      "source": [
        "## 準備\n",
        "\n",
        "\n",
        "\n",
        "以下，コードセルを上から順に実行していってね．"
      ]
    },
    {
      "cell_type": "code",
      "metadata": {
        "id": "QQ8M3640S1W7"
      },
      "source": [
        "# 準備あれこれ\n",
        "import numpy as np\n",
        "import matplotlib.pyplot as plt\n",
        "import pandas as pd\n",
        "import seaborn\n",
        "seaborn.set()\n",
        "\n",
        "# 正規分布の確率密度関数\n",
        "def Gaussian(x, mu, sigma):\n",
        "    return np.exp(-(x-mu)*(x-mu)/(2*sigma*sigma)) / np.sqrt(2*np.pi*sigma*sigma)"
      ],
      "execution_count": null,
      "outputs": []
    },
    {
      "cell_type": "code",
      "metadata": {
        "id": "KpPSShHEgKi2"
      },
      "source": [
        "### サイコロを N 回ふって出た目の数の配列を返す関数\n",
        "# デフォルトでは，どの目も等しい確率で出る\n",
        "#\n",
        "def dice(N, P=np.ones(6)/6.0):\n",
        "\n",
        "    assert np.isclose(np.sum(P), 1.0)\n",
        "\n",
        "    X = np.zeros(N, dtype=int)\n",
        "    P2 = np.cumsum(P)\n",
        "    for n in range(N):\n",
        "        a = np.random.random() # [0, 1) の一様乱数\n",
        "        X[n] = 6\n",
        "        for i in range(6):\n",
        "            if a < P2[i]:\n",
        "                X[n] = i+1\n",
        "                break\n",
        "\n",
        "    return X"
      ],
      "execution_count": null,
      "outputs": []
    },
    {
      "cell_type": "markdown",
      "metadata": {
        "id": "7H45eNIcd2xB"
      },
      "source": [
        "----\n",
        "## 「データ分析」から「確率統計I,II,III」へ\n",
        "----\n",
        "\n",
        "2年前期の「確率統計I」や3年後期「確率統計II/III」では，データサイエンスの理論的な基盤である「確率学」・「統計学」について学びます．"
      ]
    },
    {
      "cell_type": "markdown",
      "metadata": {
        "id": "WM4RlkyhP5yo"
      },
      "source": [
        "----\n",
        "### 記述統計 vs 統計的推測・推計統計\n",
        "\n",
        "「データ分析」で扱った分析の手法は，\n",
        "\n",
        "- 入手したデータの分布の様子を調べる（平均，分散，ヒストグラム，etc.）\n",
        "- 入手したデータの2つの変数の間の関係を調べる（相関係数，散布図，回帰分析，etc）\n",
        "\n",
        "というものでした．いずれも，「データそのものの性質」を調べている，と言ってもよいでしょう．\n",
        "第1回の授業でも説明しましたが，このような統計の分野・方法を「記述統計」と言います（注）．\n",
        "\n",
        "<font size=\"-1\">注） 本当は回帰分析は推計統計に入るのですが，この授業ではそこまで踏み込んだ話はしませんでした．</font>\n",
        "\n",
        "一方で，データを深く分析しようとすると，「データの裏に隠れた仕組み」を考えてあれこれしたくなってきます．\n",
        "ものすごくいい加減な言い方ですが，そのようなことを考える統計の分野・方法を「推計統計」あるいは「統計的推測」と言います．\n",
        "\n",
        "データの裏に **確率分布** を仮定して，データ（標本）はその確率分布にしたがって生み出されたものと考える...といったことをします．高校数学で学んだ **正規分布** などは，確率分布の代表例です．また，高校数学で学んだ **統計的検定** は，まさしく統計的推測の手法です．\n",
        "\n",
        "「確率統計I, II, III」では，確率分布やその性質，検定等の統計的推測の理論・方法などについて学びます．"
      ]
    },
    {
      "cell_type": "markdown",
      "metadata": {
        "id": "RlfNl6Y-Uxuv"
      },
      "source": [
        "----\n",
        "### 例1 いんちきサイコロ\n",
        "\n",
        "立方体の各面に 1 から 6 の数に対応する印が書かれたサイコロを投げると，1,2,3,4,5,6のそれぞれの目が出る確率は $\\frac{1}{6}$ です．\n",
        "でも，目によって確率の異なるいんちきサイコロがあったとしたら...\n",
        "\n"
      ]
    },
    {
      "cell_type": "markdown",
      "metadata": {
        "id": "76gU6sWLtJ8I"
      },
      "source": [
        "以下の `N` はサイコロを振る回数．10 から 100, 1000, 10000 などに変えてみよう．同じ N でも実行するたびに結果は変わります．\n",
        "\n",
        "いんちきサイコロの方は，1の目が確率 $1/2$ で，他の目が $1/10$ で出ます．"
      ]
    },
    {
      "cell_type": "code",
      "metadata": {
        "id": "RGiOH6F8hVW3"
      },
      "source": [
        "#@title サイコロを振る． { run: \"auto\" }\n",
        "N = 10 #@param {type:\"number\"}\n",
        "\n",
        "X = dice(N)\n",
        "print()\n",
        "print(f'ふつうのサイコロ N = {N}')\n",
        "print(f'出目（のうち最初の方）: {X[:100]}')\n",
        "print(' 出目   度数   相対度数   （真の値）')\n",
        "for i in range(6):\n",
        "    cnt = np.sum(X == i+1)\n",
        "    print(f'   {i+1}     {cnt}     {cnt/N:.3f}     {1/6:.3f}')\n",
        "\n",
        "P = np.ones(6)/10.0  # 1が確率 1/2, 他が 1/10\n",
        "P[0] = 1.0 - np.sum(P[1:])\n",
        "X = dice(N, P=P)\n",
        "print()\n",
        "print(f'いんちきサイコロ N = {N}: ')\n",
        "print(f'出目（のうち最初の方）: {X[:100]}')\n",
        "print(' 出目   度数   相対度数   （真の値）')\n",
        "for i in range(6):\n",
        "    cnt = np.sum(X == i+1)\n",
        "    print(f'   {i+1}     {cnt}     {cnt/N:.3f}     {P[i]:.3f}')"
      ],
      "execution_count": null,
      "outputs": []
    },
    {
      "cell_type": "markdown",
      "metadata": {
        "id": "wcwqkml-tbaU"
      },
      "source": [
        "ふつうのサイコロでも，出目には偶然の結果による偏りがある程度ありますので，上記の相対度数はちょうど $1/6$ になるわけではありません．\n",
        "$N$ が小さいときは，いんちきサイコロと同じくらい偏った出目になることもあるかもしれません．\n",
        "\n",
        "上記のようなデータが得られたときに，サイコロがふつうのまっとうなものかどうか，いんちきなものでないかどうか，を判断するには，どうしたらよいのでしょうか．\n",
        "\n",
        "\n"
      ]
    },
    {
      "cell_type": "markdown",
      "metadata": {
        "id": "OA6PwXaUxHXw"
      },
      "source": [
        "----\n",
        "### 例2 ほげおのクッキー\n",
        "ほげおくんはお菓子屋を営んでいます．お店の人気商品であるクッキーは，いままで直径約5cmでしたが，良からぬことを考えたほげおくんは，少し小さく作って売ることにしてしまいました．"
      ]
    },
    {
      "cell_type": "markdown",
      "metadata": {
        "id": "01KqT3zLxRxZ"
      },
      "source": [
        "以下の `N` の値を変えてセルを実行すると，ほげおの作るクッキーの直径のサンプルを集めて，そのヒストグラムを描くことができます．\n",
        "\n",
        "オレンジの曲線は，平均 5.0，標準偏差 0.3 の正規分布の確率密度関数，すなわち，以下の式で $\\mu = 5.0, \\sigma^2 = 0.3^2$ としたものです．\n",
        "$$\n",
        "\\frac{1}{\\sqrt{2\\pi\\sigma^2}}\\exp\\left(-\\frac{(x-\\mu)^2}{2\\sigma^2}\\right)\n",
        "$$\n",
        "\n",
        "ほげおくんがいんちきせずにクッキーを作ったときは，直径はこの分布にしたがっていたとすると...．集めたサンプルから，ほげおくんがいんちきしてるかどうか分かるでしょうか？\n",
        "\n",
        "以下のセルを`N = 20` のままで何度も実行してみたり， N を大きくしてみたりして，グラフを観察しよう．"
      ]
    },
    {
      "cell_type": "code",
      "metadata": {
        "id": "x74ZmyPphWs1"
      },
      "source": [
        "#@title ほげおのクッキー屋さん． { run: \"auto\" }\n",
        "N =  20#@param {type:\"number\"}\n",
        "X = 0.3*np.random.randn(N) + 4.8\n",
        "print('データのうち最初の10個:', end=' ')\n",
        "for n in range(min(10, N)):\n",
        "    print(f'{X[n]:.2f}', end=' ')\n",
        "\n",
        "# ヒストグラム（面積1になるように描いたもの）と，正規分布の確率密度関数\n",
        "fig, ax = plt.subplots(1, facecolor='white', figsize=(9, 6))\n",
        "ax.hist(X, density=True, bins=np.arange(0, 10, 0.1))\n",
        "xx = np.arange(0, 10, 0.01)\n",
        "ax.plot(xx, Gaussian(xx, 5.0, 0.3), linewidth=3) # 平均 5 標準偏差 0.3\n",
        "ax.set_xlim(3.5, 6.5)\n",
        "plt.show()\n",
        "\n",
        "print(f'N = {N}')"
      ],
      "execution_count": null,
      "outputs": []
    },
    {
      "cell_type": "markdown",
      "metadata": {
        "id": "jwmmShNixjUR"
      },
      "source": [
        "上記の2つの例は，いずれも，「データの裏にある確率分布（例1では6つの目が$1/6$ずつ，例2では正規分布）を考えて，出てきたデータがそれに合っているかどうか判断する」という問題となっています．\n",
        "確率統計では，こういう問題への取り組み方や客観的な解答を学ぶことができます．\n",
        "\n"
      ]
    },
    {
      "cell_type": "code",
      "metadata": {
        "id": "XoeblnartI7M"
      },
      "source": [],
      "execution_count": null,
      "outputs": []
    }
  ]
}