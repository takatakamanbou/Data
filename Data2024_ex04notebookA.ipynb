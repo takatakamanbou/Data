{
  "nbformat": 4,
  "nbformat_minor": 0,
  "metadata": {
    "colab": {
      "provenance": [],
      "toc_visible": true,
      "authorship_tag": "ABX9TyMj1fSr6OVlTjMknjdTtZXG",
      "include_colab_link": true
    },
    "kernelspec": {
      "name": "python3",
      "display_name": "Python 3"
    }
  },
  "cells": [
    {
      "cell_type": "markdown",
      "metadata": {
        "id": "view-in-github",
        "colab_type": "text"
      },
      "source": [
        "<a href=\"https://colab.research.google.com/github/takatakamanbou/Data/blob/main/Data2024_ex04notebookA.ipynb\" target=\"_parent\"><img src=\"https://colab.research.google.com/assets/colab-badge.svg\" alt=\"Open In Colab\"/></a>"
      ]
    },
    {
      "cell_type": "markdown",
      "metadata": {
        "id": "2UzDNLmVS3po"
      },
      "source": [
        "# Data2024 ex04notebookA  データの代表値(2)\n",
        "\n",
        "<img width=64 src=\"https://www-tlab.math.ryukoku.ac.jp/~takataka/course/Data/Data-logo04.png\"> https://www-tlab.math.ryukoku.ac.jp/wiki/?Data/2024"
      ]
    },
    {
      "cell_type": "markdown",
      "metadata": {
        "id": "_4-TmUdCd9FJ"
      },
      "source": [
        "## 準備\n",
        "\n",
        "以下，コードセルを上から順に実行していってね．"
      ]
    },
    {
      "cell_type": "code",
      "metadata": {
        "id": "QQ8M3640S1W7"
      },
      "source": [
        "# 準備あれこれ\n",
        "import numpy as np\n",
        "import matplotlib.pyplot as plt\n",
        "import pandas as pd\n",
        "import seaborn\n",
        "seaborn.set()"
      ],
      "execution_count": null,
      "outputs": []
    },
    {
      "cell_type": "markdown",
      "metadata": {
        "id": "7H45eNIcd2xB"
      },
      "source": [
        "----\n",
        "## データの代表値 その(2)\n",
        "----\n",
        "\n",
        "前回，データの **代表値** として **平均**，**分散**，**標準偏差** を取り上げました．\n",
        "今回は，その続きとして，数式を使ってこれらの性質を考えたのち，実際のデータでそれらの性質が成り立っていることを確認します．\n",
        "\n",
        "\n",
        "\n"
      ]
    },
    {
      "cell_type": "markdown",
      "metadata": {
        "id": "9dTpw6B4yHtH"
      },
      "source": [
        "----\n",
        "### 定数 $b$ を加えたデータの平均と分散は？\n"
      ]
    },
    {
      "cell_type": "markdown",
      "metadata": {
        "id": "sbvnRhlbyWyG"
      },
      "source": [
        "以前の課題では，実際のデータに一定の数を加えたり定数倍したりして，平均や分散がどのように変化するのか観察しました．\n",
        "観察結果からすると，定数を加えたり定数倍したときの平均や分散の値の変化には一定の法則がありそうです．\n",
        "いくつかのデータでその法則性を予想しただけでは，どんなデータでも成り立つかどうかわかりませんので，ここでその法則を数式によって導いてみましょう．\n"
      ]
    },
    {
      "cell_type": "markdown",
      "metadata": {
        "id": "3x6zlxSYzV4Z"
      },
      "source": [
        "$N$個の標本 $x_{1}, x_{2}, \\dots , x_{N}$ が与えられたとします．\n",
        "このとき，各標本値に定数 $b$ を加えた値 $y_n = x_n + b$ を考えます（$n = 1, 2, \\dots , N$）．\n",
        "\n",
        "$N$個の標本 $y_1, y_2, \\dots , y_N$ の平均を $\\bar{y}$ とおくと，次のように変形できます．\n",
        "$$\n",
        "\\begin{aligned}\n",
        "\\bar{y} &= \\frac{1}{N}\\sum_{n=1}^{N}y_n = \\frac{1}{N}\\sum_{n=1}^{N}(x_n + b)\\\\\n",
        "&= \\frac{1}{N}\\sum_{n=1}^{N}x_n + \\frac{1}{N}\\sum_{n=1}^{N}b \\\\\n",
        "&= \\bar{x} + \\frac{1}{N} \\times b \\times N = \\bar{x} + b\n",
        "\\end{aligned}\n",
        "$$\n",
        "この式から，「**データに定数 $b$ を加えると，加えたあとのデータの平均も，元の平均に $b$ を加えたものになる**」ことがわかります．"
      ]
    },
    {
      "cell_type": "markdown",
      "metadata": {
        "id": "LKcb1ZP909Do"
      },
      "source": [
        "では，分散はどうなるでしょう？\n",
        "\n",
        "こちらは，式変形していくと，こんなんなります．\n",
        "$$\n",
        "\\begin{aligned}\n",
        "(y_n\\mbox{の分散}) &= \\frac{1}{N}\\sum_{n=1}^{N} (y_n - \\bar{y})^2 = \\frac{1}{N}\\sum_{n=1}^{N} (x_n + b - (\\bar{x}+b))^2\\\\\n",
        "&= \\frac{1}{N}\\sum_{n=1}^{N} (x_n - \\bar{x})^2\n",
        "\\end{aligned}\n",
        "$$\n",
        "ここで出てきた最後の式は，$x_1, x_2, \\dots , x_N$ の分散そのものです．\n",
        "つまり，「**データに定数を加えても分散は変わらない**」ことがわかりますわかります．もちろん標準偏差も同様．"
      ]
    },
    {
      "cell_type": "markdown",
      "metadata": {
        "id": "KGDtgAcL2Xd1"
      },
      "source": [
        "----\n",
        "### 定数倍（$a$倍）したデータの平均と分散は？"
      ]
    },
    {
      "cell_type": "markdown",
      "metadata": {
        "id": "fdy9zvlU29mp"
      },
      "source": [
        "定数を加えたときと同様に，データを定数倍したときに平均や分散がどうなるかを考えてみましょう．\n",
        "\n",
        "$N$個の標本 $x_{1}, x_{2}, \\dots , x_{N}$ が与えられたとします．\n",
        "このとき，各標本値を定数 $a$ 倍した値 $y_n = a x_n$ を考えます（$n = 1, 2, \\dots , N$）．\n"
      ]
    },
    {
      "cell_type": "markdown",
      "metadata": {
        "id": "ejpCz87W3ZaC"
      },
      "source": [
        "$N$個の標本 $y_1, y_2, \\dots , y_N$ の平均を $\\bar{y}$ とおくと，次のように変形できます．\n",
        "$$\n",
        "\\begin{aligned}\n",
        "\\bar{y} &= \\frac{1}{N}\\sum_{n=1}^{N}y_n = \\frac{1}{N}\\sum_{n=1}^{N}a x_n\\\\\n",
        "&= a \\times \\frac{1}{N}\\sum_{n=1}^{N}x_n = a\\bar{x}\n",
        "\\end{aligned}\n",
        "$$\n",
        "この式から，「**データを定数 $a$ 倍すると，平均も，元の平均の $a$ 倍になる**」ことがわかります．"
      ]
    },
    {
      "cell_type": "markdown",
      "metadata": {
        "id": "xebs69Tj4LvK"
      },
      "source": [
        "では分散は...\n",
        "$$\n",
        "\\begin{aligned}\n",
        "(y_n\\mbox{の分散}) &= \\frac{1}{N}\\sum_{n=1}^{N} (y_n - \\bar{y})^2 = \\frac{1}{N}\\sum_{n=1}^{N} (ax_n - a\\bar{x})^2\\\\\n",
        "&= a^2 \\times \\frac{1}{N}\\sum_{n=1}^{N} (x_n - \\bar{x})^2 = a^2 \\times (x_n\\mbox{の分散})\n",
        "\\end{aligned}\n",
        "$$\n",
        "こうなりました．「**データを定数 $a$ 倍すると，分散は元の $a^2$ 倍になる**」ですね．\n",
        "$a$ 倍ではありません．\n",
        "\n",
        "ちなみに，標準偏差は分散の平方根ですので，「**データを定数 $a$ 倍すると，標準偏差は元の $|a|$ 倍になる**」ということになります．絶対値がつくことに注意．"
      ]
    },
    {
      "cell_type": "markdown",
      "metadata": {
        "id": "x_dOZSsD6JdK"
      },
      "source": [
        "----\n",
        "### $a$ 倍して $b$ を加えると？\n"
      ]
    },
    {
      "cell_type": "markdown",
      "metadata": {
        "id": "puMnSfAP6Pv5"
      },
      "source": [
        "ここまで分かれば，あとはひたすらがりがり計算するだけです．\n",
        "結果だけ書いておきますので，ぜひ自分で導出してみてください．\n",
        "\n"
      ]
    },
    {
      "cell_type": "markdown",
      "metadata": {
        "id": "zae2bGdM7Ax7"
      },
      "source": [
        "$N$個の標本 $x_{1}, x_{2}, \\dots , x_{N}$ が与えられたとします．\n",
        "このとき，$N$個の標本 $y_n $ を $y_n = a x_n + b$ と定めます（$n=1,2,\\dots , N$）．\n",
        "標本 $x_n$ の平均と分散を $\\bar{x}$ および $s^2$ とおくと， $y_n$ の平均は $a\\bar{x} + b$ となり，分散は $a^2s^2$ となります．"
      ]
    },
    {
      "cell_type": "markdown",
      "metadata": {
        "id": "gb9cGKne8y2J"
      },
      "source": [
        "----\n",
        "### データを観察する"
      ]
    },
    {
      "cell_type": "markdown",
      "metadata": {
        "id": "lxv_1quZ8y2K"
      },
      "source": [
        "データから平均等を算出して，上で説明した性質が本当に成り立っていることを確認しましょう．\n",
        "\n",
        "説明をしやすくするため，以下で扱うデータを `X1` と呼ぶことにします．\n",
        "次のセルを実行すると，ランダムな数（標準正規分布に従う乱数）を作ってそれらを `X1` に格納します．"
      ]
    },
    {
      "cell_type": "code",
      "metadata": {
        "id": "9WqTTMHE8y2K"
      },
      "source": [
        "# 乱数データを作成\n",
        "X1 = 2*np.random.randn(1000) + 3\n",
        "\n",
        "# 変数 X1 に格納された標本の数は...\n",
        "print('サンプルサイズ:', len(X1))\n",
        "print()\n",
        "\n",
        "# 変数 X1 に格納されたデータのうち最初の5つを表示してみる\n",
        "print(X1[:10])"
      ],
      "execution_count": null,
      "outputs": []
    },
    {
      "cell_type": "markdown",
      "metadata": {
        "id": "aD_edLos8y2K"
      },
      "source": [
        "`X1` のヒストグラムはこんなんです．"
      ]
    },
    {
      "cell_type": "code",
      "metadata": {
        "id": "e76Upfto8y2K"
      },
      "source": [
        "# X1 のヒストグラム\n",
        "fig, ax = plt.subplots(facecolor=\"white\", figsize=(4, 3))\n",
        "bins = np.arange(-6, 12, 0.5)\n",
        "ax.hist(X1, bins=bins)\n",
        "plt.show()"
      ],
      "execution_count": null,
      "outputs": []
    },
    {
      "cell_type": "markdown",
      "metadata": {
        "id": "OVvttbcA8y2K"
      },
      "source": [
        "次のセルを実行すると，`X1` の平均，標準偏差，分散の値を計算してくれます．"
      ]
    },
    {
      "cell_type": "code",
      "metadata": {
        "id": "w2QNHcaU8y2L"
      },
      "source": [
        "# X1 の平均，標準偏差，分散\n",
        "print(f'平均: {np.mean(X1):.3f}')\n",
        "print(f'標準偏差: {np.std(X1):.3f}')\n",
        "print(f'分散: {np.var(X1):.3f}')"
      ],
      "execution_count": null,
      "outputs": []
    },
    {
      "cell_type": "markdown",
      "metadata": {
        "id": "ccusKaci8y2L"
      },
      "source": [
        "#### データに定数を加えるとどう変化する？\n",
        "\n",
        "データが変化すると，ヒストグラムや平均等がどのように変化するのか見てみましょう．\n",
        "まずは，すべての標本値に一定の数を加えた場合．\n",
        "\n",
        "次のセルを実行すると，`X1` の標本値に `shift` の値を加えたデータ `X2` を作ってヒストグラムや平均等を計算してくれます．\n",
        "\n",
        "例えば `shift` の値を `1.0` にした場合，`X1` の値が `0.1, -0.2, 0.3, ... ` だったとすると，`X2` の値は `1.1, 0.8, 1.3, ...` となります．"
      ]
    },
    {
      "cell_type": "code",
      "metadata": {
        "id": "o9_c7jSF8y2L"
      },
      "source": [
        "#@title `shift` に適当な数値を入れて，「Shift+Enter」押してみてね（Shiftキー押しながらEnterキーを押す） { display-mode: \"form\" }\n",
        "shift =  0#@param {type:\"number\"}\n",
        "\n",
        "# X2 は， X1 のすべての標本値 に shift を加えたもの\n",
        "X2 = X1 + shift\n",
        "\n",
        "# X1 と X2 のヒストグラム\n",
        "fig, ax = plt.subplots(2, 1, facecolor=\"white\", figsize=(8, 6))\n",
        "bins = np.arange(-10, 15, 0.5)\n",
        "ax[0].hist(X1, bins=bins, label=\"X1\")\n",
        "ax[0].legend()\n",
        "ax[1].hist(X2, bins=bins, label=\"X2\")\n",
        "ax[1].legend()\n",
        "plt.show()\n",
        "\n",
        "print()\n",
        "print('X1 の最初の5個の標本値')\n",
        "print(X1[:5])\n",
        "print(f'平均: {np.mean(X1):.3f} 標準偏差: {np.std(X1):.3f} 分散: {np.var(X1):.3f}')\n",
        "print()\n",
        "print('X2 の最初の5個の標本値')\n",
        "print(X2[:5])\n",
        "print(f'X2     平均: {np.mean(X2):.3f} 標準偏差: {np.std(X2):.3f} 分散: {np.var(X2):.3f}')"
      ],
      "execution_count": null,
      "outputs": []
    },
    {
      "cell_type": "markdown",
      "metadata": {
        "id": "DEto7FX_8y2L"
      },
      "source": [
        "上記の `shift` の値を， `2.5` とか `5` とか `-3` とかにして，Shift + Enter してみよう．\n",
        "\n",
        "結果をよく観察しよう．\n",
        "- ヒストグラムはどうなっているでしょう？\n",
        "- 平均，標準偏差，分散はどうなっているでしょう？ 変化する？しない？変化するならどう変化する？\n"
      ]
    },
    {
      "cell_type": "markdown",
      "metadata": {
        "id": "EqM15RVT8y2L"
      },
      "source": [
        "#### データを定数倍するとどう変化する？\n",
        "\n",
        "次は，すべての標本値に一定の数を掛けてみます．\n",
        "\n",
        "次のセルを実行すると，`X1` の標本値に `scale` の値を掛けたデータ `X3` を作ってヒストグラムや平均等を計算してくれます．\n",
        "\n"
      ]
    },
    {
      "cell_type": "code",
      "metadata": {
        "id": "Kay7nI798y2L"
      },
      "source": [
        "#@title `scale` に適当な数値を入れて，「Shift+Enter」押してみてね（Shiftキー押しながらEnterキーを押す） { display-mode: \"form\" }\n",
        "scale =  1#@param {type:\"number\"}\n",
        "\n",
        "# X3 は， X1 のすべての標本値 に scale を掛けたもの\n",
        "X3 = X1 * scale\n",
        "\n",
        "# X1 と X3 のヒストグラム\n",
        "fig, ax = plt.subplots(2, 1, facecolor=\"white\", figsize=(8, 6))\n",
        "bins = np.arange(-15, 20, 0.5)\n",
        "ax[0].hist(X1, bins=bins, label=\"X1\")\n",
        "ax[0].legend()\n",
        "ax[1].hist(X3, bins=bins, label=\"X3\")\n",
        "ax[1].legend()\n",
        "plt.show()\n",
        "\n",
        "print()\n",
        "print('X1 の最初の5個の標本値')\n",
        "print(X1[:5])\n",
        "print(f'平均: {np.mean(X1):.3f} 標準偏差: {np.std(X1):.3f} 分散: {np.var(X1):.3f}')\n",
        "print()\n",
        "print('X3 の最初の5個の標本値')\n",
        "print(X3[:5])\n",
        "print(f'X3     平均: {np.mean(X3):.3f} 標準偏差: {np.std(X3):.3f} 分散: {np.var(X3):.3f}')"
      ],
      "execution_count": null,
      "outputs": []
    },
    {
      "cell_type": "markdown",
      "metadata": {
        "id": "St9Mh3Nc8y2L"
      },
      "source": [
        "上記の `shift` の値を， `2` とか `0.5` とか `-1` とかにして，Shift + Enter してみよう．\n",
        "\n",
        "結果をよく観察しよう．\n",
        "- ヒストグラムはどうなっているだろう？\n",
        "- 平均，標準偏差，分散はどうなってるだろう？ 変化する？しない？変化するならどう変化する？\n"
      ]
    },
    {
      "cell_type": "markdown",
      "metadata": {
        "id": "f2hfkh3J8y2L"
      },
      "source": [
        "#### 両方やるとどうなる？\n",
        "\n",
        "\n",
        "次のセルを実行すると，`X1` の標本値に `scale` の値を掛けて `shift` の値を加えたデータ `X4` を作ってヒストグラムや平均等を計算してくれます．\n"
      ]
    },
    {
      "cell_type": "code",
      "metadata": {
        "id": "ysj8o7lV8y2L"
      },
      "source": [
        "#@title `scale` と `shift` に適当な数値を入れて，「Shift+Enter」押してみてね（Shiftキー押しながらEnterキーを押す） { display-mode: \"form\" }\n",
        "scale =  1#@param {type:\"number\"}\n",
        "shift = 0#@param {type:\"number\"}\n",
        "\n",
        "# X4 は， X1 を scale 倍して shift を加えたもの\n",
        "X4 = X1 * scale + shift\n",
        "\n",
        "# X1 と X4 のヒストグラム\n",
        "fig, ax = plt.subplots(2, 1, facecolor=\"white\", figsize=(8, 6))\n",
        "bins = np.arange(-15, 20, 0.5)\n",
        "ax[0].hist(X1, bins=bins, label=\"X1\")\n",
        "ax[0].legend()\n",
        "ax[1].hist(X4, bins=bins, label=\"X4\")\n",
        "ax[1].legend()\n",
        "plt.show()\n",
        "\n",
        "print()\n",
        "print('X1 の最初の5個の標本値')\n",
        "print(X1[:5])\n",
        "print(f'平均: {np.mean(X1):.3f} 標準偏差: {np.std(X1):.3f} 分散: {np.var(X1):.3f}')\n",
        "print()\n",
        "print('X4 の最初の5個の標本値')\n",
        "print(X4[:5])\n",
        "print(f'X4     平均: {np.mean(X4):.3f} 標準偏差: {np.std(X4):.3f} 分散: {np.var(X4):.3f}')"
      ],
      "execution_count": null,
      "outputs": []
    },
    {
      "cell_type": "code",
      "source": [],
      "metadata": {
        "id": "AAkeWqKxjFiN"
      },
      "execution_count": null,
      "outputs": []
    }
  ]
}