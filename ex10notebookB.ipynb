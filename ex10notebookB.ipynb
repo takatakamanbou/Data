{
  "nbformat": 4,
  "nbformat_minor": 0,
  "metadata": {
    "colab": {
      "provenance": [],
      "toc_visible": true,
      "authorship_tag": "ABX9TyNRpqkzSb/+mFlA/CfRDUvM",
      "include_colab_link": true
    },
    "kernelspec": {
      "name": "python3",
      "display_name": "Python 3"
    }
  },
  "cells": [
    {
      "cell_type": "markdown",
      "metadata": {
        "id": "view-in-github",
        "colab_type": "text"
      },
      "source": [
        "<a href=\"https://colab.research.google.com/github/takatakamanbou/Data/blob/2023/ex10notebookB.ipynb\" target=\"_parent\"><img src=\"https://colab.research.google.com/assets/colab-badge.svg\" alt=\"Open In Colab\"/></a>"
      ]
    },
    {
      "cell_type": "markdown",
      "metadata": {
        "id": "2UzDNLmVS3po"
      },
      "source": [
        "# Data2023 ex10notebookB\n",
        "\n",
        "<img width=64 src=\"https://www-tlab.math.ryukoku.ac.jp/~takataka/course/Data/Data-logo10.png\"> https://www-tlab.math.ryukoku.ac.jp/wiki/?Data/2023\n"
      ]
    },
    {
      "cell_type": "markdown",
      "metadata": {
        "id": "_4-TmUdCd9FJ"
      },
      "source": [
        "## 準備\n",
        "\n",
        "以下，コードセルを上から順に実行していってね．"
      ]
    },
    {
      "cell_type": "code",
      "metadata": {
        "id": "QQ8M3640S1W7"
      },
      "source": [
        "# 準備あれこれ\n",
        "import numpy as np\n",
        "import matplotlib.pyplot as plt\n",
        "#! pip install japanize_matplotlib\n",
        "#import japanize_matplotlib\n",
        "import pandas as pd\n",
        "import seaborn\n",
        "seaborn.set()"
      ],
      "execution_count": null,
      "outputs": []
    },
    {
      "cell_type": "markdown",
      "metadata": {
        "id": "7H45eNIcd2xB"
      },
      "source": [
        "----\n",
        "## 質的データとその分析 (2)\n",
        "----\n",
        "\n",
        "前の notebook で説明した **質的データ** の分析の方法を考えましょう．\n"
      ]
    },
    {
      "cell_type": "markdown",
      "metadata": {
        "id": "kkdrcUCf3b7t"
      },
      "source": [
        "----\n",
        "### データの準備\n",
        "\n",
        "次のセルを実行して，CSVファイルを読み込みましょう．"
      ]
    },
    {
      "cell_type": "code",
      "metadata": {
        "id": "bK_Re-C_DdDj"
      },
      "source": [
        "# データを読み込む\n",
        "df = pd.read_csv('https://www-tlab.math.ryukoku.ac.jp/~takataka/course/Data/ex11kinokonoko.csv', header=0)\n",
        "df"
      ],
      "execution_count": null,
      "outputs": []
    },
    {
      "cell_type": "markdown",
      "metadata": {
        "id": "TlFD9WQgorb0"
      },
      "source": [
        "これは，次のような要領でアンケートを実施して得られた80件（サンプルサイズ $80$）の回答のデータです（実際にはアンケートは行っておらず，適当にでっち上げたものです）．\n",
        "\n",
        "- **「きのこvsたけのこ」**: 「きのこの山」と「たけのこの里」の2択\n",
        "- **「冬の味覚」**: 「冬の味覚といえば？」という問い．「ブリ」，「牡蠣」，「カニ」，「みかん」の4択\n",
        "- **「こたつ」**: こたつ好きの度合いを 1 = （大嫌い） から 5 = （大好き） までの5段階で回答してもらう\n",
        "\n",
        "以下では，「きのこvsたけのこ」と「冬の味覚」を取り上げて，このデータを分析する方法を考えます．\n",
        "\n"
      ]
    },
    {
      "cell_type": "markdown",
      "metadata": {
        "id": "N_3rcP9KGSyr"
      },
      "source": [
        "----\n",
        "### 度数分布\n",
        "\n",
        "量的データの場合，**度数分布表** を書いたり **ヒストグラム** を描いたりして，値の散らばり方を調べました．\n",
        "質的データの場合，ヒストグラムは描けませんが，**度数分布表** を書くことはできます．"
      ]
    },
    {
      "cell_type": "markdown",
      "metadata": {
        "id": "dbvPYBBCHKXV"
      },
      "source": [
        "たとえば，「きのこvsたけのこ」の二つの値（「きのこの山」と「たけのこの里」）が出現する数を数えてみると..."
      ]
    },
    {
      "cell_type": "code",
      "metadata": {
        "id": "YRUVVwBoHWkI"
      },
      "source": [
        "df['きのこvsたけのこ'].value_counts()"
      ],
      "execution_count": null,
      "outputs": []
    },
    {
      "cell_type": "markdown",
      "metadata": {
        "id": "dZMoEqdnHcnL"
      },
      "source": [
        "「きのこの山」という回答が $54$ 件，「たけのこの里」という回答が $26$ 件ありました．\n",
        "これを度数分布表にすると，次のようになります．"
      ]
    },
    {
      "cell_type": "markdown",
      "metadata": {
        "id": "csroqhr7HqyW"
      },
      "source": [
        "「きのこvsたけのこ」度数分布表\n",
        "\n",
        "|きのこvsたけのこ|度数|\n",
        "|:--:|--|\n",
        "|**きのこの山**|54|\n",
        "|**たけのこの里**|26|\n",
        "|合計|80|"
      ]
    },
    {
      "cell_type": "markdown",
      "metadata": {
        "id": "ZZv9a__9Ig8q"
      },
      "source": [
        "量的データの場合，度数の代わりに，サンプルサイズに対する度数の割合（相対度数）を用いる **相対度数分布** を考えることもありました．\n",
        "質的データでも同様です．\n"
      ]
    },
    {
      "cell_type": "markdown",
      "metadata": {
        "id": "y8jtuZMLJPef"
      },
      "source": [
        "「きのこvsたけのこ」相対度数分布表\n",
        "\n",
        "|きのこvsたけのこ|割合[%]|\n",
        "|:--:|--|\n",
        "|**きのこの山**|67.5|\n",
        "|**たけのこの里**|32.5|"
      ]
    },
    {
      "cell_type": "markdown",
      "metadata": {
        "id": "BNKTC7IWJoVG"
      },
      "source": [
        "次は，「冬の味覚」の方で考えてみましょう．\n",
        "こちらの度数はこうなってます．"
      ]
    },
    {
      "cell_type": "code",
      "metadata": {
        "id": "Flt1NXs9JyJ1"
      },
      "source": [
        "df['冬の味覚'].value_counts()"
      ],
      "execution_count": null,
      "outputs": []
    },
    {
      "cell_type": "markdown",
      "metadata": {
        "id": "ISG4ylYjJ5zO"
      },
      "source": [
        "さきほどと同じように度数分布表も書けますが，ここでは棒グラフにしてみます．"
      ]
    },
    {
      "cell_type": "code",
      "metadata": {
        "id": "cFLcp5lFKF0e"
      },
      "source": [
        "LX = ['ブリ', '牡蠣', 'カニ', 'みかん']\n",
        "LXr = ['Buri', 'Kaki', 'Kani', 'Mikan']  # グラフ中に日本語を書くと文字化けするのでローマ字で\n",
        "cnt = np.zeros(len(LX), dtype=int)\n",
        "for i, key in enumerate(LX):\n",
        "    cnt[i] = np.sum(df.loc[:, '冬の味覚'] == key)\n",
        "\n",
        "fig, ax = plt.subplots(facecolor=\"white\", figsize=(6, 6))\n",
        "#ax.bar(LX, cnt)\n",
        "ax.bar(LXr, cnt)\n",
        "plt.show()"
      ],
      "execution_count": null,
      "outputs": []
    },
    {
      "cell_type": "markdown",
      "metadata": {
        "id": "Rx0FcKv6Kb4g"
      },
      "source": [
        "最も多かった回答は「みかん」で，その次に多かったのは「ブリ」ですね．\n",
        "\n",
        "他にも，相対度数を用いて，次のようなグラフの描き方をすることもできます．"
      ]
    },
    {
      "cell_type": "code",
      "metadata": {
        "id": "OsoOYnMqK4hK"
      },
      "source": [
        "fig, ax = plt.subplots(facecolor=\"white\", figsize=(6, 3))\n",
        "w = cnt/np.sum(cnt) * 100\n",
        "left = 0\n",
        "for i in range(len(cnt)):\n",
        "    ax.barh(1, w, left=left, height=0.5)\n",
        "    left += w[i]\n",
        "ax.set_ylim(0.5,2.0)\n",
        "ax.set_yticks([])\n",
        "ax.legend(LXr)\n",
        "plt.show()"
      ],
      "execution_count": null,
      "outputs": []
    },
    {
      "cell_type": "markdown",
      "metadata": {
        "id": "DlnpNkpBQU8O"
      },
      "source": [
        "横軸の単位は % です．各色の棒の幅が割合を表しています．"
      ]
    },
    {
      "cell_type": "markdown",
      "metadata": {
        "id": "1qMsiXCjLBlu"
      },
      "source": [
        "ここで問題．\n",
        "このグラフから読み取れることとして，間違っているのはどれでしょう？\n",
        "\n",
        "1. 回答が最も多かったのは「みかん」である\n",
        "1. 回答が最も少なかったのは「牡蠣」である\n",
        "1. 「みかん」という回答は4割近くあった\n",
        "1. 「ブリ」という回答の割合は20%を上回っていた\n",
        "1. 「牡蠣」という回答の割合は40%を上回っていた\n",
        "\n",
        "\n",
        "答えは，以下に白字で書いてあります．\n",
        "マウスで選択して表示させてみましょう．\n"
      ]
    },
    {
      "cell_type": "markdown",
      "metadata": {
        "id": "nMBShtTgMh9a"
      },
      "source": [
        "マウスで選択してみてね → <font color=\"white\">み〜た〜な〜</font>\n",
        "\n",
        "上記問題の解答はこちら → <font color=\"white\">間違っているのは 5. です．「牡蠣」の割合は 20% 弱ですね．</font>"
      ]
    },
    {
      "cell_type": "markdown",
      "metadata": {
        "id": "bqxvkibnNTD3"
      },
      "source": [
        "以上，質的データの度数分布，相対度数分布，およびそれらをグラフに描く方法について述べました．\n",
        "グラフに描く方法（可視化の方法）には他にもいろいろ（円グラフとか）ありますが，ここでは省略します．"
      ]
    },
    {
      "cell_type": "markdown",
      "metadata": {
        "id": "2cNjoNtsN579"
      },
      "source": [
        "----\n",
        "### 分布の代表値\n",
        "\n",
        "量的データの場合，値の大きさや散らばり方を表す代表値として，平均や標準偏差・分散，中央値などが登場しました．\n",
        "しかし，質的データの場合，明らかにそのような値を求めることはできません．\n",
        "これまでにこの授業で登場した様々な代表値の中では，唯一，**最頻値** のみが算出可能です．\n"
      ]
    },
    {
      "cell_type": "markdown",
      "metadata": {
        "id": "Dq7hhZFJPQut"
      },
      "source": [
        "\n",
        "上記のデータの場合，\n",
        "\n",
        "- 「きのこvsたけのこ」の最頻値は 「きのこの山」\n",
        "- 「冬の味覚」の最頻値は「みかん」\n",
        "\n",
        "となります．"
      ]
    },
    {
      "cell_type": "markdown",
      "metadata": {
        "id": "tDe9xqyCNkMj"
      },
      "source": [
        "----\n",
        "### 分割表／クロス集計表\n",
        "\n",
        "次は，2つのデータ間の関係を調べたい場合についてです．\n",
        "\n",
        "2つのデータがどちらも量的データの場合は，**散布図** を描きました．\n",
        "しかし，2つのデータのどちらか一方，または両方とも質的データの場合，散布図は描けません．\n",
        "そのような場合は，以下に示すように，表の形で表します．\n",
        "\n"
      ]
    },
    {
      "cell_type": "markdown",
      "metadata": {
        "id": "wcufwtg9SAbD"
      },
      "source": [
        "上記のデータでは，回答者は「きのこvsたけのこ」と「冬の味覚」両方の設問に回答しています．\n",
        "これらのデータの間の関係を見てみましょう．\n",
        "\n"
      ]
    },
    {
      "cell_type": "code",
      "metadata": {
        "id": "Kck_RODDSgHw"
      },
      "source": [
        "LY = ['きのこの山', 'たけのこの里']\n",
        "\n",
        "for i in range(len(LY)):\n",
        "    print(f'#####  「きのこvsたけのこ」で {LY[i]} を選んだ回答  #####')\n",
        "    idx = df.loc[:, 'きのこvsたけのこ'] == LY[i]\n",
        "    s = np.sum(idx)\n",
        "    for j in range(len(LX)):\n",
        "        n = np.sum(df.loc[idx, '冬の味覚'] == LX[j])\n",
        "        print(f'{LX[j]}: {n}件 {n/s*100:.0f}%')\n",
        "    print(f'合計: {s}件 100%')\n",
        "    print()"
      ],
      "execution_count": null,
      "outputs": []
    },
    {
      "cell_type": "markdown",
      "metadata": {
        "id": "YANq3WKmSz9h"
      },
      "source": [
        "選択肢ごとに度数をカウントしてみると，上記のようになります．\n",
        "これらの数は，次のような表にまとめることができます．\n",
        "2つのデータの間の関係を調べるために書くこのような表は，**クロス集計表**または**分割表**と呼ばれます．"
      ]
    },
    {
      "cell_type": "markdown",
      "metadata": {
        "id": "Zb7ysn2KTGmS"
      },
      "source": [
        "「きのこvsたけのこ」と「冬の味覚」のクロス集計表\n",
        "\n",
        "| |ブリ|牡蠣|カニ|みかん|\n",
        "|:--:|--:|--:|--:|--:|\n",
        "|**きのこの山**| 16| 6 | 5| 27 |\n",
        "|**たけのこの里**| 5| 7| 10 | 4 |"
      ]
    },
    {
      "cell_type": "markdown",
      "metadata": {
        "id": "QDjrlfOVTUoA"
      },
      "source": [
        "このクロス集計表を見ると，例えば，\n",
        "\n",
        "> 「きのこの山」を選んだひとは，「たけのこの里」を選んだひとよりも，「みかん」を選ぶことが多い，\n",
        "\n",
        "ということが分かります．"
      ]
    },
    {
      "cell_type": "markdown",
      "metadata": {
        "id": "UQ3c84aCUlaR"
      },
      "source": [
        "クロス集計表は，割合の値を用いて書かれることもあります．\n",
        "上記の例で，「きのこの山」／「たけのこの里」のそれぞれを選んだ回答の中で「ブリ」，「牡蠣」，「カニ」，「みかん」を選んだ割合を求めて表にしてみると，次のようになります．"
      ]
    },
    {
      "cell_type": "markdown",
      "metadata": {
        "id": "ArBTlcXIVOuH"
      },
      "source": [
        "「きのこvsたけのこ」と「冬の味覚」のクロス集計表（割合，行の和が100%になるようにしたもの）\n",
        "\n",
        "| |ブリ|牡蠣|カニ|みかん|\n",
        "|:--:|--:|--:|--:|--:|\n",
        "|**きのこの山**| 30%| 11% | 9%| 50% |\n",
        "|**たけのこの里**| 19%| 27%| 38% | 15% |\n",
        "\n",
        "<font size=\"-1\">小数点以下を切り捨てて割合の値を表示しているせいで，行の和がちょうど100%になってないように見えるところがあります．</font>"
      ]
    },
    {
      "cell_type": "markdown",
      "metadata": {
        "id": "3CfbPnSaV6wJ"
      },
      "source": [
        "ここでは行の和が100%になるように表を作りましたが，列の和が100%になるようにしたり，すべての値の和が100%になるようにしたりすることもあります．\n",
        "割合で表示するかどうかも含めて，分析の目的に応じて適切なものを選びましょう．"
      ]
    },
    {
      "cell_type": "markdown",
      "metadata": {
        "id": "r_x_boqFXLtT"
      },
      "source": [
        "量的データにおける **相関係数** に相当する量として，「連関係数」というものがありますが，この授業では省略します．\n",
        "興味のあるひとは，ウェブや書籍で調べてみてください．"
      ]
    }
  ]
}