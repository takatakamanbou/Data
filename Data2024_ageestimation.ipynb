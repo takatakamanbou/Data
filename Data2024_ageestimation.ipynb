{
  "nbformat": 4,
  "nbformat_minor": 0,
  "metadata": {
    "colab": {
      "provenance": [],
      "toc_visible": true,
      "authorship_tag": "ABX9TyOzvjKui5LbVSaaUcAkWc+z",
      "include_colab_link": true
    },
    "kernelspec": {
      "name": "python3",
      "display_name": "Python 3"
    },
    "language_info": {
      "name": "python"
    }
  },
  "cells": [
    {
      "cell_type": "markdown",
      "metadata": {
        "id": "view-in-github",
        "colab_type": "text"
      },
      "source": [
        "<a href=\"https://colab.research.google.com/github/takatakamanbou/Data/blob/main/Data2024_ageestimation.ipynb\" target=\"_parent\"><img src=\"https://colab.research.google.com/assets/colab-badge.svg\" alt=\"Open In Colab\"/></a>"
      ]
    },
    {
      "cell_type": "markdown",
      "source": [
        "# 回帰分析の応用: 顔画像からの年齡推定\n",
        "\n"
      ],
      "metadata": {
        "id": "P4preLw7SzqH"
      }
    },
    {
      "cell_type": "markdown",
      "source": [
        "## はじめに\n",
        "\n"
      ],
      "metadata": {
        "id": "r7M4QT0WUmPo"
      }
    },
    {
      "cell_type": "markdown",
      "source": [
        "この授業で学んだ回帰分析は，説明変数 $x$ と被説明変数 $y$ の値のペアから成るデータの集まり $\\{(x_n, y_n)\\}$ （$n=1, 2, \\ldots, N$）が与えられたときに，これらによく当てはまる直線 $y = ax+b$ を求める，つまりこの式のパラメータ $a, b$ を求めるというデータ分析手法でした．\n",
        "\n",
        "この授業の範囲では説明変数は一つでしたが，二つ以上の場合に拡張することができます．その場合，データの集まりを $\\{ (x_{n,1}, x_{n,2}, \\ldots, x_{n,D}, y_{n}) \\}$ （$n=1, 2, \\ldots, N$）として，$D$ 個の説明変数 $x_{1}, x_{2}, \\ldots, x_{D}$ から被説明変数 $y$ を予測する式を\n",
        "\n",
        "$$\n",
        "y = w_0 + w_1x_1 + w_2x_2 + \\cdots + w_Dx_D \\qquad (1)\n",
        "$$\n",
        "\n",
        "とおけば，直線を当てはめる場合と同じように，データに平面（$D$次元超平面）を当てはめる最小二乗法を導くことができます．\n",
        "このような複数の説明変数を持つデータに対する回帰分析を，「重回帰分析」といいます（説明変数がひとつだけの場合を「単回帰分析」ということもあります）．「重回帰分析」は，この授業ではなく2年次の「多変量解析及び演習」で学ぶものですが，ここでは，回帰分析の応用例として，顔画像から年齢を推定する実験をやってみましょう．\n",
        "\n",
        "\n",
        "推定の精度はあまり高くありませんが，回帰分析のようなデータ分析の手法がこんなところでも使えるよ，ということが伝わればいいな．\n",
        "ちなみに，もっと推定精度を高めたければ，もっと複雑な，機械学習・AIの手法を使うことになります．その辺は3年次の「機械学習I,II」で学べるかも．"
      ],
      "metadata": {
        "id": "udr_9OQzR2d_"
      }
    },
    {
      "cell_type": "markdown",
      "source": [
        "## 実験方法の概要"
      ],
      "metadata": {
        "id": "8wnfzkFDVA1c"
      }
    },
    {
      "cell_type": "markdown",
      "source": [
        "人の顔が中央に大きく写った幅 $64$ 画素高さ $64$ 画素の $3$ チャンネルカラー画像を考えます．\n",
        "これらの画像に写った人物の年齡を表す整数値も与えられているものとします．\n",
        "このとき，一つの画像の画素値は $64\\times 64\\times 3 = 12288$ 個あります．この画像から年齢を推定する問題は，$D = 12288$ 個の画素値を説明変数とし，年齢を被説明変数とする重回帰分析の問題とみなせます．\n",
        "\n",
        "というわけで，実際の人の顔とその年齢のデータを $38138$ 件集めたデータに重回帰分析を適用して，式$(1)$のパラメータ $w_0, w_1, \\ldots, w_{12288}$ を求めたものを用意しました（注）．適当な画像の画素値 $x_1, x_2, \\ldots, x_{12288}$ に対して式$(1)$の値を計算することで，その画像に写ったひとの年齢を推定させてみましょう．\n",
        "\n",
        "<br>\n",
        "<hr width=\"50%\" align=\"left\">\n",
        "<span style=\"font-size: 75%\">\n",
        "※注: ここでは説明を簡単にするために少々嘘をついています．本当の方法については，この notebook 末尾の「補足」で説明しています．\n",
        "</span>\n",
        "\n"
      ],
      "metadata": {
        "id": "muyRpSUkUjm5"
      }
    },
    {
      "cell_type": "markdown",
      "source": [
        "## 準備"
      ],
      "metadata": {
        "id": "6qnegh5zVlHh"
      }
    },
    {
      "cell_type": "code",
      "metadata": {
        "id": "I226xIKJbqtM"
      },
      "source": [
        "# 準備あれこれ\n",
        "import numpy as np\n",
        "import matplotlib.pyplot as plt\n",
        "import pandas as pd\n",
        "import seaborn\n",
        "seaborn.set()\n",
        "\n",
        "import cv2  # Python による「コンピュータビジョン(Computer Vision)」のためのライブラリ OpenCV のパッケージをインポート\n",
        "\n",
        "# 顔検出器の準備\n",
        "faceCascade = cv2.CascadeClassifier(cv2.data.haarcascades + 'haarcascade_frontalface_default.xml')"
      ],
      "execution_count": null,
      "outputs": []
    },
    {
      "cell_type": "markdown",
      "source": [
        "次のコードセルでは，あとで使う関数を定義しています．このセルを実行しただけでは何も起こりませんが，あらかじめ実行して関数を定義しておかないと後のセルが動きません．"
      ],
      "metadata": {
        "id": "Mb_MCcgrV6Hi"
      }
    },
    {
      "cell_type": "code",
      "source": [
        "# Colab へのファイルアップロードを実行する関数\n",
        "#\n",
        "def uploadToColab():\n",
        "    try:\n",
        "        from google.colab import files\n",
        "        rv = files.upload()\n",
        "    except:\n",
        "        print('このコードは Colab 以外の環境では実行できないよ．')\n",
        "\n",
        "\n",
        "# OpenCVの形式の画像を表示する関数\n",
        "#\n",
        "def imshow(img):\n",
        "    try:\n",
        "        from google.colab.patches import cv2_imshow\n",
        "        cv2_imshow(img) # Colab上で実行している場合\n",
        "    except:\n",
        "        cv2.imshow(img)  # それ以外の場合\n",
        "\n",
        "\n",
        "# 与えられた画像の中から顔を検出する\n",
        "#\n",
        "def faceDetector(img, faceCascade, maxSize=400):\n",
        "\n",
        "    h, w = img.shape[:2]\n",
        "\n",
        "    # (短辺の長さ) <= maxSize にリサイズ\n",
        "    if min(w, h) > maxSize:\n",
        "        if w <= h:\n",
        "            w2, h2 = maxSize, h*maxSize//w\n",
        "        else:\n",
        "            w2, h2 = w*maxSize//h, maxSize\n",
        "        imgDisp = cv2.resize(img, (w2, h2))\n",
        "    else:\n",
        "        imgDisp = np.copy(img)\n",
        "\n",
        "    # 顔検出を実行\n",
        "    imgGray = cv2.cvtColor(imgDisp, cv2.COLOR_BGR2GRAY)\n",
        "    faces = faceCascade.detectMultiScale(imgGray, 1.1, 4)\n",
        "    nFace = len(faces)\n",
        "\n",
        "    # 検出した顔のうち最初のひとりを選んで切り取り\n",
        "    if nFace > 0:\n",
        "        print(faces)\n",
        "        x, y, ww, hh = faces[0]\n",
        "        imgFace = np.copy(imgDisp[y:y+hh, x:x+ww, :])\n",
        "        cv2.rectangle(imgDisp, (x, y), (x+ww, y+hh), color=(0, 255, 0), thickness=2)\n",
        "        return nFace, imgDisp, imgFace\n",
        "    else:\n",
        "        return nFace, imgDisp, None\n"
      ],
      "metadata": {
        "id": "yaET5ayh2QHJ"
      },
      "execution_count": null,
      "outputs": []
    },
    {
      "cell_type": "markdown",
      "source": [
        "用意しておいた $w_0, w_1, \\ldots, w_D$ などの値を読み込みます．"
      ],
      "metadata": {
        "id": "FZ5QS0bqZkNS"
      }
    },
    {
      "cell_type": "code",
      "source": [
        "# takataka のウェブサイトからパラメータを格納したファイルを Colab へダウンロード\n",
        "! wget -nc https://www-tlab.math.ryukoku.ac.jp/~takataka/course/MVA/ageestimation.npz\n",
        "\n",
        "import os\n",
        "path = 'ageestimation.npz'\n",
        "if os.path.exists(path):\n",
        "    # パラメータを読み込む\n",
        "    params = np.load(path)\n",
        "    print(f'ファイル {path} を読み込みました')\n",
        "    Xm  = params['Xm']  # 平均ベクトル\n",
        "    eve = params['eve'] # 主成分分析で得られた固有ベクトル\n",
        "    w   = params['w']   # 重回帰分析で得られたパラメータ\n",
        "    print(Xm.shape, eve.shape, w.shape)\n",
        "else:\n",
        "    print(f'ファイル {path} の読み込みに失敗したようです．再実行してみてください')"
      ],
      "metadata": {
        "id": "XrD7wPFtZsba"
      },
      "execution_count": null,
      "outputs": []
    },
    {
      "cell_type": "markdown",
      "source": [
        "## 実験"
      ],
      "metadata": {
        "id": "Q8mhpECrY7K2"
      }
    },
    {
      "cell_type": "markdown",
      "source": [
        "(1) 画像を Colab へアップロードします．次のような画像にしてください\n",
        "\n",
        "- ひとりのひとのほぼ正面を向いた顔全体が写ってる．複数人を検出した場合，ひとりだけ抜き出します（あとで条件に合わない画像をわざと与えて実験してみるのもよいでしょう）．\n",
        "- 画像全体に顔がドアップで写っているような場合はうまく顔検出ができないかもしれません．顔がもう少し小さく写ってる画像を探してみましょう．\n",
        "- ファイル名に空白やマルチバイト文字（日本語など）が含まれているとうまく動作しない場合があるので，自分のPCの方で適当な名前に変えておく（拡張子は変えてはいけない）．\n"
      ],
      "metadata": {
        "id": "GzHAoBgibuy_"
      }
    },
    {
      "cell_type": "code",
      "source": [
        "# Colab へファイルをアップロード\n",
        "uploadToColab()\n",
        "\n",
        "# ls コマンドでファイルを一覧\n",
        "! ls"
      ],
      "metadata": {
        "id": "8HMx-FEJY8Bh"
      },
      "execution_count": null,
      "outputs": []
    },
    {
      "cell_type": "markdown",
      "source": [
        "上のセルを実行してファイルをアップロードできたら，次のセルのファイル名の部分にその名前を指定して，読み込ませましょう．"
      ],
      "metadata": {
        "id": "bd_gfEt5c8Ss"
      }
    },
    {
      "cell_type": "code",
      "source": [
        "# 画像を読み込む．`hoge.jpg` を自分がアップロードしたファイルの名前に修正\n",
        "img = cv2.imread('hoge.jpg')"
      ],
      "metadata": {
        "id": "DANLcHx5cl-G"
      },
      "execution_count": null,
      "outputs": []
    },
    {
      "cell_type": "markdown",
      "source": [
        "(2) 顔検出を実行して顔領域を切り取った画像を作る"
      ],
      "metadata": {
        "id": "7ggTCs3sdxjN"
      }
    },
    {
      "cell_type": "code",
      "source": [
        "numFace, imgDisp, imgFace = faceDetector(img, faceCascade, maxSize=400)\n",
        "if numFace > 0:\n",
        "    imshow(imgDisp)\n",
        "    imshow(imgFace)\n",
        "else:\n",
        "    imshow(imgDisp)\n",
        "    print('顔を検出できませんでした')"
      ],
      "metadata": {
        "id": "GOdtTrsNdwWl"
      },
      "execution_count": null,
      "outputs": []
    },
    {
      "cell_type": "markdown",
      "source": [
        "(3) 顔を所定の大きさにリサイズしてから次元削減し，年齡推定を実行．"
      ],
      "metadata": {
        "id": "U5-5lzO3exb9"
      }
    },
    {
      "cell_type": "code",
      "source": [
        "# 顔画像を 64 x 64 にリサイズして 12288次元ベクトルに\n",
        "xvec = cv2.resize(imgFace, (64, 64)).reshape(-1)\n",
        "print(xvec.shape)\n",
        "\n",
        "# PCAを利用した次元削減\n",
        "yvec = (xvec - Xm) @ eve\n",
        "print(yvec.shape)\n",
        "\n",
        "# 予測値の計算\n",
        "yvec1 = np.concatenate(([1], yvec)) # 先頭に 1 をくっつける\n",
        "z = w @ yvec1\n",
        "\n",
        "# 結果の表示\n",
        "print(f'このひとの年齡の推定値は {z:.1f} です')"
      ],
      "metadata": {
        "id": "MBsghH-QeP0L"
      },
      "execution_count": null,
      "outputs": []
    },
    {
      "cell_type": "markdown",
      "source": [
        "## 補足"
      ],
      "metadata": {
        "id": "5qyXn1jghgyi"
      }
    },
    {
      "cell_type": "markdown",
      "source": [
        "### 実験方法についての補足"
      ],
      "metadata": {
        "id": "clWuFR5WZRHW"
      }
    },
    {
      "cell_type": "markdown",
      "source": [
        "「方法の概要」では，$D = 12288$ 個の画素値を説明変数とした重回帰分析を行っているように説明しています．しかし実際には，このような画素値そのままのデータは次元数が大きすぎて扱いが難しいので，「主成分分析」という手法を用いて，データの次元数をいったん $D = 2151$ まで削減してから重回帰分析を適用しています．「主成分分析」についても，「多変量解析及び演習」で学ぶことができます．"
      ],
      "metadata": {
        "id": "37YOeb1WYkXy"
      }
    },
    {
      "cell_type": "markdown",
      "source": [
        "### データ分析や多変量解析と線形代数の関係？"
      ],
      "metadata": {
        "id": "kaU-D5hQbLjV"
      }
    },
    {
      "cell_type": "markdown",
      "source": [
        "「データ分析」や「多変量解析及び演習」の授業で学ぶ内容は，大学初年次で学ぶ微積分や線形代数，確率統計の初歩と密接な関わりがあります．ここでは，特に線形代数との関わりについて，ちょびっとだけ説明します．"
      ],
      "metadata": {
        "id": "ji3sMfvSprDo"
      }
    },
    {
      "cell_type": "markdown",
      "source": [
        "データ $\\{(x_n, y_n)\\}$（$n = 1, 2, \\ldots, N$）に $y = w_0 + w_1x$ という直線を当てはめることを考えます．このとき，\n",
        "\n",
        "$$\n",
        "X = \\begin{pmatrix}\n",
        "1 & 1 & \\cdots & 1 \\\\\n",
        "x_{1} & x_{2} & \\cdots & x_{N}\n",
        "\\end{pmatrix}\\quad Y = \\begin{pmatrix} y_1 & y_2 & \\cdots & y_N\\end{pmatrix}\n",
        "$$\n",
        "\n",
        "という $2\\times N$ 行列 $X$ と $1\\times D$ 行列 $Y$ に対して，\n",
        "\n",
        "$$\n",
        "XX^{\\top} =\n",
        "\\begin{pmatrix}\n",
        "\\displaystyle\\sum_{n=1}^{N}1 & \\displaystyle\\sum_{n=1}^{N}x_n\\\\\n",
        "\\displaystyle\\sum_{n=1}^{N}x_n & \\displaystyle\\sum_{n=1}^{N}x_n^2\\\\\n",
        "\\end{pmatrix} \\quad\n",
        "XY^{\\top} =\n",
        "\\begin{pmatrix}\n",
        "\\displaystyle\\sum_{n=1}^{N}y_n\\\\\n",
        "\\displaystyle\\sum_{n=1}^{N}x_ny_n\n",
        "\\end{pmatrix}\n",
        "$$\n",
        "\n",
        "となります．したがって，直線当てはめの最小二乗法の解 $(w_0, w_1)$ が満たす正規方程式は，行列 $X, Y$ を用いて\n",
        "\n",
        "$$\n",
        "XX^{\\top} \\begin{pmatrix} w_0 \\\\ w_1 \\end{pmatrix} = XY^{\\top} \\qquad (2)\n",
        "$$\n",
        "\n",
        "と表されます（ex08notebookA参照）．"
      ],
      "metadata": {
        "id": "yUp4B74NrBDj"
      }
    },
    {
      "cell_type": "markdown",
      "source": [
        "同様に，$D$ 個の説明変数から成るデータに式$(1)$を当てはめたい場合，\n",
        "\n",
        "$$\n",
        "X = \\begin{pmatrix}\n",
        "1 & 1 & \\cdots & 1 \\\\\n",
        "x_{1, 1} & x_{2, 1} & \\cdots & x_{N, 1}\\\\\n",
        "x_{1, 2} & x_{2, 2} & \\cdots & x_{N, 2}\\\\\n",
        "\\vdots & \\vdots & \\ddots & \\vdots \\\\\n",
        "x_{1, D} & x_{2, D} & \\cdots & x_{N, D}\n",
        "\\end{pmatrix}\\quad Y = \\begin{pmatrix} y_1 & y_2 & \\cdots & y_N\\end{pmatrix}\n",
        "$$\n",
        "\n",
        "という $(D+1)\\times N$ 行列 $X$ と $1\\times D$ 行列 $Y$ を作ると，最小二乗法の解を表す正規方程式は\n",
        "\n",
        "$$\n",
        "XX^{\\top} \\begin{pmatrix} w_0 \\\\ w_1 \\\\ w_2 \\\\ \\vdots \\\\ w_D \\end{pmatrix} = XY^{\\top} \\qquad (3)\n",
        "$$\n",
        "\n",
        "と表されます（導出その他の説明は「多変量解析及び演習」で行いますので，ここでは気にしないでok）．この式で $D = 1$ とおくと式$(2)$が得られます．つまり，単回帰分析の場合も含めて，データの次元数がいくつであるかによらず，回帰分析の解を表す方程式は行列 $X, Y$ を用いた式$(3)$で表せるわけです．コンピュータを用いて最小二乗法による直線・平面当てはめを行うプログラムでは，実際にこのような行列の計算を行い，式$(3)$の連立方程式を解いて回帰係数を求めるようになっています．\n",
        "\n",
        "「データ分析」や「多変量解析及び演習」で扱うような問題，さらには，「機械学習I/II」で扱うような問題の多くは，このようにベクトルや行列やを使った式で表されます．\n",
        "そのため，問題を理解したりその性質を調べたりするために，線形代数がすごく重要となります．またここでは，線形代数が使えると言っても，式が行列で表せるよという単純な話ですが，「多変量解析及び演習」では，行列の固有値や固有ベクトルの話も出てきたりします．"
      ],
      "metadata": {
        "id": "mW6Byk9juBbt"
      }
    },
    {
      "cell_type": "markdown",
      "source": [
        "Python では，NumPy という数値計算パッケージを利用することで，行列やベクトルを扱う計算が簡単に書けます（この授業の notebook のほとんどで使ってます）．ゴリゴリ君の最小二乗法のプログラムを実際に書いてみると，次のようになります．"
      ],
      "metadata": {
        "id": "8uG-Uk0Gw571"
      }
    },
    {
      "cell_type": "code",
      "source": [
        "# データを読み込む\n",
        "dfGori = pd.read_csv('https://www-tlab.math.ryukoku.ac.jp/~takataka/course/Data/ex08gorigori.csv', header=0)\n",
        "N = len(dfGori)\n",
        "\n",
        "# 行列 X, Y をつくる\n",
        "X = np.ones((2, N))\n",
        "X[1, :] = dfGori['気温'].to_numpy()\n",
        "Y = dfGori['アイス売上数'].to_numpy()\n",
        "print('X = ')\n",
        "print(X, X.shape)\n",
        "print()\n",
        "print('Y = ', Y, Y.shape)\n",
        "print()\n",
        "\n",
        "# 正規方程式の左辺の行列 A と右辺の行列 b を求める\n",
        "A = X @ X.T  # 行列 A, B に対して A @ B はそれらの積．A.T は A の転置\n",
        "b = X @ Y.T\n",
        "print('A = ')\n",
        "print(A)\n",
        "print()\n",
        "print('b = ', b)  # 数学的には 2 x 1 行列だが，一次元配列に格納してるので横に並んで表示される\n",
        "print()\n",
        "\n",
        "# 正規方程式の解を求める\n",
        "w = np.linalg.solve(A, b) # 連立方程式の解を求める関数\n",
        "print(f'w_0 = {w[0]:.2f}, w_1 = {w[1]:.2f}')  # b = 2.34, a = 2.92"
      ],
      "metadata": {
        "id": "KYJ3uo5SyXZZ"
      },
      "execution_count": null,
      "outputs": []
    },
    {
      "cell_type": "markdown",
      "source": [
        "### よだんだよん"
      ],
      "metadata": {
        "id": "NhPiXPmta6hj"
      }
    },
    {
      "cell_type": "markdown",
      "source": [
        "この年齡推定の仕組みは，次のようにして作りました．\n",
        "\n",
        "(1) [IMDB-WIKI dataset](https://data.vision.ee.ethz.ch/cvl/rrothe/imdb-wiki/) という研究用画像データセットの中に，Wikipedia から集めた顔画像とその性別，生年月日，撮影年などが含まれたデータ（画像 62,328枚）があったので，これを利用．\n",
        "\n",
        "(2) 生年月日と撮影年から年齡を算出．顔がちゃんと写ってなかったり年齡の推定値がおかしかったりするデータを削除．顔の領域のみを抜き出す．得られた画像は 38138 枚．この前処理の部分では，こちらのサイトを参考にさせてもらいました：\n",
        "[顔画像から年齢・性別を推定するためのデータセットIMDB-WIKI](https://qiita.com/yu4u/items/a2410f46669c5f20ee8e)\n",
        "\n",
        "(3) 得られた画像を $64\\times 64$ に縮小してデータ行列 `X` を作成．\n",
        "`X.shape` は `(38138, 12288)`．\n",
        "\n",
        "(4) `X` の平均を求めてこれを `X` から引き，特異値分解経由で主成分分析のための固有値・固有ベクトルを算出．次のスペックの Mac で `np.linalg.svd` の実行に23分．\n",
        "- CPU: Apple M1 Pro\n",
        "- メモリ: 32GB\n",
        "\n",
        "(5) 累積寄与率を調べると，2151次元ではじめて99%を超えていたので，2151次元に次元削減した．\n",
        "\n",
        "(6) そのデータを用いて最小二乗法の解を計算．上記の Mac で `np.linalg.lsesq` の実行に 28 秒．\n",
        "\n",
        "(7) `X` の平均（12288次元），固有ベクトル（12288x2151），重回帰のパラメータ（2152次元）をファイルに保存．"
      ],
      "metadata": {
        "id": "ziXmznu4h4wB"
      }
    },
    {
      "cell_type": "code",
      "source": [],
      "metadata": {
        "id": "ptfMY6UigZdB"
      },
      "execution_count": null,
      "outputs": []
    }
  ]
}