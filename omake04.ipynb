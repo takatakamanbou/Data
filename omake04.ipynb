{
  "cells": [
    {
      "cell_type": "markdown",
      "metadata": {
        "colab_type": "text",
        "id": "view-in-github"
      },
      "source": [
        "<a href=\"https://colab.research.google.com/github/takatakamanbou/Data/blob/2021/omake04.ipynb\" target=\"_parent\"><img src=\"https://colab.research.google.com/assets/colab-badge.svg\" alt=\"Open In Colab\"/></a>"
      ]
    },
    {
      "cell_type": "markdown",
      "metadata": {
        "id": "2UzDNLmVS3po"
      },
      "source": [
        "# データ分析 おまけ04\n",
        "\n",
        "<img width=64 src=\"https://www-tlab.math.ryukoku.ac.jp/~takataka/course/Data/Data-logo.png\"> https://www-tlab.math.ryukoku.ac.jp/wiki/?Data/\n"
      ]
    },
    {
      "cell_type": "markdown",
      "metadata": {
        "id": "_4-TmUdCd9FJ"
      },
      "source": [
        "----\n",
        "# Python + NumPy + Matplotlib + Pandas 入門 (2)\n",
        "----\n",
        "\n",
        "おまけ03の続編です．ベクトルや行列の計算をしたり，それを応用して最小二乗法の問題を解いたりします．\n"
      ]
    },
    {
      "cell_type": "markdown",
      "metadata": {
        "id": "Z4c3TGUV38Ri"
      },
      "source": [
        "----\n",
        "## NumPy でベクトルや行列を扱う\n",
        "\n",
        "前回の続きとして，NumPy でベクトルや行列を扱う方法を説明します．"
      ]
    },
    {
      "cell_type": "markdown",
      "metadata": {
        "id": "VVx8EHvvfs_z"
      },
      "source": [
        "### 一次元配列・ベクトル"
      ]
    },
    {
      "cell_type": "code",
      "execution_count": null,
      "metadata": {
        "id": "mH1RWEw54RPv",
        "vscode": {
          "languageId": "python"
        }
      },
      "outputs": [],
      "source": [
        "import numpy as np  # numpy モジュールをインポートして np という名前で呼べるようにする"
      ]
    },
    {
      "cell_type": "markdown",
      "metadata": {
        "id": "ZnE7_3uaRFDn"
      },
      "source": [
        "一次元の配列（`np.array`）の話の復習から．"
      ]
    },
    {
      "cell_type": "code",
      "execution_count": null,
      "metadata": {
        "id": "z8byvBOBPEQQ",
        "vscode": {
          "languageId": "python"
        }
      },
      "outputs": [],
      "source": [
        "x = np.arange(1, 6)  # 5つの要素から成る配列\n",
        "print(x)\n",
        "print(x.shape) # 配列 x の shape（形）．要素数 5 のベクトル（一次元配列）であることがわかる"
      ]
    },
    {
      "cell_type": "code",
      "execution_count": null,
      "metadata": {
        "id": "FEebHACWPb9R",
        "vscode": {
          "languageId": "python"
        }
      },
      "outputs": [],
      "source": [
        "y = np.array([1, 2, np.pi, 4, 5]) # 浮動小数点数の配列． np.pi は円周率\n",
        "print(y)\n",
        "print(y.shape)"
      ]
    },
    {
      "cell_type": "markdown",
      "metadata": {
        "id": "hKMryDJyP_PG"
      },
      "source": [
        "上記の `x` と `y` はいずれも要素数が 5 の一次元配列です．次のような演算ができるのでした．"
      ]
    },
    {
      "cell_type": "code",
      "execution_count": null,
      "metadata": {
        "id": "Quu1irglPy0n",
        "vscode": {
          "languageId": "python"
        }
      },
      "outputs": [],
      "source": [
        "x2 = x + 2\n",
        "print(x2)"
      ]
    },
    {
      "cell_type": "code",
      "execution_count": null,
      "metadata": {
        "id": "ROG8mPBJ4Uln",
        "vscode": {
          "languageId": "python"
        }
      },
      "outputs": [],
      "source": [
        "z = x + y\n",
        "print(z)"
      ]
    },
    {
      "cell_type": "markdown",
      "metadata": {
        "id": "b1e9fQhQSqJP"
      },
      "source": [
        "C言語の配列と同じように要素を取り出すこともできます．"
      ]
    },
    {
      "cell_type": "code",
      "execution_count": null,
      "metadata": {
        "id": "W13MByCPSxyQ",
        "vscode": {
          "languageId": "python"
        }
      },
      "outputs": [],
      "source": [
        "x[2]"
      ]
    },
    {
      "cell_type": "markdown",
      "metadata": {
        "id": "VeUfAmizS4KH"
      },
      "source": [
        "要素番号を指定している `[ ]` の中には，スライスも書けます．"
      ]
    },
    {
      "cell_type": "code",
      "execution_count": null,
      "metadata": {
        "id": "dmi-vbUQT8uv",
        "vscode": {
          "languageId": "python"
        }
      },
      "outputs": [],
      "source": [
        "y[1:4]"
      ]
    },
    {
      "cell_type": "markdown",
      "metadata": {
        "id": "HL4EKSdmUbkh"
      },
      "source": [
        "ここで作った変数 `x` と `y` はいずれも要素数 5 の一次元配列ですので，5次元のベクトルとみなすことができます． `@` 演算子を使うと，二つのベクトル同士の内積を計算させることができます．"
      ]
    },
    {
      "cell_type": "code",
      "execution_count": null,
      "metadata": {
        "id": "ozn-AAuVUx8B",
        "vscode": {
          "languageId": "python"
        }
      },
      "outputs": [],
      "source": [
        "x @ y"
      ]
    },
    {
      "cell_type": "markdown",
      "metadata": {
        "id": "4SUp89nrU1fE"
      },
      "source": [
        "$\\mathbf{x} = (x_1, x_2, \\dots, x_{D})$ および $\\mathbf{y} = (y_1, y_2, \\dots, y_{D})$ のとき，$\\mathbf{x}$ と $\\mathbf{y}$ の内積 $\\mathbf{x}\\cdot\\mathbf{y}$ は\n",
        "\n",
        "$$\n",
        "\\mathbf{x}\\cdot\\mathbf{y} = \\sum_{d=1}^{D} x_dy_d\n",
        "$$\n",
        "\n",
        "です．"
      ]
    },
    {
      "cell_type": "markdown",
      "metadata": {
        "id": "LyprNRe1fHxV"
      },
      "source": [
        "一方，`*`演算子を使うと，同じ要素数の配列の同じ場所の値同士の積を計算することになります．`@`演算子による内積の計算と違って結果は元の配列と同じ要素数の配列です．"
      ]
    },
    {
      "cell_type": "code",
      "execution_count": null,
      "metadata": {
        "id": "OOdA75ojfYjv",
        "vscode": {
          "languageId": "python"
        }
      },
      "outputs": [],
      "source": [
        "x * y"
      ]
    },
    {
      "cell_type": "markdown",
      "metadata": {
        "id": "sJLdeMj9f6av"
      },
      "source": [
        "### 二次元配列・行列"
      ]
    },
    {
      "cell_type": "markdown",
      "metadata": {
        "id": "t0ACQzF0Qirw"
      },
      "source": [
        "`np.array` にリストのリストを渡すと，二次元配列（=行列）を作ることができます．\n"
      ]
    },
    {
      "cell_type": "code",
      "execution_count": null,
      "metadata": {
        "id": "5XudrBvNQSfX",
        "vscode": {
          "languageId": "python"
        }
      },
      "outputs": [],
      "source": [
        "A = np.array( [[0, 1, 2], [3, 4, 5]]) # 2行3列の行列\n",
        "print(A)\n",
        "print(A.shape) # 配列 A の shape（形）． 2x3 行列であることがわかる"
      ]
    },
    {
      "cell_type": "markdown",
      "metadata": {
        "id": "Ba95Es5VXAVc"
      },
      "source": [
        "`reshape` というメソッドを使うと配列の形を変えることができるので，これを利用して作る手もあります．"
      ]
    },
    {
      "cell_type": "code",
      "execution_count": null,
      "metadata": {
        "id": "m4uFc-TyXQ-3",
        "vscode": {
          "languageId": "python"
        }
      },
      "outputs": [],
      "source": [
        "b = np.arange(6)  # b は要素数 6 の一次元配列\n",
        "print(b)\n",
        "B = b.reshape((3, 2)) # B は b を (3, 2) の shape で見たもの\n",
        "print(B)\n",
        "print(B.shape)"
      ]
    },
    {
      "cell_type": "markdown",
      "metadata": {
        "id": "Vr-uKvklXmtL"
      },
      "source": [
        "ここで，`b` と `B` は見た目は別物ですが，要素は同じものです（同じ記憶領域を共有している，という言い方もできます）．そのため，次のようなことになります．"
      ]
    },
    {
      "cell_type": "code",
      "execution_count": null,
      "metadata": {
        "id": "J6caMG96X4ji",
        "vscode": {
          "languageId": "python"
        }
      },
      "outputs": [],
      "source": [
        "b[3] = 5963  # b の一つの値を変更\n",
        "print(b) \n",
        "print(B)  # B の方は変更してないが..."
      ]
    },
    {
      "cell_type": "markdown",
      "metadata": {
        "id": "k-2RBCY3aGY-"
      },
      "source": [
        "変数`A` が表す $2\\times 3$ 行列を $A$，変数`B` が表す $3\\times 2$ 行列を $B$ とおくと，これら二つの積 $AB$ は $2\\times 2$ 行列となります．次のように `@` 演算子を使って行列の積が計算できます．"
      ]
    },
    {
      "cell_type": "code",
      "execution_count": null,
      "metadata": {
        "id": "vDKfdwqdZEIY",
        "vscode": {
          "languageId": "python"
        }
      },
      "outputs": [],
      "source": [
        "print(A @ B)"
      ]
    },
    {
      "cell_type": "markdown",
      "metadata": {
        "id": "aUOFwuEnacSr"
      },
      "source": [
        "同様に積 $BA$ も計算できます．結果は $3\\times 3$行列．"
      ]
    },
    {
      "cell_type": "code",
      "execution_count": null,
      "metadata": {
        "id": "M82PLuoEa6cc",
        "vscode": {
          "languageId": "python"
        }
      },
      "outputs": [],
      "source": [
        "print(B @ A)"
      ]
    },
    {
      "cell_type": "markdown",
      "metadata": {
        "id": "-g05Uu1HcDcB"
      },
      "source": [
        "`A.T` は `A` の転置行列．つまり，$A^{\\top}$．"
      ]
    },
    {
      "cell_type": "code",
      "execution_count": null,
      "metadata": {
        "id": "Xjm-IH5rcO8C",
        "vscode": {
          "languageId": "python"
        }
      },
      "outputs": [],
      "source": [
        "At = A.T\n",
        "print(At, At.shape)"
      ]
    },
    {
      "cell_type": "markdown",
      "metadata": {
        "id": "mGpoT3KFgC2g"
      },
      "source": [
        "一次元配列の場合と同様に，`*`は要素ごとの積を求める演算子です．"
      ]
    },
    {
      "cell_type": "code",
      "execution_count": null,
      "metadata": {
        "id": "ta_58FVKgOzs",
        "vscode": {
          "languageId": "python"
        }
      },
      "outputs": [],
      "source": [
        "hoge = np.arange(4)\n",
        "C = hoge.reshape((2, 2))\n",
        "print(C)\n",
        "print(C @ C) # 行列 C と C の積，つまり C の二乗\n",
        "print(C * C) # C の要素ごとの二乗"
      ]
    },
    {
      "cell_type": "markdown",
      "metadata": {
        "id": "Hd046TELUaLL"
      },
      "source": [
        "一次元配列の場合と同様に，`[ ]`の中に要素番号を指定することで要素の値を参照したり値を代入したりできます．"
      ]
    },
    {
      "cell_type": "code",
      "execution_count": null,
      "metadata": {
        "id": "N_LP0oPlhK2n",
        "vscode": {
          "languageId": "python"
        }
      },
      "outputs": [],
      "source": [
        "print(A)\n",
        "print(A[1, 2]) # 0から数えて1行目，0から数えて2列目"
      ]
    },
    {
      "cell_type": "markdown",
      "metadata": {
        "id": "NGsrkQe3hh40"
      },
      "source": [
        "スライスも使えます．"
      ]
    },
    {
      "cell_type": "code",
      "execution_count": null,
      "metadata": {
        "id": "IMHmGMbghj5I",
        "vscode": {
          "languageId": "python"
        }
      },
      "outputs": [],
      "source": [
        "print(A[1, :2]) # 1行目の0列目と1列目のみ取り出した配列"
      ]
    },
    {
      "cell_type": "code",
      "execution_count": null,
      "metadata": {
        "id": "VjuT4j1lh48l",
        "vscode": {
          "languageId": "python"
        }
      },
      "outputs": [],
      "source": [
        "print(A[:, 1])  # 全ての行の1列目のみ取り出した配列"
      ]
    },
    {
      "cell_type": "code",
      "execution_count": null,
      "metadata": {
        "id": "1KdrKtDtlRf2",
        "vscode": {
          "languageId": "python"
        }
      },
      "outputs": [],
      "source": [
        "print(A[:, 1:])"
      ]
    },
    {
      "cell_type": "markdown",
      "metadata": {
        "id": "oV9c8hEiPog9"
      },
      "source": [
        "----\n",
        "## 練習問題\n"
      ]
    },
    {
      "cell_type": "markdown",
      "metadata": {
        "id": "WgmpmFN5hCQY"
      },
      "source": [
        "以下のセルを実行すると，変数 `dataX` と `dataY` の値が， ex09notebookA の練習問題（自動車価格の変化を表すデータの回帰分析）の $x_n$ と $y_n$ の値をそれぞれ並べた配列になります．\n"
      ]
    },
    {
      "cell_type": "code",
      "execution_count": null,
      "metadata": {
        "id": "IEL-CJe4mzPT",
        "vscode": {
          "languageId": "python"
        }
      },
      "outputs": [],
      "source": [
        "dataX = np.array([0, 4, 8, 20])\n",
        "dataY = np.array([0, 1, -1, -2])"
      ]
    },
    {
      "cell_type": "markdown",
      "metadata": {
        "id": "174yRgkInvno"
      },
      "source": [
        "このデータに当てはまる直線を求める計算を，二通りの方法でやってみましょう．"
      ]
    },
    {
      "cell_type": "markdown",
      "metadata": {
        "id": "zdESGEqZjoPK"
      },
      "source": [
        "(1) ［方法1］ 以下に新しいセルを追加して，次の値を求めるコードを書きなさい．それぞれの記号の意味は，ex09notebookA参照．\n",
        "$$ \\bar{x}, \\bar{y}, s_{x}^2, s_{xy}$$"
      ]
    },
    {
      "cell_type": "markdown",
      "metadata": {
        "id": "3eg-smmHm47Z"
      },
      "source": [
        "(2) ［方法1］ 以下に新しいセルを追加して，(2)で求めた値を使って直線の傾きと切片の値を求めるコードを書きなさい．"
      ]
    },
    {
      "cell_type": "markdown",
      "metadata": {
        "id": "14NAgpjuP_Gf"
      },
      "source": [
        "(3)  ［方法2］ 以下のセルを実行すると，変数 `AA` と `bb` がそれぞれ，以下のような $2\\times 2$ 行列 $A$ と 2次元ベクトル（$2\\times 1$行列） $\\mathbf{b}$ を表すことになります．\n",
        "$$\n",
        "A = \\begin{pmatrix}\n",
        "\\displaystyle\\sum_{n=1}^{N}x_n^2 & \\displaystyle\\sum_{n=1}^{N}x_n\\\\\n",
        "\\displaystyle\\sum_{n=1}^{N}x_n & \\displaystyle\\sum_{n=1}^{N}1\\\\\n",
        "\\end{pmatrix} \\qquad\n",
        "\\mathbf{b} = \n",
        "\\begin{pmatrix}\n",
        "\\displaystyle\\sum_{n=1}^{N}x_ny_n\\\\\n",
        "\\displaystyle\\sum_{n=1}^{N}y_n\n",
        "\\end{pmatrix} \n",
        "$$"
      ]
    },
    {
      "cell_type": "code",
      "execution_count": null,
      "metadata": {
        "id": "AGHCrNbMo1nv",
        "vscode": {
          "languageId": "python"
        }
      },
      "outputs": [],
      "source": [
        "XX = np.vstack((dataX, np.ones_like(dataX))).T\n",
        "#print(XX)\n",
        "YY = dataY[:, np.newaxis]\n",
        "#print(YY)\n",
        "AA = XX.T @ XX\n",
        "bb = XX.T @ dataY\n",
        "print(AA)\n",
        "print(bb)"
      ]
    },
    {
      "cell_type": "markdown",
      "metadata": {
        "id": "95uIU6r1MC3x"
      },
      "source": [
        "ex09notebookA で説明しているように，最小二乗法による直線当てはめで得られる直線の傾きを $a$，切片を $b$ として，\n",
        "$$\n",
        "\\mathbf{x} = \\begin{pmatrix}\n",
        "a \\\\ b\n",
        "\\end{pmatrix}\n",
        "$$\n",
        "とおくと，$(a, b)$ は，連立方程式\n",
        "$$\n",
        "A\\mathbf{x} = \\mathbf{b}\n",
        "$$\n",
        "の解です． numpy には連立方程式の解を求める関数がありますので，それを使えば，$(a, b)$ を求めることができます．以下に新しいセルを作ってやってみましょう．\n",
        "\n",
        "方法1と方法2で得られた結果が一致すること，および，手計算で解いた結果と一致することを確認しましょう．"
      ]
    },
    {
      "cell_type": "markdown",
      "metadata": {
        "id": "myFcvuVIP12H"
      },
      "source": [
        "以下のセルを修正して実行すると，データの散布図に求めた直線を重ねて描くことができます．"
      ]
    },
    {
      "cell_type": "code",
      "execution_count": null,
      "metadata": {
        "id": "m5g7eOwHOQ4I",
        "vscode": {
          "languageId": "python"
        }
      },
      "outputs": [],
      "source": [
        "# a, b を修正しましょう\n",
        "a = -0.2\n",
        "b = 0.5\n",
        "fig, ax = plt.subplots()\n",
        "ax.scatter(dataX, dataY)\n",
        "ax.set_xlim(-1, 21)\n",
        "xr = np.array(ax.get_xlim())\n",
        "yr = a*xr+b\n",
        "ax.plot(xr, yr, color='red')\n",
        "plt.show()"
      ]
    },
    {
      "cell_type": "markdown",
      "metadata": {
        "id": "JxUc0jHjOBI7"
      },
      "source": [
        "(4) 以下のセルを実行すると，「ゴリゴリくん」のデータを変数 `dataX` と `dataY` に代入することができます．このセルに方法2で書いたコードをコピペして実行すると，このデータに対する直線当てはめの解も求められます．やってみましょう．"
      ]
    },
    {
      "cell_type": "code",
      "execution_count": null,
      "metadata": {
        "id": "hdv8L2CuQWB4",
        "vscode": {
          "languageId": "python"
        }
      },
      "outputs": [],
      "source": [
        "dfGori = pd.read_csv('https://www-tlab.math.ryukoku.ac.jp/~takataka/course/Data/ex08gorigori.csv')\n",
        "dataX = dfGori['気温']\n",
        "dataY = dfGori['アイス売上数']\n",
        "\n",
        "# ここを書いて，a, b に適切な値が代入されるようにしよう\n",
        "\n",
        "a = 2\n",
        "b = 10\n",
        "fig, ax = plt.subplots()\n",
        "ax.scatter(dataX, dataY)\n",
        "ax.set_xlim(-5, 40)\n",
        "ax.set_ylim(0, 130)\n",
        "xr = np.array(ax.get_xlim())\n",
        "yr = a*xr+b\n",
        "ax.plot(xr, yr, color='red')\n",
        "plt.show()"
      ]
    },
    {
      "cell_type": "markdown",
      "metadata": {
        "id": "k--F3OL6SJdT"
      },
      "source": [
        "(5) この notebook でわからないこと疑問に思うこと気になることを探して， takataka に質問しましょう．"
      ]
    },
    {
      "cell_type": "code",
      "execution_count": null,
      "metadata": {
        "id": "i-Idhzloib85",
        "vscode": {
          "languageId": "python"
        }
      },
      "outputs": [],
      "source": []
    }
  ],
  "metadata": {
    "colab": {
      "authorship_tag": "ABX9TyNMTJGyBNNjgwIrFKL9M1AU",
      "collapsed_sections": [],
      "include_colab_link": true,
      "name": "omake04.ipynb",
      "provenance": []
    },
    "kernelspec": {
      "display_name": "Python 3",
      "name": "python3"
    }
  },
  "nbformat": 4,
  "nbformat_minor": 0
}
