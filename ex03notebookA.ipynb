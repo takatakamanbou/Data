{
  "cells": [
    {
      "cell_type": "markdown",
      "metadata": {
        "colab_type": "text",
        "id": "view-in-github"
      },
      "source": [
        "<a href=\"https://colab.research.google.com/github/takatakamanbou/Data/blob/2021/ex03notebookA.ipynb\" target=\"_parent\"><img src=\"https://colab.research.google.com/assets/colab-badge.svg\" alt=\"Open In Colab\"/></a>"
      ]
    },
    {
      "cell_type": "markdown",
      "metadata": {
        "id": "2UzDNLmVS3po"
      },
      "source": [
        "# Data2021 ex03notebookA 度数分布とヒストグラム\n",
        "\n",
        "<img width=64 src=\"https://www-tlab.math.ryukoku.ac.jp/~takataka/course/Data/Data-logo03.png\"> https://www-tlab.math.ryukoku.ac.jp/wiki/?Data/2021"
      ]
    },
    {
      "cell_type": "markdown",
      "metadata": {
        "id": "_4-TmUdCd9FJ"
      },
      "source": [
        "## 準備\n",
        "\n",
        "Google Colab の Notebook では， Python というプログラミング言語のコードを動かして計算したりグラフを描いたりもできます．\n",
        "Python は，データ分析や機械学習・人工知能分野ではメジャーなプログラミング言語ですが，それを学ぶことはこの授業の守備範囲ではありません．ですので，以下の所々に現れるプログラムっぽい記述の内容は，理解できなくて構いません．\n",
        "\n",
        "以下，コードセルを上から順に実行していってね．"
      ]
    },
    {
      "cell_type": "code",
      "execution_count": null,
      "metadata": {
        "id": "QQ8M3640S1W7"
      },
      "outputs": [],
      "source": [
        "# 以下で使う各種モジュールを import\n",
        "import numpy as np\n",
        "import pandas as pd\n",
        "import matplotlib.pyplot as plt\n",
        "import seaborn\n",
        "\n",
        "seaborn.set()"
      ]
    },
    {
      "cell_type": "code",
      "execution_count": null,
      "metadata": {
        "id": "njR5BGnHS5rE"
      },
      "outputs": [],
      "source": [
        "# データを入手\n",
        "! wget -nc https://www-tlab.math.ryukoku.ac.jp/~takataka/course/Data/mpiS100.csv\n",
        "! wget -nc https://www-tlab.math.ryukoku.ac.jp/~takataka/course/Data/ex02_temp1980-2019Oct01.csv\n",
        "! wget -nc https://www-tlab.math.ryukoku.ac.jp/~takataka/course/Data/ex02_temp1980-2019Nov01.csv\n",
        "! wget -nc https://www-tlab.math.ryukoku.ac.jp/~takataka/course/Data/ex02_temp1980-2019Dec01.csv\n",
        "! wget -nc https://www-tlab.math.ryukoku.ac.jp/~takataka/course/Data/ex03_dist.npz\n",
        "! ls"
      ]
    },
    {
      "cell_type": "code",
      "execution_count": null,
      "metadata": {
        "id": "P2cFqiHb0T2I"
      },
      "outputs": [],
      "source": [
        "# 大津市の1980年から2019年までの気温データ\n",
        "\n",
        "# 10月1日の気温\n",
        "dfOtsu1001 = pd.read_csv('ex02_temp1980-2019Oct01.csv')\n",
        "dfOtsu1001.drop(dfOtsu1001.columns[0], axis=1, inplace=True)\n",
        "#dfOtsu1001\n",
        "\n",
        "# 11月1日の気温\n",
        "dfOtsu1101 = pd.read_csv('ex02_temp1980-2019Nov01.csv')\n",
        "dfOtsu1101.drop(dfOtsu1101.columns[0], axis=1, inplace=True)\n",
        "#dfOtsu1101\n",
        "\n",
        "# 12月1日の気温\n",
        "dfOtsu1201 = pd.read_csv('ex02_temp1980-2019Dec01.csv')\n",
        "dfOtsu1201.drop(dfOtsu1201.columns[0], axis=1, inplace=True)\n",
        "#dfOtsu1201\n",
        "\n",
        "# 人工データ\n",
        "ex03_dist = np.load('ex03_dist.npz')"
      ]
    },
    {
      "cell_type": "markdown",
      "metadata": {
        "id": "7H45eNIcd2xB"
      },
      "source": [
        "----\n",
        "## 度数分布とヒストグラム\n",
        "----\n",
        "\n"
      ]
    },
    {
      "cell_type": "markdown",
      "metadata": {
        "id": "rEIROHv4vfYG"
      },
      "source": [
        "----\n",
        "### 度数分布"
      ]
    },
    {
      "cell_type": "markdown",
      "metadata": {
        "id": "xnjb0HRJ3XfX"
      },
      "source": [
        "上記で読み込んだデータのうち，大津市の10月1日の日平均気温（1980年から2019年まで）を眺めてみましょう．"
      ]
    },
    {
      "cell_type": "code",
      "execution_count": null,
      "metadata": {
        "id": "JGogcj6Q5b5b"
      },
      "outputs": [],
      "source": [
        "# 大津市の10月1日の日平均気温を眺めてみる\n",
        "dfOtsu1001.loc[:, ['year','average']]"
      ]
    },
    {
      "cell_type": "markdown",
      "metadata": {
        "id": "7QRiiy016a-s"
      },
      "source": [
        "この例では，気温の値が40個あります．これらの個々の値のことは，「**標本**」や「**サンプル**」ということがあります（ここではその意味や理由については説明しないことにします）．\n",
        "標本の数（この例では40）は，「**標本数**」や「**サンプルサイズ**」ということがあります．\n",
        "\n",
        "\n",
        "この例ではサンプルサイズがさほど多くないので，がんばって全部の標本を観察して，「18度を下回ることはめずらしい」とか，「25度以上にはならなかった」とか，そういうことは読み取れます．\n",
        "でも，そのように目視だけで傾向をつかむのには限界があります．では，横軸を年，縦軸を気温の値にしてグラフを描いてみるとどうでしょう？"
      ]
    },
    {
      "cell_type": "code",
      "execution_count": null,
      "metadata": {
        "id": "ew5ktFqi2tdn"
      },
      "outputs": [],
      "source": [
        "# 大津市の10月1日の日平均気温の推移\n",
        "X = dfOtsu1001['year']\n",
        "Y = dfOtsu1001['average']\n",
        "fig, ax = plt.subplots(facecolor=\"white\", figsize=(8, 6))\n",
        "ax.plot(X, Y, '-o')\n",
        "ax.set_ylim(0, 30)\n",
        "plt.show()\n",
        "del X, Y"
      ]
    },
    {
      "cell_type": "markdown",
      "metadata": {
        "id": "WCGe0G_J3a0K"
      },
      "source": [
        "このようなグラフを描くと，さきほど確認したようなことがぱっと見てわかります．\n",
        "ただ，これでは「平均気温は何度くらいのことが多いのか」といった，標本の値の「散らばり方」についてはよくわかりません．\n",
        "\n",
        "値の「散らばり方」を知るための方法の一つは，「10度以上15度未満」，「15度以上20度未満」のように値の区間を決めて，それぞれの区間に含まれる値の数を数える，というものです．\n",
        "\n",
        "このような計算によって標本の値の散らばり方を表したものを「**度数分布**」といい，それを表にしたものを「**度数分布表**」と言います．"
      ]
    },
    {
      "cell_type": "markdown",
      "metadata": {
        "id": "Q0pJcTTkbsrb"
      },
      "source": [
        "以下は，気温2度刻みで区間を設定して度数分布を求めたものです．"
      ]
    },
    {
      "cell_type": "code",
      "execution_count": null,
      "metadata": {
        "id": "nHBj9_ev7_Wb"
      },
      "outputs": [],
      "source": [
        "# 度数分布を求める\n",
        "bins = [-np.inf, 16, 18, 20, 22, 24, 26, np.inf]\n",
        "cnt, _ = np.histogram(dfOtsu1001['average'], bins=bins)\n",
        "\n",
        "print(f'{bins[1]}度未満   {cnt[0]}')\n",
        "for i in range(1, len(bins)-2):\n",
        "    print(f'{bins[i]}度以上{bins[i+1]}度未満   {cnt[i]}')\n",
        "i = len(bins) - 2\n",
        "print(f'{bins[i]}度以上   {cnt[i]}')"
      ]
    },
    {
      "cell_type": "markdown",
      "metadata": {
        "id": "2SA-B-ztkin0"
      },
      "source": [
        "この場合，気温は7つの区間に分けて集計されています．\n",
        "これらの区間のことは，階級もしくはビン(bins)ということもあります．"
      ]
    },
    {
      "cell_type": "markdown",
      "metadata": {
        "id": "o1Zc3rXRvaqC"
      },
      "source": [
        "----\n",
        "### ヒストグラム"
      ]
    },
    {
      "cell_type": "markdown",
      "metadata": {
        "id": "WkvQvy00eJlo"
      },
      "source": [
        "度数分布は，多くの場合，「**ヒストグラム**」というグラフの形で表されます．\n",
        "上記の度数分布をヒストグラムにしてみると，こんなふうになります．"
      ]
    },
    {
      "cell_type": "code",
      "execution_count": null,
      "metadata": {
        "id": "kbNzgE-HSELR"
      },
      "outputs": [],
      "source": [
        "# ヒストグラム(1)\n",
        "dfOtsu1001['average'].hist(bins=[14, 16, 18, 20, 22, 24, 26, 28])"
      ]
    },
    {
      "cell_type": "markdown",
      "metadata": {
        "id": "yxCsJ6kGfMhj"
      },
      "source": [
        "このヒストグラムを見ると，「この40個の気温の値のうち14個が18度以上20度未満である」こと，すなわち，「この40年間で平均気温の値がこの区間に入っていたことが14回あった」ということがわかります．さらに，平均気温がこの区間に入ることが最も多かった，とか，18度を下回ったのは4回だけだった，というようなこともわかりますね．\n",
        "\n",
        "このように，度数分布を計算したりヒストグラムを描いたりすることで，標本の値の散らばり方を把握することができます．\n",
        "\n",
        "\n",
        "\n"
      ]
    },
    {
      "cell_type": "markdown",
      "metadata": {
        "id": "ZSY1HE6wvA3z"
      },
      "source": [
        "----\n",
        "### 区間の幅や数の設定には気をつけよう"
      ]
    },
    {
      "cell_type": "markdown",
      "metadata": {
        "id": "UFNPdOh7hVYb"
      },
      "source": [
        "ただし，度数分布・ヒストグラムを求める際には，区間の幅と数の設定の仕方に気をつけないといけません．\n",
        "\n",
        "区間の幅をあまり大きくしすぎ（区間の数を少なくしすぎ）ても，小さくしすぎ（数を増やしすぎ）ても，値の散らばり方をとらえることが難しくなってしまいます．"
      ]
    },
    {
      "cell_type": "code",
      "execution_count": null,
      "metadata": {
        "id": "Dxi2VIq_eilI"
      },
      "outputs": [],
      "source": [
        "# 6度刻みのヒストグラム\n",
        "dfOtsu1001['average'].hist(bins=[16, 22, 28])"
      ]
    },
    {
      "cell_type": "code",
      "execution_count": null,
      "metadata": {
        "id": "Gv8Gub80hstG"
      },
      "outputs": [],
      "source": [
        "# 0.2度刻みのヒストグラム\n",
        "dfOtsu1001['average'].hist(bins=np.arange(16, 26, 0.2))"
      ]
    },
    {
      "cell_type": "markdown",
      "metadata": {
        "id": "-2UYC8bMekJQ"
      },
      "source": [
        "「じゃあ区間の幅や数はどうやって決めたらいいの？」となるでしょうが，こうすれば正しいと言えるような決め方というのはありません．一つの方法として，「サンプルサイズを $N$ とするとき，区間の数は $\\sqrt{N}$ に近い数とする」というものが知られています．$N=100$ なら区間数は $10$， $N = 10000$ なら $100$ ですね．\n",
        "\n",
        "興味のあるひとは，[Wikipedia のヒストグラムの項](https://ja.wikipedia.org/wiki/%E3%83%92%E3%82%B9%E3%83%88%E3%82%B0%E3%83%A9%E3%83%A0) もどうぞ．\n"
      ]
    },
    {
      "cell_type": "markdown",
      "metadata": {
        "id": "umkCDbWRmvCJ"
      },
      "source": [
        "次に，さきほどの10月1日の気温と同様にして，11月1日と12月1日の平均気温のヒストグラムも描いてみます．"
      ]
    },
    {
      "cell_type": "code",
      "execution_count": null,
      "metadata": {
        "id": "_hBFNE0_oZXF"
      },
      "outputs": [],
      "source": [
        "fig, ax = plt.subplots(3, 1, facecolor=\"white\", figsize=(8, 6))\n",
        "ax[0].hist(dfOtsu1001['average'], bins=[14, 16, 18, 20, 22, 24, 26, 28])\n",
        "ax[1].hist(dfOtsu1101['average'], bins=[6, 8, 10, 12, 14, 16, 18, 20])\n",
        "ax[2].hist(dfOtsu1201['average'], bins=[2, 4, 6, 8, 10, 12, 14, 16])\n",
        "plt.show()"
      ]
    },
    {
      "cell_type": "markdown",
      "metadata": {
        "id": "nNHb0QjeqDnm"
      },
      "source": [
        "このヒストグラムたち，それぞれの月の平均気温の散らばり方だけを見るにはいいかもしれませんが，10月1日，11月1日，12月1日の間で比較したいと思ったら，横軸の範囲が違って困りますね．\n",
        "\n",
        "横軸の範囲と区間の設定をそろえて，さらに縦軸の範囲も揃えてみましょう．"
      ]
    },
    {
      "cell_type": "code",
      "execution_count": null,
      "metadata": {
        "id": "KaLot0DMm45h"
      },
      "outputs": [],
      "source": [
        "# 上から順に，10月1日，11月1日，12月1日の平均気温，\n",
        "fig, ax = plt.subplots(3, 1, facecolor=\"white\", figsize=(8, 6))\n",
        "bins = np.arange(2, 28, 2)\n",
        "ax[0].hist(dfOtsu1001['average'], bins=bins)\n",
        "ax[0].set_ylim((0, 17))\n",
        "ax[0].set_xticks(bins)\n",
        "ax[1].hist(dfOtsu1101['average'], bins=bins)\n",
        "ax[1].set_ylim((0, 17))\n",
        "ax[1].set_xticks(bins)\n",
        "ax[2].hist(dfOtsu1201['average'], bins=bins)\n",
        "ax[2].set_ylim((0, 17))\n",
        "ax[2].set_xticks(bins)\n",
        "plt.show()"
      ]
    },
    {
      "cell_type": "markdown",
      "metadata": {
        "id": "XHiwz7-msoYs"
      },
      "source": [
        "このように，分析・考察の仕方によっては，ヒストグラムを描く範囲についても注意した方がよいでしょう．"
      ]
    },
    {
      "cell_type": "markdown",
      "metadata": {
        "id": "zVGWHVc6vSZl"
      },
      "source": [
        "----\n",
        "### 相対度数"
      ]
    },
    {
      "cell_type": "markdown",
      "metadata": {
        "id": "FPNzDHMLtK8_"
      },
      "source": [
        "度数分布は，区間/階級/ビンごとの値の数（度数）を単純に数えたものですが，場合によっては，その数をサンプルサイズで割って，各区間ごとの度数のサンプルサイズに対する割合で表すことがあります．\n",
        "\n",
        "割合に換算した度数を「**相対度数**」といい，相対度数で表した度数分布を「**相対度数分布**」といいます．\n",
        "\n",
        "サンプルサイズがいくつであるかをあまり気にしないで済むので，サンプルサイズの異なるデータの間で度数分布を比較する場合などに役立ちます．"
      ]
    },
    {
      "cell_type": "markdown",
      "metadata": {
        "id": "xO7Hl1-rNXQm"
      },
      "source": [
        "以下は，「ほげ学部」の学生と「ふが学部」の学生が同じ試験を受けたとして，その点数のデータの度数分布を計算する例です．"
      ]
    },
    {
      "cell_type": "code",
      "execution_count": null,
      "metadata": {
        "id": "HA0riURP5eZE"
      },
      "outputs": [],
      "source": [
        "X_hoge = ex03_dist['dat1']  # 「ほげ学部」の学生の点数\n",
        "print(f'ほげ学部のデータのサンプルサイズは{len(X_hoge)}')\n",
        "X_fuga = ex03_dist['dat2']  # 「ふが学部」の学生の点数\n",
        "print(f'ふが学部のデータのサンプルサイズは{len(X_fuga)}')"
      ]
    },
    {
      "cell_type": "markdown",
      "metadata": {
        "id": "jvVtcwvXNmrt"
      },
      "source": [
        "普通に度数分布を求めてみると..."
      ]
    },
    {
      "cell_type": "code",
      "execution_count": null,
      "metadata": {
        "id": "w4z8b9pOItq1"
      },
      "outputs": [],
      "source": [
        "bins = np.arange(0, 101, 20)\n",
        "\n",
        "print(f'##### ほげ学部の学生の点数の度数分布 (N={len(X_hoge)}) #####')\n",
        "cnt, _ = np.histogram(X_hoge, bins=bins)\n",
        "print(f'{bins[1]}未満   {cnt[0]}')\n",
        "for i in range(len(bins)-2):\n",
        "    print(f'{bins[i]}以上{bins[i+1]}未満   {cnt[i]}')\n",
        "i = len(bins) - 2\n",
        "print(f'{bins[i]}以上   {cnt[i]}')\n",
        "\n",
        "print()\n",
        "print(f'##### ふが学部の学生の点数の度数分布 (N={len(X_fuga)}) #####')\n",
        "cnt, _ = np.histogram(X_fuga, bins=bins)\n",
        "print(f'{bins[1]}未満   {cnt[0]}')\n",
        "for i in range(len(bins)-2):\n",
        "    print(f'{bins[i]}以上{bins[i+1]}未満   {cnt[i]}')\n",
        "i = len(bins) - 2\n",
        "print(f'{bins[i]}以上   {cnt[i]}')"
      ]
    },
    {
      "cell_type": "markdown",
      "metadata": {
        "id": "Hj1VkFXsNrm4"
      },
      "source": [
        "こんなん．ちょっと比較しづらいですね．\n",
        "\n",
        "相対度数分布にするとこんなん．"
      ]
    },
    {
      "cell_type": "code",
      "execution_count": null,
      "metadata": {
        "id": "uzjtANQsKC4a"
      },
      "outputs": [],
      "source": [
        "bins = np.arange(0, 101, 20)\n",
        "\n",
        "N = len(X_hoge)\n",
        "print(f'##### ほげ学部の学生の点数の相対度数分布 (N={N}) #####')\n",
        "cnt, _ = np.histogram(X_hoge, bins=bins)\n",
        "rate = cnt / N\n",
        "print(f'{bins[1]}未満   {rate[0]}')\n",
        "for i in range(len(bins)-2):\n",
        "    print(f'{bins[i]}以上{bins[i+1]}未満   {rate[i]}')\n",
        "i = len(bins) - 2\n",
        "print(f'{bins[i]}以上   {rate[i]}')\n",
        "\n",
        "print()\n",
        "N = len(X_fuga)\n",
        "print(f'##### ふが学部の学生の点数の相対度数分布 (N={N}) #####')\n",
        "cnt, _ = np.histogram(X_fuga, bins=bins)\n",
        "rate = cnt / N\n",
        "print(f'{bins[1]}未満   {rate[0]}')\n",
        "for i in range(len(bins)-2):\n",
        "    print(f'{bins[i]}以上{bins[i+1]}未満   {rate[i]}')\n",
        "i = len(bins) - 2\n",
        "print(f'{bins[i]}以上   {rate[i]}')"
      ]
    },
    {
      "cell_type": "markdown",
      "metadata": {
        "id": "-uZcwKPzN9q8"
      },
      "source": [
        "点数の散らばり方を比較しやすくなりました．\n",
        "\n",
        "ここでは省略しますが，相対度数に基づいてヒストグラムを描くことももちろんできます．"
      ]
    },
    {
      "cell_type": "markdown",
      "metadata": {
        "id": "qR66ItHhvnoN"
      },
      "source": [
        "----\n",
        "### 分布の形"
      ]
    },
    {
      "cell_type": "markdown",
      "metadata": {
        "id": "Jydc7-bJOZqo"
      },
      "source": [
        "これまで見てきたヒストグラムは，だいたいみんな一つの山のような形をしていました．\n",
        "これはたまたまのことです．どんなヒストグラムもみんなそうなるというわけでは全くありません．"
      ]
    },
    {
      "cell_type": "markdown",
      "metadata": {
        "id": "KzJOz22tPyk2"
      },
      "source": [
        "以下は，ある動物の体長（単位は[cm]）を測定したデータのヒストグラムです．"
      ]
    },
    {
      "cell_type": "code",
      "execution_count": null,
      "metadata": {
        "id": "bCLWyqLgO0xG"
      },
      "outputs": [],
      "source": [
        "X3 = ex03_dist['dat3']\n",
        "fig, ax = plt.subplots(facecolor=\"white\", figsize=(8, 6))\n",
        "ax.hist(X3, bins=np.arange(0, 80, 3))\n",
        "ax.set_xlim(10, 70)\n",
        "plt.show()"
      ]
    },
    {
      "cell_type": "markdown",
      "metadata": {
        "id": "xAssgyiBPWk9"
      },
      "source": [
        "山が二つあるような分布になっています．\n",
        "値がこのように散らばっているということは，この動物は，体長が小さいものと大きいものと，大きく二つのグループに分類できるのかもしれません．\n",
        "このデータからは，小さい方が数が多いこともわかりますね．\n",
        "\n",
        "このように，ヒストグラムの分布の形から，データの傾向をとらえられる場合があります（残念ながらこのデータは説明のために作った偽物のデータです）．"
      ]
    },
    {
      "cell_type": "code",
      "execution_count": null,
      "metadata": {
        "id": "f-jUZFOvPJYz"
      },
      "outputs": [],
      "source": []
    }
  ],
  "metadata": {
    "colab": {
      "authorship_tag": "ABX9TyMMv6ceImuD3/OhEOSwkscd",
      "collapsed_sections": [],
      "include_colab_link": true,
      "name": "ex03notebookA.ipynb",
      "provenance": []
    },
    "kernelspec": {
      "display_name": "Python 3.9.12 64-bit",
      "language": "python",
      "name": "python3"
    },
    "language_info": {
      "name": "python",
      "version": "3.9.12"
    },
    "vscode": {
      "interpreter": {
        "hash": "b0fa6594d8f4cbf19f97940f81e996739fb7646882a419484c72d19e05852a7e"
      }
    }
  },
  "nbformat": 4,
  "nbformat_minor": 0
}
