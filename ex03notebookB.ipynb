{
  "nbformat": 4,
  "nbformat_minor": 0,
  "metadata": {
    "colab": {
      "provenance": [],
      "toc_visible": true,
      "authorship_tag": "ABX9TyOQnNrQkTe52PkOsFbu67MO",
      "include_colab_link": true
    },
    "kernelspec": {
      "name": "python3",
      "display_name": "Python 3"
    }
  },
  "cells": [
    {
      "cell_type": "markdown",
      "metadata": {
        "id": "view-in-github",
        "colab_type": "text"
      },
      "source": [
        "<a href=\"https://colab.research.google.com/github/takatakamanbou/Data/blob/2024/ex03notebookB.ipynb\" target=\"_parent\"><img src=\"https://colab.research.google.com/assets/colab-badge.svg\" alt=\"Open In Colab\"/></a>"
      ]
    },
    {
      "cell_type": "markdown",
      "metadata": {
        "id": "2UzDNLmVS3po"
      },
      "source": [
        "# Data2024 ex03notebookB  データの代表値(1)\n",
        "\n",
        "<img width=64 src=\"https://www-tlab.math.ryukoku.ac.jp/~takataka/course/Data/Data-logo04.png\"> https://www-tlab.math.ryukoku.ac.jp/wiki/?Data/2024"
      ]
    },
    {
      "cell_type": "markdown",
      "metadata": {
        "id": "_4-TmUdCd9FJ"
      },
      "source": [
        "## 準備\n",
        "\n",
        "以下，コードセルを上から順に実行していってね．"
      ]
    },
    {
      "cell_type": "code",
      "metadata": {
        "id": "QQ8M3640S1W7"
      },
      "source": [
        "# 準備あれこれ\n",
        "import numpy as np\n",
        "import matplotlib.pyplot as plt\n",
        "import pandas as pd\n",
        "import seaborn\n",
        "seaborn.set()"
      ],
      "execution_count": null,
      "outputs": []
    },
    {
      "cell_type": "code",
      "metadata": {
        "id": "If5pCB6bc3QF"
      },
      "source": [
        "# データを読み込む\n",
        "df = pd.read_csv('https://www-tlab.math.ryukoku.ac.jp/~takataka/course/Data/ex02data.csv', header=2)\n",
        "#df"
      ],
      "execution_count": null,
      "outputs": []
    },
    {
      "cell_type": "markdown",
      "metadata": {
        "id": "1f5wPFfKqdST"
      },
      "source": [
        "----\n",
        "## データの代表値 その(1)\n",
        "----\n",
        "\n",
        "これまでは，データの傾向・標本の値の散らばり方を把握する方法として，「度数分布」を求めたり「ヒストグラム」を描いたりしてきました．\n",
        "これらはデータを分析するために有効ですが，人間が解釈する際にあいまいな判断が生じ得ます．\n",
        "\n",
        "ここからは，データの性質を少数の数値でとらえる方法を考えます．数値化することにより，あいまいさを減らし，より客観的に分析できるようになります．\n",
        "このような，データの傾向・標本の値の散らばり方を表す数値を，**代表値** といいます．\n",
        "\n",
        "おなじみの **平均**，**分散**，**標準偏差**等は，代表値の例です．\n",
        "\n",
        "\n"
      ]
    },
    {
      "cell_type": "markdown",
      "metadata": {
        "id": "gTuf-qRyRVSp"
      },
      "source": [
        "----\n",
        "### 和の記号に関する復習\n",
        "\n",
        "和の記号 $\\sum$ の扱いについて復習．解答は別の場所にあります．"
      ]
    },
    {
      "cell_type": "markdown",
      "metadata": {
        "id": "SyIsZEKgNvPY"
      },
      "source": [
        "以下では，\n",
        "\n",
        "|$x_1$|$x_2$|$x_3$|$x_4$|$x_5$|$x_6$|$x_7$|$x_8$|\n",
        "|----|----|----|----|----|----|----|----|\n",
        "|10|20|30|40|50|60|70|80|\n",
        "\n",
        "とします．\n"
      ]
    },
    {
      "cell_type": "markdown",
      "metadata": {
        "id": "BHfbo_H_QBcy"
      },
      "source": [
        "\n",
        "**[Q0a]**  次の値を求めなさい．\n",
        "\n",
        "$$ \\sum_{n=1}^{4}x_n \\qquad \\sum_{n=5}^{8}x_n $$\n",
        "\n",
        "\n"
      ]
    },
    {
      "cell_type": "markdown",
      "metadata": {
        "id": "FZ0GIlTPQKSj"
      },
      "source": [
        "**[Q0b]**  次の値を求めなさい．\n",
        "\n",
        "$$\n",
        "\\sum_{n=1}^{3} x_n^2\n",
        "$$\n",
        "\n",
        "\n",
        "\n",
        "\n",
        "\n"
      ]
    },
    {
      "cell_type": "markdown",
      "metadata": {
        "id": "IsK9UCUmRDlw"
      },
      "source": [
        "**[Q0c]** 次の式の値を求めなさい．\n",
        "\n",
        "$$\n",
        "\\sum_{n=1}^{4} (x_n + \\pi)\n",
        "$$\n",
        "\n"
      ]
    },
    {
      "cell_type": "markdown",
      "metadata": {
        "id": "iD5ueLAWSSSj"
      },
      "source": [
        "**[Q0d]** 次の式の値を求めなさい．\n",
        "\n",
        "$$\n",
        "\\sum_{n=1}^{4} 2x_n\n",
        "$$\n",
        "\n",
        "\n"
      ]
    },
    {
      "cell_type": "markdown",
      "metadata": {
        "id": "FiE3jQXVRAbA"
      },
      "source": [
        "\n",
        "**[Q0e]**  $a, b$ を定数として，次の式の値を求めなさい．\n",
        "\n",
        "$$\n",
        "\\sum_{n=1}^{4} (ax_n + b)\n",
        "$$\n",
        "\n"
      ]
    },
    {
      "cell_type": "markdown",
      "metadata": {
        "id": "rEIROHv4vfYG"
      },
      "source": [
        "----\n",
        "### 平均の定義"
      ]
    },
    {
      "cell_type": "markdown",
      "metadata": {
        "id": "xnjb0HRJ3XfX"
      },
      "source": [
        "$N$個の標本 $x_{1}, x_{2}, \\dots , x_{N}$ が与えられたとします．その **平均** を $\\bar{x}$ と表すことにすると，$\\bar{x}$ は次式で定義されます．\n",
        "\n",
        "$$ \\bar{x} = \\frac{1}{N}\\sum_{n=1}^{N} x_n $$"
      ]
    },
    {
      "cell_type": "markdown",
      "metadata": {
        "id": "WyKEvCFmaTWH"
      },
      "source": [
        "**［Q1］** 次のデータの平均を求めなさい．単位は [cm] とする．\n",
        "\n",
        "|$x_1$|$x_2$|$x_3$|$x_4$|\n",
        "|----|----|----|----|\n",
        "|6|9|10|15|"
      ]
    },
    {
      "cell_type": "markdown",
      "metadata": {
        "id": "x1lQA_dnafcb"
      },
      "source": [
        "**［A1］**\n",
        "$$ \\frac{1}{4} \\sum_{n=1}^{4} x_n  = \\frac{1}{4}(6+9+10+15) = \\frac{40}{4} = 10.0$$\n",
        "より， $10.0$ [cm]．\n",
        "\n",
        "\n"
      ]
    },
    {
      "cell_type": "markdown",
      "metadata": {
        "id": "X3U9te38TTzH"
      },
      "source": [
        "**［Q2］** 次のデータの平均を求めなさい．\n",
        "\n",
        "|$x_1$|$x_2$|$x_3$|$x_4$|$x_5$|$x_6$|$x_7$|$x_8$|$x_9$|$x_{10}$|\n",
        "|----|----|----|----|----|----|----|----|----|----|\n",
        "|1|2|3|4|5|6|7|8|9|10|\n"
      ]
    },
    {
      "cell_type": "markdown",
      "metadata": {
        "id": "147aRKctUhd4"
      },
      "source": [
        "**［A2］**\n",
        "\n",
        "$$ \\frac{1}{10} \\sum_{n=1}^{10} x_n  = \\frac{1}{10}(1+2+\\dots + 10) = \\frac{55}{10} = 5.5$$\n",
        "\n",
        "\n"
      ]
    },
    {
      "cell_type": "code",
      "metadata": {
        "id": "JGogcj6Q5b5b"
      },
      "source": [
        "# いちおうコンピュータにも計算させてみる...\n",
        "X = np.array([6, 9, 10, 15])\n",
        "print(X)\n",
        "print(np.mean(X))\n",
        "print()\n",
        "X = np.array([1, 2, 3, 4, 5, 6, 7, 8, 9, 10])\n",
        "print(X)\n",
        "print(np.mean(X))"
      ],
      "execution_count": null,
      "outputs": []
    },
    {
      "cell_type": "markdown",
      "metadata": {
        "id": "2Qgn_-JXi24Q"
      },
      "source": [
        "平均は，データの代表値の中でも最もよく用いられるものである．\n",
        "データの値がどんな大きさであるかを一つの実数値で表す．データに大きい値が多ければ平均の値も大きくなり，小さい値が多ければ平均も小さくなる．"
      ]
    },
    {
      "cell_type": "markdown",
      "metadata": {
        "id": "BZ4hs5xUl7DM"
      },
      "source": [
        "----\n",
        "### 平均の性質\n"
      ]
    },
    {
      "cell_type": "markdown",
      "metadata": {
        "id": "ocFSYDNrowTZ"
      },
      "source": [
        "以前の課題で扱ったデータ（注）で，平均とデータの散らばり方の関係を見てみましょう．\n",
        "\n",
        "**※ 注意: この notebook に登場するデータは，動画の中で使っているものと少し違っている場合があります．そのため，平均値などが違っていることがあります．**\n",
        "\n",
        "まずは平均を算出します．"
      ]
    },
    {
      "cell_type": "code",
      "metadata": {
        "id": "HbdPv8pYmTSG"
      },
      "source": [
        "# 以前の課題で扱ったデータを X1, X2, X3 とする\n",
        "X1 = df['小テスト1']\n",
        "X2 = df['小テスト1（+2.5）']\n",
        "X3 = df['小テスト2']\n",
        "\n",
        "# それぞれの平均を求めてみる\n",
        "print(f'X1の平均: {np.mean(X1):.3f}')\n",
        "print(f'X2の平均: {np.mean(X2):.3f}')\n",
        "print(f'X3の平均: {np.mean(X3):.3f}')"
      ],
      "execution_count": null,
      "outputs": []
    },
    {
      "cell_type": "markdown",
      "metadata": {
        "id": "jA67hVnBo_n2"
      },
      "source": [
        "`X1` と `X3` は平均が等しく，`X2` はそれらより大きな平均値を持っています．\n",
        "これらのヒストグラムは..."
      ]
    },
    {
      "cell_type": "code",
      "metadata": {
        "id": "C4zxWIbloN1E"
      },
      "source": [
        "# X1, X2, X3 のヒストグラム\n",
        "fig, ax = plt.subplots(3, 1, facecolor=\"white\", figsize=(8, 9))\n",
        "ax[0].hist(X1, bins=np.arange(0, 10, 0.5), label='X1')\n",
        "ax[0].legend()\n",
        "ax[1].hist(X2, bins=np.arange(0, 10, 0.5), label='X2')\n",
        "ax[1].legend()\n",
        "ax[2].hist(X3, bins=np.arange(0, 10, 0.5), label='X3')\n",
        "ax[2].legend()\n",
        "plt.show()"
      ],
      "execution_count": null,
      "outputs": []
    },
    {
      "cell_type": "markdown",
      "metadata": {
        "id": "CXT1RAbBpNXi"
      },
      "source": [
        "こんなんです． `X2` は平均が他より大きかったことに対応して，データの中により大きな値を含んでいます．\n",
        "一方，`X1` と `X3` は，平均は等しいですが，データの散らばり方は全く異なっています．\n",
        "\n",
        "特に，`X3` については，平均はおよそ 3.5 ですが，平均に近い値の度数は大きくない（むしろ小さい）ことに注意してください．\n",
        "\n",
        "平均というのは有用な代表値ですが，それだけではデータの傾向を把握しきれないことがわかりますね．"
      ]
    },
    {
      "cell_type": "markdown",
      "metadata": {
        "id": "5GKv2bT5WUiW"
      },
      "source": [
        "----\n",
        "### 分散の定義"
      ]
    },
    {
      "cell_type": "markdown",
      "metadata": {
        "id": "T0Yc6hb1Woct"
      },
      "source": [
        "$N$個の標本 $x_{1}, x_{2}, \\dots , x_{N}$ が与えられたとします．このとき，これらの標本の **分散** は，「それぞれの標本値から平均を引いて2乗したものの平均」と定義します．\n",
        "\n",
        "これらの標本の平均を $\\bar{x}$ とおくと，「標本値 $x_n$ から平均を引いたもの」は\n",
        "$ x_n - \\bar{x} $ と表わせます．したがって，その2乗は $( x_n - \\bar{x})^2$ です．この値は $n = 1$ から $n = N$ まで全部で $N$ 個あるので，その平均は\n",
        "\n",
        "$$ \\frac{1}{N}\\sum_{n=1}^{N} ( x_n - \\bar{x})^2 $$\n",
        "\n",
        "という式で表されます．\n",
        "\n",
        "平均は $\\bar{x}$ という記号で表しましたが，ここでは分散を $s^2$ と表すことにします．「$s^2 = (\\mbox{分散})$」　ですので，\n",
        "$$\n",
        "s^2 = \\frac{1}{N}\\sum_{n=1}^{N} ( x_n - \\bar{x})^2 $$\n",
        "ということです．"
      ]
    },
    {
      "cell_type": "markdown",
      "metadata": {
        "id": "SFloGorQbapb"
      },
      "source": [
        "**［Q3］**  Q1 のデータの分散を求めなさい．\n",
        "\n"
      ]
    },
    {
      "cell_type": "markdown",
      "metadata": {
        "id": "4NsqHH2EbiT0"
      },
      "source": [
        "**[A3]**\n",
        "\n",
        "$$\\begin{aligned}\n",
        " \\frac{1}{4} \\sum_{n=1}^{4} (x_n - \\bar{x})^2 &= \\frac{1}{4}\\left((6 - 10)^2 + (9-10)^2+(10-10)^2+(15-10)^2\\right) \\\\\n",
        " &= \\frac{1}{4}(16+1+0+25) = 10.5\n",
        " \\end{aligned}\n",
        " $$\n",
        "\n",
        " A1 で求めた平均は，[cm]単位の値を単純に足し合わせる計算で求まるため，単位は元の標本と同じになります．\n",
        " ですが，分散は値を二乗して足し合わせているため，元の標本とは単位が合いません．[cm]をつけると間違いになります．この例で単位を書くなら [cm${}^2$] ということになります．"
      ]
    },
    {
      "cell_type": "code",
      "metadata": {
        "id": "0PgB-Fb9hbFH"
      },
      "source": [
        "# いちおうコンピュータにも計算させてみる...\n",
        "X = np.array([6, 9, 10, 15])\n",
        "print(X)\n",
        "print(np.var(X))"
      ],
      "execution_count": null,
      "outputs": []
    },
    {
      "cell_type": "markdown",
      "metadata": {
        "id": "5JtdEH45fwmv"
      },
      "source": [
        "----\n",
        "### 分散の性質\n",
        "\n",
        "分散の定義に出てくる $(x_n - \\bar{x})^2$ という値は，「標本値 $x_n$ が平均 $\\bar{x}$ からどれだけずれているか」を表す量 $(x_n - \\bar{x})$ の2乗です．\n",
        "この値は，$x_n$ が $\\bar{x}$ から大きくずれているとき，つまり， $x_n$ が $\\bar{x}$ よりずっと大きい（$x_n - \\bar{x}$ が正で大きい）ときも，$x_n$ が $\\bar{x}$ よりずっと小さい（$x_n - \\bar{x}$ が負で小さい=絶対値が大きい）ときも，大きな値になります（2乗してるから）．\n",
        "\n",
        "分散は，そのような値の平均ですので，標本値の平均からのずれの大きさを表す量となります．\n",
        "\n",
        "データの散らばりが大きいと分散は大きくなり，散らばりが小さいと分散は小さくなります．定義から明らかですが，負の値にはなりません．"
      ]
    },
    {
      "cell_type": "markdown",
      "metadata": {
        "id": "vhBIXiWnhpoI"
      },
      "source": [
        "**［Q4］** 次のデータの平均と分散を求めなさい．\n",
        "\n",
        "|$x_1$|$x_2$|$x_3$|$x_4$|\n",
        "|----|----|----|----|\n",
        "|9.9|9.8|10.3|10|"
      ]
    },
    {
      "cell_type": "markdown",
      "metadata": {
        "id": "6-rfi-cyiGGj"
      },
      "source": [
        "**[A4]** 計算式書くのさぼってコンピュータに計算させて済ませます．\n"
      ]
    },
    {
      "cell_type": "code",
      "metadata": {
        "id": "AO7jUn60iNnA"
      },
      "source": [
        "X = np.array([9.9, 9.8, 10.3, 10.0])\n",
        "print('平均:', np.mean(X))\n",
        "print('分散:', np.var(X))"
      ],
      "execution_count": null,
      "outputs": []
    },
    {
      "cell_type": "markdown",
      "metadata": {
        "id": "Nj33UsH8ik5-"
      },
      "source": [
        "このデータは Q1, Q3 のデータと平均は同じですが，標本値の散らばりが小さいため，分散の値がずっと小さくなっているのがわかりますね．分散の値は，正確には $0.035$ ですが，計算の誤差が出てしまっています．"
      ]
    },
    {
      "cell_type": "markdown",
      "metadata": {
        "id": "YgVK0Fxqj-LL"
      },
      "source": [
        "**[Q5]**  分散が $0$ となるのはどんなときか．"
      ]
    },
    {
      "cell_type": "markdown",
      "metadata": {
        "id": "lbm-_VNkkC16"
      },
      "source": [
        "**[A5]** 分散が $0$ になるということは，すべての標本値について $(x_n - \\bar{x})^2 = 0$ とならないといけません．\n",
        "このとき，$x_n = \\bar{x}$ です．\n",
        "つまり，すべての標本値が等しいと分散は $0$ になり，分散が $0$ ならすべての標本値が等しくなります．"
      ]
    },
    {
      "cell_type": "code",
      "metadata": {
        "id": "V8xo5Zyylnwb"
      },
      "source": [
        "X = np.array([10, 10, 10, 10])\n",
        "print('平均:', np.mean(X))\n",
        "print('分散:', np.var(X))"
      ],
      "execution_count": null,
      "outputs": []
    },
    {
      "cell_type": "markdown",
      "metadata": {
        "id": "ydgrSXiLqIzQ"
      },
      "source": [
        "もう一度，以前の課題で扱ったデータで，平均とデータの散らばり方の関係を見てみましょう．\n",
        "\n",
        "平均に加えて分散も算出します．"
      ]
    },
    {
      "cell_type": "code",
      "metadata": {
        "id": "w8J10mthqDgl"
      },
      "source": [
        "# 以前の課題で扱ったデータを X1, X2, X3 とする\n",
        "X1 = df['小テスト1']\n",
        "X2 = df['小テスト1（+2.5）']\n",
        "X3 = df['小テスト2']\n",
        "\n",
        "# それぞれの平均を求めてみる\n",
        "print(f'X1の平均: {np.mean(X1):.3f}   X1の分散: {np.var(X1):.3f}')\n",
        "print(f'X2の平均: {np.mean(X2):.3f}   X2の分散: {np.var(X2):.3f}')\n",
        "print(f'X3の平均: {np.mean(X3):.3f}   X3の分散: {np.var(X3):.3f}')"
      ],
      "execution_count": null,
      "outputs": []
    },
    {
      "cell_type": "markdown",
      "metadata": {
        "id": "b8OUlJT_qbtc"
      },
      "source": [
        "分散の方は，`X1` と `X2` で等しく，`X3` の分散はそれらより大きくなっています．\n",
        "もっかいヒストグラムを..."
      ]
    },
    {
      "cell_type": "code",
      "metadata": {
        "id": "oD0pGl5gqcay"
      },
      "source": [
        "# X1, X2, X3 のヒストグラム\n",
        "fig, ax = plt.subplots(3, 1, facecolor=\"white\", figsize=(8, 9))\n",
        "ax[0].hist(X1, bins=np.arange(0, 10, 1), label='X1')\n",
        "ax[0].legend()\n",
        "ax[1].hist(X2, bins=np.arange(0, 10, 1), label='X2')\n",
        "ax[1].legend()\n",
        "ax[2].hist(X3, bins=np.arange(0, 10, 1), label='X3')\n",
        "ax[2].legend()\n",
        "plt.show()"
      ],
      "execution_count": null,
      "outputs": []
    },
    {
      "cell_type": "markdown",
      "metadata": {
        "id": "Zn-vYCnsq4po"
      },
      "source": [
        "見ての通り，分散の大きさが表す通り，`X1` と `X2` の値の散らばり方はよく似ており，`X3`の散らばり方はそれらより大きくなっています．"
      ]
    },
    {
      "cell_type": "markdown",
      "metadata": {
        "id": "FCc2ntFzsI_Q"
      },
      "source": [
        "----\n",
        "### 標準偏差の定義\n",
        "\n",
        "$N$個の標本 $x_{1}, x_{2}, \\dots , x_{N}$ が与えられたとします．このとき，これらの標本の **標準偏差** は，「分散の平方根」と定義されます．\n",
        "\n",
        "平均が $\\bar{x}$，分散が $s^2$ と表される場合，\n",
        "$$\n",
        "s^2 = \\frac{1}{N}\\sum_{n=1}^{N} ( x_n - \\bar{x})^2\n",
        "$$\n",
        "でしたから，このときの標準偏差は\n",
        "$$\n",
        "\\sqrt{s^2} = \\sqrt{\\frac{1}{N}\\sum_{n=1}^{N} ( x_n - \\bar{x})^2}\n",
        "$$\n",
        "と表せます．ただ平方根付けただけ...．"
      ]
    },
    {
      "cell_type": "markdown",
      "metadata": {
        "id": "3iD-yfQDtRrJ"
      },
      "source": [
        "**［Q6］**  Q1 のデータ（単位は[cm]）の標準偏差を求めなさい．\n",
        "\n",
        "|$x_1$|$x_2$|$x_3$|$x_4$|\n",
        "|----|----|----|----|\n",
        "|6|9|10|15|\n"
      ]
    },
    {
      "cell_type": "markdown",
      "metadata": {
        "id": "fdYnzmIMtZVH"
      },
      "source": [
        "**[A6]** A3 より分散が $10.5$ なので，標準偏差は\n",
        "$$\n",
        "\\sqrt{10.5} \\approx 3.24 \\quad\\rm{[cm]}\n",
        "$$\n",
        "となります（「$x\\approx y$」は，$x$ と $y$ が「近似的に等しい」ことを表します）．\n",
        "\n",
        "分散の平方根の値であることから，標準偏差は元の標本値と同じ単位を持ちます．そのため，データの散らばり方を表す際には，分散よりも標準偏差を用いた方が，直感的にわかりやすいでしょう．"
      ]
    },
    {
      "cell_type": "markdown",
      "metadata": {
        "id": "IiwSOWxivznw"
      },
      "source": [
        "----\n",
        "$N$ で割るか $N-1$ で割るか"
      ]
    },
    {
      "cell_type": "markdown",
      "metadata": {
        "id": "8GVDzyVfv4St"
      },
      "source": [
        "データ分析や確率・統計の教科書等を見ていると，分散の式が\n",
        "$$\n",
        "\\frac{1}{N-1}\\sum_{n=1}^{N} ( x_n - \\bar{x})^2\n",
        "$$\n",
        "のように，割る数が $N$ ではなく $N-1$ となっていることがあります．\n",
        "これには深いわけがあるのですが，この授業では説明しません．分散は，先に述べた通り，$N$ で割るものとすればokです．この深いわけについては，この授業に続く，「確率統計」などの科目で学ぶことができるかもしれません．\n",
        "\n",
        "気になるひとは，「不偏分散」というキーワードで調べてみるとよいでしょう．"
      ]
    }
  ]
}