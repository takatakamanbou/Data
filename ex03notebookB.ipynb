{
  "nbformat": 4,
  "nbformat_minor": 0,
  "metadata": {
    "colab": {
      "provenance": [],
      "authorship_tag": "ABX9TyP33TEybrfRrcDy0lI2C40I",
      "include_colab_link": true
    },
    "kernelspec": {
      "name": "python3",
      "display_name": "Python 3"
    }
  },
  "cells": [
    {
      "cell_type": "markdown",
      "metadata": {
        "id": "view-in-github",
        "colab_type": "text"
      },
      "source": [
        "<a href=\"https://colab.research.google.com/github/takatakamanbou/Data/blob/2023/ex03notebookB.ipynb\" target=\"_parent\"><img src=\"https://colab.research.google.com/assets/colab-badge.svg\" alt=\"Open In Colab\"/></a>"
      ]
    },
    {
      "cell_type": "markdown",
      "metadata": {
        "id": "2UzDNLmVS3po"
      },
      "source": [
        "# Data2023 ex03notebookB  データの代表値(1)\n",
        "\n",
        "<img width=64 src=\"https://www-tlab.math.ryukoku.ac.jp/~takataka/course/Data/Data-logo01.png\"> https://www-tlab.math.ryukoku.ac.jp/wiki/?Data/2023"
      ]
    },
    {
      "cell_type": "markdown",
      "metadata": {
        "id": "_4-TmUdCd9FJ"
      },
      "source": [
        "## 準備\n",
        "\n",
        "以下，コードセルを上から順に実行していってね．"
      ]
    },
    {
      "cell_type": "code",
      "metadata": {
        "id": "QQ8M3640S1W7"
      },
      "source": [
        "# 以下で使う各種モジュールを import\n",
        "import numpy as np\n",
        "import matplotlib.pyplot as plt\n",
        "import seaborn\n",
        "\n",
        "seaborn.set()"
      ],
      "execution_count": null,
      "outputs": []
    },
    {
      "cell_type": "code",
      "metadata": {
        "id": "njR5BGnHS5rE"
      },
      "source": [
        "# 乱数データを作成\n",
        "X1 = 2*np.random.randn(1000) + 3"
      ],
      "execution_count": null,
      "outputs": []
    },
    {
      "cell_type": "markdown",
      "metadata": {
        "id": "7H45eNIcd2xB"
      },
      "source": [
        "----\n",
        "## データの代表値\n",
        "----\n",
        "\n",
        "これまでは，データの傾向・標本の値の散らばり方を把握する方法として，「度数分布」を求めたり「ヒストグラム」を描いたりしてきました．\n",
        "これらはデータを分析するために有効ですが，人間が解釈する際にあいまいな判断が生じ得ます．\n",
        "\n",
        "ここからは，データの性質を少数の数値でとらえる方法を考えます．数値化することにより，あいまいさを減らし，より客観的に分析できるようになります．\n",
        "このような，データの傾向・標本の値の散らばり方を表す数値を，**代表値** といいます．\n",
        "\n",
        "おなじみの **平均**，**分散**，**標準偏差**等は，代表値の例です．\n",
        "\n",
        "\n"
      ]
    },
    {
      "cell_type": "markdown",
      "metadata": {
        "id": "rEIROHv4vfYG"
      },
      "source": [
        "----\n",
        "### 平均，標準偏差，分散の性質を観察する"
      ]
    },
    {
      "cell_type": "markdown",
      "metadata": {
        "id": "xnjb0HRJ3XfX"
      },
      "source": [
        "データから平均等を算出して，それらの値がどんなふるまいをするのか観察しましょう．\n",
        "\n",
        "説明をしやすくするため，以下で扱うデータを `X1` と呼ぶことにします．\n",
        "次のセルを実行すると，`X1` のサンプルサイズがわかります．"
      ]
    },
    {
      "cell_type": "code",
      "metadata": {
        "id": "JGogcj6Q5b5b"
      },
      "source": [
        "# 変数 X1 に格納された標本の数は...\n",
        "print('サンプルサイズ:', len(X1))\n",
        "print()\n",
        "# 変数 X1 に格納されたデータのうち最初の5つを表示してみる\n",
        "print(X1[:10])"
      ],
      "execution_count": null,
      "outputs": []
    },
    {
      "cell_type": "markdown",
      "metadata": {
        "id": "2Qgn_-JXi24Q"
      },
      "source": [
        "`X1` のヒストグラムはこんなんです．"
      ]
    },
    {
      "cell_type": "code",
      "metadata": {
        "id": "0PgB-Fb9hbFH"
      },
      "source": [
        "# X1 のヒストグラム\n",
        "fig, ax = plt.subplots(facecolor=\"white\", figsize=(8, 6))\n",
        "bins = np.arange(-6, 12, 0.5)\n",
        "ax.hist(X1, bins=bins)\n",
        "plt.show()"
      ],
      "execution_count": null,
      "outputs": []
    },
    {
      "cell_type": "markdown",
      "metadata": {
        "id": "J_NfoDY5i_LP"
      },
      "source": [
        "次のセルを実行すると，`X1` の平均，標準偏差，分散の値を計算してくれます．"
      ]
    },
    {
      "cell_type": "code",
      "metadata": {
        "id": "iwgiSUZOjG9-"
      },
      "source": [
        "# X1 の平均，標準偏差，分散\n",
        "print(f'平均: {np.mean(X1):.3f}')\n",
        "print(f'標準偏差: {np.std(X1):.3f}')\n",
        "print(f'分散: {np.var(X1):.3f}')"
      ],
      "execution_count": null,
      "outputs": []
    },
    {
      "cell_type": "markdown",
      "metadata": {
        "id": "fmfyCoptnsib"
      },
      "source": [
        "#### データに定数を加えるとどう変化する？\n",
        "\n",
        "データが変化すると，ヒストグラムや平均等がどのように変化するのか見てみましょう．\n",
        "まずは，すべての標本値に一定の数を加えた場合．\n",
        "\n",
        "次のセルを実行すると，`X1` の標本値に `shift` の値を加えたデータ `X2` を作ってヒストグラムや平均等を計算してくれます．\n",
        "\n",
        "例えば `shift` の値を `1.0` にした場合，`X1` の値が `0.1, -0.2, 0.3, ... ` だったとすると，`X2` の値は `1.1, 0.8, 1.3, ...` となります．"
      ]
    },
    {
      "cell_type": "code",
      "metadata": {
        "id": "11Igs7MKkr6o"
      },
      "source": [
        "#@title `shift` に適当な数値を入れて，「Shift+Enter」押してみてね（Shiftキー押しながらEnterキーを押す） { display-mode: \"form\" }\n",
        "shift =  -5#@param {type:\"number\"}\n",
        "\n",
        "# X2 は， X1 のすべての標本値 に shift を加えたもの\n",
        "X2 = X1 + shift\n",
        "\n",
        "# X1 と X2 のヒストグラム\n",
        "fig, ax = plt.subplots(2, 1, facecolor=\"white\", figsize=(8, 6))\n",
        "bins = np.arange(-10, 15, 0.5)\n",
        "ax[0].hist(X1, bins=bins, label=\"X1\")\n",
        "ax[0].legend()\n",
        "ax[1].hist(X2, bins=bins, label=\"X2\")\n",
        "ax[1].legend()\n",
        "plt.show()\n",
        "\n",
        "print()\n",
        "print('X1 の最初の5個の標本値')\n",
        "print(X1[:5])\n",
        "print(f'平均: {np.mean(X1):.3f} 標準偏差: {np.std(X1):.3f} 分散: {np.var(X1):.3f}')\n",
        "print()\n",
        "print('X2 の最初の5個の標本値')\n",
        "print(X2[:5])\n",
        "print(f'X2     平均: {np.mean(X2):.3f} 標準偏差: {np.std(X2):.3f} 分散: {np.var(X2):.3f}')"
      ],
      "execution_count": null,
      "outputs": []
    },
    {
      "cell_type": "markdown",
      "metadata": {
        "id": "NyDzXilNoGh5"
      },
      "source": [
        "上記の `shift` の値を， `2.5` とか `5` とか `-3` とかにして，Shift + Enter してみよう．\n",
        "\n",
        "結果をよく観察しよう．\n",
        "- ヒストグラムはどうなっているでしょう？\n",
        "- 平均，標準偏差，分散はどうなっているでしょう？ 変化する？しない？変化するならどう変化する？\n"
      ]
    },
    {
      "cell_type": "markdown",
      "metadata": {
        "id": "H_NQdzEsrXcI"
      },
      "source": [
        "#### データを定数倍するとどう変化する？\n",
        "\n",
        "次は，すべての標本値に一定の数を掛けてみます．\n",
        "\n",
        "次のセルを実行すると，`X1` の標本値に `scale` の値を掛けたデータ `X3` を作ってヒストグラムや平均等を計算してくれます．\n",
        "\n"
      ]
    },
    {
      "cell_type": "code",
      "metadata": {
        "id": "rEJW1xo4rrbb"
      },
      "source": [
        "#@title `scale` に適当な数値を入れて，「Shift+Enter」押してみてね（Shiftキー押しながらEnterキーを押す） { display-mode: \"form\" }\n",
        "scale =  -0.5#@param {type:\"number\"}\n",
        "\n",
        "# X3 は， X1 のすべての標本値 に scale を掛けたもの\n",
        "X3 = X1 * scale\n",
        "\n",
        "# X1 と X3 のヒストグラム\n",
        "fig, ax = plt.subplots(2, 1, facecolor=\"white\", figsize=(8, 6))\n",
        "bins = np.arange(-15, 20, 0.5)\n",
        "ax[0].hist(X1, bins=bins, label=\"X1\")\n",
        "ax[0].legend()\n",
        "ax[1].hist(X3, bins=bins, label=\"X3\")\n",
        "ax[1].legend()\n",
        "plt.show()\n",
        "\n",
        "print()\n",
        "print('X1 の最初の5個の標本値')\n",
        "print(X1[:5])\n",
        "print(f'平均: {np.mean(X1):.3f} 標準偏差: {np.std(X1):.3f} 分散: {np.var(X1):.3f}')\n",
        "print()\n",
        "print('X3 の最初の5個の標本値')\n",
        "print(X3[:5])\n",
        "print(f'X3     平均: {np.mean(X3):.3f} 標準偏差: {np.std(X3):.3f} 分散: {np.var(X3):.3f}')"
      ],
      "execution_count": null,
      "outputs": []
    },
    {
      "cell_type": "markdown",
      "metadata": {
        "id": "WA_nHNKAtSXF"
      },
      "source": [
        "上記の `shift` の値を， `2` とか `0.5` とか `-1` とかにして，Shift + Enter してみよう．\n",
        "\n",
        "結果をよく観察しよう．\n",
        "- ヒストグラムはどうなっているだろう？\n",
        "- 平均，標準偏差，分散はどうなってるだろう？ 変化する？しない？変化するならどう変化する？\n"
      ]
    },
    {
      "cell_type": "markdown",
      "metadata": {
        "id": "qdYo8ZMAuWY1"
      },
      "source": [
        "#### 両方やるとどうなる？\n",
        "\n",
        "\n",
        "次のセルを実行すると，`X1` の標本値に `scale` の値を掛けて `shift` の値を加えたデータ `X4` を作ってヒストグラムや平均等を計算してくれます．\n"
      ]
    },
    {
      "cell_type": "code",
      "metadata": {
        "id": "DB5Y86T-u8OH"
      },
      "source": [
        "#@title `scale` と `shift` に適当な数値を入れて，「Shift+Enter」押してみてね（Shiftキー押しながらEnterキーを押す） { display-mode: \"form\" }\n",
        "scale =  1#@param {type:\"number\"}\n",
        "shift = 0#@param {type:\"number\"}\n",
        "\n",
        "# X4 は， X1 を scale 倍して shift を加えたもの\n",
        "X4 = X1 * scale + shift\n",
        "\n",
        "# X1 と X4 のヒストグラム\n",
        "fig, ax = plt.subplots(2, 1, facecolor=\"white\", figsize=(8, 6))\n",
        "bins = np.arange(-15, 20, 0.5)\n",
        "ax[0].hist(X1, bins=bins, label=\"X1\")\n",
        "ax[0].legend()\n",
        "ax[1].hist(X4, bins=bins, label=\"X4\")\n",
        "ax[1].legend()\n",
        "plt.show()\n",
        "\n",
        "print()\n",
        "print('X1 の最初の5個の標本値')\n",
        "print(X1[:5])\n",
        "print(f'平均: {np.mean(X1):.3f} 標準偏差: {np.std(X1):.3f} 分散: {np.var(X1):.3f}')\n",
        "print()\n",
        "print('X4 の最初の5個の標本値')\n",
        "print(X4[:5])\n",
        "print(f'X4     平均: {np.mean(X4):.3f} 標準偏差: {np.std(X4):.3f} 分散: {np.var(X4):.3f}')"
      ],
      "execution_count": null,
      "outputs": []
    },
    {
      "cell_type": "code",
      "metadata": {
        "id": "pPyvFO1vu_l0"
      },
      "source": [],
      "execution_count": null,
      "outputs": []
    }
  ]
}