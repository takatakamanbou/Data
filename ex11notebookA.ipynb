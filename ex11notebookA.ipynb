{
  "nbformat": 4,
  "nbformat_minor": 0,
  "metadata": {
    "colab": {
      "provenance": [],
      "authorship_tag": "ABX9TyPqxohYA3OYuY/smmfaCVED",
      "include_colab_link": true
    },
    "kernelspec": {
      "name": "python3",
      "display_name": "Python 3"
    }
  },
  "cells": [
    {
      "cell_type": "markdown",
      "metadata": {
        "id": "view-in-github",
        "colab_type": "text"
      },
      "source": [
        "<a href=\"https://colab.research.google.com/github/takatakamanbou/Data/blob/2023/ex11notebookA.ipynb\" target=\"_parent\"><img src=\"https://colab.research.google.com/assets/colab-badge.svg\" alt=\"Open In Colab\"/></a>"
      ]
    },
    {
      "cell_type": "markdown",
      "metadata": {
        "id": "2UzDNLmVS3po"
      },
      "source": [
        "# Data2023 ex11notebookA\n",
        "\n",
        "<img width=64 src=\"https://www-tlab.math.ryukoku.ac.jp/~takataka/course/Data/Data-logo09.png\"> https://www-tlab.math.ryukoku.ac.jp/wiki/?Data/2023\n",
        "\n"
      ]
    },
    {
      "cell_type": "markdown",
      "metadata": {
        "id": "7H45eNIcd2xB"
      },
      "source": [
        "----\n",
        "## 誤差と有効数字の話\n",
        "----\n",
        "\n",
        "この授業で扱っているようなデータ，特に量的データに現れる数値について，「その値ってどのくらい信頼できるんだろう？ **誤差**があるんじゃないだろうか？ 数値の何桁目まで信じていいんだろう？」ってことを考えて，**有効数字** という考え方を簡単に説明します．\n"
      ]
    },
    {
      "cell_type": "markdown",
      "metadata": {
        "id": "gjwFlEyQi4Wf"
      },
      "source": [
        "----\n",
        "### 誤差と有効数字\n",
        "\n",
        "あるひとの100m走のタイムを測ると10.95秒だったとします．\n",
        "このときの100mの平均速度を計算してみると，\n",
        "\n",
        "\n"
      ]
    },
    {
      "cell_type": "code",
      "metadata": {
        "id": "fUeE4MLSSWrl"
      },
      "source": [
        "100 / 10.95"
      ],
      "execution_count": null,
      "outputs": []
    },
    {
      "cell_type": "markdown",
      "metadata": {
        "id": "ceFDKjcKi8fB"
      },
      "source": [
        "という結果が得られます．単位は [m/s] です．\n",
        "この場合，小数点以下ずいぶんたくさんの桁の数が得られていますが，これらの数は正確なものと考えられるでしょうか？意味があるといえるでしょうか？\n"
      ]
    },
    {
      "cell_type": "markdown",
      "metadata": {
        "id": "V-kSyN0mTfwS"
      },
      "source": [
        "ストップウォッチを押すタイミングがほんの少しずれて，測定されたタイムが10.94秒だったとすると，平均速度は"
      ]
    },
    {
      "cell_type": "code",
      "metadata": {
        "id": "XhRSmBcGS2rg"
      },
      "source": [
        "100 / 10.94"
      ],
      "execution_count": null,
      "outputs": []
    },
    {
      "cell_type": "markdown",
      "metadata": {
        "id": "7KIDC7Nod37z"
      },
      "source": [
        "ということになります．一方，10.96秒だったとすると，今度は"
      ]
    },
    {
      "cell_type": "code",
      "metadata": {
        "id": "nLuhytgyTtZB"
      },
      "source": [
        "100 / 10.96"
      ],
      "execution_count": null,
      "outputs": []
    },
    {
      "cell_type": "markdown",
      "metadata": {
        "id": "VAHfhVZjhpxW"
      },
      "source": [
        "となります．\n"
      ]
    },
    {
      "cell_type": "markdown",
      "metadata": {
        "id": "9GYixGLVUhCi"
      },
      "source": [
        "測定タイムが 10.95秒から $=1/1000$ 秒だけずれて\n",
        "$10.95 + \\frac{1}{1000} = 10.951$ 秒になった場合は，"
      ]
    },
    {
      "cell_type": "code",
      "metadata": {
        "id": "J2_eLaEwUb4Y"
      },
      "source": [
        "100 / (10.95 + 1.0/1000)"
      ],
      "execution_count": null,
      "outputs": []
    },
    {
      "cell_type": "markdown",
      "metadata": {
        "id": "1C7xx9WUUabN"
      },
      "source": [
        "です．元の値と見比べると，小数第2位までは一致してますが，第3位以降は違っています．"
      ]
    },
    {
      "cell_type": "markdown",
      "metadata": {
        "id": "aMHOSu4XWdRk"
      },
      "source": [
        "人間がストップウォッチを手で押しているとしたら，測定されるタイムが\n",
        "$1/1000$ 秒とか $7/1000$ 秒とか $1/100$ 秒くらいずれるなんてことは，当たり前に起こりそうです．つまり，測定されるタイムの値は，真の値からある程度ずれていると考えられます．このようなずれは，**誤差**(**error**) と呼ばれます．\n",
        "\n",
        "多くの場合，何かを測定したりして得られる値には誤差が含まれているのが当たり前です．データを扱う際には，どれくらいの大きさの誤差が含まれているかをよく考えることが大事です．\n",
        "\n",
        "そのため，数値を表す際に，その値がどれくらい正確か／どれくらい不確かか，が分かるように，値の表示を信頼できる桁までにとどめて，不確かな桁の数は「丸めて」しまう（四捨五入や切り捨て等によってそれより下位の桁の数を $0$ にしてしまう）ということが行われます．\n",
        "\n",
        "\n",
        "\n"
      ]
    },
    {
      "cell_type": "markdown",
      "metadata": {
        "id": "DYUd-1hkddFh"
      },
      "source": [
        "上記の例で，ストップウォッチで測ったタイムに含まれる誤差が $1/100$ 秒よりは小さそうなら，平均速度は小数第2位くらいまでは信頼できるでしょうか．\n",
        "そう考えた場合，`9.132420091324201` という平均速度の値を小数第3位で四捨五入して，\n",
        "`9.13` と表記します．\n",
        "\n",
        "この場合，`9`, `1`, `3` の3桁の数は確からしいけれど，4桁目以降の数は不確かだと考えていることになります．このとき，この値は，「3桁目まで有効」という意味で，「**有効数字** 3桁で表している」と言います．\n",
        "\n",
        "誤差がもっと小さく，平均速度は小数第3位まで確からしいと言えそうなら，有効数字4桁で表して，「平均速度は `9.132` [m/s] 」のように表記する，というわけです．"
      ]
    },
    {
      "cell_type": "markdown",
      "metadata": {
        "id": "5JkrqGqeh_u6"
      },
      "source": [
        "ちなみに，この例でタイムが 9.58 秒だったひとの平均速度は"
      ]
    },
    {
      "cell_type": "code",
      "metadata": {
        "id": "SKRQKB5Yh_JK"
      },
      "source": [
        "100 / 9.58"
      ],
      "execution_count": null,
      "outputs": []
    },
    {
      "cell_type": "markdown",
      "metadata": {
        "id": "_8KhAvkFi3Jk"
      },
      "source": [
        "と計算されます．平均速度を「有効数字4桁」で表すと決めたなら，`1`, `0`, `4`, `3` の桁まで確からしいとして，`8`の桁（小数第3位）を四捨五入するので，「平均速度は `10.44`[m/s]」とします．"
      ]
    },
    {
      "cell_type": "markdown",
      "metadata": {
        "id": "bX8H1uI4T3yq"
      },
      "source": [
        "----\n",
        "### 例その2\n",
        "\n",
        "有効数字の考え方は，整数のデータしか登場しないような場合でも有効です．"
      ]
    },
    {
      "cell_type": "markdown",
      "metadata": {
        "id": "VqWhf2hhPdsa"
      },
      "source": [
        "\n",
        "| $x_1$ | $x_2$ | $x_3$ | $x_4$ | $x_5$ | $x_6$ | $x_7$ | $x_8$ | $x_9$ |\n",
        "| ---- | ---- | ---- | ---- | ---- | ---- | ---- | ---- | ---- |\n",
        "| $80$ | $82$ | $80$ | $85$ | $49$ | $65$ | $47$ | $56$ | $71$ |\n"
      ]
    },
    {
      "cell_type": "markdown",
      "metadata": {
        "id": "2-gtcKzzyh1A"
      },
      "source": [
        "上記のようなデータがあったとします．それぞれの値は，0から100までの整数値をとります．\n",
        "\n",
        "このとき，これらのデータの平均は，"
      ]
    },
    {
      "cell_type": "code",
      "metadata": {
        "id": "0tQqI2UfxH2_"
      },
      "source": [
        "import numpy as np\n",
        "X = np.array([80, 82, 80, 85, 49, 65, 47, 56, 71])\n",
        "np.mean(X)"
      ],
      "execution_count": null,
      "outputs": []
    },
    {
      "cell_type": "markdown",
      "metadata": {
        "id": "OS7XogFPy6oz"
      },
      "source": [
        "となります．この場合，サンプルサイズが $9$ ですので，誰かひとりの値が1変化すると，平均は $\\frac{1}{9}$ 変化します．"
      ]
    },
    {
      "cell_type": "code",
      "metadata": {
        "id": "ojYcmI4IzVyo"
      },
      "source": [
        "X[0] = 79  # 1番のひとの値が1減った場合\n",
        "print(np.mean(X))\n",
        "X[0] = 81  # 1番のひとの値が1増えた場合\n",
        "print(np.mean(X))\n"
      ],
      "execution_count": null,
      "outputs": []
    },
    {
      "cell_type": "markdown",
      "metadata": {
        "id": "Nv-QPEvA0Es6"
      },
      "source": [
        "このことから考えると，上記のように小数点以下の桁をたくさん表示するのは意味がないし，下の方の桁まで確からしいと誤解される危険もあります．\n",
        "有効数字3桁として，68.3 と表記するのが適切でしょう．"
      ]
    },
    {
      "cell_type": "markdown",
      "metadata": {
        "id": "kr3bjgJjOsMd"
      },
      "source": [
        "以上の話から，**電卓やコンピュータが計算した値を何も考えず全桁表記することのは適切ではない場合がある**，ということがわかっていただけるでしょうか．\n",
        "有効数字を何桁にするかを明確に決めるのは難しいですが，どれくらいの誤差がありそうかを意識して，おおよそ適当そうな桁数で表示するよう注意しましょう．"
      ]
    },
    {
      "cell_type": "markdown",
      "metadata": {
        "id": "k9FMRcxp07XP"
      },
      "source": [
        "----\n",
        "### 誤差の要因\n",
        "\n",
        "誤差が生じる要因には様々なものがあります．大まかに分類して，ごく簡単に説明しておきます．\n",
        "\n"
      ]
    },
    {
      "cell_type": "markdown",
      "metadata": {
        "id": "6vX2Ogl4J9L6"
      },
      "source": [
        "#### 測定誤差\n",
        "\n",
        "値を測定する際に生じる誤差．\n",
        "測定に使う定規の長さに狂いがある，温度などの影響で微妙に伸び縮みする，目盛を読み取る際にばらつきが生じる，etc.\n",
        "\n",
        "下図の温度計の目盛を人間が読もうとしたら，ひとによって少しづつ異なる値を報告するでしょう．\n",
        "\n",
        "<img src=\"https://www-tlab.math.ryukoku.ac.jp/~takataka/course/Data/thermometer.png\">\n"
      ]
    },
    {
      "cell_type": "markdown",
      "metadata": {
        "id": "Hz_vVwj2J-OY"
      },
      "source": [
        "#### 計算誤差\n",
        "\n",
        "計算機やコンピュータを使用して値を処理する際に生じる誤差．\n",
        "詳しいことは，2年次科目「数値計算法及び演習」などで学ぶことになるでしょう．\n"
      ]
    },
    {
      "cell_type": "markdown",
      "metadata": {
        "id": "pZFV1gLqMNsn"
      },
      "source": [
        "計算誤差はその発生要因によってさらに細かく分類できますが，ここでは説明を省略します．以下に，計算誤差の一例を示しておきます．\n"
      ]
    },
    {
      "cell_type": "code",
      "metadata": {
        "id": "fd37_6ilMDMr"
      },
      "source": [
        "# 変数 x を 0 で初期化して，そこに 0.1 を加えることを10回繰り返す\n",
        "x = 0\n",
        "for i in range(10):\n",
        "    x += 0.1\n",
        "print(x)"
      ],
      "execution_count": null,
      "outputs": []
    },
    {
      "cell_type": "markdown",
      "metadata": {
        "id": "_KhbE_OrMiGv"
      },
      "source": [
        "このコードは，$0.1$ を 10 個加えた値を計算しようとしていますが，結果はぴったり $1$ になっていません．これは，$0.1$ の厳密な値をコンピュータが表せない（誤差がある）ために生じる現象です．"
      ]
    },
    {
      "cell_type": "markdown",
      "metadata": {
        "id": "8YgIdVtQNQXt"
      },
      "source": [
        "#### 統計誤差\n",
        "\n",
        "日本に住む人全員の身長の平均値を求めたい，けれどどそれは不可能，ということで，ランダムに1万人を選んで身長を測定させてもらったとしましょう．そのようにして得られた身長データから平均値を求めたとしても，その値は，真の平均値からずれるでしょう．そのような誤差のことを指します．"
      ]
    },
    {
      "cell_type": "markdown",
      "metadata": {
        "id": "h4bWy7f7jOXg"
      },
      "source": [
        "----\n",
        "### 指数表記の使用\n"
      ]
    },
    {
      "cell_type": "markdown",
      "metadata": {
        "id": "OOwmL_sMnNy6"
      },
      "source": [
        "有効数字を考えて数値を表記する場合，値の大きさによっては混乱を招く場合があります．\n",
        "\n"
      ]
    },
    {
      "cell_type": "markdown",
      "metadata": {
        "id": "X-l-k8UyqHXk"
      },
      "source": [
        "> 例1: `123456.789` を有効数字4桁で表すと `123500` となるが，これだと，`123500` を有効数字6桁で表した場合などと区別がつかない．\n",
        "`120000.345` を有効数字4桁で表すと `120000` となり，さらに深刻（有効数字2桁？6桁？）．\n"
      ]
    },
    {
      "cell_type": "markdown",
      "metadata": {
        "id": "ZXYhfuzbqri9"
      },
      "source": [
        "> 例2: `0.00123456789` や `0.00299999999` のような値をとる（値が小さくて，小数第1位や第2位は常に0である）場合，上位の桁の3つの `0` は有効数字とは言えず，小数3位から有効数字を考えるべきである．\n",
        "つまり，有効数字3桁なら `0.00123` や `0.00300` ということになる．\n",
        "しかし，これだと，上位の桁の `0` は有効数字でないことがわからない．"
      ]
    },
    {
      "cell_type": "markdown",
      "metadata": {
        "id": "v5t1Y1UNqOWV"
      },
      "source": [
        "このような問題を解決する方法として，指数による表記を用いることがよくあります．例1の場合，それぞれ\n",
        "\n",
        "$$ 1.235 \\times 10^5$$\n",
        "\n",
        "および\n",
        "\n",
        "$$ 1.200 \\times 10^5 $$\n",
        "\n",
        "と表記します．$\\times$ の前の数は，整数部が $1$ から $9$ となるようにし，桁数は有効数字の桁数にあわせます．有効数字が何桁かわかるように，後者のような例でも $0$ を省略しないで書きます．\n",
        "\n",
        "このような表記法は，**科学的記数法** と呼ばれることがあります．\n"
      ]
    },
    {
      "cell_type": "markdown",
      "metadata": {
        "id": "cEjTwNspscHH"
      },
      "source": [
        "例2の場合は，\n",
        "$$ 1.23 \\times 10^{-3} $$\n",
        "および\n",
        "$$ 3.00 \\times 10^{-3} $$\n",
        "と表記します．"
      ]
    },
    {
      "cell_type": "markdown",
      "metadata": {
        "id": "zGthPrDquCT2"
      },
      "source": [
        "なお，有効数字の話とは直接は関係ありませんが，コンピュータで実数を扱う場合にもこのような表記が用いられます．ただし，使える文字・記号の制限から，\n",
        "\n",
        "- $ 1.234 \\times 10^5$ → `1.234e+5`\n",
        "- $ 1.23 \\times 10^{-3} $ → `1.23e-3`\n",
        "\n",
        "のように表記されます（`e`のかわりに大文字の`E`を使うこともあります）．\n"
      ]
    },
    {
      "cell_type": "code",
      "metadata": {
        "id": "NiDn1f4GvsWN"
      },
      "source": [],
      "execution_count": null,
      "outputs": []
    }
  ]
}