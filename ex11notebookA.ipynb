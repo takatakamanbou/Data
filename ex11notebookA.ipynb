{
  "nbformat": 4,
  "nbformat_minor": 0,
  "metadata": {
    "colab": {
      "name": "ex11notebookA.ipynb",
      "provenance": [],
      "collapsed_sections": [],
      "authorship_tag": "ABX9TyNBhdNPqKryf04E4C/GWeMN",
      "include_colab_link": true
    },
    "kernelspec": {
      "name": "python3",
      "display_name": "Python 3"
    }
  },
  "cells": [
    {
      "cell_type": "markdown",
      "metadata": {
        "id": "view-in-github",
        "colab_type": "text"
      },
      "source": [
        "<a href=\"https://colab.research.google.com/github/takatakamanbou/Data/blob/main/ex11notebookA.ipynb\" target=\"_parent\"><img src=\"https://colab.research.google.com/assets/colab-badge.svg\" alt=\"Open In Colab\"/></a>"
      ]
    },
    {
      "cell_type": "markdown",
      "metadata": {
        "id": "2UzDNLmVS3po"
      },
      "source": [
        "# Data2021 ex11notebookA\n",
        "\n",
        "<img width=64 src=\"https://www-tlab.math.ryukoku.ac.jp/~takataka/course/Data/Data-logo11.png\"> https://www-tlab.math.ryukoku.ac.jp/wiki/?Data/2021\n",
        "\n",
        "\n"
      ]
    },
    {
      "cell_type": "markdown",
      "metadata": {
        "id": "7H45eNIcd2xB"
      },
      "source": [
        "----\n",
        "## 質的データとその分析\n",
        "----\n",
        "\n",
        "これまでこの授業で扱ってきたデータは，試験の点数や身長・体重等，値を数値として表せる・測れるものでした．このようなデータのことを， **量的データ** と言います．\n",
        "一方，世の中には，数値では表せないようなデータもあります．\n",
        "今回は，そのようなデータの典型である **質的データ** を取り上げて，その初歩的な分析法について説明します．\n"
      ]
    },
    {
      "cell_type": "markdown",
      "metadata": {
        "id": "kkdrcUCf3b7t"
      },
      "source": [
        "----\n",
        "### 量的データと質的データ\n",
        "\n",
        "\n",
        "まずは，量的データと質的データの違いから．"
      ]
    },
    {
      "cell_type": "markdown",
      "metadata": {
        "id": "TlFD9WQgorb0"
      },
      "source": [
        "以下は，とあるアンケートの設問です（動画中でやってもらったと言ってるもの，2020年度に実施）．\n",
        "\n",
        "\n",
        "<img width=\"400\" src=\"https://www-tlab.math.ryukoku.ac.jp/~takataka/course/Data/ex07-enquete.png\">"
      ]
    },
    {
      "cell_type": "markdown",
      "metadata": {
        "id": "mQEihV5Su1Xw"
      },
      "source": [
        "このようなアンケートを複数人を対象に実施して， $N$ 件の回答が得られたとすると，データはこんなふうになるでしょう（話を簡単にするため，無回答はなかったとします）．\n",
        "\n",
        "\n",
        "|回答者番号|設問1|設問2|設問3|設問4|\n",
        "|---:|:---:|---:|---:|---:|\n",
        "|1|きのこの山|5|145|37.6|\n",
        "|2|きのこの山|3|30|37.5|\n",
        "|3|きのこの山|4|90|37.7|\n",
        "|:|:|:|:|:|\n",
        "|$N$|たけのこの里|1|45|37.6|\n",
        "\n"
      ]
    },
    {
      "cell_type": "markdown",
      "metadata": {
        "id": "Zsj8-q3fr-gH"
      },
      "source": [
        "設問1については，$N$件の回答それぞれの値は，「きのこの山」か「たけのこの里」のいずれかです．\n",
        "この設問の回答を集めたデータは，質的データです．\n",
        "\n",
        "例えば，「きのこの山」を数値 `1` で表し，「たけのこの里」を数値 `2` で表すことにすれば，数値で表すことは可能です．しかし，このようなデータの場合，その数値の大きさや大小を測っても意味がありません（使う数値を逆にしてもいいし， 全然違う値，例えば`4649` と `5963` にしてもいい）．したがって，そのように数値に置き換えたとしても，量的データとは言えません．"
      ]
    },
    {
      "cell_type": "markdown",
      "metadata": {
        "id": "0GatEPbKuVXx"
      },
      "source": [
        "設問2を後回しにして，次に設問3と設問4を考えましょう．\n",
        "\n",
        "これらは，いずれも量的データです．\n",
        "数値が何らかの量を表しており，しかも，その量は，客観的に測ることができるものです．\n",
        "設問4の値については，回答者の見方によって値がばらつくでしょうが，回答される値そのものは，温度という客観的な目盛りで測ることのできる量ですね．ちなみに，用いる単位を変更したとしても，量的データは量的データです．"
      ]
    },
    {
      "cell_type": "markdown",
      "metadata": {
        "id": "tjGwtginyAhU"
      },
      "source": [
        "さて，それでは，設問2の値はどちらでしょう？\n",
        "\n",
        "この設問では，こたつ好きの度合いを 1 （大嫌い）から 5 （大好き）までの5段階の数値のいずれかで回答することが求められていますので，得られるデータは 1 から 5 までの数値になります．\n",
        "数値の大小にも意味があります．\n",
        "\n",
        "ですが，「こたつ好きの度合い」という量は客観的に測ることができません．\n",
        "個人の主観によって，測り方や目盛の間隔がばらばらになってしまいます（ほげお君とあなたがともに「こたつ好き度合い3」だったとしても，同じくらいこたつ好きなのかどうか，はっきりさせることができません）．\n",
        "\n",
        "したがって，このデータは，質的データとみなすべきものです．"
      ]
    },
    {
      "cell_type": "markdown",
      "metadata": {
        "id": "4G5yzI5U1ZZc"
      },
      "source": [
        "この授業では詳しく説明はしませんが，質的データはさらに，値に **順序** を付けることができるものとできないものに二分することができます．\n",
        "\n",
        "設問1の値は，「きのこの山」と「たけのこの里」のどちらかに分類できますが，これらの値の間には順序はありません（そんなものを定義したら戦争が起こりますね ^^;）．\n",
        "設問2の方は，値そのものの絶対的な大きさには意味がないけれど，大小関係は定まるので，順序を付けることができる質的データといえます．"
      ]
    },
    {
      "cell_type": "markdown",
      "metadata": {
        "id": "RLufztFf3Tp_"
      },
      "source": [
        "----\n",
        "### ダミー変数\n"
      ]
    },
    {
      "cell_type": "markdown",
      "metadata": {
        "id": "bxFW0-Pf5p6m"
      },
      "source": [
        "質的データの場合，そのままの値では分析がしづらいこともあり， **ダミー変数** と呼ばれる 0 か 1 の値をとる値に置き換えて扱うことがよくあります．\n",
        "\n"
      ]
    },
    {
      "cell_type": "markdown",
      "metadata": {
        "id": "TCEJmII76tE0"
      },
      "source": [
        "例えば，上記の設問1の例だとこんなふうになります．\n",
        "\n",
        "|回答者番号|設問1（きのこの山）|設問1（たけのこの里）|\n",
        "|---:|:---:|:---:|\n",
        "|1|1|0|\n",
        "|2|1|0|\n",
        "|3|1|0|\n",
        "|:|:|:|\n",
        "|$N$|0|1|\n"
      ]
    },
    {
      "cell_type": "markdown",
      "metadata": {
        "id": "G69TgsVP70rl"
      },
      "source": [
        "設問1は2択なので，「設問1（きのこの山）」と「設問1（たけのこの里）」の二つに分けて，選んだ方を1に，もう一方を0にしています．\n",
        "\n"
      ]
    },
    {
      "cell_type": "markdown",
      "metadata": {
        "id": "u4Yt_OfBEz2d"
      },
      "source": [
        "例えば，「うどん」か「そば」か「ラーメン」かの3択で回答する設問があったとすると，ダミー変数を用いたデータはこんなふうになるでしょう．\n",
        "\n",
        "|回答者番号|うどん|そば|ラーメン|\n",
        "|---:|:---:|:---:|:---:|\n",
        "|1|1|0|0|\n",
        "|2|0|0|1|\n",
        "|3|0|1|0|\n",
        "|:|:|:|:|\n",
        "|$N$|0|0|1|"
      ]
    },
    {
      "cell_type": "markdown",
      "metadata": {
        "id": "vmxTLJf8FopL"
      },
      "source": [
        "3択なので，3つの値に分けて，そのいずれか一つが1で他が0になるようにする，というわけです．"
      ]
    },
    {
      "cell_type": "markdown",
      "metadata": {
        "id": "i-W9yQJi8vp3"
      },
      "source": [
        "ダミー変数に置き換えることで質的データを量的データに変換できるので，質的データと量的データを両方含むようなデータを分析したいときなどによく用いられます．"
      ]
    }
  ]
}