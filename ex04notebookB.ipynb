{
  "nbformat": 4,
  "nbformat_minor": 0,
  "metadata": {
    "colab": {
      "provenance": [],
      "toc_visible": true,
      "authorship_tag": "ABX9TyOkUncpOdZ3msjE59inkNnD",
      "include_colab_link": true
    },
    "kernelspec": {
      "name": "python3",
      "display_name": "Python 3"
    }
  },
  "cells": [
    {
      "cell_type": "markdown",
      "metadata": {
        "id": "view-in-github",
        "colab_type": "text"
      },
      "source": [
        "<a href=\"https://colab.research.google.com/github/takatakamanbou/Data/blob/2023/ex04notebookB.ipynb\" target=\"_parent\"><img src=\"https://colab.research.google.com/assets/colab-badge.svg\" alt=\"Open In Colab\"/></a>"
      ]
    },
    {
      "cell_type": "markdown",
      "metadata": {
        "id": "2UzDNLmVS3po"
      },
      "source": [
        "# Data2023 ex04notebookB  データの代表値(3)\n",
        "\n",
        "<img width=64 src=\"https://www-tlab.math.ryukoku.ac.jp/~takataka/course/Data/Data-logo04.png\"> https://www-tlab.math.ryukoku.ac.jp/wiki/?Data/2023"
      ]
    },
    {
      "cell_type": "markdown",
      "metadata": {
        "id": "_4-TmUdCd9FJ"
      },
      "source": [
        "## 準備\n",
        "\n",
        "以下，コードセルを上から順に実行していってね．"
      ]
    },
    {
      "cell_type": "code",
      "metadata": {
        "id": "QQ8M3640S1W7"
      },
      "source": [
        "# 準備あれこれ\n",
        "import numpy as np\n",
        "import matplotlib.pyplot as plt\n",
        "import pandas as pd\n",
        "import seaborn\n",
        "seaborn.set()"
      ],
      "execution_count": null,
      "outputs": []
    },
    {
      "cell_type": "code",
      "metadata": {
        "id": "If5pCB6bc3QF"
      },
      "source": [
        "# データを読み込む\n",
        "dfMPI = pd.read_csv('https://www-tlab.math.ryukoku.ac.jp/~takataka/course/Data/mpiS100.csv', header=0)\n",
        "#dfMPI\n",
        "math = np.sort(dfMPI['数学']).astype(int)\n",
        "\n",
        "dfEX04 = pd.read_csv('https://www-tlab.math.ryukoku.ac.jp/~takataka/course/Data/ex04data2.csv', header=2)\n",
        "dfEX04\n",
        "X1 = np.asarray(dfEX04['データ1'])\n",
        "X2 = np.asarray(dfEX04['データ2'])\n",
        "X3 = np.asarray(dfEX04['データ3'])\n",
        "\n",
        "tempList = []\n",
        "print('気温データ読み込み中', end=' ')\n",
        "for month in ['Jan', 'Feb', 'Mar', 'Apr', 'May', 'Jun', 'Jul', 'Aug', 'Sep', 'Oct', 'Nov', 'Dec']:\n",
        "    url = f'https://www-tlab.math.ryukoku.ac.jp/~takataka/course/Data/ex02_temp1980-2019{month}01.csv'\n",
        "    df = pd.read_csv(url, header=0)\n",
        "    tempList.append(np.asarray(df['average']))\n",
        "    print('.', end=' ')\n",
        "print('完了')"
      ],
      "execution_count": null,
      "outputs": []
    },
    {
      "cell_type": "markdown",
      "metadata": {
        "id": "7H45eNIcd2xB"
      },
      "source": [
        "----\n",
        "## データの代表値 その(3)\n",
        "----\n",
        "\n",
        "データの **代表値** の話の続きとして， **中央値**，**四分位数**，**パーセンタイル**，**箱ひげ図** などについて説明します．\n",
        "\n",
        "\n"
      ]
    },
    {
      "cell_type": "markdown",
      "metadata": {
        "id": "gTuf-qRyRVSp"
      },
      "source": [
        "----\n",
        "### 四分位数と中央値\n",
        "\n",
        "以前の授業で扱った，「数学」の点数データ（サンプルサイズ $100$）を考えます．\n",
        "そのデータを昇順に（小さい値ほど先に現れるように）並べかえると，こんなんなります．"
      ]
    },
    {
      "cell_type": "code",
      "metadata": {
        "id": "M7SQCeuFjpDA"
      },
      "source": [
        "for i in range(len(math)):\n",
        "    print(f'{i+1}位 {math[i]}')"
      ],
      "execution_count": null,
      "outputs": []
    },
    {
      "cell_type": "markdown",
      "metadata": {
        "id": "CUYlq3lrkIFe"
      },
      "source": [
        "最も小さい値を1位として，順位を表す表示を付けておきました．\n",
        "\n",
        "このようにデータを並べ替えたとき，上位 1/4 の位置にある標本の値を「**第1四分位数**」，上位 2/4, 3/4 の位置の値をそれぞれ「**第2四分位数**」および「**第3四分位数**」と言います（注）．\n",
        "\n"
      ]
    },
    {
      "cell_type": "markdown",
      "metadata": {
        "id": "YR0gySz6uYUZ"
      },
      "source": [
        "以下のセルを実行すると，コンピュータにこれらの四分位数を計算させられます．"
      ]
    },
    {
      "cell_type": "code",
      "metadata": {
        "id": "Z1nrZ_3tlPf5"
      },
      "source": [
        "Q = np.quantile(math, [0.25, 0.5, 0.75])\n",
        "for i, q in enumerate(Q):\n",
        "    print(f'第{i+1}四分位数: {q}')"
      ],
      "execution_count": null,
      "outputs": []
    },
    {
      "cell_type": "markdown",
      "metadata": {
        "id": "27e7i2JYUFua"
      },
      "source": [
        "これらは，このデータをサンプルサイズが4等分になるように4つに分けたときの，境目の値と考えられます．今はサンプルサイズが 100 ですので，25位と26位を分ける値が「第1四分位数」，50位と51位を分ける数が「第2四分位数」，75位と76位を分ける数が「第3四分位数」となっているはずです．\n",
        "\n",
        "注） この説明は厳密ではありませんが，実は四分位数の定義にはいくつかあるため，直感的な言い方にとどめておきます．ソフトウェアを用いて四分位数を計算する場合は，どのような定義に基づいているかによって微妙に異なる値が出てくることがあります．\n",
        "\n"
      ]
    },
    {
      "cell_type": "markdown",
      "metadata": {
        "id": "7TRKOMW0qmMc"
      },
      "source": [
        "第2四分位数は，ちょうどデータの真ん中の値ですので，**中央値** (**median**） ともいいます．\n",
        "\n",
        "高校数学でも学んだはずですが，サンプルサイズ $N$ が偶数のときは，中央値の求め方に注意が必要です．\n",
        "偶数個のデータには「ちょうど真ん中」の値が存在しないので，「$N/2$ 番目の値と $N/2+1$ 番目の値の平均」を中央値とします．\n",
        "\n",
        "上記のデータの場合 $N=100$で，50位の値が $51$， 51位の値が $52$ なので，中央値は\n",
        "$ (51 + 52)/2 = 51.5$ となります．この値を境目とすると，データがちょうど50個ずつに分けられる，というわけです．"
      ]
    },
    {
      "cell_type": "markdown",
      "metadata": {
        "id": "I2n2rqzYvCDA"
      },
      "source": [
        "----\n",
        "### 中央値と外れ値"
      ]
    },
    {
      "cell_type": "markdown",
      "metadata": {
        "id": "LWyQa9-avSMV"
      },
      "source": [
        "データの代表値としては，以前説明した平均値がよく用いられますが，平均値のかわりに中央値を用いることもよくあります．\n",
        "その理由の一つは，**中央値は平均値に比べて外れ値の影響を受けにくい**からです．\n",
        "\n",
        "**外れ値** というのは，データの中で，他の値から大きくはずれた値のことです．\n",
        "データを取得する際に何か問題があって異常な値が入り込んだ（測定ミスや記録ミスなど）という場合もありますし，まれだけど実際に起こり得る値がたまたま観測された，という場合もありえます．"
      ]
    },
    {
      "cell_type": "markdown",
      "metadata": {
        "id": "ZcGOvVMvzBKc"
      },
      "source": [
        "上記の数学の点数データにわざと外れ値を入れて平均値と中央値を求めてみましょう．"
      ]
    },
    {
      "cell_type": "code",
      "metadata": {
        "id": "Y93htDhmxwCk"
      },
      "source": [
        "# 元のデータの平均値と中央値\n",
        "print(f'平均値は{np.mean(math)}  中央値は{np.median(math)}')\n",
        "\n",
        "# 先頭のひとの点数を 1000 にしたデータをつくる\n",
        "math2 = np.copy(math)\n",
        "math2[0] = 1000\n",
        "\n",
        "# そのデータの平均値と中央値は...\n",
        "print(f'平均値は{np.mean(math2)}  中央値は{np.median(math2)}')"
      ],
      "execution_count": null,
      "outputs": []
    },
    {
      "cell_type": "markdown",
      "metadata": {
        "id": "R5ljwAIDScE0"
      },
      "source": [
        "**★★★ あとの Quiz で使いますので，上記の値をメモしておきましょう ★★★**"
      ]
    },
    {
      "cell_type": "markdown",
      "metadata": {
        "id": "3-VF-GXkzfRJ"
      },
      "source": [
        "平均値はこのひとつの外れ値のためだけに10点近く上昇してしまっているのに対して，中央値はほとんど変化していません．\n",
        "\n",
        "平均値は，すべての標本値の和をとるので，外れ値があると大きく影響を受けます．\n",
        "一方，中央値や四分位数はデータの順位に基づいて算出される値なので，外れ値が一つはいっても順位が1つずれるだけで影響が小さい，というわけです．"
      ]
    },
    {
      "cell_type": "markdown",
      "metadata": {
        "id": "QKyMW6zB05WB"
      },
      "source": [
        "上記のような性質があるため，データの大きさを表す代表値として，平均値よりも中央値を使った方が実態にあった値が得られる場合があります．\n",
        "例えば，「国民ひとりひとりの年収額」のようなデータの場合，ごく少数の億万長者の年収額で平均値は大幅に高い方へ移動してしまうので，中央値の方が適切な代表値であるとされています．"
      ]
    },
    {
      "cell_type": "markdown",
      "metadata": {
        "id": "UTMJGObp26Y1"
      },
      "source": [
        "----\n",
        "### パーセンタイル"
      ]
    },
    {
      "cell_type": "markdown",
      "metadata": {
        "id": "k5Z0YLOC3L4y"
      },
      "source": [
        "**パーセンタイル** (percentile) というのは，四分位数のようにデータを4等分するかわりに，並べ替えたデータを100等分して考えるものです（「百分位数」と言うこともできる）．\n",
        "\n",
        "- 「25パーセンタイル」 = 「第1四分位数」\n",
        "- 「50パーセンタイル」 = 「第2四分位数」 = 「中央値」\n",
        "- 「75パーセンタイル」 = 「第3四分位数」\n",
        "\n",
        "です．もちろん，「10パーセンタイル」とか「77パーセンタイル」なんて値を考えることもできます．\n",
        "\n",
        "ちなみに，\n",
        "\n",
        "- 「0パーセンタイル」 = 「第0四分位数」 = **最小値**\n",
        "- 「100パーセンタイル」 = 「第4四分位数」 = **最大値**\n",
        "\n",
        "です．\n",
        "\n",
        "\n"
      ]
    },
    {
      "cell_type": "markdown",
      "metadata": {
        "id": "6ZZhi7wD56lU"
      },
      "source": [
        "----\n",
        "### 箱ひげ図\n",
        "\n",
        "**箱ひげ図** は，**最小値**（=第0四分位数），**第1四分位数**，**中央値**（=第2四分位数），**第3四分位数**，**最大値**（=第4四分位数） という5つの値を用いてデータの分布を図示するものです．\n",
        "\n"
      ]
    },
    {
      "cell_type": "markdown",
      "metadata": {
        "id": "FXubIvcJ_G4m"
      },
      "source": [
        "前の課題の「データ2」を使って実際に箱ひげ図を描いてみます．以下では，「データ2」を `X2` と表記してます．\n",
        "\n",
        "まずは，`X2` の上記5種類の値．"
      ]
    },
    {
      "cell_type": "code",
      "metadata": {
        "id": "XzKbHE_7_gL6"
      },
      "source": [
        "# X2 の5数要約\n",
        "Q = np.quantile(X2, [0.0, 0.25, 0.5, 0.75, 1.0])\n",
        "print(f'最小値: {Q[0]}  第1四分位数: {Q[1]}  中央値: {Q[2]}  第3四分位数: {Q[3]}  最大値: {Q[4]}')"
      ],
      "execution_count": null,
      "outputs": []
    },
    {
      "cell_type": "markdown",
      "metadata": {
        "id": "wqyZM505AMvv"
      },
      "source": [
        "対応する箱ひげ図はこんなんです．"
      ]
    },
    {
      "cell_type": "code",
      "metadata": {
        "id": "jVjGDCW189pU"
      },
      "source": [
        "# X2 の箱ひげ図\n",
        "fig, ax = plt.subplots(facecolor=\"white\", figsize=(4, 8))\n",
        "ax.boxplot(X2)\n",
        "ax.set_ylim(-8, 4)\n",
        "ax.set_xticklabels(['X2'])\n",
        "plt.show()"
      ],
      "execution_count": null,
      "outputs": []
    },
    {
      "cell_type": "markdown",
      "metadata": {
        "id": "yUt3CjaSASGE"
      },
      "source": [
        "5つの値と箱ひげ図を見比べてもらえば明らかでしょうが，箱ひげ図はこんなふう（↓）に描かれています（注）．\n",
        "\n",
        "注) 箱ひげ図には，この説明と少し違う描き方をする変種があります．\n",
        "そのため，実際のソフトウェアで箱ひげ図を描く場合は注意が必要なのですが，この授業ではその辺のことは省略します．\n"
      ]
    },
    {
      "cell_type": "markdown",
      "metadata": {
        "id": "WZ1J1ki9-0RA"
      },
      "source": [
        "![boxplot.png](https://www-tlab.math.ryukoku.ac.jp/~takataka/course/Data/boxplot.png)"
      ]
    },
    {
      "cell_type": "markdown",
      "metadata": {
        "id": "dYj3X_uXFAQ4"
      },
      "source": [
        "箱ひげ図は，ヒストグラムと同様にデータの分布の様子を知るために使われます．\n",
        "前の課題で使った「データ1」，「データ2」，「データ3」それぞれの箱ひげ図を描いてみると，こんなんなります．"
      ]
    },
    {
      "cell_type": "code",
      "metadata": {
        "id": "eo62m8JRBY0h"
      },
      "source": [
        "# X1, X2, X3 の箱ひげ図\n",
        "fig, ax = plt.subplots(facecolor=\"white\", figsize=(8, 6))\n",
        "ax.boxplot((X1, X2, X3))\n",
        "ax.set_ylim(-8, 4)\n",
        "ax.set_xticklabels(['X1', 'X2', 'X3'])\n",
        "plt.show()"
      ],
      "execution_count": null,
      "outputs": []
    },
    {
      "cell_type": "markdown",
      "metadata": {
        "id": "MTu9PecyBgpp"
      },
      "source": [
        "これらの箱ひげ図を比較すると，例えば次のようなことが読み取れます\n",
        "- `X1` は他より散らばりが大きいけど，第1四分位数から第3四分位数までは逆に狭い範囲に集中している\n",
        "- `X3` は中央値の前後でデータの散らばり方が異なる（中央値より大きい方が散らばりが大きい）\n",
        "\n",
        "実際にヒストグラムを描いて確認してみましょう．\n",
        "わかりやすくするため，回転させた箱ひげ図も付けときます．"
      ]
    },
    {
      "cell_type": "code",
      "metadata": {
        "id": "-ed4qVuZ7kuz"
      },
      "source": [
        "# X1, X2, X3 のヒストグラム+箱ひげ図\n",
        "fig, ax = plt.subplots(6, 1, facecolor=\"white\", figsize=(8, 15))\n",
        "ax[0].hist(X1, bins=np.arange(-8, 4, 1.0), label='X1')\n",
        "ax[0].legend()\n",
        "ax[0].set_xlim(-8,4)\n",
        "ax[0].set_ylim(0,30)\n",
        "ax[1].boxplot(X1, vert=False)\n",
        "ax[1].set_xlim(-8,4)\n",
        "ax[1].set_yticklabels(['X1'])\n",
        "ax[2].hist(X2, bins=np.arange(-8, 4, 1.0), label='X2')\n",
        "ax[2].legend()\n",
        "ax[2].set_xlim(-8,4)\n",
        "ax[2].set_ylim(0,30)\n",
        "ax[3].boxplot(X2, vert=False)\n",
        "ax[3].set_xlim(-8,4)\n",
        "ax[3].set_yticklabels(['X2'])\n",
        "ax[4].hist(X3, bins=np.arange(-8, 4, 1.0), label='X3')\n",
        "ax[4].legend()\n",
        "ax[4].set_xlim(-8,4)\n",
        "ax[4].set_ylim(0,30)\n",
        "ax[5].boxplot(X3, vert=False)\n",
        "ax[5].set_xlim(-8,4)\n",
        "ax[5].set_yticklabels(['X3'])\n",
        "plt.show()"
      ],
      "execution_count": null,
      "outputs": []
    },
    {
      "cell_type": "markdown",
      "metadata": {
        "id": "ZhN7Voq3ETos"
      },
      "source": [
        "箱ひげ図は，ヒストグラムをたくさんならべると複雑すぎてわかりにくくなるような場面で，簡易的にデータの散らばりを表すために使われたりします．"
      ]
    },
    {
      "cell_type": "markdown",
      "metadata": {
        "id": "bQXGl8HQQmlc"
      },
      "source": [
        "以下は，大津市の1980年から2019年までの毎月1日の日平均気温を箱ひげ図にしたものです．"
      ]
    },
    {
      "cell_type": "code",
      "metadata": {
        "id": "qWwgz7ow-xhF"
      },
      "source": [
        "# 1980年から2019年までの毎月1日の平均気温の箱ひげ図\n",
        "fig, ax = plt.subplots(facecolor=\"white\", figsize=(10, 6))\n",
        "ax.boxplot(tempList)\n",
        "plt.show()"
      ],
      "execution_count": null,
      "outputs": []
    },
    {
      "cell_type": "code",
      "metadata": {
        "id": "GEfE2laGOkD4"
      },
      "source": [],
      "execution_count": null,
      "outputs": []
    }
  ]
}